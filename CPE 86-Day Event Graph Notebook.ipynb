{
 "cells": [
  {
   "cell_type": "markdown",
   "metadata": {},
   "source": [
    "# Delta-t 86 "
   ]
  },
  {
   "cell_type": "markdown",
   "metadata": {},
   "source": [
    "## Dependencies"
   ]
  },
  {
   "cell_type": "code",
   "execution_count": 1,
   "metadata": {},
   "outputs": [
    {
     "name": "stdout",
     "output_type": "stream",
     "text": [
      "Populating the interactive namespace from numpy and matplotlib\n"
     ]
    }
   ],
   "source": [
    "import numpy as np\n",
    "import pandas as pd\n",
    "import json\n",
    "from eventgraphs import EventGraph\n",
    "import matplotlib.pyplot as plt\n",
    "\n",
    "from glob import glob\n",
    "from collections import defaultdict\n",
    "import pickle\n",
    "import networkx as nx\n",
    "\n",
    "%pylab inline"
   ]
  },
  {
   "cell_type": "markdown",
   "metadata": {},
   "source": [
    "## Functions For Plotting  "
   ]
  },
  {
   "cell_type": "code",
   "execution_count": 3,
   "metadata": {},
   "outputs": [],
   "source": [
    "from matplotlib import pylab\n",
    "import networkx as nx\n",
    "\n",
    "def save_graph(graph,file_name):\n",
    "    #initialze Figure\n",
    "    plt.figure(num=None, figsize=(16, 8), dpi=100)\n",
    "    plt.axis('off')\n",
    "    fig = plt.figure(1)\n",
    "    pos = nx.circular_layout(graph)\n",
    "    nx.draw_networkx_nodes(graph,pos)\n",
    "    nx.draw_networkx_edges(graph,pos)\n",
    "    nx.draw_networkx_labels(graph,pos)\n",
    "    labels = nx.get_edge_attributes(graph,'delta')\n",
    "    nx.draw_networkx_edge_labels(graph,pos,edge_labels=labels)\n",
    "\n",
    "    cut = 1.00\n",
    "    xmax = cut * max(xx for xx, yy in pos.values()) \n",
    "    ymax = cut * max(yy for xx, yy in pos.values()) \n",
    "    xmin = cut * min(xx for xx, yy in pos.values()) \n",
    "    ymin = cut * min(yy for xx, yy in pos.values()) \n",
    "    plt.xlim(1.5*xmin, 1.5*xmax)\n",
    "    plt.ylim(1.5*ymin, 1.5*ymax)\n",
    "\n",
    "    plt.savefig(file_name) #bbox_inches=\"tight\"\n",
    "    pylab.close()\n",
    "    del fig"
   ]
  },
  {
   "cell_type": "code",
   "execution_count": 4,
   "metadata": {},
   "outputs": [],
   "source": [
    "from matplotlib import pylab\n",
    "import networkx as nx\n",
    "import matplotlib.patches as mpatches\n",
    "\n",
    "def save_graph_with_colour_with_legend(graph,file_name):\n",
    "    \n",
    "    color_map = []\n",
    "    \n",
    "    handles_lst = []\n",
    "    \n",
    "    for i in graph.nodes(data=True):\n",
    "        if i[1]['type'] in ('renal_1', 'renal_2', 'renal_3', 'renal_4', 'renal_5'):\n",
    "            i[1]['type'] = 'renal'\n",
    "            color_map.append('blue')\n",
    "            \n",
    "            if 'blue_patch' not in handles_lst:\n",
    "                blue_patch = mpatches.Patch(color='blue', label='Renal')\n",
    "                handles_lst.append(blue_patch)\n",
    "\n",
    "        elif i[1]['type'] in ('medicine_1', 'medicine_2', 'medicine_3', 'medicine_4', 'medicine_5',' medicine_6',' medicine_7'\n",
    "                              , 'medicine_8','medicine_9', 'medicine_10', ' medicine_11', 'medicine_12', 'medicine_13', \n",
    "                              'medicine_14','medicine_15', 'medicine_16', 'medicine_17', 'medicine_18', 'medicine_19', \n",
    "                              'medicine_20', 'medicine_21'):\n",
    "            i[1]['type'] = 'medicine'\n",
    "            color_map.append('green')\n",
    "            \n",
    "            green_patch = mpatches.Patch(color='green', label='Medicine')\n",
    "            plt.legend(handles=[green_patch])\n",
    "\n",
    "        elif i[1]['type'] in ('surgery_1', 'surgery_2', 'surgery_3', 'surgery_4', 'surgery_5',' surgery_6',' surgery_7'\n",
    "                              , 'surgery_8','surgery_9', 'surgery_10','surgery_11','surgery_12','surgery_13', 'surgery_14'):\n",
    "\n",
    "            i[1]['type'] = 'surgery'\n",
    "            color_map.append('red')\n",
    "\n",
    "            if 'red_patch' not in handles_lst:\n",
    "                red_patch = mpatches.Patch(color='red', label='Surgery')\n",
    "                handles_lst.append(red_patch)\n",
    "            \n",
    "            \n",
    "        elif i[1]['type'] in ('elderly_1', 'elderly_2', 'elderly_3', 'elderly_4', 'elderly_5'):\n",
    "\n",
    "            i[1]['type'] = 'elderly'\n",
    "            color_map.append('brown')\n",
    "            \n",
    "            brown_patch = mpatches.Patch(color='brown', label='elderly')\n",
    "            plt.legend(handles=[brown_patch])\n",
    "\n",
    "        elif i[1]['type'] in ('haematology_1', 'haematology_2', 'haematology_3', 'haematology_4'):\n",
    "\n",
    "            i[1]['type'] = 'haematology'\n",
    "            color_map.append('orange')\n",
    "            \n",
    "            orange_patch = mpatches.Patch(color='orange', label='Haematology')\n",
    "            plt.legend(handles=[orange_patch])\n",
    "        \n",
    "        elif i[1]['type'] in ('oncology_1', 'oncology_2'):\n",
    "            \n",
    "            i[1]['type'] = 'oncology'\n",
    "            color_map.append('yellow')\n",
    "            \n",
    "            yellow_patch = mpatches.Patch(color='yellow', label='Oncology')\n",
    "            plt.legend(handles=[yellow_patch])\n",
    "            \n",
    "        elif i[1]['type'] in ('respiratory_1', 'respiratory_2'):\n",
    "            i[1]['type'] = 'respiratory'\n",
    "            color_map.append('black')\n",
    "        \n",
    "            black_patch = mpatches.Patch(color='black', label='Respiratory')\n",
    "            plt.legend(handles=[black_patch])\n",
    "            \n",
    "            \n",
    "        elif i[1]['type'] in ('critical care_1', 'critical care_2', 'critical care_3'):\n",
    "\n",
    "            i[1]['type'] = 'critical care'\n",
    "            color_map.append('grey')\n",
    "            \n",
    "            grey_patch = mpatches.Patch(color='grey', label='Critical Care')\n",
    "            plt.legend(handles=[grey_patch])\n",
    "        \n",
    "        elif i[1]['type'] in ('cardiology', 'ward na', 'cancer_1', 'OPD_1'):\n",
    "\n",
    "            i[1]['type'] = 'cardiology/ward_na/cancer_1/OPD_1'\n",
    "            color_map.append('yellow green')\n",
    "            white_patch = mpatches.Patch(color='yellow green', label='Cardiology/Ward_na/Cancer_1/OPD_1')\n",
    "            plt.legend(handles=[white_patch])\n",
    "        else:\n",
    "            color_map.append('purple')\n",
    "            purple_patch = mpatches.Patch(color='purple', label='Other')\n",
    "            plt.legend(handles=[purple_patch])\n",
    "            continue\n",
    "            \n",
    "    \n",
    "    \n",
    "    \n",
    "    \n",
    "    #initialze Figure\n",
    "    plt.figure(num=None, figsize=(16, 8), dpi=100)\n",
    "    plt.axis('off')\n",
    "    fig = plt.figure(1)\n",
    "    pos = nx.circular_layout(graph)\n",
    "    nx.draw_networkx_nodes(graph,pos)\n",
    "    nx.draw_networkx_edges(graph,pos)\n",
    "    nx.draw_networkx_labels(graph,pos)\n",
    "    labels = nx.get_edge_attributes(graph,'delta')\n",
    "    #nx.draw_networkx_edge_labels(graph,pos,edge_labels=labels)\n",
    "   \n",
    "    nx.draw(graph,pos, edge_labels=labels, node_color=color_map)\n",
    "\n",
    "    cut = 1.00\n",
    "    xmax = cut * max(xx for xx, yy in pos.values()) \n",
    "    ymax = cut * max(yy for xx, yy in pos.values()) \n",
    "    xmin = cut * min(xx for xx, yy in pos.values()) \n",
    "    ymin = cut * min(yy for xx, yy in pos.values()) \n",
    "    plt.xlim(1.5*xmin, 1.5*xmax)\n",
    "    plt.ylim(1.5*ymin, 1.5*ymax)\n",
    "    \n",
    "    \n",
    "    plt.legend(handles=handles_lst)\n",
    "    \n",
    "    print(handles_lst)\n",
    "    plt.savefig(file_name) #bbox_inches=\"tight\"\n",
    "    pylab.close()\n",
    "    del fig"
   ]
  },
  {
   "cell_type": "code",
   "execution_count": 5,
   "metadata": {},
   "outputs": [],
   "source": [
    "from matplotlib import pylab\n",
    "import networkx as nx\n",
    "import matplotlib.patches as mpatches\n",
    "\n",
    "def save_graph_with_colour(graph,file_name):\n",
    "    \n",
    "    color_map = []\n",
    "    \n",
    "    handles_lst = []\n",
    "    \n",
    "    for i in graph.nodes(data=True):\n",
    "        if i[1]['type'] in ('renal_1', 'renal_2', 'renal_3', 'renal_4', 'renal_5'):\n",
    "            i[1]['type'] = 'renal'\n",
    "            color_map.append('blue')\n",
    "\n",
    "        elif i[1]['type'] in ('medicine_1', 'medicine_2', 'medicine_3', 'medicine_4', 'medicine_5',' medicine_6',' medicine_7'\n",
    "                              , 'medicine_8','medicine_9', 'medicine_10', ' medicine_11', 'medicine_12', 'medicine_13', \n",
    "                              'medicine_14','medicine_15', 'medicine_16', 'medicine_17', 'medicine_18', 'medicine_19', \n",
    "                              'medicine_20', 'medicine_21'):\n",
    "            i[1]['type'] = 'medicine'\n",
    "            color_map.append('green')\n",
    "            \n",
    "        elif i[1]['type'] in ('surgery_1', 'surgery_2', 'surgery_3', 'surgery_4', 'surgery_5',' surgery_6',' surgery_7'\n",
    "                              , 'surgery_8','surgery_9', 'surgery_10','surgery_11','surgery_12','surgery_13', 'surgery_14'):\n",
    "\n",
    "            i[1]['type'] = 'surgery'\n",
    "            color_map.append('red')\n",
    "            \n",
    "            \n",
    "        elif i[1]['type'] in ('elderly_1', 'elderly_2', 'elderly_3', 'elderly_4', 'elderly_5'):\n",
    "\n",
    "            i[1]['type'] = 'elderly'\n",
    "            color_map.append('brown')\n",
    "            \n",
    "            \n",
    "        elif i[1]['type'] in ('haematology_1', 'haematology_2', 'haematology_3', 'haematology_4'):\n",
    "\n",
    "            i[1]['type'] = 'haematology'\n",
    "            color_map.append('orange')\n",
    "            \n",
    "            \n",
    "        \n",
    "        elif i[1]['type'] in ('oncology_1', 'oncology_2'):\n",
    "            \n",
    "            i[1]['type'] = 'oncology'\n",
    "            color_map.append('yellow')\n",
    "            \n",
    "            \n",
    "            \n",
    "        elif i[1]['type'] in ('respiratory_1', 'respiratory_2'):\n",
    "            i[1]['type'] = 'respiratory'\n",
    "            color_map.append('grey')\n",
    "        \n",
    "            \n",
    "            \n",
    "        elif i[1]['type'] in ('critical care_1', 'critical care_2', 'critical care_3'):\n",
    "\n",
    "            i[1]['type'] = 'critical care'\n",
    "            color_map.append('black')\n",
    "            \n",
    "            \n",
    "        \n",
    "        elif i[1]['type'] in ('cardiology', 'ward na', 'cancer_1', 'OPD_1'):\n",
    "\n",
    "            i[1]['type'] = 'cardiology/ward_na/cancer_1/OPD_1'\n",
    "            color_map.append('white')\n",
    "            \n",
    "        else:\n",
    "            color_map.append('purple')\n",
    "            continue\n",
    "            \n",
    "    \n",
    "    \n",
    "    \n",
    "    \n",
    "    #initialze Figure\n",
    "    plt.figure(num=None, figsize=(16, 8), dpi=100)\n",
    "    plt.axis('off')\n",
    "    fig = plt.figure(1)\n",
    "    pos = nx.circular_layout(graph)\n",
    "    nx.draw_networkx_nodes(graph,pos)\n",
    "    nx.draw_networkx_edges(graph,pos)\n",
    "    nx.draw_networkx_labels(graph,pos)\n",
    "    labels = nx.get_edge_attributes(graph,'delta')\n",
    "    #nx.draw_networkx_edge_labels(graph,pos,edge_labels=labels)\n",
    "   \n",
    "    nx.draw(graph,pos, edge_labels=labels, node_color=color_map)\n",
    "\n",
    "    cut = 1.00\n",
    "    xmax = cut * max(xx for xx, yy in pos.values()) \n",
    "    ymax = cut * max(yy for xx, yy in pos.values()) \n",
    "    xmin = cut * min(xx for xx, yy in pos.values()) \n",
    "    ymin = cut * min(yy for xx, yy in pos.values()) \n",
    "    plt.xlim(1.5*xmin, 1.5*xmax)\n",
    "    plt.ylim(1.5*ymin, 1.5*ymax)\n",
    "    \n",
    "    \n",
    "    plt.legend(handles=handles_lst)\n",
    "    \n",
    "    print(handles_lst)\n",
    "    plt.savefig(file_name) #bbox_inches=\"tight\"\n",
    "    pylab.close()\n",
    "    del fig"
   ]
  },
  {
   "cell_type": "code",
   "execution_count": 6,
   "metadata": {},
   "outputs": [],
   "source": [
    "PLOT_STYLE = {'lines.linewidth':2,\n",
    "              'font.size':16,\n",
    "              'xtick.labelsize':16,\n",
    "              'ytick.labelsize':16,\n",
    "              'axes.labelsize' : 16,\n",
    "              'mathtext.fontset':'cm',\n",
    "              'mathtext.rm' :'serif',\n",
    "              'text.usetex':False\n",
    "             }"
   ]
  },
  {
   "cell_type": "code",
   "execution_count": 10,
   "metadata": {},
   "outputs": [],
   "source": [
    "home_dir = \"C:\\\\Users\\\\matth\\\\Documents\\\\IMPERIAL\\\\PROJECT\\\\timestamped_data.csv\"\n",
    "\n",
    "df = pd.read_csv(home_dir)"
   ]
  },
  {
   "cell_type": "code",
   "execution_count": 11,
   "metadata": {},
   "outputs": [
    {
     "data": {
      "text/html": [
       "<div>\n",
       "<style scoped>\n",
       "    .dataframe tbody tr th:only-of-type {\n",
       "        vertical-align: middle;\n",
       "    }\n",
       "\n",
       "    .dataframe tbody tr th {\n",
       "        vertical-align: top;\n",
       "    }\n",
       "\n",
       "    .dataframe thead th {\n",
       "        text-align: right;\n",
       "    }\n",
       "</style>\n",
       "<table border=\"1\" class=\"dataframe\">\n",
       "  <thead>\n",
       "    <tr style=\"text-align: right;\">\n",
       "      <th></th>\n",
       "      <th>source</th>\n",
       "      <th>target</th>\n",
       "      <th>time</th>\n",
       "      <th>type</th>\n",
       "    </tr>\n",
       "  </thead>\n",
       "  <tbody>\n",
       "    <tr>\n",
       "      <th>0</th>\n",
       "      <td>PtNum_rvket6d83b465rvket</td>\n",
       "      <td>PtNum_rvket1a4b3d57rvket</td>\n",
       "      <td>3</td>\n",
       "      <td>renal_5</td>\n",
       "    </tr>\n",
       "    <tr>\n",
       "      <th>1</th>\n",
       "      <td>PtNum_rvket2f0c7655rvket</td>\n",
       "      <td>PtNum_rvket1e1e94farvket</td>\n",
       "      <td>11</td>\n",
       "      <td>renal_4</td>\n",
       "    </tr>\n",
       "    <tr>\n",
       "      <th>2</th>\n",
       "      <td>PtNum_rvket2cfb6889rvket</td>\n",
       "      <td>PtNum_rvket25f41af7rvket</td>\n",
       "      <td>3</td>\n",
       "      <td>medicine_2</td>\n",
       "    </tr>\n",
       "    <tr>\n",
       "      <th>3</th>\n",
       "      <td>PtNum_rvket2cfb6889rvket</td>\n",
       "      <td>PtNum_rvket25f41af7rvket</td>\n",
       "      <td>4</td>\n",
       "      <td>medicine_2</td>\n",
       "    </tr>\n",
       "    <tr>\n",
       "      <th>4</th>\n",
       "      <td>PtNum_rvket2cfb6889rvket</td>\n",
       "      <td>PtNum_rvket25f41af7rvket</td>\n",
       "      <td>9</td>\n",
       "      <td>respiratory_2</td>\n",
       "    </tr>\n",
       "  </tbody>\n",
       "</table>\n",
       "</div>"
      ],
      "text/plain": [
       "                     source                    target  time           type\n",
       "0  PtNum_rvket6d83b465rvket  PtNum_rvket1a4b3d57rvket     3        renal_5\n",
       "1  PtNum_rvket2f0c7655rvket  PtNum_rvket1e1e94farvket    11        renal_4\n",
       "2  PtNum_rvket2cfb6889rvket  PtNum_rvket25f41af7rvket     3     medicine_2\n",
       "3  PtNum_rvket2cfb6889rvket  PtNum_rvket25f41af7rvket     4     medicine_2\n",
       "4  PtNum_rvket2cfb6889rvket  PtNum_rvket25f41af7rvket     9  respiratory_2"
      ]
     },
     "execution_count": 11,
     "metadata": {},
     "output_type": "execute_result"
    }
   ],
   "source": [
    "df.head()"
   ]
  },
  {
   "cell_type": "markdown",
   "metadata": {},
   "source": [
    "## Event Graph Creation"
   ]
  },
  {
   "cell_type": "code",
   "execution_count": 12,
   "metadata": {},
   "outputs": [],
   "source": [
    "EG_86 = EventGraph.from_pandas_eventlist(df, graph_rules='teg')\n",
    "EG_86.event_graph_rules['delta_cutoff'] = 86 #days\n",
    "EG_86.build(verbose=False)\n",
    "EG_86.calculate_edge_motifs() # in order to include_graph_data\n",
    "nx_eg_86 = EG_86.create_networkx_event_graph(include_graph_data=True)"
   ]
  },
  {
   "cell_type": "code",
   "execution_count": 13,
   "metadata": {},
   "outputs": [
    {
     "name": "stdout",
     "output_type": "stream",
     "text": [
      "Number of connected components: 252\n",
      "Number of connected components (with more than 4 events): 106\n"
     ]
    }
   ],
   "source": [
    "z = pd.Series(EG_86.connected_components_indices()).value_counts()\n",
    "print(\"Number of connected components: {}\".format(len(z)))\n",
    "print(\"Number of connected components (with more than 4 events): {}\".format(len(z[z>4])))"
   ]
  },
  {
   "cell_type": "code",
   "execution_count": 14,
   "metadata": {
    "scrolled": true
   },
   "outputs": [
    {
     "data": {
      "text/plain": [
       "surgery_1                336\n",
       "renal_5                  200\n",
       "Ward_na                  128\n",
       "renal_4                  120\n",
       "elderly_3                 68\n",
       "elderly_4                 59\n",
       "haematology_1             49\n",
       "elderly_1                 45\n",
       "oncology_2                44\n",
       "respiratory_2             43\n",
       "elderly_5                 38\n",
       "medicine_10               35\n",
       "renal_2                   34\n",
       "infectious diseases_1     33\n",
       "medicine_13               33\n",
       "elderly_2                 33\n",
       "renal_3                   28\n",
       "medicine_4                27\n",
       "medicine_8                17\n",
       "respiratory_1             15\n",
       "medicine_7                14\n",
       "renal_1                   13\n",
       "surgery_12                13\n",
       "medicine_9                12\n",
       "medicine_17               11\n",
       "critical care_5           11\n",
       "haematology_4             11\n",
       "medicine_2                11\n",
       "medicine_6                11\n",
       "surgery_8                 11\n",
       "paediatrics_2             10\n",
       "cardiology_4              10\n",
       "cancer_1                   7\n",
       "surgery_5                  7\n",
       "medicine_3                 7\n",
       "medicine_20                6\n",
       "paediatrics_3              6\n",
       "critical care_1            6\n",
       "haematology_3              6\n",
       "medicine_1                 5\n",
       "medicine_11                4\n",
       "paediatrics_4              3\n",
       "critical care_2            3\n",
       "medicine_19                3\n",
       "surgery_14                 2\n",
       "oncology_1                 2\n",
       "surgery_11                 2\n",
       "cardiology_3               2\n",
       "medicine_12                2\n",
       "medicine_21                2\n",
       "medicine_5                 2\n",
       "OPD_1                      2\n",
       "surgery_9                  1\n",
       "surgery_2                  1\n",
       "private patients_8         1\n",
       "medicine_18                1\n",
       "paediatrics_5              1\n",
       "surgery_10                 1\n",
       "Name: type, dtype: int64"
      ]
     },
     "execution_count": 14,
     "metadata": {},
     "output_type": "execute_result"
    }
   ],
   "source": [
    "df['type'].value_counts()"
   ]
  },
  {
   "cell_type": "markdown",
   "metadata": {},
   "source": [
    "# Feature Generation"
   ]
  },
  {
   "cell_type": "code",
   "execution_count": 15,
   "metadata": {},
   "outputs": [],
   "source": [
    "#filtering the event graph to only the connect components with greater than 4 events\n",
    "\n",
    "filtered = EG_86.filter_edges(delta_ub=86)"
   ]
  },
  {
   "cell_type": "code",
   "execution_count": 16,
   "metadata": {},
   "outputs": [
    {
     "name": "stdout",
     "output_type": "stream",
     "text": [
      "Nodes: 363\n",
      "Events: 1608\n",
      "Duration: 651\n"
     ]
    }
   ],
   "source": [
    "# basis composition\n",
    "print(f'Nodes:',filtered.N)\n",
    "print(f'Events:',filtered.M)\n",
    "print(f'Duration:',filtered.D)"
   ]
  },
  {
   "cell_type": "code",
   "execution_count": 17,
   "metadata": {},
   "outputs": [
    {
     "name": "stdout",
     "output_type": "stream",
     "text": [
      "The Number of components with greater than four events 106\n"
     ]
    }
   ],
   "source": [
    "from eventgraphs.clustering import generate_features, FEATURE_SPEC\n",
    "\n",
    "components = filtered.connected_components(min_size=5)\n",
    "print(f'The Number of components with greater than four events', len(components))\n"
   ]
  },
  {
   "cell_type": "code",
   "execution_count": 18,
   "metadata": {},
   "outputs": [
    {
     "data": {
      "text/plain": [
       "[{'name': 'motifs',\n",
       "  'function': <function eventgraphs.analysis.calculate_motif_distribution(eventgraph, normalize=True)>,\n",
       "  'kwargs': {},\n",
       "  'scale': False},\n",
       " {'name': 'motif_entropy',\n",
       "  'function': <function eventgraphs.analysis.calculate_motif_entropy(eventgraph, miller_correct=False, k=None, normalize=False)>,\n",
       "  'kwargs': {'miller_correct': False, 'k': 24},\n",
       "  'scale': False},\n",
       " {'name': 'iet_entropy',\n",
       "  'function': <function eventgraphs.analysis.calculate_iet_entropy(eventgraph, normalize=True, miller_correct=False, divisions=10)>,\n",
       "  'kwargs': {'miller_correct': False, 'divisions': 10},\n",
       "  'scale': False},\n",
       " {'name': 'activity',\n",
       "  'function': <function eventgraphs.analysis.calculate_activity(eventgraph, unit=1, rescale=True)>,\n",
       "  'kwargs': {},\n",
       "  'scale': False},\n",
       " {'name': 'duration',\n",
       "  'function': <function eventgraphs.clustering.<lambda>(eventgraph)>,\n",
       "  'kwargs': {},\n",
       "  'scale': True},\n",
       " {'name': 'num_events',\n",
       "  'function': <function eventgraphs.clustering.<lambda>(eventgraph)>,\n",
       "  'kwargs': {},\n",
       "  'scale': True},\n",
       " {'name': 'num_nodes',\n",
       "  'function': <function eventgraphs.clustering.<lambda>(eventgraph)>,\n",
       "  'kwargs': {},\n",
       "  'scale': True}]"
      ]
     },
     "execution_count": 18,
     "metadata": {},
     "output_type": "execute_result"
    }
   ],
   "source": [
    "#set the kwargs to be passed to the function\n",
    "\n",
    "\n",
    "FEATURE_SPEC['event_graph_features'][1]['kwargs'] = {'miller_correct':False, 'k':24}\n",
    "FEATURE_SPEC['event_graph_features'][2]['kwargs'] = {'miller_correct':False, 'divisions':10}\n",
    "FEATURE_SPEC['event_graph_features']"
   ]
  },
  {
   "cell_type": "markdown",
   "metadata": {},
   "source": [
    "These are the (SIX) different (TWO-EVENT) motif representation:\n",
    "\n",
    "+|○ : ABCB\n",
    "\n",
    "+|● : ABCA\n",
    "\n",
    "○|● : ABBA \n",
    "\n",
    "○|+ : ABBC\n",
    "\n",
    "●|○ : ABAB\n",
    "\n",
    "●|+ : ABAC"
   ]
  },
  {
   "cell_type": "markdown",
   "metadata": {},
   "source": [
    "## motif Distribution"
   ]
  },
  {
   "cell_type": "code",
   "execution_count": 19,
   "metadata": {
    "scrolled": true
   },
   "outputs": [
    {
     "data": {
      "image/png": "[encoded data removed]",
      "text/plain": [
       "<Figure size 432x288 with 1 Axes>"
      ]
     },
     "metadata": {
      "needs_background": "light"
     },
     "output_type": "display_data"
    }
   ],
   "source": [
    "from eventgraphs.analysis import calculate_motif_distribution\n",
    "\n",
    "motif_distribution = calculate_motif_distribution(filtered)\n",
    "\n",
    "motif_distribution.nlargest().plot(kind='bar', ylim=(0,1), title='Motif Distribution', xlabel='Motif Type', \n",
    "                                   ylabel='Fraction');"
   ]
  },
  {
   "cell_type": "code",
   "execution_count": 20,
   "metadata": {},
   "outputs": [],
   "source": [
    "motif_distribution_df = pd.DataFrame(motif_distribution)"
   ]
  },
  {
   "cell_type": "code",
   "execution_count": 21,
   "metadata": {},
   "outputs": [
    {
     "data": {
      "text/plain": [
       "Index(['●|○', '+|○', '●|+', '○|+', '+|●'], dtype='object')"
      ]
     },
     "execution_count": 21,
     "metadata": {},
     "output_type": "execute_result"
    }
   ],
   "source": [
    "motif_distribution_df.index"
   ]
  },
  {
   "cell_type": "code",
   "execution_count": 22,
   "metadata": {
    "scrolled": true
   },
   "outputs": [],
   "source": [
    "motif_distribution_df =motif_distribution_df.rename(index={'●|○': 'ABAB', '+|○': 'ABCB', '●|+':'ABAC','○|+':' ABBC', '+|●':'ABCA'})"
   ]
  },
  {
   "cell_type": "code",
   "execution_count": 23,
   "metadata": {},
   "outputs": [
    {
     "data": {
      "text/plain": [
       "<AxesSubplot:title={'center':'CPE: Motif Distribution'}, xlabel='Motif Type', ylabel='Fraction'>"
      ]
     },
     "execution_count": 23,
     "metadata": {},
     "output_type": "execute_result"
    },
    {
     "data": {
      "image/png": "[encoded data removed]",
      "text/plain": [
       "<Figure size 432x288 with 1 Axes>"
      ]
     },
     "metadata": {
      "needs_background": "light"
     },
     "output_type": "display_data"
    }
   ],
   "source": [
    "motif_distribution_df.plot.bar(ylim=(0,1), title='CPE: Motif Distribution', xlabel='Motif Type', \n",
    "                                   ylabel='Fraction', legend=None)\n"
   ]
  },
  {
   "cell_type": "code",
   "execution_count": 24,
   "metadata": {},
   "outputs": [],
   "source": [
    "from eventgraphs.analysis import calculate_iet_distribution"
   ]
  },
  {
   "cell_type": "code",
   "execution_count": 25,
   "metadata": {},
   "outputs": [
    {
     "data": {
      "image/png": "[encoded data removed]",
      "text/plain": [
       "<Figure size 432x288 with 1 Axes>"
      ]
     },
     "metadata": {
      "needs_background": "light"
     },
     "output_type": "display_data"
    }
   ],
   "source": [
    "motif_iets = calculate_iet_distribution(filtered, \n",
    "                                        by_motif=True, \n",
    "                                        normalize=True, \n",
    "                                        cumulative=True,\n",
    "                                        bins=np.linspace(0,100,20))\n",
    "\n",
    "for motif, times in motif_iets.items():\n",
    "    if motif in motif_distribution.nlargest():\n",
    "        times.plot(xlim=(0,100), \n",
    "                   ylim=(0,1.2), \n",
    "                   label=motif, \n",
    "                   logx=False, \n",
    "                   legend=True,\n",
    "                   figsize=(6,4),\n",
    "                   marker='o')"
   ]
  },
  {
   "cell_type": "markdown",
   "metadata": {},
   "source": [
    "## Creating features"
   ]
  },
  {
   "cell_type": "code",
   "execution_count": 27,
   "metadata": {},
   "outputs": [],
   "source": [
    "features, scale_features = generate_features(components, feature_spec=FEATURE_SPEC)"
   ]
  },
  {
   "cell_type": "code",
   "execution_count": 28,
   "metadata": {},
   "outputs": [
    {
     "data": {
      "text/plain": [
       "Index(['●|○', '○|+', '●|+', '+|○', '+|●', 'motif_entropy', 'iet_entropy',\n",
       "       'activity', 'clustering_coefficient', 'reciprocity_ratio',\n",
       "       'imbalance_oo', 'imbalance_oi', 'imbalance_ii'],\n",
       "      dtype='object')"
      ]
     },
     "execution_count": 28,
     "metadata": {},
     "output_type": "execute_result"
    }
   ],
   "source": [
    "features.keys()"
   ]
  },
  {
   "cell_type": "code",
   "execution_count": 29,
   "metadata": {
    "scrolled": false
   },
   "outputs": [
    {
     "data": {
      "text/html": [
       "<div>\n",
       "<style scoped>\n",
       "    .dataframe tbody tr th:only-of-type {\n",
       "        vertical-align: middle;\n",
       "    }\n",
       "\n",
       "    .dataframe tbody tr th {\n",
       "        vertical-align: top;\n",
       "    }\n",
       "\n",
       "    .dataframe thead th {\n",
       "        text-align: right;\n",
       "    }\n",
       "</style>\n",
       "<table border=\"1\" class=\"dataframe\">\n",
       "  <thead>\n",
       "    <tr style=\"text-align: right;\">\n",
       "      <th></th>\n",
       "      <th>●|○</th>\n",
       "      <th>○|+</th>\n",
       "      <th>●|+</th>\n",
       "      <th>+|○</th>\n",
       "      <th>+|●</th>\n",
       "      <th>motif_entropy</th>\n",
       "      <th>iet_entropy</th>\n",
       "      <th>activity</th>\n",
       "      <th>clustering_coefficient</th>\n",
       "      <th>reciprocity_ratio</th>\n",
       "      <th>imbalance_oo</th>\n",
       "      <th>imbalance_oi</th>\n",
       "      <th>imbalance_ii</th>\n",
       "    </tr>\n",
       "  </thead>\n",
       "  <tbody>\n",
       "    <tr>\n",
       "      <th>87</th>\n",
       "      <td>0.666667</td>\n",
       "      <td>0.090909</td>\n",
       "      <td>0.090909</td>\n",
       "      <td>0.090909</td>\n",
       "      <td>0.060606</td>\n",
       "      <td>1.578571</td>\n",
       "      <td>0.368247</td>\n",
       "      <td>0.206493</td>\n",
       "      <td>0.000000</td>\n",
       "      <td>0.0</td>\n",
       "      <td>0.638889</td>\n",
       "      <td>0.541667</td>\n",
       "      <td>0.388889</td>\n",
       "    </tr>\n",
       "    <tr>\n",
       "      <th>99</th>\n",
       "      <td>0.939394</td>\n",
       "      <td>0.000000</td>\n",
       "      <td>0.000000</td>\n",
       "      <td>0.030303</td>\n",
       "      <td>0.030303</td>\n",
       "      <td>0.390452</td>\n",
       "      <td>0.117538</td>\n",
       "      <td>0.360692</td>\n",
       "      <td>0.000000</td>\n",
       "      <td>0.0</td>\n",
       "      <td>0.833333</td>\n",
       "      <td>0.166667</td>\n",
       "      <td>0.166667</td>\n",
       "    </tr>\n",
       "    <tr>\n",
       "      <th>1</th>\n",
       "      <td>0.757576</td>\n",
       "      <td>0.000000</td>\n",
       "      <td>0.060606</td>\n",
       "      <td>0.060606</td>\n",
       "      <td>0.121212</td>\n",
       "      <td>1.162685</td>\n",
       "      <td>0.217645</td>\n",
       "      <td>0.455094</td>\n",
       "      <td>0.316667</td>\n",
       "      <td>0.0</td>\n",
       "      <td>0.722222</td>\n",
       "      <td>0.425926</td>\n",
       "      <td>0.333333</td>\n",
       "    </tr>\n",
       "    <tr>\n",
       "      <th>152</th>\n",
       "      <td>0.833333</td>\n",
       "      <td>0.000000</td>\n",
       "      <td>0.033333</td>\n",
       "      <td>0.066667</td>\n",
       "      <td>0.066667</td>\n",
       "      <td>0.903677</td>\n",
       "      <td>0.188894</td>\n",
       "      <td>0.245589</td>\n",
       "      <td>0.000000</td>\n",
       "      <td>0.0</td>\n",
       "      <td>0.666667</td>\n",
       "      <td>0.333333</td>\n",
       "      <td>0.277778</td>\n",
       "    </tr>\n",
       "    <tr>\n",
       "      <th>62</th>\n",
       "      <td>0.766667</td>\n",
       "      <td>0.033333</td>\n",
       "      <td>0.066667</td>\n",
       "      <td>0.100000</td>\n",
       "      <td>0.033333</td>\n",
       "      <td>1.213664</td>\n",
       "      <td>0.292103</td>\n",
       "      <td>0.243671</td>\n",
       "      <td>0.000000</td>\n",
       "      <td>0.0</td>\n",
       "      <td>0.645833</td>\n",
       "      <td>0.500000</td>\n",
       "      <td>0.354167</td>\n",
       "    </tr>\n",
       "    <tr>\n",
       "      <th>...</th>\n",
       "      <td>...</td>\n",
       "      <td>...</td>\n",
       "      <td>...</td>\n",
       "      <td>...</td>\n",
       "      <td>...</td>\n",
       "      <td>...</td>\n",
       "      <td>...</td>\n",
       "      <td>...</td>\n",
       "      <td>...</td>\n",
       "      <td>...</td>\n",
       "      <td>...</td>\n",
       "      <td>...</td>\n",
       "      <td>...</td>\n",
       "    </tr>\n",
       "    <tr>\n",
       "      <th>103</th>\n",
       "      <td>1.000000</td>\n",
       "      <td>0.000000</td>\n",
       "      <td>0.000000</td>\n",
       "      <td>0.000000</td>\n",
       "      <td>0.000000</td>\n",
       "      <td>-0.000000</td>\n",
       "      <td>-0.000000</td>\n",
       "      <td>0.713495</td>\n",
       "      <td>0.000000</td>\n",
       "      <td>0.0</td>\n",
       "      <td>1.000000</td>\n",
       "      <td>0.500000</td>\n",
       "      <td>0.000000</td>\n",
       "    </tr>\n",
       "    <tr>\n",
       "      <th>13</th>\n",
       "      <td>0.750000</td>\n",
       "      <td>0.000000</td>\n",
       "      <td>0.250000</td>\n",
       "      <td>0.000000</td>\n",
       "      <td>0.000000</td>\n",
       "      <td>0.811278</td>\n",
       "      <td>0.244219</td>\n",
       "      <td>0.086899</td>\n",
       "      <td>0.000000</td>\n",
       "      <td>0.0</td>\n",
       "      <td>1.000000</td>\n",
       "      <td>1.000000</td>\n",
       "      <td>0.000000</td>\n",
       "    </tr>\n",
       "    <tr>\n",
       "      <th>73</th>\n",
       "      <td>0.500000</td>\n",
       "      <td>0.000000</td>\n",
       "      <td>0.500000</td>\n",
       "      <td>0.000000</td>\n",
       "      <td>0.000000</td>\n",
       "      <td>1.000000</td>\n",
       "      <td>0.451545</td>\n",
       "      <td>0.254811</td>\n",
       "      <td>0.000000</td>\n",
       "      <td>0.0</td>\n",
       "      <td>1.000000</td>\n",
       "      <td>1.000000</td>\n",
       "      <td>0.000000</td>\n",
       "    </tr>\n",
       "    <tr>\n",
       "      <th>41</th>\n",
       "      <td>1.000000</td>\n",
       "      <td>0.000000</td>\n",
       "      <td>0.000000</td>\n",
       "      <td>0.000000</td>\n",
       "      <td>0.000000</td>\n",
       "      <td>-0.000000</td>\n",
       "      <td>-0.000000</td>\n",
       "      <td>0.713495</td>\n",
       "      <td>0.000000</td>\n",
       "      <td>0.0</td>\n",
       "      <td>1.000000</td>\n",
       "      <td>0.500000</td>\n",
       "      <td>0.000000</td>\n",
       "    </tr>\n",
       "    <tr>\n",
       "      <th>129</th>\n",
       "      <td>0.250000</td>\n",
       "      <td>0.250000</td>\n",
       "      <td>0.250000</td>\n",
       "      <td>0.000000</td>\n",
       "      <td>0.250000</td>\n",
       "      <td>2.000000</td>\n",
       "      <td>0.244219</td>\n",
       "      <td>0.144655</td>\n",
       "      <td>0.000000</td>\n",
       "      <td>0.0</td>\n",
       "      <td>0.750000</td>\n",
       "      <td>0.500000</td>\n",
       "      <td>0.250000</td>\n",
       "    </tr>\n",
       "  </tbody>\n",
       "</table>\n",
       "<p>106 rows × 13 columns</p>\n",
       "</div>"
      ],
      "text/plain": [
       "          ●|○       ○|+       ●|+       +|○       +|●  motif_entropy  \\\n",
       "87   0.666667  0.090909  0.090909  0.090909  0.060606       1.578571   \n",
       "99   0.939394  0.000000  0.000000  0.030303  0.030303       0.390452   \n",
       "1    0.757576  0.000000  0.060606  0.060606  0.121212       1.162685   \n",
       "152  0.833333  0.000000  0.033333  0.066667  0.066667       0.903677   \n",
       "62   0.766667  0.033333  0.066667  0.100000  0.033333       1.213664   \n",
       "..        ...       ...       ...       ...       ...            ...   \n",
       "103  1.000000  0.000000  0.000000  0.000000  0.000000      -0.000000   \n",
       "13   0.750000  0.000000  0.250000  0.000000  0.000000       0.811278   \n",
       "73   0.500000  0.000000  0.500000  0.000000  0.000000       1.000000   \n",
       "41   1.000000  0.000000  0.000000  0.000000  0.000000      -0.000000   \n",
       "129  0.250000  0.250000  0.250000  0.000000  0.250000       2.000000   \n",
       "\n",
       "     iet_entropy  activity  clustering_coefficient  reciprocity_ratio  \\\n",
       "87      0.368247  0.206493                0.000000                0.0   \n",
       "99      0.117538  0.360692                0.000000                0.0   \n",
       "1       0.217645  0.455094                0.316667                0.0   \n",
       "152     0.188894  0.245589                0.000000                0.0   \n",
       "62      0.292103  0.243671                0.000000                0.0   \n",
       "..           ...       ...                     ...                ...   \n",
       "103    -0.000000  0.713495                0.000000                0.0   \n",
       "13      0.244219  0.086899                0.000000                0.0   \n",
       "73      0.451545  0.254811                0.000000                0.0   \n",
       "41     -0.000000  0.713495                0.000000                0.0   \n",
       "129     0.244219  0.144655                0.000000                0.0   \n",
       "\n",
       "     imbalance_oo  imbalance_oi  imbalance_ii  \n",
       "87       0.638889      0.541667      0.388889  \n",
       "99       0.833333      0.166667      0.166667  \n",
       "1        0.722222      0.425926      0.333333  \n",
       "152      0.666667      0.333333      0.277778  \n",
       "62       0.645833      0.500000      0.354167  \n",
       "..            ...           ...           ...  \n",
       "103      1.000000      0.500000      0.000000  \n",
       "13       1.000000      1.000000      0.000000  \n",
       "73       1.000000      1.000000      0.000000  \n",
       "41       1.000000      0.500000      0.000000  \n",
       "129      0.750000      0.500000      0.250000  \n",
       "\n",
       "[106 rows x 13 columns]"
      ]
     },
     "execution_count": 29,
     "metadata": {},
     "output_type": "execute_result"
    }
   ],
   "source": [
    "features"
   ]
  },
  {
   "cell_type": "code",
   "execution_count": 28,
   "metadata": {
    "scrolled": false
   },
   "outputs": [
    {
     "data": {
      "text/plain": [
       "{87: <EventGraph with 13 nodes, 34 events, and 33 edges (status: built)>,\n",
       " 99: <EventGraph with 4 nodes, 34 events, and 33 edges (status: built)>,\n",
       " 1: <EventGraph with 8 nodes, 34 events, and 33 edges (status: built)>,\n",
       " 152: <EventGraph with 7 nodes, 31 events, and 30 edges (status: built)>,\n",
       " 62: <EventGraph with 9 nodes, 31 events, and 30 edges (status: built)>,\n",
       " 220: <EventGraph with 7 nodes, 28 events, and 27 edges (status: built)>,\n",
       " 36: <EventGraph with 5 nodes, 28 events, and 27 edges (status: built)>,\n",
       " 197: <EventGraph with 7 nodes, 25 events, and 24 edges (status: built)>,\n",
       " 17: <EventGraph with 5 nodes, 24 events, and 23 edges (status: built)>,\n",
       " 223: <EventGraph with 3 nodes, 23 events, and 22 edges (status: built)>,\n",
       " 3: <EventGraph with 5 nodes, 21 events, and 20 edges (status: built)>,\n",
       " 123: <EventGraph with 3 nodes, 20 events, and 19 edges (status: built)>,\n",
       " 246: <EventGraph with 2 nodes, 19 events, and 18 edges (status: built)>,\n",
       " 101: <EventGraph with 3 nodes, 19 events, and 18 edges (status: built)>,\n",
       " 236: <EventGraph with 2 nodes, 19 events, and 18 edges (status: built)>,\n",
       " 225: <EventGraph with 5 nodes, 18 events, and 17 edges (status: built)>,\n",
       " 209: <EventGraph with 2 nodes, 17 events, and 16 edges (status: built)>,\n",
       " 238: <EventGraph with 4 nodes, 17 events, and 16 edges (status: built)>,\n",
       " 237: <EventGraph with 2 nodes, 17 events, and 16 edges (status: built)>,\n",
       " 205: <EventGraph with 2 nodes, 17 events, and 16 edges (status: built)>,\n",
       " 68: <EventGraph with 7 nodes, 17 events, and 16 edges (status: built)>,\n",
       " 244: <EventGraph with 2 nodes, 17 events, and 16 edges (status: built)>,\n",
       " 142: <EventGraph with 6 nodes, 17 events, and 16 edges (status: built)>,\n",
       " 70: <EventGraph with 5 nodes, 17 events, and 16 edges (status: built)>,\n",
       " 4: <EventGraph with 5 nodes, 16 events, and 15 edges (status: built)>,\n",
       " 232: <EventGraph with 3 nodes, 16 events, and 15 edges (status: built)>,\n",
       " 185: <EventGraph with 4 nodes, 15 events, and 14 edges (status: built)>,\n",
       " 18: <EventGraph with 5 nodes, 15 events, and 15 edges (status: built)>,\n",
       " 6: <EventGraph with 3 nodes, 15 events, and 14 edges (status: built)>,\n",
       " 247: <EventGraph with 2 nodes, 15 events, and 14 edges (status: built)>,\n",
       " 30: <EventGraph with 2 nodes, 14 events, and 13 edges (status: built)>,\n",
       " 195: <EventGraph with 4 nodes, 14 events, and 13 edges (status: built)>,\n",
       " 32: <EventGraph with 3 nodes, 14 events, and 13 edges (status: built)>,\n",
       " 15: <EventGraph with 5 nodes, 14 events, and 13 edges (status: built)>,\n",
       " 187: <EventGraph with 4 nodes, 14 events, and 13 edges (status: built)>,\n",
       " 104: <EventGraph with 4 nodes, 14 events, and 13 edges (status: built)>,\n",
       " 31: <EventGraph with 3 nodes, 13 events, and 12 edges (status: built)>,\n",
       " 196: <EventGraph with 5 nodes, 13 events, and 12 edges (status: built)>,\n",
       " 9: <EventGraph with 3 nodes, 13 events, and 12 edges (status: built)>,\n",
       " 227: <EventGraph with 3 nodes, 13 events, and 12 edges (status: built)>,\n",
       " 109: <EventGraph with 4 nodes, 13 events, and 12 edges (status: built)>,\n",
       " 76: <EventGraph with 2 nodes, 12 events, and 11 edges (status: built)>,\n",
       " 85: <EventGraph with 3 nodes, 12 events, and 11 edges (status: built)>,\n",
       " 38: <EventGraph with 2 nodes, 12 events, and 11 edges (status: built)>,\n",
       " 94: <EventGraph with 4 nodes, 12 events, and 11 edges (status: built)>,\n",
       " 241: <EventGraph with 5 nodes, 12 events, and 11 edges (status: built)>,\n",
       " 188: <EventGraph with 4 nodes, 12 events, and 11 edges (status: built)>,\n",
       " 120: <EventGraph with 3 nodes, 12 events, and 11 edges (status: built)>,\n",
       " 92: <EventGraph with 3 nodes, 12 events, and 11 edges (status: built)>,\n",
       " 58: <EventGraph with 6 nodes, 11 events, and 10 edges (status: built)>,\n",
       " 45: <EventGraph with 6 nodes, 11 events, and 10 edges (status: built)>,\n",
       " 210: <EventGraph with 3 nodes, 11 events, and 10 edges (status: built)>,\n",
       " 83: <EventGraph with 3 nodes, 11 events, and 10 edges (status: built)>,\n",
       " 96: <EventGraph with 2 nodes, 11 events, and 10 edges (status: built)>,\n",
       " 118: <EventGraph with 4 nodes, 11 events, and 10 edges (status: built)>,\n",
       " 46: <EventGraph with 3 nodes, 11 events, and 10 edges (status: built)>,\n",
       " 84: <EventGraph with 3 nodes, 10 events, and 9 edges (status: built)>,\n",
       " 51: <EventGraph with 3 nodes, 10 events, and 9 edges (status: built)>,\n",
       " 93: <EventGraph with 2 nodes, 10 events, and 9 edges (status: built)>,\n",
       " 251: <EventGraph with 4 nodes, 10 events, and 9 edges (status: built)>,\n",
       " 216: <EventGraph with 5 nodes, 10 events, and 9 edges (status: built)>,\n",
       " 50: <EventGraph with 2 nodes, 9 events, and 8 edges (status: built)>,\n",
       " 151: <EventGraph with 4 nodes, 9 events, and 8 edges (status: built)>,\n",
       " 242: <EventGraph with 2 nodes, 9 events, and 8 edges (status: built)>,\n",
       " 235: <EventGraph with 2 nodes, 9 events, and 8 edges (status: built)>,\n",
       " 226: <EventGraph with 3 nodes, 9 events, and 8 edges (status: built)>,\n",
       " 86: <EventGraph with 3 nodes, 9 events, and 8 edges (status: built)>,\n",
       " 114: <EventGraph with 5 nodes, 9 events, and 8 edges (status: built)>,\n",
       " 61: <EventGraph with 4 nodes, 8 events, and 7 edges (status: built)>,\n",
       " 7: <EventGraph with 5 nodes, 8 events, and 7 edges (status: built)>,\n",
       " 64: <EventGraph with 4 nodes, 8 events, and 7 edges (status: built)>,\n",
       " 134: <EventGraph with 2 nodes, 8 events, and 7 edges (status: built)>,\n",
       " 243: <EventGraph with 2 nodes, 8 events, and 7 edges (status: built)>,\n",
       " 231: <EventGraph with 2 nodes, 8 events, and 7 edges (status: built)>,\n",
       " 245: <EventGraph with 2 nodes, 8 events, and 7 edges (status: built)>,\n",
       " 230: <EventGraph with 2 nodes, 8 events, and 7 edges (status: built)>,\n",
       " 229: <EventGraph with 2 nodes, 8 events, and 7 edges (status: built)>,\n",
       " 49: <EventGraph with 2 nodes, 8 events, and 7 edges (status: built)>,\n",
       " 60: <EventGraph with 4 nodes, 8 events, and 7 edges (status: built)>,\n",
       " 228: <EventGraph with 2 nodes, 8 events, and 7 edges (status: built)>,\n",
       " 126: <EventGraph with 4 nodes, 8 events, and 7 edges (status: built)>,\n",
       " 106: <EventGraph with 4 nodes, 7 events, and 6 edges (status: built)>,\n",
       " 127: <EventGraph with 4 nodes, 7 events, and 6 edges (status: built)>,\n",
       " 145: <EventGraph with 2 nodes, 7 events, and 6 edges (status: built)>,\n",
       " 80: <EventGraph with 3 nodes, 7 events, and 6 edges (status: built)>,\n",
       " 248: <EventGraph with 4 nodes, 7 events, and 6 edges (status: built)>,\n",
       " 215: <EventGraph with 3 nodes, 7 events, and 6 edges (status: built)>,\n",
       " 34: <EventGraph with 4 nodes, 6 events, and 5 edges (status: built)>,\n",
       " 144: <EventGraph with 2 nodes, 6 events, and 5 edges (status: built)>,\n",
       " 35: <EventGraph with 2 nodes, 6 events, and 5 edges (status: built)>,\n",
       " 77: <EventGraph with 3 nodes, 6 events, and 5 edges (status: built)>,\n",
       " 16: <EventGraph with 2 nodes, 6 events, and 5 edges (status: built)>,\n",
       " 121: <EventGraph with 2 nodes, 6 events, and 5 edges (status: built)>,\n",
       " 24: <EventGraph with 2 nodes, 6 events, and 5 edges (status: built)>,\n",
       " 119: <EventGraph with 2 nodes, 6 events, and 5 edges (status: built)>,\n",
       " 33: <EventGraph with 3 nodes, 6 events, and 5 edges (status: built)>,\n",
       " 67: <EventGraph with 2 nodes, 6 events, and 5 edges (status: built)>,\n",
       " 149: <EventGraph with 2 nodes, 6 events, and 5 edges (status: built)>,\n",
       " 52: <EventGraph with 2 nodes, 6 events, and 5 edges (status: built)>,\n",
       " 95: <EventGraph with 2 nodes, 5 events, and 4 edges (status: built)>,\n",
       " 113: <EventGraph with 2 nodes, 5 events, and 4 edges (status: built)>,\n",
       " 103: <EventGraph with 2 nodes, 5 events, and 4 edges (status: built)>,\n",
       " 13: <EventGraph with 3 nodes, 5 events, and 4 edges (status: built)>,\n",
       " 73: <EventGraph with 4 nodes, 5 events, and 4 edges (status: built)>,\n",
       " 41: <EventGraph with 2 nodes, 5 events, and 4 edges (status: built)>,\n",
       " 129: <EventGraph with 5 nodes, 5 events, and 4 edges (status: built)>}"
      ]
     },
     "execution_count": 28,
     "metadata": {},
     "output_type": "execute_result"
    }
   ],
   "source": [
    "components"
   ]
  },
  {
   "cell_type": "code",
   "execution_count": 30,
   "metadata": {},
   "outputs": [
    {
     "data": {
      "text/plain": [
       "0.0    106\n",
       "Name: reciprocity_ratio, dtype: int64"
      ]
     },
     "execution_count": 30,
     "metadata": {},
     "output_type": "execute_result"
    }
   ],
   "source": [
    "features['reciprocity_ratio'].value_counts().head()"
   ]
  },
  {
   "cell_type": "code",
   "execution_count": 31,
   "metadata": {},
   "outputs": [],
   "source": [
    "#we have no edge reciprocity ie no ABBA due to the nature of the event graph so remove column\n",
    "features = features.drop('reciprocity_ratio', axis=1)"
   ]
  },
  {
   "cell_type": "code",
   "execution_count": 32,
   "metadata": {},
   "outputs": [
    {
     "data": {
      "text/plain": [
       "(106, 12)"
      ]
     },
     "execution_count": 32,
     "metadata": {},
     "output_type": "execute_result"
    }
   ],
   "source": [
    "features.shape"
   ]
  },
  {
   "cell_type": "code",
   "execution_count": 33,
   "metadata": {},
   "outputs": [],
   "source": [
    "from sklearn.preprocessing import Normalizer"
   ]
  },
  {
   "cell_type": "code",
   "execution_count": 34,
   "metadata": {},
   "outputs": [],
   "source": [
    "# Rescale\n",
    "rs_features = Normalizer().fit_transform(features)\n",
    "rs_features = pd.DataFrame(rs_features, index=features.index, columns=features.columns)"
   ]
  },
  {
   "cell_type": "markdown",
   "metadata": {},
   "source": [
    "# Clustering"
   ]
  },
  {
   "cell_type": "code",
   "execution_count": 65,
   "metadata": {},
   "outputs": [],
   "source": [
    "from sklearn.metrics import silhouette_score, davies_bouldin_score, calinski_harabasz_score\n",
    "from eventgraphs.clustering import find_clusters"
   ]
  },
  {
   "cell_type": "code",
   "execution_count": 66,
   "metadata": {},
   "outputs": [],
   "source": [
    "silh_scores = {}\n",
    "Dunn_scores = {}\n",
    "cali_hara_scores = {}\n",
    "#we iterate through different cluster sizes then will work out the best one\n",
    "for cluster_size in range(2,12):\n",
    "    clusters, cluster_centers = find_clusters(rs_features, max_clusters=cluster_size, metric='euclidean') #using defult WARD\n",
    "    #compute metrics\n",
    "    silh_scores[cluster_size] = silhouette_score(rs_features, clusters)\n",
    "    Dunn_scores[cluster_size] = davies_bouldin_score(rs_features, clusters)\n",
    "    cali_hara_scores[cluster_size] = calinski_harabasz_score(rs_features, clusters)\n",
    "#save to a series\n",
    "silh_scores = pd.Series(silh_scores)\n",
    "Dunn_scores = pd.Series(Dunn_scores)\n",
    "cali_hara_scores = pd.Series(cali_hara_scores)"
   ]
  },
  {
   "cell_type": "code",
   "execution_count": 67,
   "metadata": {},
   "outputs": [],
   "source": [
    "PLOT_STYLE = {'lines.linewidth':2,\n",
    "              'font.size':16,\n",
    "              'xtick.labelsize':16,\n",
    "              'ytick.labelsize':16,\n",
    "              'axes.labelsize' : 16,\n",
    "              'mathtext.fontset':'cm',\n",
    "              'mathtext.rm' :'serif',\n",
    "              'text.usetex':False\n",
    "             }"
   ]
  },
  {
   "cell_type": "code",
   "execution_count": 68,
   "metadata": {
    "scrolled": false
   },
   "outputs": [
    {
     "data": {
      "image/png": "[encoded data removed]",
      "text/plain": [
       "<Figure size 360x432 with 1 Axes>"
      ]
     },
     "metadata": {
      "needs_background": "light"
     },
     "output_type": "display_data"
    }
   ],
   "source": [
    "with plt.style.context(['seaborn-paper', PLOT_STYLE]):\n",
    "\n",
    "    fig = plt.figure(figsize=(5,6))\n",
    "    ax = fig.add_subplot(111)\n",
    "\n",
    "    silh_scores.plot(marker='o', ax=ax)\n",
    "\n",
    "    ax.set_xlabel(\"Number of Clusters\")\n",
    "    #ax.set_ylabel(\"Silhouette Score\")\n",
    "\n",
    "    #ax.set_xlim(0,12)\n",
    "    #ax.set_ylim(0.15,0.33)\n",
    "\n",
    "    ax.set_xticks(np.arange(0,12,1));\n",
    "    ax.set_title('Silhouette Score ', fontsize=16)\n",
    "    fig.savefig('./figures/figure_a2a_clusters.eps', bbox_inches='tight')"
   ]
  },
  {
   "cell_type": "code",
   "execution_count": 69,
   "metadata": {},
   "outputs": [
    {
     "data": {
      "image/png": "[encoded data removed]",
      "text/plain": [
       "<Figure size 360x432 with 1 Axes>"
      ]
     },
     "metadata": {
      "needs_background": "light"
     },
     "output_type": "display_data"
    }
   ],
   "source": [
    "with plt.style.context(['seaborn-paper', PLOT_STYLE]):\n",
    "\n",
    "    fig = plt.figure(figsize=(5,6))\n",
    "    ax = fig.add_subplot(111)\n",
    "\n",
    "    Dunn_scores.plot(marker='o', ax=ax)\n",
    "\n",
    "    ax.set_xlabel(\"Number of Clusters\")\n",
    "    ax.set_title(\"Davies Bouldin Score\", fontsize=16)\n",
    "\n",
    "    #ax.set_xlim(0,12)\n",
    "    #ax.set_ylim(0.15,0.33)\n",
    "\n",
    "    ax.set_xticks(np.arange(0,12,1));\n",
    "\n",
    "    fig.savefig('./figures/figure_a2a_clusters.eps', bbox_inches='tight')"
   ]
  },
  {
   "cell_type": "code",
   "execution_count": 70,
   "metadata": {},
   "outputs": [
    {
     "data": {
      "image/png": "[encoded data removed]",
      "text/plain": [
       "<Figure size 360x432 with 1 Axes>"
      ]
     },
     "metadata": {
      "needs_background": "light"
     },
     "output_type": "display_data"
    }
   ],
   "source": [
    "with plt.style.context(['seaborn-paper', PLOT_STYLE]):\n",
    "\n",
    "    fig = plt.figure(figsize=(5,6))\n",
    "    ax = fig.add_subplot(111)\n",
    "\n",
    "    cali_hara_scores.plot(marker='o', ax=ax)\n",
    "\n",
    "    ax.set_xlabel(\"Number of Clusters\")\n",
    "    ax.set_title(\"Calinski Harabasz Score\", fontsize=16)\n",
    "\n",
    "    #ax.set_xlim(0,12)\n",
    "    #ax.set_ylim(0.15,0.33)\n",
    "\n",
    "    ax.set_xticks(np.arange(0,12,1));\n",
    "\n",
    "    fig.savefig('./figures/figure_a2a_clusters.eps', bbox_inches='tight')"
   ]
  },
  {
   "cell_type": "markdown",
   "metadata": {},
   "source": [
    "## Set number of clusters to be SIX"
   ]
  },
  {
   "cell_type": "code",
   "execution_count": 71,
   "metadata": {},
   "outputs": [],
   "source": [
    "max_clusters = 6 # set for both analysis with and without outlier\n",
    "\n",
    "#attain clustering for max_clusters\n",
    "clusters, cluster_centers = find_clusters(rs_features, max_clusters=max_clusters, metric='euclidean')\n",
    "filtered.add_cluster_assignments(clusters)"
   ]
  },
  {
   "cell_type": "code",
   "execution_count": 72,
   "metadata": {},
   "outputs": [],
   "source": [
    "cluster_lst_event = clusters.tolist()"
   ]
  },
  {
   "cell_type": "code",
   "execution_count": 73,
   "metadata": {},
   "outputs": [
    {
     "name": "stdout",
     "output_type": "stream",
     "text": [
      "Stored 'cluster_lst_event' (list)\n"
     ]
    }
   ],
   "source": [
    "%store cluster_lst_event"
   ]
  },
  {
   "cell_type": "code",
   "execution_count": 74,
   "metadata": {
    "scrolled": false
   },
   "outputs": [
    {
     "data": {
      "text/html": [
       "<div>\n",
       "<style scoped>\n",
       "    .dataframe tbody tr th:only-of-type {\n",
       "        vertical-align: middle;\n",
       "    }\n",
       "\n",
       "    .dataframe tbody tr th {\n",
       "        vertical-align: top;\n",
       "    }\n",
       "\n",
       "    .dataframe thead th {\n",
       "        text-align: right;\n",
       "    }\n",
       "</style>\n",
       "<table border=\"1\" class=\"dataframe\">\n",
       "  <thead>\n",
       "    <tr style=\"text-align: right;\">\n",
       "      <th></th>\n",
       "      <th>1</th>\n",
       "      <th>2</th>\n",
       "      <th>3</th>\n",
       "      <th>4</th>\n",
       "      <th>5</th>\n",
       "      <th>6</th>\n",
       "    </tr>\n",
       "    <tr>\n",
       "      <th>index</th>\n",
       "      <th></th>\n",
       "      <th></th>\n",
       "      <th></th>\n",
       "      <th></th>\n",
       "      <th></th>\n",
       "      <th></th>\n",
       "    </tr>\n",
       "  </thead>\n",
       "  <tbody>\n",
       "    <tr>\n",
       "      <th>ABAB</th>\n",
       "      <td>1.000000</td>\n",
       "      <td>0.753996</td>\n",
       "      <td>0.608353</td>\n",
       "      <td>0.817137</td>\n",
       "      <td>0.862448</td>\n",
       "      <td>0.796940</td>\n",
       "    </tr>\n",
       "    <tr>\n",
       "      <th>ABAC</th>\n",
       "      <td>0.000000</td>\n",
       "      <td>0.078355</td>\n",
       "      <td>0.116959</td>\n",
       "      <td>0.012806</td>\n",
       "      <td>0.000000</td>\n",
       "      <td>0.134743</td>\n",
       "    </tr>\n",
       "    <tr>\n",
       "      <th>ABBC</th>\n",
       "      <td>0.000000</td>\n",
       "      <td>0.076177</td>\n",
       "      <td>0.141752</td>\n",
       "      <td>0.040717</td>\n",
       "      <td>0.000000</td>\n",
       "      <td>0.005299</td>\n",
       "    </tr>\n",
       "    <tr>\n",
       "      <th>ABCA</th>\n",
       "      <td>0.000000</td>\n",
       "      <td>0.005208</td>\n",
       "      <td>0.069077</td>\n",
       "      <td>0.077390</td>\n",
       "      <td>0.002525</td>\n",
       "      <td>0.000000</td>\n",
       "    </tr>\n",
       "    <tr>\n",
       "      <th>ABCB</th>\n",
       "      <td>0.000000</td>\n",
       "      <td>0.086264</td>\n",
       "      <td>0.063859</td>\n",
       "      <td>0.051951</td>\n",
       "      <td>0.135027</td>\n",
       "      <td>0.063018</td>\n",
       "    </tr>\n",
       "    <tr>\n",
       "      <th>activity</th>\n",
       "      <td>1.036756</td>\n",
       "      <td>0.761396</td>\n",
       "      <td>0.237355</td>\n",
       "      <td>0.381232</td>\n",
       "      <td>0.343558</td>\n",
       "      <td>0.407169</td>\n",
       "    </tr>\n",
       "    <tr>\n",
       "      <th>clustering_coefficient</th>\n",
       "      <td>0.000000</td>\n",
       "      <td>0.668155</td>\n",
       "      <td>0.054545</td>\n",
       "      <td>0.017593</td>\n",
       "      <td>0.000000</td>\n",
       "      <td>0.000000</td>\n",
       "    </tr>\n",
       "    <tr>\n",
       "      <th>duration</th>\n",
       "      <td>9.702703</td>\n",
       "      <td>43.750000</td>\n",
       "      <td>66.363636</td>\n",
       "      <td>53.722222</td>\n",
       "      <td>49.500000</td>\n",
       "      <td>43.450000</td>\n",
       "    </tr>\n",
       "    <tr>\n",
       "      <th>edge_density</th>\n",
       "      <td>0.500000</td>\n",
       "      <td>0.349702</td>\n",
       "      <td>0.188306</td>\n",
       "      <td>0.252183</td>\n",
       "      <td>0.312500</td>\n",
       "      <td>0.263333</td>\n",
       "    </tr>\n",
       "    <tr>\n",
       "      <th>iet_entropy</th>\n",
       "      <td>0.150821</td>\n",
       "      <td>0.622444</td>\n",
       "      <td>1.049257</td>\n",
       "      <td>0.630303</td>\n",
       "      <td>0.610167</td>\n",
       "      <td>0.719280</td>\n",
       "    </tr>\n",
       "    <tr>\n",
       "      <th>imbalance_ii</th>\n",
       "      <td>-1.000000</td>\n",
       "      <td>-0.713194</td>\n",
       "      <td>-0.466414</td>\n",
       "      <td>-0.529321</td>\n",
       "      <td>-0.972222</td>\n",
       "      <td>-0.875833</td>\n",
       "    </tr>\n",
       "    <tr>\n",
       "      <th>imbalance_oi</th>\n",
       "      <td>0.000000</td>\n",
       "      <td>-0.169907</td>\n",
       "      <td>0.201515</td>\n",
       "      <td>-0.327675</td>\n",
       "      <td>-0.972222</td>\n",
       "      <td>0.420833</td>\n",
       "    </tr>\n",
       "    <tr>\n",
       "      <th>imbalance_oo</th>\n",
       "      <td>1.000000</td>\n",
       "      <td>0.612153</td>\n",
       "      <td>0.518434</td>\n",
       "      <td>0.483025</td>\n",
       "      <td>0.972222</td>\n",
       "      <td>0.874167</td>\n",
       "    </tr>\n",
       "    <tr>\n",
       "      <th>motif_entropy</th>\n",
       "      <td>0.000000</td>\n",
       "      <td>2.676835</td>\n",
       "      <td>3.482788</td>\n",
       "      <td>1.927066</td>\n",
       "      <td>1.249378</td>\n",
       "      <td>1.898896</td>\n",
       "    </tr>\n",
       "    <tr>\n",
       "      <th>num_events</th>\n",
       "      <td>9.513514</td>\n",
       "      <td>16.500000</td>\n",
       "      <td>13.909091</td>\n",
       "      <td>15.666667</td>\n",
       "      <td>12.916667</td>\n",
       "      <td>12.500000</td>\n",
       "    </tr>\n",
       "    <tr>\n",
       "      <th>num_nodes</th>\n",
       "      <td>2.000000</td>\n",
       "      <td>4.375000</td>\n",
       "      <td>6.181818</td>\n",
       "      <td>4.444444</td>\n",
       "      <td>3.250000</td>\n",
       "      <td>4.000000</td>\n",
       "    </tr>\n",
       "  </tbody>\n",
       "</table>\n",
       "</div>"
      ],
      "text/plain": [
       "                               1          2          3          4          5  \\\n",
       "index                                                                          \n",
       "ABAB                    1.000000   0.753996   0.608353   0.817137   0.862448   \n",
       "ABAC                    0.000000   0.078355   0.116959   0.012806   0.000000   \n",
       "ABBC                    0.000000   0.076177   0.141752   0.040717   0.000000   \n",
       "ABCA                    0.000000   0.005208   0.069077   0.077390   0.002525   \n",
       "ABCB                    0.000000   0.086264   0.063859   0.051951   0.135027   \n",
       "activity                1.036756   0.761396   0.237355   0.381232   0.343558   \n",
       "clustering_coefficient  0.000000   0.668155   0.054545   0.017593   0.000000   \n",
       "duration                9.702703  43.750000  66.363636  53.722222  49.500000   \n",
       "edge_density            0.500000   0.349702   0.188306   0.252183   0.312500   \n",
       "iet_entropy             0.150821   0.622444   1.049257   0.630303   0.610167   \n",
       "imbalance_ii           -1.000000  -0.713194  -0.466414  -0.529321  -0.972222   \n",
       "imbalance_oi            0.000000  -0.169907   0.201515  -0.327675  -0.972222   \n",
       "imbalance_oo            1.000000   0.612153   0.518434   0.483025   0.972222   \n",
       "motif_entropy           0.000000   2.676835   3.482788   1.927066   1.249378   \n",
       "num_events              9.513514  16.500000  13.909091  15.666667  12.916667   \n",
       "num_nodes               2.000000   4.375000   6.181818   4.444444   3.250000   \n",
       "\n",
       "                                6  \n",
       "index                              \n",
       "ABAB                     0.796940  \n",
       "ABAC                     0.134743  \n",
       "ABBC                     0.005299  \n",
       "ABCA                     0.000000  \n",
       "ABCB                     0.063018  \n",
       "activity                 0.407169  \n",
       "clustering_coefficient   0.000000  \n",
       "duration                43.450000  \n",
       "edge_density             0.263333  \n",
       "iet_entropy              0.719280  \n",
       "imbalance_ii            -0.875833  \n",
       "imbalance_oi             0.420833  \n",
       "imbalance_oo             0.874167  \n",
       "motif_entropy            1.898896  \n",
       "num_events              12.500000  \n",
       "num_nodes                4.000000  "
      ]
     },
     "execution_count": 74,
     "metadata": {},
     "output_type": "execute_result"
    }
   ],
   "source": [
    "#create a summary table of each cluster by mean\n",
    "\n",
    "summary = pd.concat([features.groupby(by=clusters).mean(),\n",
    "                     scale_features.groupby(by=clusters).mean()],\n",
    "                     axis=1)\n",
    "\n",
    "variances = pd.concat([features.groupby(by=clusters).std(),\n",
    "                     scale_features.groupby(by=clusters).std()],\n",
    "                     axis=1)\n",
    "\n",
    "def reduce_motif(motif):\n",
    "    if motif.startswith('○|●'):\n",
    "        return 'ABBA'\n",
    "    elif motif.startswith('●|+'):\n",
    "        return 'ABAC'\n",
    "    elif motif.startswith('○|+'):\n",
    "        return 'ABBC'\n",
    "    elif motif.startswith('+|●'):\n",
    "        return 'ABCA'\n",
    "    elif motif.startswith('+|○'):\n",
    "        return 'ABCB'\n",
    "    elif motif.startswith('●|○'):\n",
    "        return 'ABAB'\n",
    "    else:\n",
    "        return motif \n",
    "    \n",
    "summary = summary.T.reset_index()\n",
    "summary = summary.groupby(by=summary['index'].apply(reduce_motif)).sum()\n",
    "\n",
    "# Transform back to original features (rather than normalised) for easier comparison\n",
    "summary.loc['activity'] = -np.log(1-summary.loc['activity'])\n",
    "for f in ('ii','oi','oo'):\n",
    "    summary.loc['imbalance_{}'.format(f)] = 2*summary.loc['imbalance_{}'.format(f)] - 1\n",
    "summary.loc['iet_entropy'] = summary.loc['iet_entropy']*np.log2(10)\n",
    "summary.loc['motif_entropy'] = summary.loc['motif_entropy']*np.log2(5) # five because we have six motifs\n",
    "    \n",
    "summary = pd.DataFrame(summary)\n",
    "summary"
   ]
  },
  {
   "cell_type": "code",
   "execution_count": 75,
   "metadata": {},
   "outputs": [
    {
     "data": {
      "text/plain": [
       "Index(['ABAB', 'ABAC', 'ABBC', 'ABCA', 'ABCB', 'activity',\n",
       "       'clustering_coefficient', 'duration', 'edge_density', 'iet_entropy',\n",
       "       'imbalance_ii', 'imbalance_oi', 'imbalance_oo', 'motif_entropy',\n",
       "       'num_events', 'num_nodes'],\n",
       "      dtype='object', name='index')"
      ]
     },
     "execution_count": 75,
     "metadata": {},
     "output_type": "execute_result"
    }
   ],
   "source": [
    "summary.index"
   ]
  },
  {
   "cell_type": "code",
   "execution_count": 76,
   "metadata": {},
   "outputs": [],
   "source": [
    "summary_new = summary.rename(index={'activity': 'Activity', 'clustering_coefficient':'Clustering Coefficient', \n",
    "                                    'duration': 'Duration', 'edge_density': 'Edge Density', 'iet_entropy': 'IET Entropy',\n",
    "                                    'imbalance_ii': 'In-In (Imbalance)', 'imbalance_oi': 'Out-In (Imbalance)',\n",
    "                                    'imbalance_oo': 'Out-Out (Imbalance)', 'motif_entropy': 'Motif Entropy', \n",
    "                                    'num_events': 'Average Number of Events', 'num_nodes':'Average Number of Nodes'})"
   ]
  },
  {
   "cell_type": "code",
   "execution_count": 77,
   "metadata": {
    "scrolled": false
   },
   "outputs": [
    {
     "data": {
      "text/html": [
       "<div>\n",
       "<style scoped>\n",
       "    .dataframe tbody tr th:only-of-type {\n",
       "        vertical-align: middle;\n",
       "    }\n",
       "\n",
       "    .dataframe tbody tr th {\n",
       "        vertical-align: top;\n",
       "    }\n",
       "\n",
       "    .dataframe thead th {\n",
       "        text-align: right;\n",
       "    }\n",
       "</style>\n",
       "<table border=\"1\" class=\"dataframe\">\n",
       "  <thead>\n",
       "    <tr style=\"text-align: right;\">\n",
       "      <th></th>\n",
       "      <th>1</th>\n",
       "      <th>2</th>\n",
       "      <th>3</th>\n",
       "      <th>4</th>\n",
       "      <th>5</th>\n",
       "      <th>6</th>\n",
       "    </tr>\n",
       "    <tr>\n",
       "      <th>index</th>\n",
       "      <th></th>\n",
       "      <th></th>\n",
       "      <th></th>\n",
       "      <th></th>\n",
       "      <th></th>\n",
       "      <th></th>\n",
       "    </tr>\n",
       "  </thead>\n",
       "  <tbody>\n",
       "    <tr>\n",
       "      <th>ABAB</th>\n",
       "      <td>1.000000</td>\n",
       "      <td>0.753996</td>\n",
       "      <td>0.608353</td>\n",
       "      <td>0.817137</td>\n",
       "      <td>0.862448</td>\n",
       "      <td>0.796940</td>\n",
       "    </tr>\n",
       "    <tr>\n",
       "      <th>ABAC</th>\n",
       "      <td>0.000000</td>\n",
       "      <td>0.078355</td>\n",
       "      <td>0.116959</td>\n",
       "      <td>0.012806</td>\n",
       "      <td>0.000000</td>\n",
       "      <td>0.134743</td>\n",
       "    </tr>\n",
       "    <tr>\n",
       "      <th>ABBC</th>\n",
       "      <td>0.000000</td>\n",
       "      <td>0.076177</td>\n",
       "      <td>0.141752</td>\n",
       "      <td>0.040717</td>\n",
       "      <td>0.000000</td>\n",
       "      <td>0.005299</td>\n",
       "    </tr>\n",
       "    <tr>\n",
       "      <th>ABCA</th>\n",
       "      <td>0.000000</td>\n",
       "      <td>0.005208</td>\n",
       "      <td>0.069077</td>\n",
       "      <td>0.077390</td>\n",
       "      <td>0.002525</td>\n",
       "      <td>0.000000</td>\n",
       "    </tr>\n",
       "    <tr>\n",
       "      <th>ABCB</th>\n",
       "      <td>0.000000</td>\n",
       "      <td>0.086264</td>\n",
       "      <td>0.063859</td>\n",
       "      <td>0.051951</td>\n",
       "      <td>0.135027</td>\n",
       "      <td>0.063018</td>\n",
       "    </tr>\n",
       "    <tr>\n",
       "      <th>Activity</th>\n",
       "      <td>1.036756</td>\n",
       "      <td>0.761396</td>\n",
       "      <td>0.237355</td>\n",
       "      <td>0.381232</td>\n",
       "      <td>0.343558</td>\n",
       "      <td>0.407169</td>\n",
       "    </tr>\n",
       "    <tr>\n",
       "      <th>Clustering Coefficient</th>\n",
       "      <td>0.000000</td>\n",
       "      <td>0.668155</td>\n",
       "      <td>0.054545</td>\n",
       "      <td>0.017593</td>\n",
       "      <td>0.000000</td>\n",
       "      <td>0.000000</td>\n",
       "    </tr>\n",
       "    <tr>\n",
       "      <th>Duration</th>\n",
       "      <td>9.702703</td>\n",
       "      <td>43.750000</td>\n",
       "      <td>66.363636</td>\n",
       "      <td>53.722222</td>\n",
       "      <td>49.500000</td>\n",
       "      <td>43.450000</td>\n",
       "    </tr>\n",
       "    <tr>\n",
       "      <th>Edge Density</th>\n",
       "      <td>0.500000</td>\n",
       "      <td>0.349702</td>\n",
       "      <td>0.188306</td>\n",
       "      <td>0.252183</td>\n",
       "      <td>0.312500</td>\n",
       "      <td>0.263333</td>\n",
       "    </tr>\n",
       "    <tr>\n",
       "      <th>IET Entropy</th>\n",
       "      <td>0.150821</td>\n",
       "      <td>0.622444</td>\n",
       "      <td>1.049257</td>\n",
       "      <td>0.630303</td>\n",
       "      <td>0.610167</td>\n",
       "      <td>0.719280</td>\n",
       "    </tr>\n",
       "    <tr>\n",
       "      <th>In-In (Imbalance)</th>\n",
       "      <td>-1.000000</td>\n",
       "      <td>-0.713194</td>\n",
       "      <td>-0.466414</td>\n",
       "      <td>-0.529321</td>\n",
       "      <td>-0.972222</td>\n",
       "      <td>-0.875833</td>\n",
       "    </tr>\n",
       "    <tr>\n",
       "      <th>Out-In (Imbalance)</th>\n",
       "      <td>0.000000</td>\n",
       "      <td>-0.169907</td>\n",
       "      <td>0.201515</td>\n",
       "      <td>-0.327675</td>\n",
       "      <td>-0.972222</td>\n",
       "      <td>0.420833</td>\n",
       "    </tr>\n",
       "    <tr>\n",
       "      <th>Out-Out (Imbalance)</th>\n",
       "      <td>1.000000</td>\n",
       "      <td>0.612153</td>\n",
       "      <td>0.518434</td>\n",
       "      <td>0.483025</td>\n",
       "      <td>0.972222</td>\n",
       "      <td>0.874167</td>\n",
       "    </tr>\n",
       "    <tr>\n",
       "      <th>Motif Entropy</th>\n",
       "      <td>0.000000</td>\n",
       "      <td>2.676835</td>\n",
       "      <td>3.482788</td>\n",
       "      <td>1.927066</td>\n",
       "      <td>1.249378</td>\n",
       "      <td>1.898896</td>\n",
       "    </tr>\n",
       "    <tr>\n",
       "      <th>Average Number of Events</th>\n",
       "      <td>9.513514</td>\n",
       "      <td>16.500000</td>\n",
       "      <td>13.909091</td>\n",
       "      <td>15.666667</td>\n",
       "      <td>12.916667</td>\n",
       "      <td>12.500000</td>\n",
       "    </tr>\n",
       "    <tr>\n",
       "      <th>Average Number of Nodes</th>\n",
       "      <td>2.000000</td>\n",
       "      <td>4.375000</td>\n",
       "      <td>6.181818</td>\n",
       "      <td>4.444444</td>\n",
       "      <td>3.250000</td>\n",
       "      <td>4.000000</td>\n",
       "    </tr>\n",
       "  </tbody>\n",
       "</table>\n",
       "</div>"
      ],
      "text/plain": [
       "                                 1          2          3          4  \\\n",
       "index                                                                 \n",
       "ABAB                      1.000000   0.753996   0.608353   0.817137   \n",
       "ABAC                      0.000000   0.078355   0.116959   0.012806   \n",
       "ABBC                      0.000000   0.076177   0.141752   0.040717   \n",
       "ABCA                      0.000000   0.005208   0.069077   0.077390   \n",
       "ABCB                      0.000000   0.086264   0.063859   0.051951   \n",
       "Activity                  1.036756   0.761396   0.237355   0.381232   \n",
       "Clustering Coefficient    0.000000   0.668155   0.054545   0.017593   \n",
       "Duration                  9.702703  43.750000  66.363636  53.722222   \n",
       "Edge Density              0.500000   0.349702   0.188306   0.252183   \n",
       "IET Entropy               0.150821   0.622444   1.049257   0.630303   \n",
       "In-In (Imbalance)        -1.000000  -0.713194  -0.466414  -0.529321   \n",
       "Out-In (Imbalance)        0.000000  -0.169907   0.201515  -0.327675   \n",
       "Out-Out (Imbalance)       1.000000   0.612153   0.518434   0.483025   \n",
       "Motif Entropy             0.000000   2.676835   3.482788   1.927066   \n",
       "Average Number of Events  9.513514  16.500000  13.909091  15.666667   \n",
       "Average Number of Nodes   2.000000   4.375000   6.181818   4.444444   \n",
       "\n",
       "                                  5          6  \n",
       "index                                           \n",
       "ABAB                       0.862448   0.796940  \n",
       "ABAC                       0.000000   0.134743  \n",
       "ABBC                       0.000000   0.005299  \n",
       "ABCA                       0.002525   0.000000  \n",
       "ABCB                       0.135027   0.063018  \n",
       "Activity                   0.343558   0.407169  \n",
       "Clustering Coefficient     0.000000   0.000000  \n",
       "Duration                  49.500000  43.450000  \n",
       "Edge Density               0.312500   0.263333  \n",
       "IET Entropy                0.610167   0.719280  \n",
       "In-In (Imbalance)         -0.972222  -0.875833  \n",
       "Out-In (Imbalance)        -0.972222   0.420833  \n",
       "Out-Out (Imbalance)        0.972222   0.874167  \n",
       "Motif Entropy              1.249378   1.898896  \n",
       "Average Number of Events  12.916667  12.500000  \n",
       "Average Number of Nodes    3.250000   4.000000  "
      ]
     },
     "execution_count": 77,
     "metadata": {},
     "output_type": "execute_result"
    }
   ],
   "source": [
    "summary_new"
   ]
  },
  {
   "cell_type": "code",
   "execution_count": 78,
   "metadata": {},
   "outputs": [
    {
     "name": "stdout",
     "output_type": "stream",
     "text": [
      "\\begin{tabular}{lrrrrrr}\n",
      "\\toprule\n",
      "{} &         1 &          2 &          3 &          4 &          5 &          6 \\\\\n",
      "index                    &           &            &            &            &            &            \\\\\n",
      "\\midrule\n",
      "ABAB                     &  1.000000 &   0.753996 &   0.608353 &   0.817137 &   0.862448 &   0.796940 \\\\\n",
      "ABAC                     &  0.000000 &   0.078355 &   0.116959 &   0.012806 &   0.000000 &   0.134743 \\\\\n",
      "ABBC                     &  0.000000 &   0.076177 &   0.141752 &   0.040717 &   0.000000 &   0.005299 \\\\\n",
      "ABCA                     &  0.000000 &   0.005208 &   0.069077 &   0.077390 &   0.002525 &   0.000000 \\\\\n",
      "ABCB                     &  0.000000 &   0.086264 &   0.063859 &   0.051951 &   0.135027 &   0.063018 \\\\\n",
      "Activity                 &  1.036756 &   0.761396 &   0.237355 &   0.381232 &   0.343558 &   0.407169 \\\\\n",
      "Clustering Coefficient   &  0.000000 &   0.668155 &   0.054545 &   0.017593 &   0.000000 &   0.000000 \\\\\n",
      "Duration                 &  9.702703 &  43.750000 &  66.363636 &  53.722222 &  49.500000 &  43.450000 \\\\\n",
      "Edge Density             &  0.500000 &   0.349702 &   0.188306 &   0.252183 &   0.312500 &   0.263333 \\\\\n",
      "IET Entropy              &  0.150821 &   0.622444 &   1.049257 &   0.630303 &   0.610167 &   0.719280 \\\\\n",
      "In-In (Imbalance)        & -1.000000 &  -0.713194 &  -0.466414 &  -0.529321 &  -0.972222 &  -0.875833 \\\\\n",
      "Out-In (Imbalance)       &  0.000000 &  -0.169907 &   0.201515 &  -0.327675 &  -0.972222 &   0.420833 \\\\\n",
      "Out-Out (Imbalance)      &  1.000000 &   0.612153 &   0.518434 &   0.483025 &   0.972222 &   0.874167 \\\\\n",
      "Motif Entropy            &  0.000000 &   2.676835 &   3.482788 &   1.927066 &   1.249378 &   1.898896 \\\\\n",
      "Average Number of Events &  9.513514 &  16.500000 &  13.909091 &  15.666667 &  12.916667 &  12.500000 \\\\\n",
      "Average Number of Nodes  &  2.000000 &   4.375000 &   6.181818 &   4.444444 &   3.250000 &   4.000000 \\\\\n",
      "\\bottomrule\n",
      "\\end{tabular}\n",
      "\n"
     ]
    }
   ],
   "source": [
    "print(summary_new.to_latex())"
   ]
  },
  {
   "cell_type": "code",
   "execution_count": 79,
   "metadata": {},
   "outputs": [],
   "source": [
    "def highlight_max(s):\n",
    "    is_large = s.nlargest(3).values\n",
    "    return ['background-color: yellow' if v in is_large else '' for v in s]"
   ]
  },
  {
   "cell_type": "code",
   "execution_count": 80,
   "metadata": {},
   "outputs": [
    {
     "data": {
      "text/html": [
       "<style  type=\"text/css\" >\n",
       "#T_c8f2c5fb_1c96_11ec_adc9_d8c0a631ef9arow0_col0,#T_c8f2c5fb_1c96_11ec_adc9_d8c0a631ef9arow1_col5,#T_c8f2c5fb_1c96_11ec_adc9_d8c0a631ef9arow2_col2,#T_c8f2c5fb_1c96_11ec_adc9_d8c0a631ef9arow3_col3,#T_c8f2c5fb_1c96_11ec_adc9_d8c0a631ef9arow4_col4,#T_c8f2c5fb_1c96_11ec_adc9_d8c0a631ef9arow5_col0,#T_c8f2c5fb_1c96_11ec_adc9_d8c0a631ef9arow6_col1,#T_c8f2c5fb_1c96_11ec_adc9_d8c0a631ef9arow7_col2,#T_c8f2c5fb_1c96_11ec_adc9_d8c0a631ef9arow8_col0,#T_c8f2c5fb_1c96_11ec_adc9_d8c0a631ef9arow9_col2,#T_c8f2c5fb_1c96_11ec_adc9_d8c0a631ef9arow10_col2,#T_c8f2c5fb_1c96_11ec_adc9_d8c0a631ef9arow11_col5,#T_c8f2c5fb_1c96_11ec_adc9_d8c0a631ef9arow12_col0,#T_c8f2c5fb_1c96_11ec_adc9_d8c0a631ef9arow13_col2,#T_c8f2c5fb_1c96_11ec_adc9_d8c0a631ef9arow14_col1,#T_c8f2c5fb_1c96_11ec_adc9_d8c0a631ef9arow15_col2{\n",
       "            background-color:  lightgreen;\n",
       "        }</style><table id=\"T_c8f2c5fb_1c96_11ec_adc9_d8c0a631ef9a\" ><thead>    <tr>        <th class=\"blank level0\" ></th>        <th class=\"col_heading level0 col0\" >1</th>        <th class=\"col_heading level0 col1\" >2</th>        <th class=\"col_heading level0 col2\" >3</th>        <th class=\"col_heading level0 col3\" >4</th>        <th class=\"col_heading level0 col4\" >5</th>        <th class=\"col_heading level0 col5\" >6</th>    </tr>    <tr>        <th class=\"index_name level0\" >index</th>        <th class=\"blank\" ></th>        <th class=\"blank\" ></th>        <th class=\"blank\" ></th>        <th class=\"blank\" ></th>        <th class=\"blank\" ></th>        <th class=\"blank\" ></th>    </tr></thead><tbody>\n",
       "                <tr>\n",
       "                        <th id=\"T_c8f2c5fb_1c96_11ec_adc9_d8c0a631ef9alevel0_row0\" class=\"row_heading level0 row0\" >ABAB</th>\n",
       "                        <td id=\"T_c8f2c5fb_1c96_11ec_adc9_d8c0a631ef9arow0_col0\" class=\"data row0 col0\" >1.000000</td>\n",
       "                        <td id=\"T_c8f2c5fb_1c96_11ec_adc9_d8c0a631ef9arow0_col1\" class=\"data row0 col1\" >0.753996</td>\n",
       "                        <td id=\"T_c8f2c5fb_1c96_11ec_adc9_d8c0a631ef9arow0_col2\" class=\"data row0 col2\" >0.608353</td>\n",
       "                        <td id=\"T_c8f2c5fb_1c96_11ec_adc9_d8c0a631ef9arow0_col3\" class=\"data row0 col3\" >0.817137</td>\n",
       "                        <td id=\"T_c8f2c5fb_1c96_11ec_adc9_d8c0a631ef9arow0_col4\" class=\"data row0 col4\" >0.862448</td>\n",
       "                        <td id=\"T_c8f2c5fb_1c96_11ec_adc9_d8c0a631ef9arow0_col5\" class=\"data row0 col5\" >0.796940</td>\n",
       "            </tr>\n",
       "            <tr>\n",
       "                        <th id=\"T_c8f2c5fb_1c96_11ec_adc9_d8c0a631ef9alevel0_row1\" class=\"row_heading level0 row1\" >ABAC</th>\n",
       "                        <td id=\"T_c8f2c5fb_1c96_11ec_adc9_d8c0a631ef9arow1_col0\" class=\"data row1 col0\" >0.000000</td>\n",
       "                        <td id=\"T_c8f2c5fb_1c96_11ec_adc9_d8c0a631ef9arow1_col1\" class=\"data row1 col1\" >0.078355</td>\n",
       "                        <td id=\"T_c8f2c5fb_1c96_11ec_adc9_d8c0a631ef9arow1_col2\" class=\"data row1 col2\" >0.116959</td>\n",
       "                        <td id=\"T_c8f2c5fb_1c96_11ec_adc9_d8c0a631ef9arow1_col3\" class=\"data row1 col3\" >0.012806</td>\n",
       "                        <td id=\"T_c8f2c5fb_1c96_11ec_adc9_d8c0a631ef9arow1_col4\" class=\"data row1 col4\" >0.000000</td>\n",
       "                        <td id=\"T_c8f2c5fb_1c96_11ec_adc9_d8c0a631ef9arow1_col5\" class=\"data row1 col5\" >0.134743</td>\n",
       "            </tr>\n",
       "            <tr>\n",
       "                        <th id=\"T_c8f2c5fb_1c96_11ec_adc9_d8c0a631ef9alevel0_row2\" class=\"row_heading level0 row2\" >ABBC</th>\n",
       "                        <td id=\"T_c8f2c5fb_1c96_11ec_adc9_d8c0a631ef9arow2_col0\" class=\"data row2 col0\" >0.000000</td>\n",
       "                        <td id=\"T_c8f2c5fb_1c96_11ec_adc9_d8c0a631ef9arow2_col1\" class=\"data row2 col1\" >0.076177</td>\n",
       "                        <td id=\"T_c8f2c5fb_1c96_11ec_adc9_d8c0a631ef9arow2_col2\" class=\"data row2 col2\" >0.141752</td>\n",
       "                        <td id=\"T_c8f2c5fb_1c96_11ec_adc9_d8c0a631ef9arow2_col3\" class=\"data row2 col3\" >0.040717</td>\n",
       "                        <td id=\"T_c8f2c5fb_1c96_11ec_adc9_d8c0a631ef9arow2_col4\" class=\"data row2 col4\" >0.000000</td>\n",
       "                        <td id=\"T_c8f2c5fb_1c96_11ec_adc9_d8c0a631ef9arow2_col5\" class=\"data row2 col5\" >0.005299</td>\n",
       "            </tr>\n",
       "            <tr>\n",
       "                        <th id=\"T_c8f2c5fb_1c96_11ec_adc9_d8c0a631ef9alevel0_row3\" class=\"row_heading level0 row3\" >ABCA</th>\n",
       "                        <td id=\"T_c8f2c5fb_1c96_11ec_adc9_d8c0a631ef9arow3_col0\" class=\"data row3 col0\" >0.000000</td>\n",
       "                        <td id=\"T_c8f2c5fb_1c96_11ec_adc9_d8c0a631ef9arow3_col1\" class=\"data row3 col1\" >0.005208</td>\n",
       "                        <td id=\"T_c8f2c5fb_1c96_11ec_adc9_d8c0a631ef9arow3_col2\" class=\"data row3 col2\" >0.069077</td>\n",
       "                        <td id=\"T_c8f2c5fb_1c96_11ec_adc9_d8c0a631ef9arow3_col3\" class=\"data row3 col3\" >0.077390</td>\n",
       "                        <td id=\"T_c8f2c5fb_1c96_11ec_adc9_d8c0a631ef9arow3_col4\" class=\"data row3 col4\" >0.002525</td>\n",
       "                        <td id=\"T_c8f2c5fb_1c96_11ec_adc9_d8c0a631ef9arow3_col5\" class=\"data row3 col5\" >0.000000</td>\n",
       "            </tr>\n",
       "            <tr>\n",
       "                        <th id=\"T_c8f2c5fb_1c96_11ec_adc9_d8c0a631ef9alevel0_row4\" class=\"row_heading level0 row4\" >ABCB</th>\n",
       "                        <td id=\"T_c8f2c5fb_1c96_11ec_adc9_d8c0a631ef9arow4_col0\" class=\"data row4 col0\" >0.000000</td>\n",
       "                        <td id=\"T_c8f2c5fb_1c96_11ec_adc9_d8c0a631ef9arow4_col1\" class=\"data row4 col1\" >0.086264</td>\n",
       "                        <td id=\"T_c8f2c5fb_1c96_11ec_adc9_d8c0a631ef9arow4_col2\" class=\"data row4 col2\" >0.063859</td>\n",
       "                        <td id=\"T_c8f2c5fb_1c96_11ec_adc9_d8c0a631ef9arow4_col3\" class=\"data row4 col3\" >0.051951</td>\n",
       "                        <td id=\"T_c8f2c5fb_1c96_11ec_adc9_d8c0a631ef9arow4_col4\" class=\"data row4 col4\" >0.135027</td>\n",
       "                        <td id=\"T_c8f2c5fb_1c96_11ec_adc9_d8c0a631ef9arow4_col5\" class=\"data row4 col5\" >0.063018</td>\n",
       "            </tr>\n",
       "            <tr>\n",
       "                        <th id=\"T_c8f2c5fb_1c96_11ec_adc9_d8c0a631ef9alevel0_row5\" class=\"row_heading level0 row5\" >activity</th>\n",
       "                        <td id=\"T_c8f2c5fb_1c96_11ec_adc9_d8c0a631ef9arow5_col0\" class=\"data row5 col0\" >1.036756</td>\n",
       "                        <td id=\"T_c8f2c5fb_1c96_11ec_adc9_d8c0a631ef9arow5_col1\" class=\"data row5 col1\" >0.761396</td>\n",
       "                        <td id=\"T_c8f2c5fb_1c96_11ec_adc9_d8c0a631ef9arow5_col2\" class=\"data row5 col2\" >0.237355</td>\n",
       "                        <td id=\"T_c8f2c5fb_1c96_11ec_adc9_d8c0a631ef9arow5_col3\" class=\"data row5 col3\" >0.381232</td>\n",
       "                        <td id=\"T_c8f2c5fb_1c96_11ec_adc9_d8c0a631ef9arow5_col4\" class=\"data row5 col4\" >0.343558</td>\n",
       "                        <td id=\"T_c8f2c5fb_1c96_11ec_adc9_d8c0a631ef9arow5_col5\" class=\"data row5 col5\" >0.407169</td>\n",
       "            </tr>\n",
       "            <tr>\n",
       "                        <th id=\"T_c8f2c5fb_1c96_11ec_adc9_d8c0a631ef9alevel0_row6\" class=\"row_heading level0 row6\" >clustering_coefficient</th>\n",
       "                        <td id=\"T_c8f2c5fb_1c96_11ec_adc9_d8c0a631ef9arow6_col0\" class=\"data row6 col0\" >0.000000</td>\n",
       "                        <td id=\"T_c8f2c5fb_1c96_11ec_adc9_d8c0a631ef9arow6_col1\" class=\"data row6 col1\" >0.668155</td>\n",
       "                        <td id=\"T_c8f2c5fb_1c96_11ec_adc9_d8c0a631ef9arow6_col2\" class=\"data row6 col2\" >0.054545</td>\n",
       "                        <td id=\"T_c8f2c5fb_1c96_11ec_adc9_d8c0a631ef9arow6_col3\" class=\"data row6 col3\" >0.017593</td>\n",
       "                        <td id=\"T_c8f2c5fb_1c96_11ec_adc9_d8c0a631ef9arow6_col4\" class=\"data row6 col4\" >0.000000</td>\n",
       "                        <td id=\"T_c8f2c5fb_1c96_11ec_adc9_d8c0a631ef9arow6_col5\" class=\"data row6 col5\" >0.000000</td>\n",
       "            </tr>\n",
       "            <tr>\n",
       "                        <th id=\"T_c8f2c5fb_1c96_11ec_adc9_d8c0a631ef9alevel0_row7\" class=\"row_heading level0 row7\" >duration</th>\n",
       "                        <td id=\"T_c8f2c5fb_1c96_11ec_adc9_d8c0a631ef9arow7_col0\" class=\"data row7 col0\" >9.702703</td>\n",
       "                        <td id=\"T_c8f2c5fb_1c96_11ec_adc9_d8c0a631ef9arow7_col1\" class=\"data row7 col1\" >43.750000</td>\n",
       "                        <td id=\"T_c8f2c5fb_1c96_11ec_adc9_d8c0a631ef9arow7_col2\" class=\"data row7 col2\" >66.363636</td>\n",
       "                        <td id=\"T_c8f2c5fb_1c96_11ec_adc9_d8c0a631ef9arow7_col3\" class=\"data row7 col3\" >53.722222</td>\n",
       "                        <td id=\"T_c8f2c5fb_1c96_11ec_adc9_d8c0a631ef9arow7_col4\" class=\"data row7 col4\" >49.500000</td>\n",
       "                        <td id=\"T_c8f2c5fb_1c96_11ec_adc9_d8c0a631ef9arow7_col5\" class=\"data row7 col5\" >43.450000</td>\n",
       "            </tr>\n",
       "            <tr>\n",
       "                        <th id=\"T_c8f2c5fb_1c96_11ec_adc9_d8c0a631ef9alevel0_row8\" class=\"row_heading level0 row8\" >edge_density</th>\n",
       "                        <td id=\"T_c8f2c5fb_1c96_11ec_adc9_d8c0a631ef9arow8_col0\" class=\"data row8 col0\" >0.500000</td>\n",
       "                        <td id=\"T_c8f2c5fb_1c96_11ec_adc9_d8c0a631ef9arow8_col1\" class=\"data row8 col1\" >0.349702</td>\n",
       "                        <td id=\"T_c8f2c5fb_1c96_11ec_adc9_d8c0a631ef9arow8_col2\" class=\"data row8 col2\" >0.188306</td>\n",
       "                        <td id=\"T_c8f2c5fb_1c96_11ec_adc9_d8c0a631ef9arow8_col3\" class=\"data row8 col3\" >0.252183</td>\n",
       "                        <td id=\"T_c8f2c5fb_1c96_11ec_adc9_d8c0a631ef9arow8_col4\" class=\"data row8 col4\" >0.312500</td>\n",
       "                        <td id=\"T_c8f2c5fb_1c96_11ec_adc9_d8c0a631ef9arow8_col5\" class=\"data row8 col5\" >0.263333</td>\n",
       "            </tr>\n",
       "            <tr>\n",
       "                        <th id=\"T_c8f2c5fb_1c96_11ec_adc9_d8c0a631ef9alevel0_row9\" class=\"row_heading level0 row9\" >iet_entropy</th>\n",
       "                        <td id=\"T_c8f2c5fb_1c96_11ec_adc9_d8c0a631ef9arow9_col0\" class=\"data row9 col0\" >0.150821</td>\n",
       "                        <td id=\"T_c8f2c5fb_1c96_11ec_adc9_d8c0a631ef9arow9_col1\" class=\"data row9 col1\" >0.622444</td>\n",
       "                        <td id=\"T_c8f2c5fb_1c96_11ec_adc9_d8c0a631ef9arow9_col2\" class=\"data row9 col2\" >1.049257</td>\n",
       "                        <td id=\"T_c8f2c5fb_1c96_11ec_adc9_d8c0a631ef9arow9_col3\" class=\"data row9 col3\" >0.630303</td>\n",
       "                        <td id=\"T_c8f2c5fb_1c96_11ec_adc9_d8c0a631ef9arow9_col4\" class=\"data row9 col4\" >0.610167</td>\n",
       "                        <td id=\"T_c8f2c5fb_1c96_11ec_adc9_d8c0a631ef9arow9_col5\" class=\"data row9 col5\" >0.719280</td>\n",
       "            </tr>\n",
       "            <tr>\n",
       "                        <th id=\"T_c8f2c5fb_1c96_11ec_adc9_d8c0a631ef9alevel0_row10\" class=\"row_heading level0 row10\" >imbalance_ii</th>\n",
       "                        <td id=\"T_c8f2c5fb_1c96_11ec_adc9_d8c0a631ef9arow10_col0\" class=\"data row10 col0\" >-1.000000</td>\n",
       "                        <td id=\"T_c8f2c5fb_1c96_11ec_adc9_d8c0a631ef9arow10_col1\" class=\"data row10 col1\" >-0.713194</td>\n",
       "                        <td id=\"T_c8f2c5fb_1c96_11ec_adc9_d8c0a631ef9arow10_col2\" class=\"data row10 col2\" >-0.466414</td>\n",
       "                        <td id=\"T_c8f2c5fb_1c96_11ec_adc9_d8c0a631ef9arow10_col3\" class=\"data row10 col3\" >-0.529321</td>\n",
       "                        <td id=\"T_c8f2c5fb_1c96_11ec_adc9_d8c0a631ef9arow10_col4\" class=\"data row10 col4\" >-0.972222</td>\n",
       "                        <td id=\"T_c8f2c5fb_1c96_11ec_adc9_d8c0a631ef9arow10_col5\" class=\"data row10 col5\" >-0.875833</td>\n",
       "            </tr>\n",
       "            <tr>\n",
       "                        <th id=\"T_c8f2c5fb_1c96_11ec_adc9_d8c0a631ef9alevel0_row11\" class=\"row_heading level0 row11\" >imbalance_oi</th>\n",
       "                        <td id=\"T_c8f2c5fb_1c96_11ec_adc9_d8c0a631ef9arow11_col0\" class=\"data row11 col0\" >0.000000</td>\n",
       "                        <td id=\"T_c8f2c5fb_1c96_11ec_adc9_d8c0a631ef9arow11_col1\" class=\"data row11 col1\" >-0.169907</td>\n",
       "                        <td id=\"T_c8f2c5fb_1c96_11ec_adc9_d8c0a631ef9arow11_col2\" class=\"data row11 col2\" >0.201515</td>\n",
       "                        <td id=\"T_c8f2c5fb_1c96_11ec_adc9_d8c0a631ef9arow11_col3\" class=\"data row11 col3\" >-0.327675</td>\n",
       "                        <td id=\"T_c8f2c5fb_1c96_11ec_adc9_d8c0a631ef9arow11_col4\" class=\"data row11 col4\" >-0.972222</td>\n",
       "                        <td id=\"T_c8f2c5fb_1c96_11ec_adc9_d8c0a631ef9arow11_col5\" class=\"data row11 col5\" >0.420833</td>\n",
       "            </tr>\n",
       "            <tr>\n",
       "                        <th id=\"T_c8f2c5fb_1c96_11ec_adc9_d8c0a631ef9alevel0_row12\" class=\"row_heading level0 row12\" >imbalance_oo</th>\n",
       "                        <td id=\"T_c8f2c5fb_1c96_11ec_adc9_d8c0a631ef9arow12_col0\" class=\"data row12 col0\" >1.000000</td>\n",
       "                        <td id=\"T_c8f2c5fb_1c96_11ec_adc9_d8c0a631ef9arow12_col1\" class=\"data row12 col1\" >0.612153</td>\n",
       "                        <td id=\"T_c8f2c5fb_1c96_11ec_adc9_d8c0a631ef9arow12_col2\" class=\"data row12 col2\" >0.518434</td>\n",
       "                        <td id=\"T_c8f2c5fb_1c96_11ec_adc9_d8c0a631ef9arow12_col3\" class=\"data row12 col3\" >0.483025</td>\n",
       "                        <td id=\"T_c8f2c5fb_1c96_11ec_adc9_d8c0a631ef9arow12_col4\" class=\"data row12 col4\" >0.972222</td>\n",
       "                        <td id=\"T_c8f2c5fb_1c96_11ec_adc9_d8c0a631ef9arow12_col5\" class=\"data row12 col5\" >0.874167</td>\n",
       "            </tr>\n",
       "            <tr>\n",
       "                        <th id=\"T_c8f2c5fb_1c96_11ec_adc9_d8c0a631ef9alevel0_row13\" class=\"row_heading level0 row13\" >motif_entropy</th>\n",
       "                        <td id=\"T_c8f2c5fb_1c96_11ec_adc9_d8c0a631ef9arow13_col0\" class=\"data row13 col0\" >0.000000</td>\n",
       "                        <td id=\"T_c8f2c5fb_1c96_11ec_adc9_d8c0a631ef9arow13_col1\" class=\"data row13 col1\" >2.676835</td>\n",
       "                        <td id=\"T_c8f2c5fb_1c96_11ec_adc9_d8c0a631ef9arow13_col2\" class=\"data row13 col2\" >3.482788</td>\n",
       "                        <td id=\"T_c8f2c5fb_1c96_11ec_adc9_d8c0a631ef9arow13_col3\" class=\"data row13 col3\" >1.927066</td>\n",
       "                        <td id=\"T_c8f2c5fb_1c96_11ec_adc9_d8c0a631ef9arow13_col4\" class=\"data row13 col4\" >1.249378</td>\n",
       "                        <td id=\"T_c8f2c5fb_1c96_11ec_adc9_d8c0a631ef9arow13_col5\" class=\"data row13 col5\" >1.898896</td>\n",
       "            </tr>\n",
       "            <tr>\n",
       "                        <th id=\"T_c8f2c5fb_1c96_11ec_adc9_d8c0a631ef9alevel0_row14\" class=\"row_heading level0 row14\" >num_events</th>\n",
       "                        <td id=\"T_c8f2c5fb_1c96_11ec_adc9_d8c0a631ef9arow14_col0\" class=\"data row14 col0\" >9.513514</td>\n",
       "                        <td id=\"T_c8f2c5fb_1c96_11ec_adc9_d8c0a631ef9arow14_col1\" class=\"data row14 col1\" >16.500000</td>\n",
       "                        <td id=\"T_c8f2c5fb_1c96_11ec_adc9_d8c0a631ef9arow14_col2\" class=\"data row14 col2\" >13.909091</td>\n",
       "                        <td id=\"T_c8f2c5fb_1c96_11ec_adc9_d8c0a631ef9arow14_col3\" class=\"data row14 col3\" >15.666667</td>\n",
       "                        <td id=\"T_c8f2c5fb_1c96_11ec_adc9_d8c0a631ef9arow14_col4\" class=\"data row14 col4\" >12.916667</td>\n",
       "                        <td id=\"T_c8f2c5fb_1c96_11ec_adc9_d8c0a631ef9arow14_col5\" class=\"data row14 col5\" >12.500000</td>\n",
       "            </tr>\n",
       "            <tr>\n",
       "                        <th id=\"T_c8f2c5fb_1c96_11ec_adc9_d8c0a631ef9alevel0_row15\" class=\"row_heading level0 row15\" >num_nodes</th>\n",
       "                        <td id=\"T_c8f2c5fb_1c96_11ec_adc9_d8c0a631ef9arow15_col0\" class=\"data row15 col0\" >2.000000</td>\n",
       "                        <td id=\"T_c8f2c5fb_1c96_11ec_adc9_d8c0a631ef9arow15_col1\" class=\"data row15 col1\" >4.375000</td>\n",
       "                        <td id=\"T_c8f2c5fb_1c96_11ec_adc9_d8c0a631ef9arow15_col2\" class=\"data row15 col2\" >6.181818</td>\n",
       "                        <td id=\"T_c8f2c5fb_1c96_11ec_adc9_d8c0a631ef9arow15_col3\" class=\"data row15 col3\" >4.444444</td>\n",
       "                        <td id=\"T_c8f2c5fb_1c96_11ec_adc9_d8c0a631ef9arow15_col4\" class=\"data row15 col4\" >3.250000</td>\n",
       "                        <td id=\"T_c8f2c5fb_1c96_11ec_adc9_d8c0a631ef9arow15_col5\" class=\"data row15 col5\" >4.000000</td>\n",
       "            </tr>\n",
       "    </tbody></table>"
      ],
      "text/plain": [
       "<pandas.io.formats.style.Styler at 0x2157e2c3f10>"
      ]
     },
     "execution_count": 80,
     "metadata": {},
     "output_type": "execute_result"
    }
   ],
   "source": [
    "\n",
    "#summary.style.apply(highlight_max)\n",
    "high = summary.style.highlight_max(color = 'lightgreen', axis = 1)\n",
    "#high = summary.style.highlight_min(color = 'red', axis = 1)\n",
    "high"
   ]
  },
  {
   "cell_type": "markdown",
   "metadata": {},
   "source": [
    "## PCA"
   ]
  },
  {
   "cell_type": "code",
   "execution_count": 81,
   "metadata": {},
   "outputs": [
    {
     "name": "stdout",
     "output_type": "stream",
     "text": [
      "[t-SNE] Computing 91 nearest neighbors...\n",
      "[t-SNE] Indexed 106 samples in 0.000s...\n",
      "[t-SNE] Computed neighbors for 106 samples in 0.002s...\n",
      "[t-SNE] Computed conditional probabilities for sample 106 / 106\n",
      "[t-SNE] Mean sigma: 0.129077\n",
      "[t-SNE] KL divergence after 250 iterations with early exaggeration: 54.834644\n",
      "[t-SNE] KL divergence after 1000 iterations: 0.545351\n"
     ]
    }
   ],
   "source": [
    "#Feature Space plot\n",
    "from eventgraphs.clustering import reduce_feature_dimensionality\n",
    "from eventgraphs.plotting import plot_component_embedding\n",
    "\n",
    "#t-SNE in 2-D - (function uses sklearn)\n",
    "X, (tsne, _) = reduce_feature_dimensionality(rs_features, \n",
    "                                             ndim=2, \n",
    "                                             method='tsne',\n",
    "                                             return_scalers=True, \n",
    "                                             **dict(random_state=0, \n",
    "                                                  verbose=True, \n",
    "                                                  learning_rate=500),)\n",
    "\n",
    "#PCA in 3-D\n",
    "Y, PCA = reduce_feature_dimensionality(rs_features, \n",
    "                                       ndim=10,\n",
    "                                       method='pca', \n",
    "                                       return_scalers=True,)"
   ]
  },
  {
   "cell_type": "code",
   "execution_count": 82,
   "metadata": {},
   "outputs": [
    {
     "name": "stdout",
     "output_type": "stream",
     "text": [
      "Explained Ratio: [0.68919593 0.1296929  0.08578548 0.03506654 0.03078975 0.01089325\n",
      " 0.00901959 0.0032357  0.00287113 0.00184445]\n",
      "Total Explained: 0.9983947208517787\n"
     ]
    }
   ],
   "source": [
    "print(\"Explained Ratio: {}\".format(PCA.explained_variance_ratio_))\n",
    "print(\"Total Explained: {}\".format(sum(PCA.explained_variance_ratio_)))"
   ]
  },
  {
   "cell_type": "code",
   "execution_count": 83,
   "metadata": {},
   "outputs": [
    {
     "name": "stdout",
     "output_type": "stream",
     "text": [
      "0.90467431\n"
     ]
    }
   ],
   "source": [
    "s = [0.68919593, 0.1296929,  0.08578548]\n",
    "print(sum(s))"
   ]
  },
  {
   "cell_type": "code",
   "execution_count": 84,
   "metadata": {},
   "outputs": [],
   "source": [
    "explained_variances = PCA.explained_variance_ratio_\n",
    "cum_sum_eigenvalues = np.cumsum(explained_variances)"
   ]
  },
  {
   "cell_type": "code",
   "execution_count": 85,
   "metadata": {},
   "outputs": [
    {
     "data": {
      "image/png": "[encoded data removed]",
      "text/plain": [
       "<Figure size 432x288 with 1 Axes>"
      ]
     },
     "metadata": {
      "needs_background": "light"
     },
     "output_type": "display_data"
    }
   ],
   "source": [
    "plt.bar(range(1,len(explained_variances) +1), explained_variances, alpha=0.5, align='center',\n",
    "        label='Individual explained variance')\n",
    "plt.step(range(1,len(cum_sum_eigenvalues) +1), cum_sum_eigenvalues, where='mid',\n",
    "         label='Cumulative explained variance')\n",
    "plt.ylabel('Explained variance ratio')\n",
    "plt.xlabel('Principal component index')\n",
    "plt.title('CPE: The cumulative and Individual Explained Variances')\n",
    "plt.legend(loc='best')\n",
    "plt.tight_layout()\n",
    "plt.show()"
   ]
  },
  {
   "cell_type": "markdown",
   "metadata": {},
   "source": [
    "# PCA and t-SNE"
   ]
  },
  {
   "cell_type": "code",
   "execution_count": 86,
   "metadata": {},
   "outputs": [
    {
     "name": "stdout",
     "output_type": "stream",
     "text": [
      "[t-SNE] Computing 91 nearest neighbors...\n",
      "[t-SNE] Indexed 106 samples in 0.000s...\n",
      "[t-SNE] Computed neighbors for 106 samples in 0.002s...\n",
      "[t-SNE] Computed conditional probabilities for sample 106 / 106\n",
      "[t-SNE] Mean sigma: 0.129077\n",
      "[t-SNE] KL divergence after 250 iterations with early exaggeration: 54.834644\n",
      "[t-SNE] KL divergence after 1000 iterations: 0.545351\n"
     ]
    }
   ],
   "source": [
    "#Feature Space plot\n",
    "from eventgraphs.clustering import reduce_feature_dimensionality\n",
    "from eventgraphs.plotting import plot_component_embedding\n",
    "\n",
    "#t-SNE in 2-D - (function uses sklearn)\n",
    "X, (tsne, _) = reduce_feature_dimensionality(rs_features, \n",
    "                                             ndim=2, \n",
    "                                             method='tsne',\n",
    "                                             return_scalers=True, \n",
    "                                             **dict(random_state=0, \n",
    "                                                  verbose=True, \n",
    "                                                  learning_rate=500),)\n",
    "\n",
    "#PCA in 3-D\n",
    "Y, PCA = reduce_feature_dimensionality(rs_features, \n",
    "                                       ndim=3,\n",
    "                                       method='pca', \n",
    "                                       return_scalers=True,)"
   ]
  },
  {
   "cell_type": "code",
   "execution_count": 87,
   "metadata": {},
   "outputs": [
    {
     "name": "stdout",
     "output_type": "stream",
     "text": [
      "Explained Ratio: [0.68919593 0.1296929  0.08578548]\n",
      "Total Explained: 0.9046743161820264\n"
     ]
    }
   ],
   "source": [
    "print(\"Explained Ratio: {}\".format(PCA.explained_variance_ratio_))\n",
    "print(\"Total Explained: {}\".format(sum(PCA.explained_variance_ratio_)))"
   ]
  },
  {
   "cell_type": "code",
   "execution_count": 88,
   "metadata": {},
   "outputs": [
    {
     "data": {
      "image/png": "[encoded data removed]",
      "text/plain": [
       "<Figure size 864x576 with 1 Axes>"
      ]
     },
     "metadata": {
      "needs_background": "light"
     },
     "output_type": "display_data"
    }
   ],
   "source": [
    "with plt.style.context(['seaborn-paper', PLOT_STYLE, {'legend.fontsize':14,\n",
    "                                                      'legend.frameon':False}]):\n",
    "\n",
    "    fig = plt.figure(figsize=(12,8))\n",
    "    ax = fig.add_subplot(111)\n",
    "    ax = plot_component_embedding(X, clusters=clusters, ax=ax);\n",
    "    plt.title('t-SNE', fontsize=14)\n",
    "    #fig.savefig('./figures/figure_3_clustering.eps', bbox_inches='tight')"
   ]
  },
  {
   "cell_type": "markdown",
   "metadata": {},
   "source": [
    "# CLUSTER ANALYSIS"
   ]
  },
  {
   "cell_type": "markdown",
   "metadata": {},
   "source": [
    "## Cluster 1"
   ]
  },
  {
   "cell_type": "code",
   "execution_count": 70,
   "metadata": {},
   "outputs": [],
   "source": [
    "cluster_1 = clusters[clusters == 1] # all components in cluster 1"
   ]
  },
  {
   "cell_type": "code",
   "execution_count": 71,
   "metadata": {},
   "outputs": [
    {
     "data": {
      "text/plain": [
       "246    1\n",
       "236    1\n",
       "209    1\n",
       "237    1\n",
       "205    1\n",
       "244    1\n",
       "247    1\n",
       "30     1\n",
       "76     1\n",
       "38     1\n",
       "96     1\n",
       "93     1\n",
       "50     1\n",
       "242    1\n",
       "235    1\n",
       "134    1\n",
       "243    1\n",
       "231    1\n",
       "245    1\n",
       "230    1\n",
       "229    1\n",
       "49     1\n",
       "228    1\n",
       "145    1\n",
       "144    1\n",
       "35     1\n",
       "16     1\n",
       "121    1\n",
       "24     1\n",
       "119    1\n",
       "67     1\n",
       "149    1\n",
       "52     1\n",
       "95     1\n",
       "113    1\n",
       "103    1\n",
       "41     1\n",
       "dtype: int64"
      ]
     },
     "execution_count": 71,
     "metadata": {},
     "output_type": "execute_result"
    }
   ],
   "source": [
    "cluster_1"
   ]
  },
  {
   "cell_type": "code",
   "execution_count": 72,
   "metadata": {},
   "outputs": [
    {
     "data": {
      "text/plain": [
       "1    37\n",
       "dtype: int64"
      ]
     },
     "execution_count": 72,
     "metadata": {},
     "output_type": "execute_result"
    }
   ],
   "source": [
    "cluster_1.value_counts()"
   ]
  },
  {
   "cell_type": "code",
   "execution_count": 73,
   "metadata": {},
   "outputs": [],
   "source": [
    "comp_246 = components[246]"
   ]
  },
  {
   "cell_type": "code",
   "execution_count": 74,
   "metadata": {},
   "outputs": [
    {
     "data": {
      "text/plain": [
       "<EventGraph with 2 nodes, 19 events, and 18 edges (status: built)>"
      ]
     },
     "execution_count": 74,
     "metadata": {},
     "output_type": "execute_result"
    }
   ],
   "source": [
    "components[246]"
   ]
  },
  {
   "cell_type": "code",
   "execution_count": 75,
   "metadata": {},
   "outputs": [
    {
     "data": {
      "text/plain": [
       "<EventGraph with 2 nodes, 5 events, and 4 edges (status: built)>"
      ]
     },
     "execution_count": 75,
     "metadata": {},
     "output_type": "execute_result"
    }
   ],
   "source": [
    "components[103]"
   ]
  },
  {
   "cell_type": "code",
   "execution_count": 76,
   "metadata": {},
   "outputs": [
    {
     "data": {
      "text/plain": [
       "<EventGraph with 2 nodes, 5 events, and 4 edges (status: built)>"
      ]
     },
     "execution_count": 76,
     "metadata": {},
     "output_type": "execute_result"
    }
   ],
   "source": [
    "comp_41 = components[41]\n",
    "comp_41"
   ]
  },
  {
   "cell_type": "code",
   "execution_count": 77,
   "metadata": {
    "scrolled": true
   },
   "outputs": [
    {
     "name": "stdout",
     "output_type": "stream",
     "text": [
      "\n",
      "component 246\n",
      "                        source                    target  time     type\n",
      "1531  PtNum_rvketc0eaca30rvket  PtNum_rvketbaaf01b9rvket   620  renal_5\n",
      "1532  PtNum_rvketc0eaca30rvket  PtNum_rvketbaaf01b9rvket   621  renal_5\n",
      "1533  PtNum_rvketc0eaca30rvket  PtNum_rvketbaaf01b9rvket   622  renal_5\n",
      "1534  PtNum_rvketc0eaca30rvket  PtNum_rvketbaaf01b9rvket   623  renal_5\n",
      "1535  PtNum_rvketc0eaca30rvket  PtNum_rvketbaaf01b9rvket   624  renal_5\n",
      "1536  PtNum_rvketc0eaca30rvket  PtNum_rvketbaaf01b9rvket   625  renal_5\n",
      "1537  PtNum_rvketc0eaca30rvket  PtNum_rvketbaaf01b9rvket   626  renal_5\n",
      "1538  PtNum_rvketc0eaca30rvket  PtNum_rvketbaaf01b9rvket   627  renal_5\n",
      "1539  PtNum_rvketc0eaca30rvket  PtNum_rvketbaaf01b9rvket   628  renal_5\n",
      "1540  PtNum_rvketc0eaca30rvket  PtNum_rvketbaaf01b9rvket   629  renal_5\n",
      "1541  PtNum_rvketc0eaca30rvket  PtNum_rvketbaaf01b9rvket   630  renal_5\n",
      "1542  PtNum_rvketc0eaca30rvket  PtNum_rvketbaaf01b9rvket   631  renal_5\n",
      "1543  PtNum_rvketc0eaca30rvket  PtNum_rvketbaaf01b9rvket   632  renal_5\n",
      "1544  PtNum_rvketc0eaca30rvket  PtNum_rvketbaaf01b9rvket   633  renal_5\n",
      "1545  PtNum_rvketc0eaca30rvket  PtNum_rvketbaaf01b9rvket   634  renal_5\n",
      "1546  PtNum_rvketc0eaca30rvket  PtNum_rvketbaaf01b9rvket   635  renal_5\n",
      "1547  PtNum_rvketc0eaca30rvket  PtNum_rvketbaaf01b9rvket   636  renal_5\n",
      "1548  PtNum_rvketc0eaca30rvket  PtNum_rvketbaaf01b9rvket   637  renal_5\n",
      "1549  PtNum_rvketc0eaca30rvket  PtNum_rvketbaaf01b9rvket   638  renal_5\n",
      "\n",
      "component 236\n",
      "                        source                    target  time     type\n",
      "1412  PtNum_rvket7a8132a6rvket  PtNum_rvket39051a44rvket   610  renal_4\n",
      "1413  PtNum_rvket7a8132a6rvket  PtNum_rvket39051a44rvket   611  renal_4\n",
      "1414  PtNum_rvket7a8132a6rvket  PtNum_rvket39051a44rvket   612  renal_4\n",
      "1415  PtNum_rvket7a8132a6rvket  PtNum_rvket39051a44rvket   613  renal_4\n",
      "1416  PtNum_rvket7a8132a6rvket  PtNum_rvket39051a44rvket   614  renal_4\n",
      "1417  PtNum_rvket7a8132a6rvket  PtNum_rvket39051a44rvket   615  renal_4\n",
      "1418  PtNum_rvket7a8132a6rvket  PtNum_rvket39051a44rvket   616  renal_4\n",
      "1419  PtNum_rvket7a8132a6rvket  PtNum_rvket39051a44rvket   617  renal_4\n",
      "1420  PtNum_rvket7a8132a6rvket  PtNum_rvket39051a44rvket   618  renal_4\n",
      "1421  PtNum_rvket7a8132a6rvket  PtNum_rvket39051a44rvket   619  renal_4\n",
      "1497  PtNum_rvket7a8132a6rvket  PtNum_rvket39051a44rvket   620  renal_4\n",
      "1498  PtNum_rvket7a8132a6rvket  PtNum_rvket39051a44rvket   621  renal_4\n",
      "1499  PtNum_rvket7a8132a6rvket  PtNum_rvket39051a44rvket   622  renal_4\n",
      "1500  PtNum_rvket7a8132a6rvket  PtNum_rvket39051a44rvket   623  renal_4\n",
      "1501  PtNum_rvket7a8132a6rvket  PtNum_rvket39051a44rvket   624  renal_4\n",
      "1502  PtNum_rvket7a8132a6rvket  PtNum_rvket39051a44rvket   625  renal_4\n",
      "1503  PtNum_rvket7a8132a6rvket  PtNum_rvket39051a44rvket   626  renal_4\n",
      "1504  PtNum_rvket7a8132a6rvket  PtNum_rvket39051a44rvket   627  renal_4\n",
      "1505  PtNum_rvket7a8132a6rvket  PtNum_rvket39051a44rvket   628  renal_4\n",
      "\n",
      "component 209\n",
      "                        source                    target  time       type\n",
      "1213  PtNum_rvkete7eb1ce2rvket  PtNum_rvket8cf55226rvket   468  surgery_1\n",
      "1214  PtNum_rvkete7eb1ce2rvket  PtNum_rvket8cf55226rvket   469  surgery_1\n",
      "1215  PtNum_rvkete7eb1ce2rvket  PtNum_rvket8cf55226rvket   476  surgery_1\n",
      "1216  PtNum_rvkete7eb1ce2rvket  PtNum_rvket8cf55226rvket   477  surgery_1\n",
      "1217  PtNum_rvkete7eb1ce2rvket  PtNum_rvket8cf55226rvket   478  surgery_1\n",
      "1218  PtNum_rvkete7eb1ce2rvket  PtNum_rvket8cf55226rvket   482  surgery_1\n",
      "1219  PtNum_rvkete7eb1ce2rvket  PtNum_rvket8cf55226rvket   483  surgery_1\n",
      "1220  PtNum_rvkete7eb1ce2rvket  PtNum_rvket8cf55226rvket   484  surgery_1\n",
      "1221  PtNum_rvkete7eb1ce2rvket  PtNum_rvket8cf55226rvket   485  surgery_1\n",
      "1222  PtNum_rvkete7eb1ce2rvket  PtNum_rvket8cf55226rvket   486  surgery_1\n",
      "1223  PtNum_rvkete7eb1ce2rvket  PtNum_rvket8cf55226rvket   487  surgery_1\n",
      "1224  PtNum_rvkete7eb1ce2rvket  PtNum_rvket8cf55226rvket   488  surgery_1\n",
      "1225  PtNum_rvkete7eb1ce2rvket  PtNum_rvket8cf55226rvket   489  surgery_1\n",
      "1226  PtNum_rvkete7eb1ce2rvket  PtNum_rvket8cf55226rvket   490  surgery_1\n",
      "1227  PtNum_rvkete7eb1ce2rvket  PtNum_rvket8cf55226rvket   491  surgery_1\n",
      "1228  PtNum_rvkete7eb1ce2rvket  PtNum_rvket8cf55226rvket   492  surgery_1\n",
      "1229  PtNum_rvkete7eb1ce2rvket  PtNum_rvket8cf55226rvket   493  surgery_1\n",
      "\n",
      "component 237\n",
      "                        source                    target  time        type\n",
      "1423  PtNum_rvketef15c89ervket  PtNum_rvket72ca1e60rvket   593  medicine_8\n",
      "1424  PtNum_rvketef15c89ervket  PtNum_rvket72ca1e60rvket   594  medicine_8\n",
      "1425  PtNum_rvketef15c89ervket  PtNum_rvket72ca1e60rvket   595  medicine_8\n",
      "1426  PtNum_rvketef15c89ervket  PtNum_rvket72ca1e60rvket   596  medicine_8\n",
      "1427  PtNum_rvketef15c89ervket  PtNum_rvket72ca1e60rvket   597  medicine_8\n",
      "1428  PtNum_rvketef15c89ervket  PtNum_rvket72ca1e60rvket   598  medicine_8\n",
      "1429  PtNum_rvketef15c89ervket  PtNum_rvket72ca1e60rvket   599  medicine_8\n",
      "1430  PtNum_rvketef15c89ervket  PtNum_rvket72ca1e60rvket   600  medicine_8\n",
      "1431  PtNum_rvketef15c89ervket  PtNum_rvket72ca1e60rvket   601  medicine_8\n",
      "1432  PtNum_rvketef15c89ervket  PtNum_rvket72ca1e60rvket   602  medicine_8\n",
      "1433  PtNum_rvketef15c89ervket  PtNum_rvket72ca1e60rvket   603  medicine_8\n",
      "1434  PtNum_rvketef15c89ervket  PtNum_rvket72ca1e60rvket   604  medicine_8\n",
      "1435  PtNum_rvketef15c89ervket  PtNum_rvket72ca1e60rvket   605  medicine_8\n",
      "1436  PtNum_rvketef15c89ervket  PtNum_rvket72ca1e60rvket   606  medicine_8\n",
      "1437  PtNum_rvketef15c89ervket  PtNum_rvket72ca1e60rvket   607  medicine_8\n",
      "1438  PtNum_rvketef15c89ervket  PtNum_rvket72ca1e60rvket   608  medicine_8\n",
      "1439  PtNum_rvketef15c89ervket  PtNum_rvket72ca1e60rvket   609  medicine_8\n",
      "\n",
      "component 205\n",
      "                        source                    target  time       type\n",
      "1178  PtNum_rvketc8e93273rvket  PtNum_rvket490b9fe7rvket   474  surgery_1\n",
      "1179  PtNum_rvketc8e93273rvket  PtNum_rvket490b9fe7rvket   475  surgery_1\n",
      "1180  PtNum_rvketc8e93273rvket  PtNum_rvket490b9fe7rvket   476  surgery_1\n",
      "1181  PtNum_rvketc8e93273rvket  PtNum_rvket490b9fe7rvket   477  surgery_1\n",
      "1182  PtNum_rvketc8e93273rvket  PtNum_rvket490b9fe7rvket   486  surgery_1\n",
      "1183  PtNum_rvketc8e93273rvket  PtNum_rvket490b9fe7rvket   487  surgery_1\n",
      "1184  PtNum_rvketc8e93273rvket  PtNum_rvket490b9fe7rvket   488  surgery_1\n",
      "1185  PtNum_rvketc8e93273rvket  PtNum_rvket490b9fe7rvket   489  surgery_1\n",
      "1186  PtNum_rvketc8e93273rvket  PtNum_rvket490b9fe7rvket   490  surgery_1\n",
      "1187  PtNum_rvketc8e93273rvket  PtNum_rvket490b9fe7rvket   491  surgery_1\n",
      "1188  PtNum_rvketc8e93273rvket  PtNum_rvket490b9fe7rvket   492  surgery_1\n",
      "1189  PtNum_rvketc8e93273rvket  PtNum_rvket490b9fe7rvket   493  surgery_1\n",
      "1190  PtNum_rvketc8e93273rvket  PtNum_rvket490b9fe7rvket   494  surgery_1\n",
      "1191  PtNum_rvketc8e93273rvket  PtNum_rvket490b9fe7rvket   495  surgery_1\n",
      "1192  PtNum_rvketc8e93273rvket  PtNum_rvket490b9fe7rvket   496  surgery_1\n",
      "1193  PtNum_rvketc8e93273rvket  PtNum_rvket490b9fe7rvket   497  surgery_1\n",
      "1194  PtNum_rvketc8e93273rvket  PtNum_rvket490b9fe7rvket   498  surgery_1\n",
      "\n",
      "component 244\n",
      "                        source                    target  time        type\n",
      "1506  PtNum_rvketfd449b7drvket  PtNum_rvket55e72642rvket   620  medicine_5\n",
      "1507  PtNum_rvketfd449b7drvket  PtNum_rvket55e72642rvket   621  medicine_5\n",
      "1508  PtNum_rvketfd449b7drvket  PtNum_rvket55e72642rvket   627  medicine_4\n",
      "1509  PtNum_rvketfd449b7drvket  PtNum_rvket55e72642rvket   628  medicine_4\n",
      "1510  PtNum_rvketfd449b7drvket  PtNum_rvket55e72642rvket   629  medicine_4\n",
      "1511  PtNum_rvketfd449b7drvket  PtNum_rvket55e72642rvket   630  medicine_4\n",
      "1512  PtNum_rvketfd449b7drvket  PtNum_rvket55e72642rvket   631  medicine_4\n",
      "1513  PtNum_rvketfd449b7drvket  PtNum_rvket55e72642rvket   632  medicine_4\n",
      "1514  PtNum_rvketfd449b7drvket  PtNum_rvket55e72642rvket   633  medicine_4\n",
      "1515  PtNum_rvketfd449b7drvket  PtNum_rvket55e72642rvket   634  medicine_4\n",
      "1516  PtNum_rvketfd449b7drvket  PtNum_rvket55e72642rvket   635  medicine_4\n",
      "1517  PtNum_rvketfd449b7drvket  PtNum_rvket55e72642rvket   636  medicine_4\n",
      "1518  PtNum_rvketfd449b7drvket  PtNum_rvket55e72642rvket   637  medicine_4\n",
      "1519  PtNum_rvketfd449b7drvket  PtNum_rvket55e72642rvket   638  medicine_4\n",
      "1520  PtNum_rvketfd449b7drvket  PtNum_rvket55e72642rvket   639  medicine_4\n",
      "1521  PtNum_rvketfd449b7drvket  PtNum_rvket55e72642rvket   640  medicine_4\n",
      "1522  PtNum_rvketfd449b7drvket  PtNum_rvket55e72642rvket   641  medicine_4\n",
      "\n",
      "component 247\n",
      "                        source                    target  time     type\n",
      "1567  PtNum_rvketd3267ce9rvket  PtNum_rvketc0eaca30rvket   620  renal_5\n",
      "1568  PtNum_rvketd3267ce9rvket  PtNum_rvketc0eaca30rvket   621  renal_5\n",
      "1569  PtNum_rvketd3267ce9rvket  PtNum_rvketc0eaca30rvket   622  renal_5\n",
      "1570  PtNum_rvketd3267ce9rvket  PtNum_rvketc0eaca30rvket   623  renal_5\n",
      "1571  PtNum_rvketd3267ce9rvket  PtNum_rvketc0eaca30rvket   624  renal_5\n",
      "1572  PtNum_rvketd3267ce9rvket  PtNum_rvketc0eaca30rvket   625  renal_5\n",
      "1573  PtNum_rvketd3267ce9rvket  PtNum_rvketc0eaca30rvket   626  renal_5\n",
      "1574  PtNum_rvketd3267ce9rvket  PtNum_rvketc0eaca30rvket   627  renal_5\n",
      "1575  PtNum_rvketd3267ce9rvket  PtNum_rvketc0eaca30rvket   628  renal_5\n",
      "1576  PtNum_rvketd3267ce9rvket  PtNum_rvketc0eaca30rvket   629  renal_5\n",
      "1577  PtNum_rvketd3267ce9rvket  PtNum_rvketc0eaca30rvket   630  renal_5\n",
      "1578  PtNum_rvketd3267ce9rvket  PtNum_rvketc0eaca30rvket   631  renal_5\n",
      "1579  PtNum_rvketd3267ce9rvket  PtNum_rvketc0eaca30rvket   632  renal_5\n",
      "1580  PtNum_rvketd3267ce9rvket  PtNum_rvketc0eaca30rvket   633  renal_5\n",
      "1581  PtNum_rvketd3267ce9rvket  PtNum_rvketc0eaca30rvket   634  renal_5\n",
      "\n",
      "component 30\n",
      "                       source                    target  time       type\n",
      "153  PtNum_rvketb1fd5603rvket  PtNum_rvket48c17ad6rvket    57  elderly_4\n",
      "154  PtNum_rvketb1fd5603rvket  PtNum_rvket48c17ad6rvket    58  elderly_4\n",
      "155  PtNum_rvketb1fd5603rvket  PtNum_rvket48c17ad6rvket    59  elderly_4\n",
      "156  PtNum_rvketb1fd5603rvket  PtNum_rvket48c17ad6rvket    60  elderly_4\n",
      "157  PtNum_rvketb1fd5603rvket  PtNum_rvket48c17ad6rvket    61  elderly_4\n",
      "158  PtNum_rvketb1fd5603rvket  PtNum_rvket48c17ad6rvket    62  elderly_4\n",
      "159  PtNum_rvketb1fd5603rvket  PtNum_rvket48c17ad6rvket    63  elderly_4\n",
      "160  PtNum_rvketb1fd5603rvket  PtNum_rvket48c17ad6rvket    64  elderly_4\n",
      "161  PtNum_rvketb1fd5603rvket  PtNum_rvket48c17ad6rvket    65  elderly_4\n",
      "162  PtNum_rvketb1fd5603rvket  PtNum_rvket48c17ad6rvket    66  elderly_4\n",
      "163  PtNum_rvketb1fd5603rvket  PtNum_rvket48c17ad6rvket    67  elderly_4\n",
      "164  PtNum_rvketb1fd5603rvket  PtNum_rvket48c17ad6rvket    68  elderly_4\n",
      "165  PtNum_rvketb1fd5603rvket  PtNum_rvket48c17ad6rvket    70  elderly_4\n",
      "166  PtNum_rvketb1fd5603rvket  PtNum_rvket48c17ad6rvket    71  elderly_4\n",
      "\n",
      "component 76\n",
      "                       source                    target  time        type\n",
      "457  PtNum_rvketace48150rvket  PtNum_rvketa2c72debrvket   138  medicine_4\n",
      "458  PtNum_rvketace48150rvket  PtNum_rvketa2c72debrvket   139  medicine_4\n",
      "459  PtNum_rvketace48150rvket  PtNum_rvketa2c72debrvket   140  medicine_4\n",
      "460  PtNum_rvketace48150rvket  PtNum_rvketa2c72debrvket   141  medicine_4\n",
      "461  PtNum_rvketace48150rvket  PtNum_rvketa2c72debrvket   142  medicine_4\n",
      "462  PtNum_rvketace48150rvket  PtNum_rvketa2c72debrvket   143  medicine_4\n",
      "463  PtNum_rvketace48150rvket  PtNum_rvketa2c72debrvket   144  medicine_4\n",
      "464  PtNum_rvketace48150rvket  PtNum_rvketa2c72debrvket   145  medicine_4\n",
      "465  PtNum_rvketace48150rvket  PtNum_rvketa2c72debrvket   146  medicine_4\n",
      "466  PtNum_rvketace48150rvket  PtNum_rvketa2c72debrvket   147  medicine_4\n",
      "467  PtNum_rvketace48150rvket  PtNum_rvketa2c72debrvket   148  medicine_4\n",
      "468  PtNum_rvketace48150rvket  PtNum_rvketa2c72debrvket   149  medicine_4\n",
      "\n",
      "component 38\n",
      "                       source                    target  time       type\n",
      "218  PtNum_rvketf4ff12f3rvket  PtNum_rvketb1fd5603rvket    58  elderly_4\n",
      "219  PtNum_rvketf4ff12f3rvket  PtNum_rvketb1fd5603rvket    59  elderly_4\n",
      "220  PtNum_rvketf4ff12f3rvket  PtNum_rvketb1fd5603rvket    60  elderly_4\n",
      "221  PtNum_rvketf4ff12f3rvket  PtNum_rvketb1fd5603rvket    61  elderly_4\n",
      "222  PtNum_rvketf4ff12f3rvket  PtNum_rvketb1fd5603rvket    62  elderly_4\n",
      "223  PtNum_rvketf4ff12f3rvket  PtNum_rvketb1fd5603rvket    63  elderly_4\n",
      "224  PtNum_rvketf4ff12f3rvket  PtNum_rvketb1fd5603rvket    64  elderly_4\n",
      "225  PtNum_rvketf4ff12f3rvket  PtNum_rvketb1fd5603rvket    65  elderly_4\n",
      "226  PtNum_rvketf4ff12f3rvket  PtNum_rvketb1fd5603rvket    66  elderly_4\n",
      "227  PtNum_rvketf4ff12f3rvket  PtNum_rvketb1fd5603rvket    67  elderly_4\n",
      "228  PtNum_rvketf4ff12f3rvket  PtNum_rvketb1fd5603rvket    68  elderly_4\n",
      "229  PtNum_rvketf4ff12f3rvket  PtNum_rvketb1fd5603rvket    70  elderly_4\n",
      "\n",
      "component 96\n",
      "                       source                    target  time       type\n",
      "605  PtNum_rvketd5163f69rvket  PtNum_rvketb018cbe8rvket   207  elderly_1\n",
      "606  PtNum_rvketd5163f69rvket  PtNum_rvketb018cbe8rvket   208  elderly_1\n",
      "607  PtNum_rvketd5163f69rvket  PtNum_rvketb018cbe8rvket   209  elderly_1\n",
      "608  PtNum_rvketd5163f69rvket  PtNum_rvketb018cbe8rvket   210  elderly_1\n",
      "609  PtNum_rvketd5163f69rvket  PtNum_rvketb018cbe8rvket   211  elderly_1\n",
      "610  PtNum_rvketd5163f69rvket  PtNum_rvketb018cbe8rvket   212  elderly_1\n",
      "611  PtNum_rvketd5163f69rvket  PtNum_rvketb018cbe8rvket   213  elderly_1\n",
      "612  PtNum_rvketd5163f69rvket  PtNum_rvketb018cbe8rvket   214  elderly_1\n",
      "613  PtNum_rvketd5163f69rvket  PtNum_rvketb018cbe8rvket   215  elderly_1\n",
      "614  PtNum_rvketd5163f69rvket  PtNum_rvketb018cbe8rvket   216  elderly_1\n",
      "615  PtNum_rvketd5163f69rvket  PtNum_rvketb018cbe8rvket   217  elderly_1\n",
      "\n",
      "component 93\n",
      "                       source                    target  time       type\n",
      "587  PtNum_rvketd5163f69rvket  PtNum_rvket6d319f37rvket   208  elderly_1\n",
      "588  PtNum_rvketd5163f69rvket  PtNum_rvket6d319f37rvket   209  elderly_1\n",
      "589  PtNum_rvketd5163f69rvket  PtNum_rvket6d319f37rvket   210  elderly_1\n",
      "590  PtNum_rvketd5163f69rvket  PtNum_rvket6d319f37rvket   211  elderly_1\n",
      "591  PtNum_rvketd5163f69rvket  PtNum_rvket6d319f37rvket   212  elderly_1\n",
      "592  PtNum_rvketd5163f69rvket  PtNum_rvket6d319f37rvket   213  elderly_1\n",
      "593  PtNum_rvketd5163f69rvket  PtNum_rvket6d319f37rvket   214  elderly_1\n",
      "594  PtNum_rvketd5163f69rvket  PtNum_rvket6d319f37rvket   215  elderly_1\n",
      "595  PtNum_rvketd5163f69rvket  PtNum_rvket6d319f37rvket   216  elderly_1\n",
      "596  PtNum_rvketd5163f69rvket  PtNum_rvket6d319f37rvket   217  elderly_1\n",
      "\n",
      "component 50\n",
      "                       source                    target  time         type\n",
      "309  PtNum_rvket99224f6drvket  PtNum_rvket601a5c4brvket    90  medicine_10\n",
      "310  PtNum_rvket99224f6drvket  PtNum_rvket601a5c4brvket    91  medicine_10\n",
      "311  PtNum_rvket99224f6drvket  PtNum_rvket601a5c4brvket    92  medicine_10\n",
      "312  PtNum_rvket99224f6drvket  PtNum_rvket601a5c4brvket    93  medicine_10\n",
      "313  PtNum_rvket99224f6drvket  PtNum_rvket601a5c4brvket    94  medicine_10\n",
      "314  PtNum_rvket99224f6drvket  PtNum_rvket601a5c4brvket    95  medicine_10\n",
      "315  PtNum_rvket99224f6drvket  PtNum_rvket601a5c4brvket    96  medicine_10\n",
      "316  PtNum_rvket99224f6drvket  PtNum_rvket601a5c4brvket    97  medicine_10\n",
      "317  PtNum_rvket99224f6drvket  PtNum_rvket601a5c4brvket    98  medicine_10\n",
      "\n",
      "component 242\n",
      "                        source                    target  time     type\n",
      "1466  PtNum_rvket9e236fcarvket  PtNum_rvket0ef37ce4rvket   637  renal_4\n",
      "1467  PtNum_rvket9e236fcarvket  PtNum_rvket0ef37ce4rvket   638  renal_4\n",
      "1468  PtNum_rvket9e236fcarvket  PtNum_rvket0ef37ce4rvket   639  renal_4\n",
      "1469  PtNum_rvket9e236fcarvket  PtNum_rvket0ef37ce4rvket   640  renal_4\n",
      "1470  PtNum_rvket9e236fcarvket  PtNum_rvket0ef37ce4rvket   641  renal_4\n",
      "1471  PtNum_rvket9e236fcarvket  PtNum_rvket0ef37ce4rvket   642  renal_4\n",
      "1472  PtNum_rvket9e236fcarvket  PtNum_rvket0ef37ce4rvket   643  renal_4\n",
      "1473  PtNum_rvket9e236fcarvket  PtNum_rvket0ef37ce4rvket   644  renal_4\n",
      "1474  PtNum_rvket9e236fcarvket  PtNum_rvket0ef37ce4rvket   645  renal_4\n",
      "\n",
      "component 235\n",
      "                        source                    target  time     type\n",
      "1393  PtNum_rvket39051a44rvket  PtNum_rvket21ba4b00rvket   610  renal_4\n",
      "1394  PtNum_rvket39051a44rvket  PtNum_rvket21ba4b00rvket   611  renal_4\n",
      "1395  PtNum_rvket39051a44rvket  PtNum_rvket21ba4b00rvket   612  renal_4\n",
      "1396  PtNum_rvket39051a44rvket  PtNum_rvket21ba4b00rvket   613  renal_4\n",
      "1397  PtNum_rvket39051a44rvket  PtNum_rvket21ba4b00rvket   614  renal_4\n",
      "1398  PtNum_rvket39051a44rvket  PtNum_rvket21ba4b00rvket   615  renal_4\n",
      "1399  PtNum_rvket39051a44rvket  PtNum_rvket21ba4b00rvket   616  renal_4\n",
      "1400  PtNum_rvket39051a44rvket  PtNum_rvket21ba4b00rvket   617  renal_4\n",
      "1401  PtNum_rvket39051a44rvket  PtNum_rvket21ba4b00rvket   618  renal_4\n",
      "\n",
      "component 134\n",
      "                       source                    target  time       type\n",
      "904  PtNum_rvketb949edbdrvket  PtNum_rvketa2c72debrvket   315  elderly_3\n",
      "905  PtNum_rvketb949edbdrvket  PtNum_rvketa2c72debrvket   316  elderly_3\n",
      "906  PtNum_rvketb949edbdrvket  PtNum_rvketa2c72debrvket   317  elderly_3\n",
      "907  PtNum_rvketb949edbdrvket  PtNum_rvketa2c72debrvket   318  elderly_3\n",
      "908  PtNum_rvketb949edbdrvket  PtNum_rvketa2c72debrvket   319  elderly_3\n",
      "909  PtNum_rvketb949edbdrvket  PtNum_rvketa2c72debrvket   320  elderly_1\n",
      "910  PtNum_rvketb949edbdrvket  PtNum_rvketa2c72debrvket   321  elderly_1\n",
      "911  PtNum_rvketb949edbdrvket  PtNum_rvketa2c72debrvket   322  elderly_1\n",
      "\n",
      "component 243\n",
      "                        source                    target  time     type\n",
      "1475  PtNum_rvket6720c4f2rvket  PtNum_rvket31a400a8rvket   641  renal_5\n",
      "1476  PtNum_rvket6720c4f2rvket  PtNum_rvket31a400a8rvket   642  renal_5\n",
      "1477  PtNum_rvket6720c4f2rvket  PtNum_rvket31a400a8rvket   643  renal_5\n",
      "1478  PtNum_rvket6720c4f2rvket  PtNum_rvket31a400a8rvket   644  renal_5\n",
      "1479  PtNum_rvket6720c4f2rvket  PtNum_rvket31a400a8rvket   645  renal_5\n",
      "1480  PtNum_rvket6720c4f2rvket  PtNum_rvket31a400a8rvket   646  renal_5\n",
      "1481  PtNum_rvket6720c4f2rvket  PtNum_rvket31a400a8rvket   647  renal_5\n",
      "1482  PtNum_rvket6720c4f2rvket  PtNum_rvket31a400a8rvket   648  renal_5\n",
      "\n",
      "component 231\n",
      "                        source                    target  time       type\n",
      "1353  PtNum_rvketf1a009cbrvket  PtNum_rvket5536d828rvket   576  surgery_1\n",
      "1354  PtNum_rvketf1a009cbrvket  PtNum_rvket5536d828rvket   577  surgery_1\n",
      "1355  PtNum_rvketf1a009cbrvket  PtNum_rvket5536d828rvket   578  surgery_1\n",
      "1356  PtNum_rvketf1a009cbrvket  PtNum_rvket5536d828rvket   579  surgery_1\n",
      "1357  PtNum_rvketf1a009cbrvket  PtNum_rvket5536d828rvket   580  surgery_1\n",
      "1358  PtNum_rvketf1a009cbrvket  PtNum_rvket5536d828rvket   581  surgery_1\n",
      "1359  PtNum_rvketf1a009cbrvket  PtNum_rvket5536d828rvket   582  surgery_1\n",
      "1360  PtNum_rvketf1a009cbrvket  PtNum_rvket5536d828rvket   583  surgery_1\n",
      "\n",
      "component 245\n",
      "                        source                    target  time     type\n",
      "1523  PtNum_rvketbaaf01b9rvket  PtNum_rvket6720c4f2rvket   641  renal_5\n",
      "1524  PtNum_rvketbaaf01b9rvket  PtNum_rvket6720c4f2rvket   642  renal_5\n",
      "1525  PtNum_rvketbaaf01b9rvket  PtNum_rvket6720c4f2rvket   643  renal_5\n",
      "1526  PtNum_rvketbaaf01b9rvket  PtNum_rvket6720c4f2rvket   644  renal_5\n",
      "1527  PtNum_rvketbaaf01b9rvket  PtNum_rvket6720c4f2rvket   645  renal_5\n",
      "1528  PtNum_rvketbaaf01b9rvket  PtNum_rvket6720c4f2rvket   646  renal_5\n",
      "1529  PtNum_rvketbaaf01b9rvket  PtNum_rvket6720c4f2rvket   647  renal_5\n",
      "1530  PtNum_rvketbaaf01b9rvket  PtNum_rvket6720c4f2rvket   648  renal_5\n",
      "\n",
      "component 230\n",
      "                        source                    target  time       type\n",
      "1345  PtNum_rvket79eef172rvket  PtNum_rvket5536d828rvket   572  surgery_1\n",
      "1346  PtNum_rvket79eef172rvket  PtNum_rvket5536d828rvket   573  surgery_1\n",
      "1347  PtNum_rvket79eef172rvket  PtNum_rvket5536d828rvket   574  surgery_1\n",
      "1348  PtNum_rvket79eef172rvket  PtNum_rvket5536d828rvket   575  surgery_1\n",
      "1349  PtNum_rvket79eef172rvket  PtNum_rvket5536d828rvket   576  surgery_1\n",
      "1350  PtNum_rvket79eef172rvket  PtNum_rvket5536d828rvket   577  surgery_1\n",
      "1351  PtNum_rvket79eef172rvket  PtNum_rvket5536d828rvket   578  surgery_1\n",
      "1352  PtNum_rvket79eef172rvket  PtNum_rvket5536d828rvket   579  surgery_1\n",
      "\n",
      "component 229\n",
      "                        source                    target  time       type\n",
      "1336  PtNum_rvketf1a009cbrvket  PtNum_rvket1e110e2frvket   576  surgery_1\n",
      "1337  PtNum_rvketf1a009cbrvket  PtNum_rvket1e110e2frvket   577  surgery_1\n",
      "1338  PtNum_rvketf1a009cbrvket  PtNum_rvket1e110e2frvket   578  surgery_1\n",
      "1339  PtNum_rvketf1a009cbrvket  PtNum_rvket1e110e2frvket   579  surgery_1\n",
      "1340  PtNum_rvketf1a009cbrvket  PtNum_rvket1e110e2frvket   580  surgery_1\n",
      "1341  PtNum_rvketf1a009cbrvket  PtNum_rvket1e110e2frvket   581  surgery_1\n",
      "1342  PtNum_rvketf1a009cbrvket  PtNum_rvket1e110e2frvket   582  surgery_1\n",
      "1343  PtNum_rvketf1a009cbrvket  PtNum_rvket1e110e2frvket   583  surgery_1\n",
      "\n",
      "component 49\n",
      "                       source                    target  time           type\n",
      "296  PtNum_rvket877ba4e2rvket  PtNum_rvket5319d8e2rvket    83  haematology_1\n",
      "297  PtNum_rvket877ba4e2rvket  PtNum_rvket5319d8e2rvket    84  haematology_1\n",
      "298  PtNum_rvket877ba4e2rvket  PtNum_rvket5319d8e2rvket    85  haematology_1\n",
      "299  PtNum_rvket877ba4e2rvket  PtNum_rvket5319d8e2rvket    86  haematology_1\n",
      "300  PtNum_rvket877ba4e2rvket  PtNum_rvket5319d8e2rvket    93  haematology_1\n",
      "301  PtNum_rvket877ba4e2rvket  PtNum_rvket5319d8e2rvket    94  haematology_1\n",
      "302  PtNum_rvket877ba4e2rvket  PtNum_rvket5319d8e2rvket    95  haematology_1\n",
      "303  PtNum_rvket877ba4e2rvket  PtNum_rvket5319d8e2rvket    96  haematology_1\n",
      "\n",
      "component 228\n",
      "                        source                    target  time         type\n",
      "1302  PtNum_rvketf3ad67abrvket  PtNum_rvketb8a3d8ddrvket   543  medicine_17\n",
      "1303  PtNum_rvketf3ad67abrvket  PtNum_rvketb8a3d8ddrvket   544  medicine_17\n",
      "1304  PtNum_rvketf3ad67abrvket  PtNum_rvketb8a3d8ddrvket   545  medicine_17\n",
      "1305  PtNum_rvketf3ad67abrvket  PtNum_rvketb8a3d8ddrvket   546  medicine_17\n",
      "1306  PtNum_rvketf3ad67abrvket  PtNum_rvketb8a3d8ddrvket   547  medicine_17\n",
      "1307  PtNum_rvketf3ad67abrvket  PtNum_rvketb8a3d8ddrvket   548  medicine_17\n",
      "1308  PtNum_rvketf3ad67abrvket  PtNum_rvketb8a3d8ddrvket   549  medicine_17\n",
      "1309  PtNum_rvketf3ad67abrvket  PtNum_rvketb8a3d8ddrvket   550  medicine_17\n",
      "\n",
      "component 145\n",
      "                       source                    target  time         type\n",
      "948  PtNum_rvket7bbc76bfrvket  PtNum_rvket41c74626rvket   358  medicine_13\n",
      "949  PtNum_rvket7bbc76bfrvket  PtNum_rvket41c74626rvket   359  medicine_13\n",
      "950  PtNum_rvket7bbc76bfrvket  PtNum_rvket41c74626rvket   360  medicine_13\n",
      "951  PtNum_rvket7bbc76bfrvket  PtNum_rvket41c74626rvket   361  medicine_13\n",
      "952  PtNum_rvket7bbc76bfrvket  PtNum_rvket41c74626rvket   362  medicine_13\n",
      "953  PtNum_rvket7bbc76bfrvket  PtNum_rvket41c74626rvket   363  medicine_13\n",
      "954  PtNum_rvket7bbc76bfrvket  PtNum_rvket41c74626rvket   364  medicine_13\n",
      "\n",
      "component 144\n",
      "                       source                    target  time     type\n",
      "941  PtNum_rvketda4c99eervket  PtNum_rvket37a1e9d9rvket   354  renal_4\n",
      "942  PtNum_rvketda4c99eervket  PtNum_rvket37a1e9d9rvket   355  renal_4\n",
      "943  PtNum_rvketda4c99eervket  PtNum_rvket37a1e9d9rvket   356  renal_4\n",
      "944  PtNum_rvketda4c99eervket  PtNum_rvket37a1e9d9rvket   357  renal_4\n",
      "945  PtNum_rvketda4c99eervket  PtNum_rvket37a1e9d9rvket   358  renal_4\n",
      "946  PtNum_rvketda4c99eervket  PtNum_rvket37a1e9d9rvket   359  renal_4\n",
      "\n",
      "component 35\n",
      "                       source                    target  time     type\n",
      "196  PtNum_rvketcf640db6rvket  PtNum_rvket572ddf2crvket    67  renal_5\n",
      "197  PtNum_rvketcf640db6rvket  PtNum_rvket572ddf2crvket    68  renal_5\n",
      "198  PtNum_rvketcf640db6rvket  PtNum_rvket572ddf2crvket    69  renal_5\n",
      "199  PtNum_rvketcf640db6rvket  PtNum_rvket572ddf2crvket    70  renal_5\n",
      "200  PtNum_rvketcf640db6rvket  PtNum_rvket572ddf2crvket    71  renal_5\n",
      "201  PtNum_rvketcf640db6rvket  PtNum_rvket572ddf2crvket    72  renal_5\n",
      "\n",
      "component 16\n",
      "                      source                    target  time     type\n",
      "91  PtNum_rvketf7edac1ervket  PtNum_rvketb391c088rvket    21  renal_1\n",
      "92  PtNum_rvketf7edac1ervket  PtNum_rvketb391c088rvket    27  renal_5\n",
      "93  PtNum_rvketf7edac1ervket  PtNum_rvketb391c088rvket    28  renal_5\n",
      "94  PtNum_rvketf7edac1ervket  PtNum_rvketb391c088rvket    29  renal_5\n",
      "95  PtNum_rvketf7edac1ervket  PtNum_rvketb391c088rvket    30  renal_5\n",
      "96  PtNum_rvketf7edac1ervket  PtNum_rvketb391c088rvket    31  renal_5\n",
      "\n",
      "component 121\n",
      "                       source                    target  time       type\n",
      "818  PtNum_rvketa2c72debrvket  PtNum_rvket5ddb953crvket   309  elderly_3\n",
      "819  PtNum_rvketa2c72debrvket  PtNum_rvket5ddb953crvket   310  elderly_3\n",
      "820  PtNum_rvketa2c72debrvket  PtNum_rvket5ddb953crvket   311  elderly_3\n",
      "821  PtNum_rvketa2c72debrvket  PtNum_rvket5ddb953crvket   312  elderly_3\n",
      "822  PtNum_rvketa2c72debrvket  PtNum_rvket5ddb953crvket   313  elderly_3\n",
      "823  PtNum_rvketa2c72debrvket  PtNum_rvket5ddb953crvket   314  elderly_3\n",
      "\n",
      "component 24\n",
      "                       source                    target  time           type\n",
      "127  PtNum_rvket7cd753bfrvket  PtNum_rvket1e71c2f2rvket    66  haematology_4\n",
      "128  PtNum_rvket7cd753bfrvket  PtNum_rvket1e71c2f2rvket    67  haematology_4\n",
      "129  PtNum_rvket7cd753bfrvket  PtNum_rvket1e71c2f2rvket    68  haematology_4\n",
      "130  PtNum_rvket7cd753bfrvket  PtNum_rvket1e71c2f2rvket    70  haematology_4\n",
      "131  PtNum_rvket7cd753bfrvket  PtNum_rvket1e71c2f2rvket    71  haematology_4\n",
      "132  PtNum_rvket7cd753bfrvket  PtNum_rvket1e71c2f2rvket    72  haematology_4\n",
      "\n",
      "component 119\n",
      "                       source                    target  time       type\n",
      "799  PtNum_rvketa2c72debrvket  PtNum_rvket5121184frvket   309  elderly_3\n",
      "800  PtNum_rvketa2c72debrvket  PtNum_rvket5121184frvket   310  elderly_3\n",
      "801  PtNum_rvketa2c72debrvket  PtNum_rvket5121184frvket   311  elderly_3\n",
      "802  PtNum_rvketa2c72debrvket  PtNum_rvket5121184frvket   312  elderly_3\n",
      "803  PtNum_rvketa2c72debrvket  PtNum_rvket5121184frvket   313  elderly_3\n",
      "804  PtNum_rvketa2c72debrvket  PtNum_rvket5121184frvket   314  elderly_3\n",
      "\n",
      "component 67\n",
      "                       source                    target  time        type\n",
      "398  PtNum_rvketd462317brvket  PtNum_rvketba1eba60rvket   111  oncology_2\n",
      "399  PtNum_rvketd462317brvket  PtNum_rvketba1eba60rvket   112  oncology_2\n",
      "400  PtNum_rvketd462317brvket  PtNum_rvketba1eba60rvket   113  oncology_2\n",
      "401  PtNum_rvketd462317brvket  PtNum_rvketba1eba60rvket   114  oncology_2\n",
      "402  PtNum_rvketd462317brvket  PtNum_rvketba1eba60rvket   115  oncology_2\n",
      "403  PtNum_rvketd462317brvket  PtNum_rvketba1eba60rvket   116  oncology_2\n",
      "\n",
      "component 149\n",
      "                       source                    target  time     type\n",
      "975  PtNum_rvketfa70b283rvket  PtNum_rvketcecb9896rvket   353  renal_5\n",
      "976  PtNum_rvketfa70b283rvket  PtNum_rvketcecb9896rvket   354  renal_5\n",
      "977  PtNum_rvketfa70b283rvket  PtNum_rvketcecb9896rvket   355  renal_5\n",
      "978  PtNum_rvketfa70b283rvket  PtNum_rvketcecb9896rvket   356  renal_5\n",
      "979  PtNum_rvketfa70b283rvket  PtNum_rvketcecb9896rvket   357  renal_5\n",
      "980  PtNum_rvketfa70b283rvket  PtNum_rvketcecb9896rvket   358  renal_5\n",
      "\n",
      "component 52\n",
      "                       source                    target  time       type\n",
      "327  PtNum_rvket7faafcbcrvket  PtNum_rvket7d4d6a57rvket    73  surgery_1\n",
      "328  PtNum_rvket7faafcbcrvket  PtNum_rvket7d4d6a57rvket    81  surgery_1\n",
      "329  PtNum_rvket7faafcbcrvket  PtNum_rvket7d4d6a57rvket    83  surgery_1\n",
      "330  PtNum_rvket7faafcbcrvket  PtNum_rvket7d4d6a57rvket    84  surgery_1\n",
      "331  PtNum_rvket7faafcbcrvket  PtNum_rvket7d4d6a57rvket    85  surgery_1\n",
      "332  PtNum_rvket7faafcbcrvket  PtNum_rvket7d4d6a57rvket    86  surgery_1\n",
      "\n",
      "component 95\n",
      "                       source                    target  time       type\n",
      "599  PtNum_rvkete70df4abrvket  PtNum_rvket983eff0drvket   200  elderly_1\n",
      "600  PtNum_rvkete70df4abrvket  PtNum_rvket983eff0drvket   201  elderly_1\n",
      "601  PtNum_rvkete70df4abrvket  PtNum_rvket983eff0drvket   202  elderly_1\n",
      "602  PtNum_rvkete70df4abrvket  PtNum_rvket983eff0drvket   203  elderly_1\n",
      "603  PtNum_rvkete70df4abrvket  PtNum_rvket983eff0drvket   204  elderly_1\n",
      "\n",
      "component 113\n",
      "                       source                    target  time        type\n",
      "736  PtNum_rvketc4676aeervket  PtNum_rvket67200050rvket   263  medicine_6\n",
      "737  PtNum_rvketc4676aeervket  PtNum_rvket67200050rvket   264  medicine_6\n",
      "738  PtNum_rvketc4676aeervket  PtNum_rvket67200050rvket   265  medicine_6\n",
      "739  PtNum_rvketc4676aeervket  PtNum_rvket67200050rvket   266  medicine_6\n",
      "740  PtNum_rvketc4676aeervket  PtNum_rvket67200050rvket   267  medicine_6\n",
      "\n",
      "component 103\n",
      "                       source                    target  time        type\n",
      "676  PtNum_rvketb43e5c37rvket  PtNum_rvket61f2344arvket   224  oncology_2\n",
      "677  PtNum_rvketb43e5c37rvket  PtNum_rvket61f2344arvket   225  oncology_2\n",
      "678  PtNum_rvketb43e5c37rvket  PtNum_rvket61f2344arvket   226  oncology_2\n",
      "679  PtNum_rvketb43e5c37rvket  PtNum_rvket61f2344arvket   227  oncology_2\n",
      "680  PtNum_rvketb43e5c37rvket  PtNum_rvket61f2344arvket   228  oncology_2\n",
      "\n",
      "component 41\n",
      "                       source                    target  time     type\n",
      "238  PtNum_rvketfa70b283rvket  PtNum_rvketcf640db6rvket    67  renal_5\n",
      "239  PtNum_rvketfa70b283rvket  PtNum_rvketcf640db6rvket    68  renal_5\n",
      "240  PtNum_rvketfa70b283rvket  PtNum_rvketcf640db6rvket    69  renal_5\n",
      "241  PtNum_rvketfa70b283rvket  PtNum_rvketcf640db6rvket    70  renal_5\n",
      "242  PtNum_rvketfa70b283rvket  PtNum_rvketcf640db6rvket    71  renal_5\n"
     ]
    }
   ],
   "source": [
    "for ix, component in enumerate(cluster_1.index):\n",
    "    print('')\n",
    "    print(f'component {component}')\n",
    "    component = filtered.events[filtered.events_meta.component == component]\n",
    "    print(component)"
   ]
  },
  {
   "cell_type": "code",
   "execution_count": 89,
   "metadata": {},
   "outputs": [
    {
     "data": {
      "text/html": [
       "<div>\n",
       "<style scoped>\n",
       "    .dataframe tbody tr th:only-of-type {\n",
       "        vertical-align: middle;\n",
       "    }\n",
       "\n",
       "    .dataframe tbody tr th {\n",
       "        vertical-align: top;\n",
       "    }\n",
       "\n",
       "    .dataframe thead th {\n",
       "        text-align: right;\n",
       "    }\n",
       "</style>\n",
       "<table border=\"1\" class=\"dataframe\">\n",
       "  <thead>\n",
       "    <tr style=\"text-align: right;\">\n",
       "      <th></th>\n",
       "      <th>source</th>\n",
       "      <th>target</th>\n",
       "      <th>time</th>\n",
       "      <th>type</th>\n",
       "    </tr>\n",
       "  </thead>\n",
       "  <tbody>\n",
       "    <tr>\n",
       "      <th>1416</th>\n",
       "      <td>PtNum_rvket7a8132a6rvket</td>\n",
       "      <td>PtNum_rvket39051a44rvket</td>\n",
       "      <td>614</td>\n",
       "      <td>renal_4</td>\n",
       "    </tr>\n",
       "  </tbody>\n",
       "</table>\n",
       "</div>"
      ],
      "text/plain": [
       "                        source                    target  time     type\n",
       "1416  PtNum_rvket7a8132a6rvket  PtNum_rvket39051a44rvket   614  renal_4"
      ]
     },
     "execution_count": 89,
     "metadata": {},
     "output_type": "execute_result"
    }
   ],
   "source": [
    "df.loc[[1416]] "
   ]
  },
  {
   "cell_type": "code",
   "execution_count": 80,
   "metadata": {},
   "outputs": [
    {
     "name": "stdout",
     "output_type": "stream",
     "text": [
      "                        source                    target  time     type\n",
      "1412  PtNum_rvket7a8132a6rvket  PtNum_rvket39051a44rvket   610  renal_4\n",
      "                        source                    target  time     type\n",
      "1413  PtNum_rvket7a8132a6rvket  PtNum_rvket39051a44rvket   611  renal_4\n",
      "                        source                    target  time     type\n",
      "1414  PtNum_rvket7a8132a6rvket  PtNum_rvket39051a44rvket   612  renal_4\n",
      "                        source                    target  time     type\n",
      "1415  PtNum_rvket7a8132a6rvket  PtNum_rvket39051a44rvket   613  renal_4\n",
      "                        source                    target  time     type\n",
      "1416  PtNum_rvket7a8132a6rvket  PtNum_rvket39051a44rvket   614  renal_4\n",
      "                        source                    target  time     type\n",
      "1417  PtNum_rvket7a8132a6rvket  PtNum_rvket39051a44rvket   615  renal_4\n",
      "                        source                    target  time     type\n",
      "1418  PtNum_rvket7a8132a6rvket  PtNum_rvket39051a44rvket   616  renal_4\n",
      "                        source                    target  time     type\n",
      "1419  PtNum_rvket7a8132a6rvket  PtNum_rvket39051a44rvket   617  renal_4\n",
      "                        source                    target  time     type\n",
      "1420  PtNum_rvket7a8132a6rvket  PtNum_rvket39051a44rvket   618  renal_4\n",
      "                        source                    target  time     type\n",
      "1421  PtNum_rvket7a8132a6rvket  PtNum_rvket39051a44rvket   619  renal_4\n"
     ]
    }
   ],
   "source": [
    "for i in range(1412, 1422):\n",
    "    print(df.loc[[i]])"
   ]
  },
  {
   "cell_type": "code",
   "execution_count": 81,
   "metadata": {},
   "outputs": [
    {
     "name": "stdout",
     "output_type": "stream",
     "text": [
      "                        source                    target  time        type\n",
      "1497  PtNum_rvket7a8132a6rvket  PtNum_rvket39051a44rvket   620     renal_4\n",
      "1506  PtNum_rvketfd449b7drvket  PtNum_rvket55e72642rvket   620  medicine_5\n"
     ]
    }
   ],
   "source": [
    "print(df.loc[[1497,1506]])"
   ]
  },
  {
   "cell_type": "code",
   "execution_count": 82,
   "metadata": {},
   "outputs": [],
   "source": [
    "comp_41_nx = comp_41.create_networkx_event_graph()"
   ]
  },
  {
   "cell_type": "code",
   "execution_count": 83,
   "metadata": {},
   "outputs": [
    {
     "name": "stdout",
     "output_type": "stream",
     "text": [
      "[]\n"
     ]
    }
   ],
   "source": [
    "save_graph_with_colour(comp_41_nx, 'comp_41.png')"
   ]
  },
  {
   "cell_type": "code",
   "execution_count": 84,
   "metadata": {
    "scrolled": true
   },
   "outputs": [
    {
     "name": "stdout",
     "output_type": "stream",
     "text": [
      "238\n"
     ]
    }
   ],
   "source": [
    "comp_41_lst = []\n",
    "for i in range(238, 239):\n",
    "    s = df.loc[i].name\n",
    "    print(s)"
   ]
  },
  {
   "cell_type": "code",
   "execution_count": 85,
   "metadata": {},
   "outputs": [],
   "source": [
    "d = []\n",
    "for i in range(238, 243):\n",
    "    item = df.loc[i]\n",
    "    d.append(\n",
    "        {\n",
    "            'Event': item.name,\n",
    "            'Source': item.source,\n",
    "            'Target':  item.target,\n",
    "            'Time': item.time,\n",
    "            'Type': item.type\n",
    "        }\n",
    "    )\n",
    "\n",
    "comp_41_df = pd.DataFrame(d)"
   ]
  },
  {
   "cell_type": "code",
   "execution_count": 86,
   "metadata": {
    "scrolled": true
   },
   "outputs": [
    {
     "name": "stdout",
     "output_type": "stream",
     "text": [
      "\\begin{tabular}{lrllrl}\n",
      "\\toprule\n",
      "{} &  Event &                    Source &                    Target &  Time &     Type \\\\\n",
      "\\midrule\n",
      "0 &    238 &  PtNum\\_rvketfa70b283rvket &  PtNum\\_rvketcf640db6rvket &    67 &  renal\\_5 \\\\\n",
      "1 &    239 &  PtNum\\_rvketfa70b283rvket &  PtNum\\_rvketcf640db6rvket &    68 &  renal\\_5 \\\\\n",
      "2 &    240 &  PtNum\\_rvketfa70b283rvket &  PtNum\\_rvketcf640db6rvket &    69 &  renal\\_5 \\\\\n",
      "3 &    241 &  PtNum\\_rvketfa70b283rvket &  PtNum\\_rvketcf640db6rvket &    70 &  renal\\_5 \\\\\n",
      "4 &    242 &  PtNum\\_rvketfa70b283rvket &  PtNum\\_rvketcf640db6rvket &    71 &  renal\\_5 \\\\\n",
      "\\bottomrule\n",
      "\\end{tabular}\n",
      "\n"
     ]
    }
   ],
   "source": [
    "print(comp_41_df.to_latex())"
   ]
  },
  {
   "cell_type": "markdown",
   "metadata": {},
   "source": [
    "<img src = 'comp_41.png'>"
   ]
  },
  {
   "cell_type": "code",
   "execution_count": 87,
   "metadata": {},
   "outputs": [],
   "source": [
    "comp_246_nx = comp_246.create_networkx_event_graph()"
   ]
  },
  {
   "cell_type": "code",
   "execution_count": 88,
   "metadata": {},
   "outputs": [],
   "source": [
    "save_graph(comp_246_nx, 'comp_246.png')"
   ]
  },
  {
   "cell_type": "markdown",
   "metadata": {},
   "source": [
    "<img src = 'comp_246.png'>"
   ]
  },
  {
   "cell_type": "markdown",
   "metadata": {},
   "source": [
    "## Cluster 2"
   ]
  },
  {
   "cell_type": "code",
   "execution_count": 89,
   "metadata": {},
   "outputs": [],
   "source": [
    "cluster_2 = clusters[clusters == 2] # all components in cluster 2"
   ]
  },
  {
   "cell_type": "code",
   "execution_count": 90,
   "metadata": {},
   "outputs": [
    {
     "data": {
      "text/plain": [
       "197    2\n",
       "3      2\n",
       "123    2\n",
       "4      2\n",
       "185    2\n",
       "196    2\n",
       "120    2\n",
       "84     2\n",
       "dtype: int64"
      ]
     },
     "execution_count": 90,
     "metadata": {},
     "output_type": "execute_result"
    }
   ],
   "source": [
    "cluster_2"
   ]
  },
  {
   "cell_type": "code",
   "execution_count": 91,
   "metadata": {},
   "outputs": [
    {
     "data": {
      "text/plain": [
       "2    8\n",
       "dtype: int64"
      ]
     },
     "execution_count": 91,
     "metadata": {},
     "output_type": "execute_result"
    }
   ],
   "source": [
    "cluster_2.value_counts()"
   ]
  },
  {
   "cell_type": "code",
   "execution_count": 92,
   "metadata": {},
   "outputs": [
    {
     "data": {
      "text/plain": [
       "<EventGraph with 7 nodes, 25 events, and 24 edges (status: built)>"
      ]
     },
     "execution_count": 92,
     "metadata": {},
     "output_type": "execute_result"
    }
   ],
   "source": [
    "comp_197 = components[197]\n",
    "comp_197"
   ]
  },
  {
   "cell_type": "code",
   "execution_count": 115,
   "metadata": {},
   "outputs": [
    {
     "data": {
      "text/plain": [
       "<EventGraph with 5 nodes, 21 events, and 20 edges (status: built)>"
      ]
     },
     "execution_count": 115,
     "metadata": {},
     "output_type": "execute_result"
    }
   ],
   "source": [
    "comp_3 = components[3]\n",
    "comp_3"
   ]
  },
  {
   "cell_type": "code",
   "execution_count": 116,
   "metadata": {},
   "outputs": [
    {
     "data": {
      "text/plain": [
       "<EventGraph with 3 nodes, 20 events, and 19 edges (status: built)>"
      ]
     },
     "execution_count": 116,
     "metadata": {},
     "output_type": "execute_result"
    }
   ],
   "source": [
    "comp_123 = components[123]\n",
    "comp_123"
   ]
  },
  {
   "cell_type": "code",
   "execution_count": 117,
   "metadata": {},
   "outputs": [
    {
     "data": {
      "text/plain": [
       "<EventGraph with 3 nodes, 10 events, and 9 edges (status: built)>"
      ]
     },
     "execution_count": 117,
     "metadata": {},
     "output_type": "execute_result"
    }
   ],
   "source": [
    "comp_84 = components[84]\n",
    "comp_84"
   ]
  },
  {
   "cell_type": "code",
   "execution_count": 118,
   "metadata": {
    "scrolled": true
   },
   "outputs": [
    {
     "name": "stdout",
     "output_type": "stream",
     "text": [
      "\n",
      "component 197\n",
      "                        source                    target  time       type\n",
      "1129  PtNum_rvketc8e93273rvket  PtNum_rvket03ec9a12rvket   496  surgery_1\n",
      "1130  PtNum_rvketc8e93273rvket  PtNum_rvket03ec9a12rvket   497  surgery_1\n",
      "1131  PtNum_rvketc8e93273rvket  PtNum_rvket03ec9a12rvket   498  surgery_1\n",
      "1195  PtNum_rvketce767afcrvket  PtNum_rvket490b9fe7rvket   482  surgery_1\n",
      "1196  PtNum_rvketce767afcrvket  PtNum_rvket490b9fe7rvket   483  surgery_1\n",
      "1197  PtNum_rvketce767afcrvket  PtNum_rvket490b9fe7rvket   484  surgery_1\n",
      "1198  PtNum_rvketce767afcrvket  PtNum_rvket490b9fe7rvket   485  surgery_1\n",
      "1199  PtNum_rvketde1f4e58rvket  PtNum_rvket490b9fe7rvket   486  surgery_1\n",
      "1200  PtNum_rvketde1f4e58rvket  PtNum_rvket490b9fe7rvket   487  surgery_1\n",
      "1201  PtNum_rvketde1f4e58rvket  PtNum_rvket490b9fe7rvket   488  surgery_1\n",
      "1202  PtNum_rvketde1f4e58rvket  PtNum_rvket490b9fe7rvket   489  surgery_1\n",
      "1203  PtNum_rvketce767afcrvket  PtNum_rvket5536d828rvket   494  surgery_1\n",
      "1204  PtNum_rvketce767afcrvket  PtNum_rvket5536d828rvket   495  surgery_1\n",
      "1205  PtNum_rvketce767afcrvket  PtNum_rvket5536d828rvket   496  surgery_1\n",
      "1206  PtNum_rvketce767afcrvket  PtNum_rvket5536d828rvket   497  surgery_1\n",
      "1207  PtNum_rvketce767afcrvket  PtNum_rvket5536d828rvket   498  surgery_1\n",
      "1234  PtNum_rvket490b9fe7rvket  PtNum_rvket03ec9a12rvket   499  surgery_1\n",
      "1235  PtNum_rvket490b9fe7rvket  PtNum_rvket03ec9a12rvket   500  surgery_1\n",
      "1243  PtNum_rvketce767afcrvket  PtNum_rvket03ec9a12rvket   501  surgery_1\n",
      "1253  PtNum_rvketc8e93273rvket  PtNum_rvket490b9fe7rvket   499  surgery_1\n",
      "1254  PtNum_rvketc8e93273rvket  PtNum_rvket490b9fe7rvket   500  surgery_1\n",
      "1257  PtNum_rvketce767afcrvket  PtNum_rvket5536d828rvket   499  surgery_1\n",
      "1258  PtNum_rvketce767afcrvket  PtNum_rvket5536d828rvket   500  surgery_1\n",
      "1270  PtNum_rvketce767afcrvket  PtNum_rvketc8e93273rvket   501  surgery_1\n",
      "1272  PtNum_rvket5536d828rvket  PtNum_rvket14059ec6rvket   540  surgery_1\n",
      "\n",
      "component 3\n",
      "                      source                    target  time             type\n",
      "5   PtNum_rvket36b6c726rvket  PtNum_rvket32c9befbrvket    10        surgery_1\n",
      "6   PtNum_rvket36b6c726rvket  PtNum_rvket32c9befbrvket    11        surgery_1\n",
      "7   PtNum_rvket7af75684rvket  PtNum_rvket36b6c726rvket     3  critical care_5\n",
      "8   PtNum_rvket7af75684rvket  PtNum_rvket36b6c726rvket     4  critical care_5\n",
      "9   PtNum_rvket7af75684rvket  PtNum_rvket36b6c726rvket     9  critical care_5\n",
      "35  PtNum_rvket36b6c726rvket  PtNum_rvket32c9befbrvket    12        surgery_1\n",
      "36  PtNum_rvket36b6c726rvket  PtNum_rvket32c9befbrvket    13        surgery_1\n",
      "37  PtNum_rvket36b6c726rvket  PtNum_rvket32c9befbrvket    14        surgery_1\n",
      "38  PtNum_rvket36b6c726rvket  PtNum_rvket32c9befbrvket    15        surgery_1\n",
      "39  PtNum_rvket6bdfe7a2rvket  PtNum_rvket32c9befbrvket    16        surgery_1\n",
      "40  PtNum_rvket7af75684rvket  PtNum_rvket32c9befbrvket    12        surgery_1\n",
      "41  PtNum_rvket7af75684rvket  PtNum_rvket32c9befbrvket    13        surgery_1\n",
      "42  PtNum_rvket7af75684rvket  PtNum_rvket32c9befbrvket    14        surgery_1\n",
      "43  PtNum_rvket7af75684rvket  PtNum_rvket32c9befbrvket    15        surgery_1\n",
      "44  PtNum_rvket7af75684rvket  PtNum_rvket32c9befbrvket    16        surgery_1\n",
      "45  PtNum_rvket8ae03addrvket  PtNum_rvket32c9befbrvket    17        surgery_8\n",
      "46  PtNum_rvket8ae03addrvket  PtNum_rvket32c9befbrvket    18        surgery_8\n",
      "47  PtNum_rvket8ae03addrvket  PtNum_rvket32c9befbrvket    19        surgery_8\n",
      "48  PtNum_rvket8ae03addrvket  PtNum_rvket32c9befbrvket    20        surgery_8\n",
      "49  PtNum_rvket8ae03addrvket  PtNum_rvket32c9befbrvket    21        surgery_8\n",
      "50  PtNum_rvket8ae03addrvket  PtNum_rvket32c9befbrvket    22        surgery_8\n",
      "\n",
      "component 123\n",
      "                       source                    target  time        type\n",
      "840  PtNum_rvketb949edbdrvket  PtNum_rvketa2c72debrvket   305  medicine_3\n",
      "841  PtNum_rvketb949edbdrvket  PtNum_rvketa2c72debrvket   306  medicine_3\n",
      "842  PtNum_rvketb949edbdrvket  PtNum_rvketa2c72debrvket   307  medicine_3\n",
      "843  PtNum_rvketb949edbdrvket  PtNum_rvketa2c72debrvket   310   elderly_3\n",
      "844  PtNum_rvketb949edbdrvket  PtNum_rvketa2c72debrvket   311   elderly_3\n",
      "845  PtNum_rvketb949edbdrvket  PtNum_rvketa2c72debrvket   312   elderly_3\n",
      "846  PtNum_rvketb949edbdrvket  PtNum_rvketa2c72debrvket   313   elderly_3\n",
      "847  PtNum_rvketb949edbdrvket  PtNum_rvketa2c72debrvket   314   elderly_3\n",
      "866  PtNum_rvketa2c72debrvket  PtNum_rvket5121184frvket   315   elderly_3\n",
      "867  PtNum_rvketa2c72debrvket  PtNum_rvket5121184frvket   316   elderly_3\n",
      "868  PtNum_rvketa2c72debrvket  PtNum_rvket5121184frvket   317   elderly_3\n",
      "869  PtNum_rvketa2c72debrvket  PtNum_rvket5121184frvket   318   elderly_3\n",
      "870  PtNum_rvketa2c72debrvket  PtNum_rvket5121184frvket   319   elderly_3\n",
      "871  PtNum_rvketa2c72debrvket  PtNum_rvket5121184frvket   320   elderly_1\n",
      "872  PtNum_rvketb949edbdrvket  PtNum_rvket5121184frvket   315   elderly_3\n",
      "873  PtNum_rvketb949edbdrvket  PtNum_rvket5121184frvket   316   elderly_3\n",
      "874  PtNum_rvketb949edbdrvket  PtNum_rvket5121184frvket   317   elderly_3\n",
      "875  PtNum_rvketb949edbdrvket  PtNum_rvket5121184frvket   318   elderly_3\n",
      "876  PtNum_rvketb949edbdrvket  PtNum_rvket5121184frvket   319   elderly_3\n",
      "877  PtNum_rvketb949edbdrvket  PtNum_rvket5121184frvket   320   elderly_1\n",
      "\n",
      "component 4\n",
      "                       source                    target  time           type\n",
      "10   PtNum_rvketf77fe232rvket  PtNum_rvket6162c7f4rvket     4  haematology_1\n",
      "11   PtNum_rvketf77fe232rvket  PtNum_rvket6162c7f4rvket     9  haematology_1\n",
      "12   PtNum_rvketf77fe232rvket  PtNum_rvket6162c7f4rvket    10  haematology_1\n",
      "13   PtNum_rvketf77fe232rvket  PtNum_rvket6162c7f4rvket    11  haematology_1\n",
      "62   PtNum_rvketf77fe232rvket  PtNum_rvket6162c7f4rvket    12  haematology_1\n",
      "63   PtNum_rvketf77fe232rvket  PtNum_rvket6162c7f4rvket    13  haematology_1\n",
      "64   PtNum_rvketf77fe232rvket  PtNum_rvket6162c7f4rvket    14  haematology_1\n",
      "65   PtNum_rvketf77fe232rvket  PtNum_rvket6162c7f4rvket    15  haematology_1\n",
      "66   PtNum_rvketf77fe232rvket  PtNum_rvket6162c7f4rvket    16  haematology_1\n",
      "67   PtNum_rvketf77fe232rvket  PtNum_rvket6162c7f4rvket    17  haematology_1\n",
      "348  PtNum_rvketf77fe232rvket  PtNum_rvketdf68c2bcrvket    86        renal_1\n",
      "394  PtNum_rvketdf68c2bcrvket  PtNum_rvket685ff51drvket   131        Ward_na\n",
      "395  PtNum_rvketdf68c2bcrvket  PtNum_rvket685ff51drvket   132        Ward_na\n",
      "396  PtNum_rvketdf68c2bcrvket  PtNum_rvket685ff51drvket   133        Ward_na\n",
      "450  PtNum_rvketa3d6496ervket  PtNum_rvket685ff51drvket   148        Ward_na\n",
      "470  PtNum_rvketdf68c2bcrvket  PtNum_rvketa3d6496ervket   137        Ward_na\n",
      "\n",
      "component 185\n",
      "                        source                    target  time       type\n",
      "1068  PtNum_rvket7ef9d95drvket  PtNum_rvket2b8961efrvket   423  elderly_4\n",
      "1069  PtNum_rvket7ef9d95drvket  PtNum_rvket2b8961efrvket   424  elderly_4\n",
      "1070  PtNum_rvket7ef9d95drvket  PtNum_rvket2b8961efrvket   425  elderly_4\n",
      "1071  PtNum_rvket7ef9d95drvket  PtNum_rvket2b8961efrvket   426  elderly_4\n",
      "1072  PtNum_rvket7ef9d95drvket  PtNum_rvket2b8961efrvket   427  elderly_4\n",
      "1073  PtNum_rvket7ef9d95drvket  PtNum_rvket2b8961efrvket   428  elderly_4\n",
      "1125  PtNum_rvkete7eb1ce2rvket  PtNum_rvket8cf55226rvket   467  surgery_1\n",
      "1138  PtNum_rvket8cf55226rvket  PtNum_rvket2b8961efrvket   491  surgery_1\n",
      "1139  PtNum_rvket8cf55226rvket  PtNum_rvket2b8961efrvket   492  surgery_1\n",
      "1140  PtNum_rvket8cf55226rvket  PtNum_rvket2b8961efrvket   493  surgery_1\n",
      "1141  PtNum_rvkete7eb1ce2rvket  PtNum_rvket2b8961efrvket   491  surgery_1\n",
      "1142  PtNum_rvkete7eb1ce2rvket  PtNum_rvket2b8961efrvket   492  surgery_1\n",
      "1143  PtNum_rvkete7eb1ce2rvket  PtNum_rvket2b8961efrvket   493  surgery_1\n",
      "1144  PtNum_rvkete7eb1ce2rvket  PtNum_rvket2b8961efrvket   494  surgery_1\n",
      "1145  PtNum_rvkete7eb1ce2rvket  PtNum_rvket2b8961efrvket   495  surgery_1\n",
      "\n",
      "component 196\n",
      "                        source                    target  time       type\n",
      "1124  PtNum_rvketde1f4e58rvket  PtNum_rvket5a8ce635rvket   466  surgery_1\n",
      "1162  PtNum_rvket5a8ce635rvket  PtNum_rvket4168a9f6rvket   468  surgery_1\n",
      "1163  PtNum_rvket5a8ce635rvket  PtNum_rvket4168a9f6rvket   469  surgery_1\n",
      "1164  PtNum_rvket5a8ce635rvket  PtNum_rvket4168a9f6rvket   486  surgery_1\n",
      "1165  PtNum_rvket5a8ce635rvket  PtNum_rvket4168a9f6rvket   487  surgery_1\n",
      "1169  PtNum_rvketce767afcrvket  PtNum_rvket4168a9f6rvket   482  surgery_1\n",
      "1170  PtNum_rvketce767afcrvket  PtNum_rvket4168a9f6rvket   483  surgery_1\n",
      "1171  PtNum_rvketce767afcrvket  PtNum_rvket4168a9f6rvket   484  surgery_1\n",
      "1172  PtNum_rvketce767afcrvket  PtNum_rvket4168a9f6rvket   485  surgery_1\n",
      "1173  PtNum_rvketde1f4e58rvket  PtNum_rvket4168a9f6rvket   486  surgery_1\n",
      "1174  PtNum_rvketde1f4e58rvket  PtNum_rvket4168a9f6rvket   487  surgery_1\n",
      "1175  PtNum_rvketde1f4e58rvket  PtNum_rvket4168a9f6rvket   488  surgery_1\n",
      "1278  PtNum_rvketa23605d0rvket  PtNum_rvket4168a9f6rvket   530  surgery_1\n",
      "\n",
      "component 120\n",
      "                       source                    target  time       type\n",
      "805  PtNum_rvketb949edbdrvket  PtNum_rvket5121184frvket   310  elderly_3\n",
      "806  PtNum_rvketb949edbdrvket  PtNum_rvket5121184frvket   311  elderly_3\n",
      "807  PtNum_rvketb949edbdrvket  PtNum_rvket5121184frvket   312  elderly_3\n",
      "808  PtNum_rvketb949edbdrvket  PtNum_rvket5121184frvket   313  elderly_3\n",
      "809  PtNum_rvketb949edbdrvket  PtNum_rvket5121184frvket   314  elderly_3\n",
      "824  PtNum_rvketb949edbdrvket  PtNum_rvket5ddb953crvket   310  elderly_3\n",
      "825  PtNum_rvketb949edbdrvket  PtNum_rvket5ddb953crvket   311  elderly_3\n",
      "826  PtNum_rvketb949edbdrvket  PtNum_rvket5ddb953crvket   312  elderly_3\n",
      "827  PtNum_rvketb949edbdrvket  PtNum_rvket5ddb953crvket   313  elderly_3\n",
      "828  PtNum_rvketb949edbdrvket  PtNum_rvket5ddb953crvket   314  elderly_3\n",
      "864  PtNum_rvket5ddb953crvket  PtNum_rvket5121184frvket   315  elderly_3\n",
      "865  PtNum_rvket5ddb953crvket  PtNum_rvket5121184frvket   316  elderly_3\n",
      "\n",
      "component 84\n",
      "                       source                    target  time        type\n",
      "543  PtNum_rvketb43e5c37rvket  PtNum_rvket2a2cab77rvket   221  oncology_2\n",
      "544  PtNum_rvketb43e5c37rvket  PtNum_rvket2a2cab77rvket   222  oncology_2\n",
      "545  PtNum_rvketb43e5c37rvket  PtNum_rvket2a2cab77rvket   223  oncology_2\n",
      "571  PtNum_rvketb43e5c37rvket  PtNum_rvket61f2344arvket   221  oncology_2\n",
      "572  PtNum_rvketb43e5c37rvket  PtNum_rvket61f2344arvket   222  oncology_2\n",
      "573  PtNum_rvketb43e5c37rvket  PtNum_rvket61f2344arvket   223  oncology_2\n",
      "644  PtNum_rvket61f2344arvket  PtNum_rvket2a2cab77rvket   224  oncology_2\n",
      "645  PtNum_rvket61f2344arvket  PtNum_rvket2a2cab77rvket   225  oncology_2\n",
      "646  PtNum_rvketb43e5c37rvket  PtNum_rvket2a2cab77rvket   224  oncology_2\n",
      "647  PtNum_rvketb43e5c37rvket  PtNum_rvket2a2cab77rvket   225  oncology_2\n"
     ]
    }
   ],
   "source": [
    "for ix, component in enumerate(cluster_2.index):\n",
    "    print('')\n",
    "    print(f'component {component}')\n",
    "    component = filtered.events[filtered.events_meta.component == component]\n",
    "    print(component)"
   ]
  },
  {
   "cell_type": "markdown",
   "metadata": {},
   "source": [
    "## 197 "
   ]
  },
  {
   "cell_type": "code",
   "execution_count": 119,
   "metadata": {},
   "outputs": [],
   "source": [
    "comp_197_nx = comp_197.create_networkx_event_graph()"
   ]
  },
  {
   "cell_type": "code",
   "execution_count": 120,
   "metadata": {},
   "outputs": [
    {
     "name": "stdout",
     "output_type": "stream",
     "text": [
      "[]\n"
     ]
    }
   ],
   "source": [
    "save_graph_with_colour(comp_197_nx, 'comp_197_nx.png')"
   ]
  },
  {
   "cell_type": "markdown",
   "metadata": {},
   "source": [
    "<img src = 'comp_197_nx.png'>"
   ]
  },
  {
   "cell_type": "code",
   "execution_count": 121,
   "metadata": {},
   "outputs": [
    {
     "name": "stdout",
     "output_type": "stream",
     "text": [
      "                        source                    target  time       type\n",
      "1129  PtNum_rvketc8e93273rvket  PtNum_rvket03ec9a12rvket   496  surgery_1\n",
      "                        source                    target  time       type\n",
      "1130  PtNum_rvketc8e93273rvket  PtNum_rvket03ec9a12rvket   497  surgery_1\n",
      "                        source                    target  time       type\n",
      "1131  PtNum_rvketc8e93273rvket  PtNum_rvket03ec9a12rvket   498  surgery_1\n"
     ]
    }
   ],
   "source": [
    "for i in range(1129, 1132):\n",
    "    print(df.loc[[i]])"
   ]
  },
  {
   "cell_type": "code",
   "execution_count": 122,
   "metadata": {},
   "outputs": [
    {
     "name": "stdout",
     "output_type": "stream",
     "text": [
      "                        source                    target  time       type\n",
      "1195  PtNum_rvketce767afcrvket  PtNum_rvket490b9fe7rvket   482  surgery_1\n",
      "                        source                    target  time       type\n",
      "1196  PtNum_rvketce767afcrvket  PtNum_rvket490b9fe7rvket   483  surgery_1\n",
      "                        source                    target  time       type\n",
      "1197  PtNum_rvketce767afcrvket  PtNum_rvket490b9fe7rvket   484  surgery_1\n",
      "                        source                    target  time       type\n",
      "1198  PtNum_rvketce767afcrvket  PtNum_rvket490b9fe7rvket   485  surgery_1\n",
      "                        source                    target  time       type\n",
      "1199  PtNum_rvketde1f4e58rvket  PtNum_rvket490b9fe7rvket   486  surgery_1\n",
      "                        source                    target  time       type\n",
      "1200  PtNum_rvketde1f4e58rvket  PtNum_rvket490b9fe7rvket   487  surgery_1\n",
      "                        source                    target  time       type\n",
      "1201  PtNum_rvketde1f4e58rvket  PtNum_rvket490b9fe7rvket   488  surgery_1\n",
      "                        source                    target  time       type\n",
      "1202  PtNum_rvketde1f4e58rvket  PtNum_rvket490b9fe7rvket   489  surgery_1\n"
     ]
    }
   ],
   "source": [
    "for i in range(1195, 1203):\n",
    "    print(df.loc[[i]])"
   ]
  },
  {
   "cell_type": "code",
   "execution_count": 123,
   "metadata": {},
   "outputs": [
    {
     "name": "stdout",
     "output_type": "stream",
     "text": [
      "                        source                    target  time       type\n",
      "1203  PtNum_rvketce767afcrvket  PtNum_rvket5536d828rvket   494  surgery_1\n",
      "                        source                    target  time       type\n",
      "1204  PtNum_rvketce767afcrvket  PtNum_rvket5536d828rvket   495  surgery_1\n",
      "                        source                    target  time       type\n",
      "1205  PtNum_rvketce767afcrvket  PtNum_rvket5536d828rvket   496  surgery_1\n",
      "                        source                    target  time       type\n",
      "1206  PtNum_rvketce767afcrvket  PtNum_rvket5536d828rvket   497  surgery_1\n",
      "                        source                    target  time       type\n",
      "1207  PtNum_rvketce767afcrvket  PtNum_rvket5536d828rvket   498  surgery_1\n"
     ]
    }
   ],
   "source": [
    "for i in range(1203, 1208):\n",
    "    print(df.loc[[i]])"
   ]
  },
  {
   "cell_type": "code",
   "execution_count": 124,
   "metadata": {},
   "outputs": [
    {
     "name": "stdout",
     "output_type": "stream",
     "text": [
      "                        source                    target  time       type\n",
      "1234  PtNum_rvket490b9fe7rvket  PtNum_rvket03ec9a12rvket   499  surgery_1\n",
      "                        source                    target  time       type\n",
      "1235  PtNum_rvket490b9fe7rvket  PtNum_rvket03ec9a12rvket   500  surgery_1\n"
     ]
    }
   ],
   "source": [
    "for i in range(1234, 1236):\n",
    "    print(df.loc[[i]])"
   ]
  },
  {
   "cell_type": "markdown",
   "metadata": {},
   "source": [
    "## 123"
   ]
  },
  {
   "cell_type": "code",
   "execution_count": 125,
   "metadata": {},
   "outputs": [],
   "source": [
    "comp_123_nx = comp_123.create_networkx_event_graph()"
   ]
  },
  {
   "cell_type": "code",
   "execution_count": 126,
   "metadata": {},
   "outputs": [
    {
     "name": "stdout",
     "output_type": "stream",
     "text": [
      "[]\n"
     ]
    }
   ],
   "source": [
    "save_graph_with_colour(comp_123_nx, 'comp_123_nx.png')"
   ]
  },
  {
   "cell_type": "markdown",
   "metadata": {},
   "source": [
    "<img src = 'comp_123_nx.png'>"
   ]
  },
  {
   "cell_type": "code",
   "execution_count": 127,
   "metadata": {},
   "outputs": [
    {
     "name": "stdout",
     "output_type": "stream",
     "text": [
      "                       source                    target  time        type\n",
      "840  PtNum_rvketb949edbdrvket  PtNum_rvketa2c72debrvket   305  medicine_3\n",
      "                       source                    target  time        type\n",
      "841  PtNum_rvketb949edbdrvket  PtNum_rvketa2c72debrvket   306  medicine_3\n",
      "                       source                    target  time        type\n",
      "842  PtNum_rvketb949edbdrvket  PtNum_rvketa2c72debrvket   307  medicine_3\n",
      "                       source                    target  time       type\n",
      "843  PtNum_rvketb949edbdrvket  PtNum_rvketa2c72debrvket   310  elderly_3\n",
      "                       source                    target  time       type\n",
      "844  PtNum_rvketb949edbdrvket  PtNum_rvketa2c72debrvket   311  elderly_3\n",
      "                       source                    target  time       type\n",
      "845  PtNum_rvketb949edbdrvket  PtNum_rvketa2c72debrvket   312  elderly_3\n",
      "                       source                    target  time       type\n",
      "846  PtNum_rvketb949edbdrvket  PtNum_rvketa2c72debrvket   313  elderly_3\n",
      "                       source                    target  time       type\n",
      "847  PtNum_rvketb949edbdrvket  PtNum_rvketa2c72debrvket   314  elderly_3\n"
     ]
    }
   ],
   "source": [
    "for i in range(840, 848):\n",
    "    print(df.loc[[i]])"
   ]
  },
  {
   "cell_type": "code",
   "execution_count": 128,
   "metadata": {},
   "outputs": [
    {
     "name": "stdout",
     "output_type": "stream",
     "text": [
      "                       source                    target  time       type\n",
      "866  PtNum_rvketa2c72debrvket  PtNum_rvket5121184frvket   315  elderly_3\n",
      "                       source                    target  time       type\n",
      "867  PtNum_rvketa2c72debrvket  PtNum_rvket5121184frvket   316  elderly_3\n",
      "                       source                    target  time       type\n",
      "868  PtNum_rvketa2c72debrvket  PtNum_rvket5121184frvket   317  elderly_3\n",
      "                       source                    target  time       type\n",
      "869  PtNum_rvketa2c72debrvket  PtNum_rvket5121184frvket   318  elderly_3\n",
      "                       source                    target  time       type\n",
      "870  PtNum_rvketa2c72debrvket  PtNum_rvket5121184frvket   319  elderly_3\n",
      "                       source                    target  time       type\n",
      "871  PtNum_rvketa2c72debrvket  PtNum_rvket5121184frvket   320  elderly_1\n"
     ]
    }
   ],
   "source": [
    "for i in range(866, 872):\n",
    "    print(df.loc[[i]])"
   ]
  },
  {
   "cell_type": "code",
   "execution_count": 129,
   "metadata": {},
   "outputs": [
    {
     "name": "stdout",
     "output_type": "stream",
     "text": [
      "                       source                    target  time       type\n",
      "872  PtNum_rvketb949edbdrvket  PtNum_rvket5121184frvket   315  elderly_3\n",
      "                       source                    target  time       type\n",
      "873  PtNum_rvketb949edbdrvket  PtNum_rvket5121184frvket   316  elderly_3\n",
      "                       source                    target  time       type\n",
      "874  PtNum_rvketb949edbdrvket  PtNum_rvket5121184frvket   317  elderly_3\n",
      "                       source                    target  time       type\n",
      "875  PtNum_rvketb949edbdrvket  PtNum_rvket5121184frvket   318  elderly_3\n",
      "                       source                    target  time       type\n",
      "876  PtNum_rvketb949edbdrvket  PtNum_rvket5121184frvket   319  elderly_3\n",
      "                       source                    target  time       type\n",
      "877  PtNum_rvketb949edbdrvket  PtNum_rvket5121184frvket   320  elderly_1\n"
     ]
    }
   ],
   "source": [
    "for i in range(872, 878):\n",
    "    print(df.loc[[i]])"
   ]
  },
  {
   "cell_type": "code",
   "execution_count": 130,
   "metadata": {},
   "outputs": [
    {
     "data": {
      "text/html": [
       "<div>\n",
       "<style scoped>\n",
       "    .dataframe tbody tr th:only-of-type {\n",
       "        vertical-align: middle;\n",
       "    }\n",
       "\n",
       "    .dataframe tbody tr th {\n",
       "        vertical-align: top;\n",
       "    }\n",
       "\n",
       "    .dataframe thead th {\n",
       "        text-align: right;\n",
       "    }\n",
       "</style>\n",
       "<table border=\"1\" class=\"dataframe\">\n",
       "  <thead>\n",
       "    <tr style=\"text-align: right;\">\n",
       "      <th></th>\n",
       "      <th>source</th>\n",
       "      <th>target</th>\n",
       "      <th>time</th>\n",
       "      <th>type</th>\n",
       "    </tr>\n",
       "  </thead>\n",
       "  <tbody>\n",
       "    <tr>\n",
       "      <th>878</th>\n",
       "      <td>PtNum_rvketc94166b0rvket</td>\n",
       "      <td>PtNum_rvket55cd3274rvket</td>\n",
       "      <td>315</td>\n",
       "      <td>Ward_na</td>\n",
       "    </tr>\n",
       "  </tbody>\n",
       "</table>\n",
       "</div>"
      ],
      "text/plain": [
       "                       source                    target  time     type\n",
       "878  PtNum_rvketc94166b0rvket  PtNum_rvket55cd3274rvket   315  Ward_na"
      ]
     },
     "execution_count": 130,
     "metadata": {},
     "output_type": "execute_result"
    }
   ],
   "source": [
    "df.loc[[878]]"
   ]
  },
  {
   "cell_type": "markdown",
   "metadata": {},
   "source": [
    "## Cluster 3"
   ]
  },
  {
   "cell_type": "code",
   "execution_count": 131,
   "metadata": {},
   "outputs": [],
   "source": [
    "cluster_3 = clusters[clusters == 3] # all components in cluster 3"
   ]
  },
  {
   "cell_type": "code",
   "execution_count": 132,
   "metadata": {
    "scrolled": true
   },
   "outputs": [
    {
     "data": {
      "text/plain": [
       "87     3\n",
       "62     3\n",
       "18     3\n",
       "241    3\n",
       "58     3\n",
       "45     3\n",
       "216    3\n",
       "114    3\n",
       "7      3\n",
       "248    3\n",
       "129    3\n",
       "dtype: int64"
      ]
     },
     "execution_count": 132,
     "metadata": {},
     "output_type": "execute_result"
    }
   ],
   "source": [
    "cluster_3"
   ]
  },
  {
   "cell_type": "code",
   "execution_count": 133,
   "metadata": {
    "scrolled": true
   },
   "outputs": [
    {
     "data": {
      "text/plain": [
       "3    11\n",
       "dtype: int64"
      ]
     },
     "execution_count": 133,
     "metadata": {},
     "output_type": "execute_result"
    }
   ],
   "source": [
    "cluster_3.value_counts()"
   ]
  },
  {
   "cell_type": "code",
   "execution_count": 134,
   "metadata": {},
   "outputs": [
    {
     "data": {
      "text/plain": [
       "<EventGraph with 13 nodes, 34 events, and 33 edges (status: built)>"
      ]
     },
     "execution_count": 134,
     "metadata": {},
     "output_type": "execute_result"
    }
   ],
   "source": [
    "comp_87 = components[87]\n",
    "comp_87"
   ]
  },
  {
   "cell_type": "code",
   "execution_count": 135,
   "metadata": {},
   "outputs": [
    {
     "data": {
      "text/plain": [
       "<EventGraph with 9 nodes, 31 events, and 30 edges (status: built)>"
      ]
     },
     "execution_count": 135,
     "metadata": {},
     "output_type": "execute_result"
    }
   ],
   "source": [
    "comp_62 = components[62]\n",
    "comp_62"
   ]
  },
  {
   "cell_type": "code",
   "execution_count": 136,
   "metadata": {},
   "outputs": [
    {
     "data": {
      "text/plain": [
       "<EventGraph with 5 nodes, 15 events, and 15 edges (status: built)>"
      ]
     },
     "execution_count": 136,
     "metadata": {},
     "output_type": "execute_result"
    }
   ],
   "source": [
    "comp_18 = components[18]\n",
    "comp_18"
   ]
  },
  {
   "cell_type": "code",
   "execution_count": 137,
   "metadata": {},
   "outputs": [
    {
     "data": {
      "text/plain": [
       "<EventGraph with 4 nodes, 7 events, and 6 edges (status: built)>"
      ]
     },
     "execution_count": 137,
     "metadata": {},
     "output_type": "execute_result"
    }
   ],
   "source": [
    "comp_248 = components[248]\n",
    "comp_248"
   ]
  },
  {
   "cell_type": "code",
   "execution_count": 138,
   "metadata": {},
   "outputs": [
    {
     "data": {
      "text/plain": [
       "<EventGraph with 5 nodes, 5 events, and 4 edges (status: built)>"
      ]
     },
     "execution_count": 138,
     "metadata": {},
     "output_type": "execute_result"
    }
   ],
   "source": [
    "comp_129 = components[129]\n",
    "comp_129"
   ]
  },
  {
   "cell_type": "code",
   "execution_count": 139,
   "metadata": {
    "scrolled": true
   },
   "outputs": [
    {
     "name": "stdout",
     "output_type": "stream",
     "text": [
      "\n",
      "component 87\n",
      "                       source                    target  time           type\n",
      "563  PtNum_rvket6b02399frvket  PtNum_rvket4faa1d73rvket   211        renal_5\n",
      "597  PtNum_rvketb391c088rvket  PtNum_rvket85701936rvket   205        renal_1\n",
      "616  PtNum_rvketbd699529rvket  PtNum_rvketb391c088rvket   208        renal_2\n",
      "617  PtNum_rvketc1168143rvket  PtNum_rvketbd699529rvket   211        renal_2\n",
      "618  PtNum_rvketfa70b283rvket  PtNum_rvketbd699529rvket   212        renal_2\n",
      "655  PtNum_rvket8c5c189arvket  PtNum_rvket4faa1d73rvket   229        Ward_na\n",
      "656  PtNum_rvketbd699529rvket  PtNum_rvket4faa1d73rvket   231        renal_3\n",
      "657  PtNum_rvketbd699529rvket  PtNum_rvket4faa1d73rvket   232        renal_3\n",
      "658  PtNum_rvketbd699529rvket  PtNum_rvket4faa1d73rvket   245        renal_3\n",
      "659  PtNum_rvketbd699529rvket  PtNum_rvket4faa1d73rvket   246        renal_3\n",
      "661  PtNum_rvket8c5c189arvket  PtNum_rvket5536d828rvket   240        Ward_na\n",
      "662  PtNum_rvket8c5c189arvket  PtNum_rvket5536d828rvket   241        Ward_na\n",
      "663  PtNum_rvket8c5c189arvket  PtNum_rvket5536d828rvket   243        Ward_na\n",
      "664  PtNum_rvket8c5c189arvket  PtNum_rvket5536d828rvket   244        Ward_na\n",
      "665  PtNum_rvket8c5c189arvket  PtNum_rvket5536d828rvket   245        Ward_na\n",
      "666  PtNum_rvket8c5c189arvket  PtNum_rvket5536d828rvket   246        Ward_na\n",
      "667  PtNum_rvket8c5c189arvket  PtNum_rvket5536d828rvket   247        Ward_na\n",
      "668  PtNum_rvket8c5c189arvket  PtNum_rvket5536d828rvket   248        Ward_na\n",
      "669  PtNum_rvket8c5c189arvket  PtNum_rvket5536d828rvket   249        Ward_na\n",
      "762  PtNum_rvket85701936rvket  PtNum_rvket05c6a10arvket   287  haematology_3\n",
      "763  PtNum_rvket4faa1d73rvket  PtNum_rvket19f14bd8rvket   293        renal_3\n",
      "764  PtNum_rvket4faa1d73rvket  PtNum_rvket19f14bd8rvket   294        renal_3\n",
      "765  PtNum_rvket4faa1d73rvket  PtNum_rvket19f14bd8rvket   295        renal_3\n",
      "766  PtNum_rvket4faa1d73rvket  PtNum_rvket19f14bd8rvket   296        renal_3\n",
      "767  PtNum_rvket4faa1d73rvket  PtNum_rvket19f14bd8rvket   297        renal_3\n",
      "768  PtNum_rvket4faa1d73rvket  PtNum_rvket19f14bd8rvket   298        renal_3\n",
      "769  PtNum_rvket4faa1d73rvket  PtNum_rvket19f14bd8rvket   299        renal_3\n",
      "851  PtNum_rvketbd699529rvket  PtNum_rvket21d0b773rvket   326      elderly_4\n",
      "852  PtNum_rvketbd699529rvket  PtNum_rvket21d0b773rvket   327      elderly_4\n",
      "853  PtNum_rvketbd699529rvket  PtNum_rvket21d0b773rvket   328      elderly_4\n",
      "854  PtNum_rvketbd699529rvket  PtNum_rvket21d0b773rvket   329      elderly_4\n",
      "855  PtNum_rvketbd699529rvket  PtNum_rvket21d0b773rvket   330      elderly_4\n",
      "856  PtNum_rvketbd699529rvket  PtNum_rvket21d0b773rvket   331      elderly_4\n",
      "947  PtNum_rvket85701936rvket  PtNum_rvket41b670c3rvket   358  haematology_3\n",
      "\n",
      "component 62\n",
      "                       source                    target  time           type\n",
      "362  PtNum_rvket61f2344arvket  PtNum_rvket253f82dbrvket   112     oncology_2\n",
      "363  PtNum_rvket61f2344arvket  PtNum_rvket253f82dbrvket   113     oncology_2\n",
      "364  PtNum_rvket61f2344arvket  PtNum_rvket253f82dbrvket   114     oncology_2\n",
      "365  PtNum_rvket61f2344arvket  PtNum_rvket253f82dbrvket   115     oncology_2\n",
      "392  PtNum_rvket9bd252d5rvket  PtNum_rvket61f2344arvket   121  respiratory_2\n",
      "393  PtNum_rvket9bd252d5rvket  PtNum_rvket61f2344arvket   122  respiratory_2\n",
      "419  PtNum_rvket41233dc3rvket  PtNum_rvket2a2cab77rvket   162     surgery_12\n",
      "420  PtNum_rvket41233dc3rvket  PtNum_rvket2a2cab77rvket   163     surgery_12\n",
      "421  PtNum_rvket41233dc3rvket  PtNum_rvket2a2cab77rvket   164     surgery_12\n",
      "426  PtNum_rvket9bd252d5rvket  PtNum_rvket3c61c1aarvket   150  respiratory_2\n",
      "427  PtNum_rvket9bd252d5rvket  PtNum_rvket3c61c1aarvket   151  respiratory_2\n",
      "439  PtNum_rvket7d4e3793rvket  PtNum_rvket61f2344arvket   134   cardiology_4\n",
      "440  PtNum_rvket7d4e3793rvket  PtNum_rvket61f2344arvket   135   cardiology_4\n",
      "441  PtNum_rvket9c12e357rvket  PtNum_rvket61f2344arvket   137   cardiology_4\n",
      "442  PtNum_rvket9c12e357rvket  PtNum_rvket61f2344arvket   138   cardiology_4\n",
      "443  PtNum_rvket9c12e357rvket  PtNum_rvket61f2344arvket   139   cardiology_4\n",
      "444  PtNum_rvket9c12e357rvket  PtNum_rvket61f2344arvket   140   cardiology_4\n",
      "445  PtNum_rvket9c12e357rvket  PtNum_rvket61f2344arvket   141   cardiology_4\n",
      "446  PtNum_rvket9c12e357rvket  PtNum_rvket61f2344arvket   142   cardiology_4\n",
      "488  PtNum_rvket41233dc3rvket  PtNum_rvket2a2cab77rvket   165     surgery_12\n",
      "489  PtNum_rvket41233dc3rvket  PtNum_rvket2a2cab77rvket   166     surgery_12\n",
      "490  PtNum_rvket41233dc3rvket  PtNum_rvket2a2cab77rvket   167     surgery_12\n",
      "491  PtNum_rvket41233dc3rvket  PtNum_rvket2a2cab77rvket   168     surgery_12\n",
      "492  PtNum_rvket41233dc3rvket  PtNum_rvket2a2cab77rvket   169     surgery_12\n",
      "493  PtNum_rvket41233dc3rvket  PtNum_rvket2a2cab77rvket   170     surgery_12\n",
      "495  PtNum_rvket61f2344arvket  PtNum_rvket57fffafervket   173    medicine_21\n",
      "496  PtNum_rvket61f2344arvket  PtNum_rvket57fffafervket   174    medicine_21\n",
      "539  PtNum_rvket61f2344arvket  PtNum_rvket2a2cab77rvket   220     oncology_2\n",
      "540  PtNum_rvket61f2344arvket  PtNum_rvket2a2cab77rvket   221     oncology_2\n",
      "541  PtNum_rvket61f2344arvket  PtNum_rvket2a2cab77rvket   222     oncology_2\n",
      "542  PtNum_rvket61f2344arvket  PtNum_rvket2a2cab77rvket   223     oncology_2\n",
      "\n",
      "component 18\n",
      "                       source                    target  time             type\n",
      "98   PtNum_rvketdebc387brvket  PtNum_rvketd5182fc6rvket    30        surgery_1\n",
      "99   PtNum_rvketdebc387brvket  PtNum_rvketd5182fc6rvket    31        surgery_1\n",
      "213  PtNum_rvketdebc387brvket  PtNum_rvket7d4d6a57rvket    42        surgery_1\n",
      "214  PtNum_rvketdebc387brvket  PtNum_rvket7d4d6a57rvket    43        surgery_1\n",
      "243  PtNum_rvketdebc387brvket  PtNum_rvketd5182fc6rvket    60        surgery_1\n",
      "244  PtNum_rvketdebc387brvket  PtNum_rvketd5182fc6rvket    61        surgery_1\n",
      "245  PtNum_rvketdebc387brvket  PtNum_rvketd5182fc6rvket    62        surgery_1\n",
      "246  PtNum_rvketdebc387brvket  PtNum_rvketd5182fc6rvket    63        surgery_1\n",
      "249  PtNum_rvket50308607rvket  PtNum_rvket10a8381frvket    78  critical care_5\n",
      "250  PtNum_rvket7d4d6a57rvket  PtNum_rvket10a8381frvket    80        surgery_1\n",
      "251  PtNum_rvket7d4d6a57rvket  PtNum_rvket10a8381frvket    81        surgery_1\n",
      "252  PtNum_rvket7d4d6a57rvket  PtNum_rvket10a8381frvket    83        surgery_1\n",
      "253  PtNum_rvket7d4d6a57rvket  PtNum_rvket10a8381frvket    84        surgery_1\n",
      "254  PtNum_rvket7d4d6a57rvket  PtNum_rvket10a8381frvket    85        surgery_1\n",
      "255  PtNum_rvket7d4d6a57rvket  PtNum_rvket10a8381frvket    86        surgery_1\n",
      "\n",
      "component 241\n",
      "                        source                    target  time     type\n",
      "1457  PtNum_rvketd3267ce9rvket  PtNum_rvketc0eaca30rvket   617  renal_5\n",
      "1458  PtNum_rvketd3267ce9rvket  PtNum_rvketc0eaca30rvket   618  renal_5\n",
      "1459  PtNum_rvketd3267ce9rvket  PtNum_rvketc0eaca30rvket   619  renal_5\n",
      "1496  PtNum_rvketc0eaca30rvket  PtNum_rvket31a400a8rvket   638  renal_5\n",
      "1565  PtNum_rvketfab0b46drvket  PtNum_rvketbaaf01b9rvket   633  renal_5\n",
      "1566  PtNum_rvketfab0b46drvket  PtNum_rvketbaaf01b9rvket   634  renal_5\n",
      "1582  PtNum_rvketfab0b46drvket  PtNum_rvketc0eaca30rvket   633  renal_5\n",
      "1583  PtNum_rvketfab0b46drvket  PtNum_rvketc0eaca30rvket   634  renal_5\n",
      "1590  PtNum_rvketbaaf01b9rvket  PtNum_rvket31a400a8rvket   651  renal_5\n",
      "1591  PtNum_rvketbaaf01b9rvket  PtNum_rvket31a400a8rvket   652  renal_5\n",
      "1592  PtNum_rvketbaaf01b9rvket  PtNum_rvket31a400a8rvket   653  renal_5\n",
      "1607  PtNum_rvketc0eaca30rvket  PtNum_rvketbaaf01b9rvket   654  renal_5\n",
      "\n",
      "component 58\n",
      "                       source                    target  time      type\n",
      "345  PtNum_rvketc0104a5drvket  PtNum_rvketbd6b8eb3rvket    90  cancer_1\n",
      "346  PtNum_rvketc0104a5drvket  PtNum_rvketbd6b8eb3rvket    91  cancer_1\n",
      "379  PtNum_rvketae4790fbrvket  PtNum_rvket4a7c622frvket   113   Ward_na\n",
      "380  PtNum_rvketae4790fbrvket  PtNum_rvket4a7c622frvket   114   Ward_na\n",
      "381  PtNum_rvketae4790fbrvket  PtNum_rvket4a7c622frvket   115   Ward_na\n",
      "382  PtNum_rvketae4790fbrvket  PtNum_rvket4a7c622frvket   116   Ward_na\n",
      "383  PtNum_rvketae4790fbrvket  PtNum_rvket4a7c622frvket   117   Ward_na\n",
      "411  PtNum_rvketbd6b8eb3rvket  PtNum_rvket1d77d08arvket   150   Ward_na\n",
      "412  PtNum_rvketbd6b8eb3rvket  PtNum_rvket1d77d08arvket   151   Ward_na\n",
      "448  PtNum_rvketae4790fbrvket  PtNum_rvket637e7a85rvket   146   renal_1\n",
      "449  PtNum_rvketc0104a5drvket  PtNum_rvket637e7a85rvket   150   Ward_na\n",
      "\n",
      "component 45\n",
      "                       source                    target  time       type\n",
      "281  PtNum_rvket5a8ce635rvket  PtNum_rvket163d60a0rvket    96    renal_2\n",
      "308  PtNum_rvketfcad9717rvket  PtNum_rvket5a8ce635rvket   101    renal_2\n",
      "349  PtNum_rvket5a8ce635rvket  PtNum_rvket13d1f2d5rvket   104    renal_4\n",
      "350  PtNum_rvket5a8ce635rvket  PtNum_rvket13d1f2d5rvket   105    renal_4\n",
      "351  PtNum_rvket5a8ce635rvket  PtNum_rvket13d1f2d5rvket   106    renal_4\n",
      "352  PtNum_rvket5a8ce635rvket  PtNum_rvket13d1f2d5rvket   107    renal_4\n",
      "388  PtNum_rvket90632ec2rvket  PtNum_rvket5a8ce635rvket   126    renal_2\n",
      "391  PtNum_rvketfcad9717rvket  PtNum_rvket5a8ce635rvket   103    renal_2\n",
      "478  PtNum_rvket5a8ce635rvket  PtNum_rvket03ec9a12rvket   176  surgery_1\n",
      "479  PtNum_rvket5a8ce635rvket  PtNum_rvket03ec9a12rvket   177  surgery_1\n",
      "480  PtNum_rvket5a8ce635rvket  PtNum_rvket03ec9a12rvket   178  surgery_1\n",
      "\n",
      "component 216\n",
      "                        source                    target  time          type\n",
      "1259  PtNum_rvketd7f23a6frvket  PtNum_rvket598fb8b1rvket   521       Ward_na\n",
      "1260  PtNum_rvketd7f23a6frvket  PtNum_rvket598fb8b1rvket   522       Ward_na\n",
      "1261  PtNum_rvketd7f23a6frvket  PtNum_rvket598fb8b1rvket   523       Ward_na\n",
      "1262  PtNum_rvketd7f23a6frvket  PtNum_rvket598fb8b1rvket   524       Ward_na\n",
      "1263  PtNum_rvketd7f23a6frvket  PtNum_rvket598fb8b1rvket   525       Ward_na\n",
      "1264  PtNum_rvketd7f23a6frvket  PtNum_rvket598fb8b1rvket   526       Ward_na\n",
      "1275  PtNum_rvket598fb8b1rvket  PtNum_rvket1c53e16crvket   530       Ward_na\n",
      "1279  PtNum_rvketdb5c9016rvket  PtNum_rvket4bb7c2fervket   556    medicine_9\n",
      "1280  PtNum_rvketdb5c9016rvket  PtNum_rvket4bb7c2fervket   557    medicine_9\n",
      "1422  PtNum_rvket598fb8b1rvket  PtNum_rvket4bb7c2fervket   603  cardiology_3\n",
      "\n",
      "component 114\n",
      "                       source                    target  time     type\n",
      "741  PtNum_rvketc0f24864rvket  PtNum_rvket8adba76brvket   273  Ward_na\n",
      "742  PtNum_rvketc0f24864rvket  PtNum_rvket8adba76brvket   274  Ward_na\n",
      "743  PtNum_rvketc0f24864rvket  PtNum_rvket8adba76brvket   275  Ward_na\n",
      "744  PtNum_rvketc0f24864rvket  PtNum_rvket8adba76brvket   276  Ward_na\n",
      "752  PtNum_rvketf0bcc1c3rvket  PtNum_rvketb3a1db22rvket   277  renal_2\n",
      "753  PtNum_rvketf0bcc1c3rvket  PtNum_rvketc0f24864rvket   279  Ward_na\n",
      "754  PtNum_rvketf0bcc1c3rvket  PtNum_rvketc0f24864rvket   280  Ward_na\n",
      "755  PtNum_rvketf0bcc1c3rvket  PtNum_rvketc0f24864rvket   281  Ward_na\n",
      "914  PtNum_rvketc0f24864rvket  PtNum_rvket1356d582rvket   349  renal_1\n",
      "\n",
      "component 7\n",
      "                       source                    target  time           type\n",
      "20   PtNum_rvketeeb2ad0frvket  PtNum_rvket0e9cb535rvket    38    medicine_20\n",
      "21   PtNum_rvketeeb2ad0frvket  PtNum_rvket0e9cb535rvket    39    medicine_20\n",
      "133  PtNum_rvketeeb2ad0frvket  PtNum_rvket1e71c2f2rvket    69  haematology_1\n",
      "210  PtNum_rvketc83f7ecbrvket  PtNum_rvket7cd753bfrvket    50  haematology_4\n",
      "211  PtNum_rvketc83f7ecbrvket  PtNum_rvket7cd753bfrvket    51  haematology_4\n",
      "282  PtNum_rvket7cd753bfrvket  PtNum_rvket1e71c2f2rvket    73  haematology_4\n",
      "283  PtNum_rvket7cd753bfrvket  PtNum_rvket1e71c2f2rvket    74  haematology_4\n",
      "284  PtNum_rvket7cd753bfrvket  PtNum_rvket1e71c2f2rvket    75  haematology_4\n",
      "\n",
      "component 248\n",
      "                        source                    target  time       type\n",
      "1584  PtNum_rvketcdd478darvket  PtNum_rvketc11564a7rvket   648  surgery_1\n",
      "1588  PtNum_rvketcdd478darvket  PtNum_rvket19bb5b92rvket   655  surgery_1\n",
      "1589  PtNum_rvketcdd478darvket  PtNum_rvket19bb5b92rvket   656  surgery_1\n",
      "1593  PtNum_rvketc11564a7rvket  PtNum_rvket5c7dff01rvket   655  surgery_1\n",
      "1594  PtNum_rvketc11564a7rvket  PtNum_rvket5c7dff01rvket   656  surgery_1\n",
      "1595  PtNum_rvketc11564a7rvket  PtNum_rvket5c7dff01rvket   657  surgery_1\n",
      "1596  PtNum_rvketc11564a7rvket  PtNum_rvket5c7dff01rvket   658  surgery_1\n",
      "\n",
      "component 129\n",
      "                       source                    target  time        type\n",
      "888  PtNum_rvketbd699529rvket  PtNum_rvket5bf8fc37rvket   318  medicine_9\n",
      "921  PtNum_rvket5bf8fc37rvket  PtNum_rvket1baa5c25rvket   348  medicine_9\n",
      "922  PtNum_rvket5bf8fc37rvket  PtNum_rvket1baa5c25rvket   349  medicine_9\n",
      "923  PtNum_rvkete4174e4brvket  PtNum_rvket1fdae91ervket   348  medicine_9\n",
      "958  PtNum_rvkete4174e4brvket  PtNum_rvket5bf8fc37rvket   350  medicine_1\n"
     ]
    }
   ],
   "source": [
    "for ix, component in enumerate(cluster_3.index):\n",
    "    print('')\n",
    "    print(f'component {component}')\n",
    "    component = filtered.events[filtered.events_meta.component == component]\n",
    "    print(component)"
   ]
  },
  {
   "cell_type": "code",
   "execution_count": 140,
   "metadata": {
    "scrolled": true
   },
   "outputs": [
    {
     "data": {
      "text/html": [
       "<div>\n",
       "<style scoped>\n",
       "    .dataframe tbody tr th:only-of-type {\n",
       "        vertical-align: middle;\n",
       "    }\n",
       "\n",
       "    .dataframe tbody tr th {\n",
       "        vertical-align: top;\n",
       "    }\n",
       "\n",
       "    .dataframe thead th {\n",
       "        text-align: right;\n",
       "    }\n",
       "</style>\n",
       "<table border=\"1\" class=\"dataframe\">\n",
       "  <thead>\n",
       "    <tr style=\"text-align: right;\">\n",
       "      <th></th>\n",
       "      <th>362</th>\n",
       "      <th>PtNum_rvket61f2344arvket</th>\n",
       "      <th>PtNum_rvket253f82dbrvket</th>\n",
       "      <th>112</th>\n",
       "      <th>oncology_2</th>\n",
       "    </tr>\n",
       "  </thead>\n",
       "  <tbody>\n",
       "    <tr>\n",
       "      <th>0</th>\n",
       "      <td>363</td>\n",
       "      <td>PtNum_rvket61f2344arvket</td>\n",
       "      <td>PtNum_rvket253f82dbrvket</td>\n",
       "      <td>113</td>\n",
       "      <td>oncology_2</td>\n",
       "    </tr>\n",
       "    <tr>\n",
       "      <th>1</th>\n",
       "      <td>364</td>\n",
       "      <td>PtNum_rvket61f2344arvket</td>\n",
       "      <td>PtNum_rvket253f82dbrvket</td>\n",
       "      <td>114</td>\n",
       "      <td>oncology_2</td>\n",
       "    </tr>\n",
       "    <tr>\n",
       "      <th>2</th>\n",
       "      <td>365</td>\n",
       "      <td>PtNum_rvket61f2344arvket</td>\n",
       "      <td>PtNum_rvket253f82dbrvket</td>\n",
       "      <td>115</td>\n",
       "      <td>oncology_2</td>\n",
       "    </tr>\n",
       "    <tr>\n",
       "      <th>3</th>\n",
       "      <td>392</td>\n",
       "      <td>PtNum_rvket9bd252d5rvket</td>\n",
       "      <td>PtNum_rvket61f2344arvket</td>\n",
       "      <td>121</td>\n",
       "      <td>respiratory_2</td>\n",
       "    </tr>\n",
       "    <tr>\n",
       "      <th>4</th>\n",
       "      <td>393</td>\n",
       "      <td>PtNum_rvket9bd252d5rvket</td>\n",
       "      <td>PtNum_rvket61f2344arvket</td>\n",
       "      <td>122</td>\n",
       "      <td>respiratory_2</td>\n",
       "    </tr>\n",
       "    <tr>\n",
       "      <th>5</th>\n",
       "      <td>419</td>\n",
       "      <td>PtNum_rvket41233dc3rvket</td>\n",
       "      <td>PtNum_rvket2a2cab77rvket</td>\n",
       "      <td>162</td>\n",
       "      <td>surgery_12</td>\n",
       "    </tr>\n",
       "    <tr>\n",
       "      <th>6</th>\n",
       "      <td>420</td>\n",
       "      <td>PtNum_rvket41233dc3rvket</td>\n",
       "      <td>PtNum_rvket2a2cab77rvket</td>\n",
       "      <td>163</td>\n",
       "      <td>surgery_12</td>\n",
       "    </tr>\n",
       "    <tr>\n",
       "      <th>7</th>\n",
       "      <td>421</td>\n",
       "      <td>PtNum_rvket41233dc3rvket</td>\n",
       "      <td>PtNum_rvket2a2cab77rvket</td>\n",
       "      <td>164</td>\n",
       "      <td>surgery_12</td>\n",
       "    </tr>\n",
       "    <tr>\n",
       "      <th>8</th>\n",
       "      <td>426</td>\n",
       "      <td>PtNum_rvket9bd252d5rvket</td>\n",
       "      <td>PtNum_rvket3c61c1aarvket</td>\n",
       "      <td>150</td>\n",
       "      <td>respiratory_2</td>\n",
       "    </tr>\n",
       "    <tr>\n",
       "      <th>9</th>\n",
       "      <td>427</td>\n",
       "      <td>PtNum_rvket9bd252d5rvket</td>\n",
       "      <td>PtNum_rvket3c61c1aarvket</td>\n",
       "      <td>151</td>\n",
       "      <td>respiratory_2</td>\n",
       "    </tr>\n",
       "    <tr>\n",
       "      <th>10</th>\n",
       "      <td>439</td>\n",
       "      <td>PtNum_rvket7d4e3793rvket</td>\n",
       "      <td>PtNum_rvket61f2344arvket</td>\n",
       "      <td>134</td>\n",
       "      <td>cardiology_4</td>\n",
       "    </tr>\n",
       "    <tr>\n",
       "      <th>11</th>\n",
       "      <td>440</td>\n",
       "      <td>PtNum_rvket7d4e3793rvket</td>\n",
       "      <td>PtNum_rvket61f2344arvket</td>\n",
       "      <td>135</td>\n",
       "      <td>cardiology_4</td>\n",
       "    </tr>\n",
       "    <tr>\n",
       "      <th>12</th>\n",
       "      <td>441</td>\n",
       "      <td>PtNum_rvket9c12e357rvket</td>\n",
       "      <td>PtNum_rvket61f2344arvket</td>\n",
       "      <td>137</td>\n",
       "      <td>cardiology_4</td>\n",
       "    </tr>\n",
       "    <tr>\n",
       "      <th>13</th>\n",
       "      <td>442</td>\n",
       "      <td>PtNum_rvket9c12e357rvket</td>\n",
       "      <td>PtNum_rvket61f2344arvket</td>\n",
       "      <td>138</td>\n",
       "      <td>cardiology_4</td>\n",
       "    </tr>\n",
       "    <tr>\n",
       "      <th>14</th>\n",
       "      <td>443</td>\n",
       "      <td>PtNum_rvket9c12e357rvket</td>\n",
       "      <td>PtNum_rvket61f2344arvket</td>\n",
       "      <td>139</td>\n",
       "      <td>cardiology_4</td>\n",
       "    </tr>\n",
       "    <tr>\n",
       "      <th>15</th>\n",
       "      <td>444</td>\n",
       "      <td>PtNum_rvket9c12e357rvket</td>\n",
       "      <td>PtNum_rvket61f2344arvket</td>\n",
       "      <td>140</td>\n",
       "      <td>cardiology_4</td>\n",
       "    </tr>\n",
       "    <tr>\n",
       "      <th>16</th>\n",
       "      <td>445</td>\n",
       "      <td>PtNum_rvket9c12e357rvket</td>\n",
       "      <td>PtNum_rvket61f2344arvket</td>\n",
       "      <td>141</td>\n",
       "      <td>cardiology_4</td>\n",
       "    </tr>\n",
       "    <tr>\n",
       "      <th>17</th>\n",
       "      <td>446</td>\n",
       "      <td>PtNum_rvket9c12e357rvket</td>\n",
       "      <td>PtNum_rvket61f2344arvket</td>\n",
       "      <td>142</td>\n",
       "      <td>cardiology_4</td>\n",
       "    </tr>\n",
       "    <tr>\n",
       "      <th>18</th>\n",
       "      <td>488</td>\n",
       "      <td>PtNum_rvket41233dc3rvket</td>\n",
       "      <td>PtNum_rvket2a2cab77rvket</td>\n",
       "      <td>165</td>\n",
       "      <td>surgery_12</td>\n",
       "    </tr>\n",
       "    <tr>\n",
       "      <th>19</th>\n",
       "      <td>489</td>\n",
       "      <td>PtNum_rvket41233dc3rvket</td>\n",
       "      <td>PtNum_rvket2a2cab77rvket</td>\n",
       "      <td>166</td>\n",
       "      <td>surgery_12</td>\n",
       "    </tr>\n",
       "    <tr>\n",
       "      <th>20</th>\n",
       "      <td>490</td>\n",
       "      <td>PtNum_rvket41233dc3rvket</td>\n",
       "      <td>PtNum_rvket2a2cab77rvket</td>\n",
       "      <td>167</td>\n",
       "      <td>surgery_12</td>\n",
       "    </tr>\n",
       "    <tr>\n",
       "      <th>21</th>\n",
       "      <td>491</td>\n",
       "      <td>PtNum_rvket41233dc3rvket</td>\n",
       "      <td>PtNum_rvket2a2cab77rvket</td>\n",
       "      <td>168</td>\n",
       "      <td>surgery_12</td>\n",
       "    </tr>\n",
       "    <tr>\n",
       "      <th>22</th>\n",
       "      <td>492</td>\n",
       "      <td>PtNum_rvket41233dc3rvket</td>\n",
       "      <td>PtNum_rvket2a2cab77rvket</td>\n",
       "      <td>169</td>\n",
       "      <td>surgery_12</td>\n",
       "    </tr>\n",
       "    <tr>\n",
       "      <th>23</th>\n",
       "      <td>493</td>\n",
       "      <td>PtNum_rvket41233dc3rvket</td>\n",
       "      <td>PtNum_rvket2a2cab77rvket</td>\n",
       "      <td>170</td>\n",
       "      <td>surgery_12</td>\n",
       "    </tr>\n",
       "    <tr>\n",
       "      <th>24</th>\n",
       "      <td>495</td>\n",
       "      <td>PtNum_rvket61f2344arvket</td>\n",
       "      <td>PtNum_rvket57fffafervket</td>\n",
       "      <td>173</td>\n",
       "      <td>medicine_21</td>\n",
       "    </tr>\n",
       "    <tr>\n",
       "      <th>25</th>\n",
       "      <td>496</td>\n",
       "      <td>PtNum_rvket61f2344arvket</td>\n",
       "      <td>PtNum_rvket57fffafervket</td>\n",
       "      <td>174</td>\n",
       "      <td>medicine_21</td>\n",
       "    </tr>\n",
       "    <tr>\n",
       "      <th>26</th>\n",
       "      <td>539</td>\n",
       "      <td>PtNum_rvket61f2344arvket</td>\n",
       "      <td>PtNum_rvket2a2cab77rvket</td>\n",
       "      <td>220</td>\n",
       "      <td>oncology_2</td>\n",
       "    </tr>\n",
       "    <tr>\n",
       "      <th>27</th>\n",
       "      <td>540</td>\n",
       "      <td>PtNum_rvket61f2344arvket</td>\n",
       "      <td>PtNum_rvket2a2cab77rvket</td>\n",
       "      <td>221</td>\n",
       "      <td>oncology_2</td>\n",
       "    </tr>\n",
       "    <tr>\n",
       "      <th>28</th>\n",
       "      <td>541</td>\n",
       "      <td>PtNum_rvket61f2344arvket</td>\n",
       "      <td>PtNum_rvket2a2cab77rvket</td>\n",
       "      <td>222</td>\n",
       "      <td>oncology_2</td>\n",
       "    </tr>\n",
       "    <tr>\n",
       "      <th>29</th>\n",
       "      <td>542</td>\n",
       "      <td>PtNum_rvket61f2344arvket</td>\n",
       "      <td>PtNum_rvket2a2cab77rvket</td>\n",
       "      <td>223</td>\n",
       "      <td>oncology_2</td>\n",
       "    </tr>\n",
       "  </tbody>\n",
       "</table>\n",
       "</div>"
      ],
      "text/plain": [
       "    362  PtNum_rvket61f2344arvket  PtNum_rvket253f82dbrvket  112  \\\n",
       "0   363  PtNum_rvket61f2344arvket  PtNum_rvket253f82dbrvket  113   \n",
       "1   364  PtNum_rvket61f2344arvket  PtNum_rvket253f82dbrvket  114   \n",
       "2   365  PtNum_rvket61f2344arvket  PtNum_rvket253f82dbrvket  115   \n",
       "3   392  PtNum_rvket9bd252d5rvket  PtNum_rvket61f2344arvket  121   \n",
       "4   393  PtNum_rvket9bd252d5rvket  PtNum_rvket61f2344arvket  122   \n",
       "5   419  PtNum_rvket41233dc3rvket  PtNum_rvket2a2cab77rvket  162   \n",
       "6   420  PtNum_rvket41233dc3rvket  PtNum_rvket2a2cab77rvket  163   \n",
       "7   421  PtNum_rvket41233dc3rvket  PtNum_rvket2a2cab77rvket  164   \n",
       "8   426  PtNum_rvket9bd252d5rvket  PtNum_rvket3c61c1aarvket  150   \n",
       "9   427  PtNum_rvket9bd252d5rvket  PtNum_rvket3c61c1aarvket  151   \n",
       "10  439  PtNum_rvket7d4e3793rvket  PtNum_rvket61f2344arvket  134   \n",
       "11  440  PtNum_rvket7d4e3793rvket  PtNum_rvket61f2344arvket  135   \n",
       "12  441  PtNum_rvket9c12e357rvket  PtNum_rvket61f2344arvket  137   \n",
       "13  442  PtNum_rvket9c12e357rvket  PtNum_rvket61f2344arvket  138   \n",
       "14  443  PtNum_rvket9c12e357rvket  PtNum_rvket61f2344arvket  139   \n",
       "15  444  PtNum_rvket9c12e357rvket  PtNum_rvket61f2344arvket  140   \n",
       "16  445  PtNum_rvket9c12e357rvket  PtNum_rvket61f2344arvket  141   \n",
       "17  446  PtNum_rvket9c12e357rvket  PtNum_rvket61f2344arvket  142   \n",
       "18  488  PtNum_rvket41233dc3rvket  PtNum_rvket2a2cab77rvket  165   \n",
       "19  489  PtNum_rvket41233dc3rvket  PtNum_rvket2a2cab77rvket  166   \n",
       "20  490  PtNum_rvket41233dc3rvket  PtNum_rvket2a2cab77rvket  167   \n",
       "21  491  PtNum_rvket41233dc3rvket  PtNum_rvket2a2cab77rvket  168   \n",
       "22  492  PtNum_rvket41233dc3rvket  PtNum_rvket2a2cab77rvket  169   \n",
       "23  493  PtNum_rvket41233dc3rvket  PtNum_rvket2a2cab77rvket  170   \n",
       "24  495  PtNum_rvket61f2344arvket  PtNum_rvket57fffafervket  173   \n",
       "25  496  PtNum_rvket61f2344arvket  PtNum_rvket57fffafervket  174   \n",
       "26  539  PtNum_rvket61f2344arvket  PtNum_rvket2a2cab77rvket  220   \n",
       "27  540  PtNum_rvket61f2344arvket  PtNum_rvket2a2cab77rvket  221   \n",
       "28  541  PtNum_rvket61f2344arvket  PtNum_rvket2a2cab77rvket  222   \n",
       "29  542  PtNum_rvket61f2344arvket  PtNum_rvket2a2cab77rvket  223   \n",
       "\n",
       "       oncology_2  \n",
       "0      oncology_2  \n",
       "1      oncology_2  \n",
       "2      oncology_2  \n",
       "3   respiratory_2  \n",
       "4   respiratory_2  \n",
       "5      surgery_12  \n",
       "6      surgery_12  \n",
       "7      surgery_12  \n",
       "8   respiratory_2  \n",
       "9   respiratory_2  \n",
       "10   cardiology_4  \n",
       "11   cardiology_4  \n",
       "12   cardiology_4  \n",
       "13   cardiology_4  \n",
       "14   cardiology_4  \n",
       "15   cardiology_4  \n",
       "16   cardiology_4  \n",
       "17   cardiology_4  \n",
       "18     surgery_12  \n",
       "19     surgery_12  \n",
       "20     surgery_12  \n",
       "21     surgery_12  \n",
       "22     surgery_12  \n",
       "23     surgery_12  \n",
       "24    medicine_21  \n",
       "25    medicine_21  \n",
       "26     oncology_2  \n",
       "27     oncology_2  \n",
       "28     oncology_2  \n",
       "29     oncology_2  "
      ]
     },
     "execution_count": 140,
     "metadata": {},
     "output_type": "execute_result"
    }
   ],
   "source": [
    "home_dir_2 = \"C:\\\\Users\\\\matth\\\\Documents\\\\IMPERIAL\\\\PROJECT\\\\comp_62_data.xlsx\"\n",
    "\n",
    "comp_62_df = pd.read_excel(home_dir_2)\n",
    "comp_62_df"
   ]
  },
  {
   "cell_type": "code",
   "execution_count": 141,
   "metadata": {},
   "outputs": [],
   "source": [
    "comp_62_df.columns =['Event', 'Source', 'Target', 'Time','Ward']"
   ]
  },
  {
   "cell_type": "code",
   "execution_count": 142,
   "metadata": {
    "scrolled": true
   },
   "outputs": [
    {
     "data": {
      "text/html": [
       "<div>\n",
       "<style scoped>\n",
       "    .dataframe tbody tr th:only-of-type {\n",
       "        vertical-align: middle;\n",
       "    }\n",
       "\n",
       "    .dataframe tbody tr th {\n",
       "        vertical-align: top;\n",
       "    }\n",
       "\n",
       "    .dataframe thead th {\n",
       "        text-align: right;\n",
       "    }\n",
       "</style>\n",
       "<table border=\"1\" class=\"dataframe\">\n",
       "  <thead>\n",
       "    <tr style=\"text-align: right;\">\n",
       "      <th></th>\n",
       "      <th>Event</th>\n",
       "      <th>Source</th>\n",
       "      <th>Target</th>\n",
       "      <th>Time</th>\n",
       "      <th>Ward</th>\n",
       "    </tr>\n",
       "  </thead>\n",
       "  <tbody>\n",
       "    <tr>\n",
       "      <th>0</th>\n",
       "      <td>363</td>\n",
       "      <td>PtNum_rvket61f2344arvket</td>\n",
       "      <td>PtNum_rvket253f82dbrvket</td>\n",
       "      <td>113</td>\n",
       "      <td>oncology_2</td>\n",
       "    </tr>\n",
       "    <tr>\n",
       "      <th>1</th>\n",
       "      <td>364</td>\n",
       "      <td>PtNum_rvket61f2344arvket</td>\n",
       "      <td>PtNum_rvket253f82dbrvket</td>\n",
       "      <td>114</td>\n",
       "      <td>oncology_2</td>\n",
       "    </tr>\n",
       "    <tr>\n",
       "      <th>2</th>\n",
       "      <td>365</td>\n",
       "      <td>PtNum_rvket61f2344arvket</td>\n",
       "      <td>PtNum_rvket253f82dbrvket</td>\n",
       "      <td>115</td>\n",
       "      <td>oncology_2</td>\n",
       "    </tr>\n",
       "    <tr>\n",
       "      <th>3</th>\n",
       "      <td>392</td>\n",
       "      <td>PtNum_rvket9bd252d5rvket</td>\n",
       "      <td>PtNum_rvket61f2344arvket</td>\n",
       "      <td>121</td>\n",
       "      <td>respiratory_2</td>\n",
       "    </tr>\n",
       "    <tr>\n",
       "      <th>4</th>\n",
       "      <td>393</td>\n",
       "      <td>PtNum_rvket9bd252d5rvket</td>\n",
       "      <td>PtNum_rvket61f2344arvket</td>\n",
       "      <td>122</td>\n",
       "      <td>respiratory_2</td>\n",
       "    </tr>\n",
       "    <tr>\n",
       "      <th>5</th>\n",
       "      <td>419</td>\n",
       "      <td>PtNum_rvket41233dc3rvket</td>\n",
       "      <td>PtNum_rvket2a2cab77rvket</td>\n",
       "      <td>162</td>\n",
       "      <td>surgery_12</td>\n",
       "    </tr>\n",
       "    <tr>\n",
       "      <th>6</th>\n",
       "      <td>420</td>\n",
       "      <td>PtNum_rvket41233dc3rvket</td>\n",
       "      <td>PtNum_rvket2a2cab77rvket</td>\n",
       "      <td>163</td>\n",
       "      <td>surgery_12</td>\n",
       "    </tr>\n",
       "    <tr>\n",
       "      <th>7</th>\n",
       "      <td>421</td>\n",
       "      <td>PtNum_rvket41233dc3rvket</td>\n",
       "      <td>PtNum_rvket2a2cab77rvket</td>\n",
       "      <td>164</td>\n",
       "      <td>surgery_12</td>\n",
       "    </tr>\n",
       "    <tr>\n",
       "      <th>8</th>\n",
       "      <td>426</td>\n",
       "      <td>PtNum_rvket9bd252d5rvket</td>\n",
       "      <td>PtNum_rvket3c61c1aarvket</td>\n",
       "      <td>150</td>\n",
       "      <td>respiratory_2</td>\n",
       "    </tr>\n",
       "    <tr>\n",
       "      <th>9</th>\n",
       "      <td>427</td>\n",
       "      <td>PtNum_rvket9bd252d5rvket</td>\n",
       "      <td>PtNum_rvket3c61c1aarvket</td>\n",
       "      <td>151</td>\n",
       "      <td>respiratory_2</td>\n",
       "    </tr>\n",
       "    <tr>\n",
       "      <th>10</th>\n",
       "      <td>439</td>\n",
       "      <td>PtNum_rvket7d4e3793rvket</td>\n",
       "      <td>PtNum_rvket61f2344arvket</td>\n",
       "      <td>134</td>\n",
       "      <td>cardiology_4</td>\n",
       "    </tr>\n",
       "    <tr>\n",
       "      <th>11</th>\n",
       "      <td>440</td>\n",
       "      <td>PtNum_rvket7d4e3793rvket</td>\n",
       "      <td>PtNum_rvket61f2344arvket</td>\n",
       "      <td>135</td>\n",
       "      <td>cardiology_4</td>\n",
       "    </tr>\n",
       "    <tr>\n",
       "      <th>12</th>\n",
       "      <td>441</td>\n",
       "      <td>PtNum_rvket9c12e357rvket</td>\n",
       "      <td>PtNum_rvket61f2344arvket</td>\n",
       "      <td>137</td>\n",
       "      <td>cardiology_4</td>\n",
       "    </tr>\n",
       "    <tr>\n",
       "      <th>13</th>\n",
       "      <td>442</td>\n",
       "      <td>PtNum_rvket9c12e357rvket</td>\n",
       "      <td>PtNum_rvket61f2344arvket</td>\n",
       "      <td>138</td>\n",
       "      <td>cardiology_4</td>\n",
       "    </tr>\n",
       "    <tr>\n",
       "      <th>14</th>\n",
       "      <td>443</td>\n",
       "      <td>PtNum_rvket9c12e357rvket</td>\n",
       "      <td>PtNum_rvket61f2344arvket</td>\n",
       "      <td>139</td>\n",
       "      <td>cardiology_4</td>\n",
       "    </tr>\n",
       "    <tr>\n",
       "      <th>15</th>\n",
       "      <td>444</td>\n",
       "      <td>PtNum_rvket9c12e357rvket</td>\n",
       "      <td>PtNum_rvket61f2344arvket</td>\n",
       "      <td>140</td>\n",
       "      <td>cardiology_4</td>\n",
       "    </tr>\n",
       "    <tr>\n",
       "      <th>16</th>\n",
       "      <td>445</td>\n",
       "      <td>PtNum_rvket9c12e357rvket</td>\n",
       "      <td>PtNum_rvket61f2344arvket</td>\n",
       "      <td>141</td>\n",
       "      <td>cardiology_4</td>\n",
       "    </tr>\n",
       "    <tr>\n",
       "      <th>17</th>\n",
       "      <td>446</td>\n",
       "      <td>PtNum_rvket9c12e357rvket</td>\n",
       "      <td>PtNum_rvket61f2344arvket</td>\n",
       "      <td>142</td>\n",
       "      <td>cardiology_4</td>\n",
       "    </tr>\n",
       "    <tr>\n",
       "      <th>18</th>\n",
       "      <td>488</td>\n",
       "      <td>PtNum_rvket41233dc3rvket</td>\n",
       "      <td>PtNum_rvket2a2cab77rvket</td>\n",
       "      <td>165</td>\n",
       "      <td>surgery_12</td>\n",
       "    </tr>\n",
       "    <tr>\n",
       "      <th>19</th>\n",
       "      <td>489</td>\n",
       "      <td>PtNum_rvket41233dc3rvket</td>\n",
       "      <td>PtNum_rvket2a2cab77rvket</td>\n",
       "      <td>166</td>\n",
       "      <td>surgery_12</td>\n",
       "    </tr>\n",
       "    <tr>\n",
       "      <th>20</th>\n",
       "      <td>490</td>\n",
       "      <td>PtNum_rvket41233dc3rvket</td>\n",
       "      <td>PtNum_rvket2a2cab77rvket</td>\n",
       "      <td>167</td>\n",
       "      <td>surgery_12</td>\n",
       "    </tr>\n",
       "    <tr>\n",
       "      <th>21</th>\n",
       "      <td>491</td>\n",
       "      <td>PtNum_rvket41233dc3rvket</td>\n",
       "      <td>PtNum_rvket2a2cab77rvket</td>\n",
       "      <td>168</td>\n",
       "      <td>surgery_12</td>\n",
       "    </tr>\n",
       "    <tr>\n",
       "      <th>22</th>\n",
       "      <td>492</td>\n",
       "      <td>PtNum_rvket41233dc3rvket</td>\n",
       "      <td>PtNum_rvket2a2cab77rvket</td>\n",
       "      <td>169</td>\n",
       "      <td>surgery_12</td>\n",
       "    </tr>\n",
       "    <tr>\n",
       "      <th>23</th>\n",
       "      <td>493</td>\n",
       "      <td>PtNum_rvket41233dc3rvket</td>\n",
       "      <td>PtNum_rvket2a2cab77rvket</td>\n",
       "      <td>170</td>\n",
       "      <td>surgery_12</td>\n",
       "    </tr>\n",
       "    <tr>\n",
       "      <th>24</th>\n",
       "      <td>495</td>\n",
       "      <td>PtNum_rvket61f2344arvket</td>\n",
       "      <td>PtNum_rvket57fffafervket</td>\n",
       "      <td>173</td>\n",
       "      <td>medicine_21</td>\n",
       "    </tr>\n",
       "    <tr>\n",
       "      <th>25</th>\n",
       "      <td>496</td>\n",
       "      <td>PtNum_rvket61f2344arvket</td>\n",
       "      <td>PtNum_rvket57fffafervket</td>\n",
       "      <td>174</td>\n",
       "      <td>medicine_21</td>\n",
       "    </tr>\n",
       "    <tr>\n",
       "      <th>26</th>\n",
       "      <td>539</td>\n",
       "      <td>PtNum_rvket61f2344arvket</td>\n",
       "      <td>PtNum_rvket2a2cab77rvket</td>\n",
       "      <td>220</td>\n",
       "      <td>oncology_2</td>\n",
       "    </tr>\n",
       "    <tr>\n",
       "      <th>27</th>\n",
       "      <td>540</td>\n",
       "      <td>PtNum_rvket61f2344arvket</td>\n",
       "      <td>PtNum_rvket2a2cab77rvket</td>\n",
       "      <td>221</td>\n",
       "      <td>oncology_2</td>\n",
       "    </tr>\n",
       "    <tr>\n",
       "      <th>28</th>\n",
       "      <td>541</td>\n",
       "      <td>PtNum_rvket61f2344arvket</td>\n",
       "      <td>PtNum_rvket2a2cab77rvket</td>\n",
       "      <td>222</td>\n",
       "      <td>oncology_2</td>\n",
       "    </tr>\n",
       "    <tr>\n",
       "      <th>29</th>\n",
       "      <td>542</td>\n",
       "      <td>PtNum_rvket61f2344arvket</td>\n",
       "      <td>PtNum_rvket2a2cab77rvket</td>\n",
       "      <td>223</td>\n",
       "      <td>oncology_2</td>\n",
       "    </tr>\n",
       "  </tbody>\n",
       "</table>\n",
       "</div>"
      ],
      "text/plain": [
       "    Event                    Source                    Target  Time  \\\n",
       "0     363  PtNum_rvket61f2344arvket  PtNum_rvket253f82dbrvket   113   \n",
       "1     364  PtNum_rvket61f2344arvket  PtNum_rvket253f82dbrvket   114   \n",
       "2     365  PtNum_rvket61f2344arvket  PtNum_rvket253f82dbrvket   115   \n",
       "3     392  PtNum_rvket9bd252d5rvket  PtNum_rvket61f2344arvket   121   \n",
       "4     393  PtNum_rvket9bd252d5rvket  PtNum_rvket61f2344arvket   122   \n",
       "5     419  PtNum_rvket41233dc3rvket  PtNum_rvket2a2cab77rvket   162   \n",
       "6     420  PtNum_rvket41233dc3rvket  PtNum_rvket2a2cab77rvket   163   \n",
       "7     421  PtNum_rvket41233dc3rvket  PtNum_rvket2a2cab77rvket   164   \n",
       "8     426  PtNum_rvket9bd252d5rvket  PtNum_rvket3c61c1aarvket   150   \n",
       "9     427  PtNum_rvket9bd252d5rvket  PtNum_rvket3c61c1aarvket   151   \n",
       "10    439  PtNum_rvket7d4e3793rvket  PtNum_rvket61f2344arvket   134   \n",
       "11    440  PtNum_rvket7d4e3793rvket  PtNum_rvket61f2344arvket   135   \n",
       "12    441  PtNum_rvket9c12e357rvket  PtNum_rvket61f2344arvket   137   \n",
       "13    442  PtNum_rvket9c12e357rvket  PtNum_rvket61f2344arvket   138   \n",
       "14    443  PtNum_rvket9c12e357rvket  PtNum_rvket61f2344arvket   139   \n",
       "15    444  PtNum_rvket9c12e357rvket  PtNum_rvket61f2344arvket   140   \n",
       "16    445  PtNum_rvket9c12e357rvket  PtNum_rvket61f2344arvket   141   \n",
       "17    446  PtNum_rvket9c12e357rvket  PtNum_rvket61f2344arvket   142   \n",
       "18    488  PtNum_rvket41233dc3rvket  PtNum_rvket2a2cab77rvket   165   \n",
       "19    489  PtNum_rvket41233dc3rvket  PtNum_rvket2a2cab77rvket   166   \n",
       "20    490  PtNum_rvket41233dc3rvket  PtNum_rvket2a2cab77rvket   167   \n",
       "21    491  PtNum_rvket41233dc3rvket  PtNum_rvket2a2cab77rvket   168   \n",
       "22    492  PtNum_rvket41233dc3rvket  PtNum_rvket2a2cab77rvket   169   \n",
       "23    493  PtNum_rvket41233dc3rvket  PtNum_rvket2a2cab77rvket   170   \n",
       "24    495  PtNum_rvket61f2344arvket  PtNum_rvket57fffafervket   173   \n",
       "25    496  PtNum_rvket61f2344arvket  PtNum_rvket57fffafervket   174   \n",
       "26    539  PtNum_rvket61f2344arvket  PtNum_rvket2a2cab77rvket   220   \n",
       "27    540  PtNum_rvket61f2344arvket  PtNum_rvket2a2cab77rvket   221   \n",
       "28    541  PtNum_rvket61f2344arvket  PtNum_rvket2a2cab77rvket   222   \n",
       "29    542  PtNum_rvket61f2344arvket  PtNum_rvket2a2cab77rvket   223   \n",
       "\n",
       "             Ward  \n",
       "0      oncology_2  \n",
       "1      oncology_2  \n",
       "2      oncology_2  \n",
       "3   respiratory_2  \n",
       "4   respiratory_2  \n",
       "5      surgery_12  \n",
       "6      surgery_12  \n",
       "7      surgery_12  \n",
       "8   respiratory_2  \n",
       "9   respiratory_2  \n",
       "10   cardiology_4  \n",
       "11   cardiology_4  \n",
       "12   cardiology_4  \n",
       "13   cardiology_4  \n",
       "14   cardiology_4  \n",
       "15   cardiology_4  \n",
       "16   cardiology_4  \n",
       "17   cardiology_4  \n",
       "18     surgery_12  \n",
       "19     surgery_12  \n",
       "20     surgery_12  \n",
       "21     surgery_12  \n",
       "22     surgery_12  \n",
       "23     surgery_12  \n",
       "24    medicine_21  \n",
       "25    medicine_21  \n",
       "26     oncology_2  \n",
       "27     oncology_2  \n",
       "28     oncology_2  \n",
       "29     oncology_2  "
      ]
     },
     "execution_count": 142,
     "metadata": {},
     "output_type": "execute_result"
    }
   ],
   "source": [
    "comp_62_df"
   ]
  },
  {
   "cell_type": "code",
   "execution_count": 143,
   "metadata": {},
   "outputs": [],
   "source": [
    "comp_248_nx = comp_248.create_networkx_event_graph()"
   ]
  },
  {
   "cell_type": "code",
   "execution_count": 144,
   "metadata": {},
   "outputs": [
    {
     "name": "stdout",
     "output_type": "stream",
     "text": [
      "[]\n"
     ]
    }
   ],
   "source": [
    "save_graph_with_colour(comp_248_nx, 'comp_248_colour.png')"
   ]
  },
  {
   "cell_type": "markdown",
   "metadata": {},
   "source": [
    "<img src = 'comp_248_colour.png'>"
   ]
  },
  {
   "cell_type": "code",
   "execution_count": 145,
   "metadata": {},
   "outputs": [],
   "source": [
    "comp_62_nx = comp_62.create_networkx_event_graph()"
   ]
  },
  {
   "cell_type": "code",
   "execution_count": 146,
   "metadata": {},
   "outputs": [
    {
     "name": "stdout",
     "output_type": "stream",
     "text": [
      "[]\n"
     ]
    }
   ],
   "source": [
    "save_graph_with_colour(comp_62_nx, 'comp_62_colour.png')"
   ]
  },
  {
   "cell_type": "markdown",
   "metadata": {},
   "source": [
    "<img src = 'comp_62_colour.png'>"
   ]
  },
  {
   "cell_type": "code",
   "execution_count": 148,
   "metadata": {},
   "outputs": [
    {
     "name": "stdout",
     "output_type": "stream",
     "text": [
      "                       source                    target  time        type\n",
      "362  PtNum_rvket61f2344arvket  PtNum_rvket253f82dbrvket   112  oncology_2\n",
      "                       source                    target  time        type\n",
      "363  PtNum_rvket61f2344arvket  PtNum_rvket253f82dbrvket   113  oncology_2\n",
      "                       source                    target  time        type\n",
      "364  PtNum_rvket61f2344arvket  PtNum_rvket253f82dbrvket   114  oncology_2\n",
      "                       source                    target  time        type\n",
      "365  PtNum_rvket61f2344arvket  PtNum_rvket253f82dbrvket   115  oncology_2\n"
     ]
    }
   ],
   "source": [
    "for i in range(362, 366):\n",
    "    print(df.loc[[i]])"
   ]
  },
  {
   "cell_type": "code",
   "execution_count": 149,
   "metadata": {},
   "outputs": [
    {
     "name": "stdout",
     "output_type": "stream",
     "text": [
      "                       source                    target  time           type\n",
      "392  PtNum_rvket9bd252d5rvket  PtNum_rvket61f2344arvket   121  respiratory_2\n",
      "                       source                    target  time           type\n",
      "393  PtNum_rvket9bd252d5rvket  PtNum_rvket61f2344arvket   122  respiratory_2\n"
     ]
    }
   ],
   "source": [
    "for i in range(392, 394):\n",
    "    print(df.loc[[i]])"
   ]
  },
  {
   "cell_type": "code",
   "execution_count": 150,
   "metadata": {
    "scrolled": false
   },
   "outputs": [
    {
     "name": "stdout",
     "output_type": "stream",
     "text": [
      "                       source                    target  time          type\n",
      "439  PtNum_rvket7d4e3793rvket  PtNum_rvket61f2344arvket   134  cardiology_4\n",
      "                       source                    target  time          type\n",
      "440  PtNum_rvket7d4e3793rvket  PtNum_rvket61f2344arvket   135  cardiology_4\n",
      "                       source                    target  time          type\n",
      "441  PtNum_rvket9c12e357rvket  PtNum_rvket61f2344arvket   137  cardiology_4\n",
      "                       source                    target  time          type\n",
      "442  PtNum_rvket9c12e357rvket  PtNum_rvket61f2344arvket   138  cardiology_4\n",
      "                       source                    target  time          type\n",
      "443  PtNum_rvket9c12e357rvket  PtNum_rvket61f2344arvket   139  cardiology_4\n",
      "                       source                    target  time          type\n",
      "444  PtNum_rvket9c12e357rvket  PtNum_rvket61f2344arvket   140  cardiology_4\n",
      "                       source                    target  time          type\n",
      "445  PtNum_rvket9c12e357rvket  PtNum_rvket61f2344arvket   141  cardiology_4\n",
      "                       source                    target  time          type\n",
      "446  PtNum_rvket9c12e357rvket  PtNum_rvket61f2344arvket   142  cardiology_4\n"
     ]
    }
   ],
   "source": [
    "for i in range(439, 447):\n",
    "    print(df.loc[[i]])"
   ]
  },
  {
   "cell_type": "code",
   "execution_count": 151,
   "metadata": {},
   "outputs": [
    {
     "name": "stdout",
     "output_type": "stream",
     "text": [
      "                       source                    target  time           type\n",
      "426  PtNum_rvket9bd252d5rvket  PtNum_rvket3c61c1aarvket   150  respiratory_2\n",
      "                       source                    target  time           type\n",
      "427  PtNum_rvket9bd252d5rvket  PtNum_rvket3c61c1aarvket   151  respiratory_2\n"
     ]
    }
   ],
   "source": [
    "for i in range(426, 428):\n",
    "    print(df.loc[[i]])"
   ]
  },
  {
   "cell_type": "code",
   "execution_count": 152,
   "metadata": {},
   "outputs": [
    {
     "name": "stdout",
     "output_type": "stream",
     "text": [
      "                       source                    target  time           type\n",
      "422  PtNum_rvket8925f9c2rvket  PtNum_rvket3c61c1aarvket   152  respiratory_2\n"
     ]
    }
   ],
   "source": [
    "print(df.loc[[422]])"
   ]
  },
  {
   "cell_type": "code",
   "execution_count": 153,
   "metadata": {},
   "outputs": [
    {
     "name": "stdout",
     "output_type": "stream",
     "text": [
      "                       source                    target  time        type\n",
      "419  PtNum_rvket41233dc3rvket  PtNum_rvket2a2cab77rvket   162  surgery_12\n",
      "                       source                    target  time        type\n",
      "420  PtNum_rvket41233dc3rvket  PtNum_rvket2a2cab77rvket   163  surgery_12\n",
      "                       source                    target  time        type\n",
      "421  PtNum_rvket41233dc3rvket  PtNum_rvket2a2cab77rvket   164  surgery_12\n"
     ]
    }
   ],
   "source": [
    "for i in range(419, 422):\n",
    "    print(df.loc[[i]])"
   ]
  },
  {
   "cell_type": "code",
   "execution_count": 154,
   "metadata": {},
   "outputs": [
    {
     "name": "stdout",
     "output_type": "stream",
     "text": [
      "                       source                    target  time        type\n",
      "488  PtNum_rvket41233dc3rvket  PtNum_rvket2a2cab77rvket   165  surgery_12\n",
      "                       source                    target  time        type\n",
      "489  PtNum_rvket41233dc3rvket  PtNum_rvket2a2cab77rvket   166  surgery_12\n",
      "                       source                    target  time        type\n",
      "490  PtNum_rvket41233dc3rvket  PtNum_rvket2a2cab77rvket   167  surgery_12\n",
      "                       source                    target  time        type\n",
      "491  PtNum_rvket41233dc3rvket  PtNum_rvket2a2cab77rvket   168  surgery_12\n",
      "                       source                    target  time        type\n",
      "492  PtNum_rvket41233dc3rvket  PtNum_rvket2a2cab77rvket   169  surgery_12\n"
     ]
    }
   ],
   "source": [
    "for i in range(488, 493):\n",
    "    print(df.loc[[i]])"
   ]
  },
  {
   "cell_type": "code",
   "execution_count": null,
   "metadata": {},
   "outputs": [],
   "source": []
  },
  {
   "cell_type": "code",
   "execution_count": 155,
   "metadata": {},
   "outputs": [
    {
     "data": {
      "text/html": [
       "<div>\n",
       "<style scoped>\n",
       "    .dataframe tbody tr th:only-of-type {\n",
       "        vertical-align: middle;\n",
       "    }\n",
       "\n",
       "    .dataframe tbody tr th {\n",
       "        vertical-align: top;\n",
       "    }\n",
       "\n",
       "    .dataframe thead th {\n",
       "        text-align: right;\n",
       "    }\n",
       "</style>\n",
       "<table border=\"1\" class=\"dataframe\">\n",
       "  <thead>\n",
       "    <tr style=\"text-align: right;\">\n",
       "      <th></th>\n",
       "      <th>Event</th>\n",
       "      <th>Source</th>\n",
       "      <th>Target</th>\n",
       "      <th>Time</th>\n",
       "      <th>Type</th>\n",
       "    </tr>\n",
       "  </thead>\n",
       "  <tbody>\n",
       "    <tr>\n",
       "      <th>0</th>\n",
       "      <td>493</td>\n",
       "      <td>PtNum_rvket41233dc3rvket</td>\n",
       "      <td>PtNum_rvket2a2cab77rvket</td>\n",
       "      <td>170</td>\n",
       "      <td>surgery_12</td>\n",
       "    </tr>\n",
       "  </tbody>\n",
       "</table>\n",
       "</div>"
      ],
      "text/plain": [
       "   Event                    Source                    Target  Time        Type\n",
       "0    493  PtNum_rvket41233dc3rvket  PtNum_rvket2a2cab77rvket   170  surgery_12"
      ]
     },
     "execution_count": 155,
     "metadata": {},
     "output_type": "execute_result"
    }
   ],
   "source": [
    "d = []\n",
    "for i in range(493,494):\n",
    "    item = df.loc[i]\n",
    "    d.append(\n",
    "        {\n",
    "            'Event': item.name,\n",
    "            'Source': item.source,\n",
    "            'Target':  item.target,\n",
    "            'Time': item.time,\n",
    "            'Type': item.type\n",
    "        }\n",
    "    )\n",
    "\n",
    "comp_62_df_10 = pd.DataFrame(d)\n",
    "comp_62_df_10"
   ]
  },
  {
   "cell_type": "code",
   "execution_count": 156,
   "metadata": {},
   "outputs": [
    {
     "name": "stdout",
     "output_type": "stream",
     "text": [
      "\\begin{tabular}{lrllrl}\n",
      "\\toprule\n",
      "{} &  Event &                    Source &                    Target &  Time &        Type \\\\\n",
      "\\midrule\n",
      "0 &    493 &  PtNum\\_rvket41233dc3rvket &  PtNum\\_rvket2a2cab77rvket &   170 &  surgery\\_12 \\\\\n",
      "\\bottomrule\n",
      "\\end{tabular}\n",
      "\n"
     ]
    }
   ],
   "source": [
    "print(comp_62_df_10.to_latex())"
   ]
  },
  {
   "cell_type": "code",
   "execution_count": null,
   "metadata": {},
   "outputs": [],
   "source": [
    "comp_62_df = pd.concat(frames)"
   ]
  },
  {
   "cell_type": "code",
   "execution_count": null,
   "metadata": {},
   "outputs": [],
   "source": [
    "comp_62_df"
   ]
  },
  {
   "cell_type": "code",
   "execution_count": 158,
   "metadata": {
    "scrolled": true
   },
   "outputs": [
    {
     "name": "stdout",
     "output_type": "stream",
     "text": [
      "\\begin{tabular}{lrllrl}\n",
      "\\toprule\n",
      "{} &  Event &                    Source &                    Target &  Time &           Ward \\\\\n",
      "\\midrule\n",
      "0  &    363 &  PtNum\\_rvket61f2344arvket &  PtNum\\_rvket253f82dbrvket &   113 &     oncology\\_2 \\\\\n",
      "1  &    364 &  PtNum\\_rvket61f2344arvket &  PtNum\\_rvket253f82dbrvket &   114 &     oncology\\_2 \\\\\n",
      "2  &    365 &  PtNum\\_rvket61f2344arvket &  PtNum\\_rvket253f82dbrvket &   115 &     oncology\\_2 \\\\\n",
      "3  &    392 &  PtNum\\_rvket9bd252d5rvket &  PtNum\\_rvket61f2344arvket &   121 &  respiratory\\_2 \\\\\n",
      "4  &    393 &  PtNum\\_rvket9bd252d5rvket &  PtNum\\_rvket61f2344arvket &   122 &  respiratory\\_2 \\\\\n",
      "5  &    419 &  PtNum\\_rvket41233dc3rvket &  PtNum\\_rvket2a2cab77rvket &   162 &     surgery\\_12 \\\\\n",
      "6  &    420 &  PtNum\\_rvket41233dc3rvket &  PtNum\\_rvket2a2cab77rvket &   163 &     surgery\\_12 \\\\\n",
      "7  &    421 &  PtNum\\_rvket41233dc3rvket &  PtNum\\_rvket2a2cab77rvket &   164 &     surgery\\_12 \\\\\n",
      "8  &    426 &  PtNum\\_rvket9bd252d5rvket &  PtNum\\_rvket3c61c1aarvket &   150 &  respiratory\\_2 \\\\\n",
      "9  &    427 &  PtNum\\_rvket9bd252d5rvket &  PtNum\\_rvket3c61c1aarvket &   151 &  respiratory\\_2 \\\\\n",
      "10 &    439 &  PtNum\\_rvket7d4e3793rvket &  PtNum\\_rvket61f2344arvket &   134 &   cardiology\\_4 \\\\\n",
      "11 &    440 &  PtNum\\_rvket7d4e3793rvket &  PtNum\\_rvket61f2344arvket &   135 &   cardiology\\_4 \\\\\n",
      "12 &    441 &  PtNum\\_rvket9c12e357rvket &  PtNum\\_rvket61f2344arvket &   137 &   cardiology\\_4 \\\\\n",
      "13 &    442 &  PtNum\\_rvket9c12e357rvket &  PtNum\\_rvket61f2344arvket &   138 &   cardiology\\_4 \\\\\n",
      "14 &    443 &  PtNum\\_rvket9c12e357rvket &  PtNum\\_rvket61f2344arvket &   139 &   cardiology\\_4 \\\\\n",
      "15 &    444 &  PtNum\\_rvket9c12e357rvket &  PtNum\\_rvket61f2344arvket &   140 &   cardiology\\_4 \\\\\n",
      "16 &    445 &  PtNum\\_rvket9c12e357rvket &  PtNum\\_rvket61f2344arvket &   141 &   cardiology\\_4 \\\\\n",
      "17 &    446 &  PtNum\\_rvket9c12e357rvket &  PtNum\\_rvket61f2344arvket &   142 &   cardiology\\_4 \\\\\n",
      "18 &    488 &  PtNum\\_rvket41233dc3rvket &  PtNum\\_rvket2a2cab77rvket &   165 &     surgery\\_12 \\\\\n",
      "19 &    489 &  PtNum\\_rvket41233dc3rvket &  PtNum\\_rvket2a2cab77rvket &   166 &     surgery\\_12 \\\\\n",
      "20 &    490 &  PtNum\\_rvket41233dc3rvket &  PtNum\\_rvket2a2cab77rvket &   167 &     surgery\\_12 \\\\\n",
      "21 &    491 &  PtNum\\_rvket41233dc3rvket &  PtNum\\_rvket2a2cab77rvket &   168 &     surgery\\_12 \\\\\n",
      "22 &    492 &  PtNum\\_rvket41233dc3rvket &  PtNum\\_rvket2a2cab77rvket &   169 &     surgery\\_12 \\\\\n",
      "23 &    493 &  PtNum\\_rvket41233dc3rvket &  PtNum\\_rvket2a2cab77rvket &   170 &     surgery\\_12 \\\\\n",
      "24 &    495 &  PtNum\\_rvket61f2344arvket &  PtNum\\_rvket57fffafervket &   173 &    medicine\\_21 \\\\\n",
      "25 &    496 &  PtNum\\_rvket61f2344arvket &  PtNum\\_rvket57fffafervket &   174 &    medicine\\_21 \\\\\n",
      "26 &    539 &  PtNum\\_rvket61f2344arvket &  PtNum\\_rvket2a2cab77rvket &   220 &     oncology\\_2 \\\\\n",
      "27 &    540 &  PtNum\\_rvket61f2344arvket &  PtNum\\_rvket2a2cab77rvket &   221 &     oncology\\_2 \\\\\n",
      "28 &    541 &  PtNum\\_rvket61f2344arvket &  PtNum\\_rvket2a2cab77rvket &   222 &     oncology\\_2 \\\\\n",
      "29 &    542 &  PtNum\\_rvket61f2344arvket &  PtNum\\_rvket2a2cab77rvket &   223 &     oncology\\_2 \\\\\n",
      "\\bottomrule\n",
      "\\end{tabular}\n",
      "\n"
     ]
    }
   ],
   "source": [
    "print(comp_62_df.to_latex())"
   ]
  },
  {
   "cell_type": "code",
   "execution_count": null,
   "metadata": {},
   "outputs": [],
   "source": []
  },
  {
   "cell_type": "code",
   "execution_count": 159,
   "metadata": {},
   "outputs": [],
   "source": [
    "comp_129_nx = comp_129.create_networkx_event_graph()"
   ]
  },
  {
   "cell_type": "code",
   "execution_count": 160,
   "metadata": {},
   "outputs": [
    {
     "name": "stdout",
     "output_type": "stream",
     "text": [
      "[]\n"
     ]
    }
   ],
   "source": [
    "save_graph_with_colour(comp_129_nx, 'comp_129.png')"
   ]
  },
  {
   "cell_type": "markdown",
   "metadata": {},
   "source": [
    "<img src = 'comp_129.png'>"
   ]
  },
  {
   "cell_type": "code",
   "execution_count": 161,
   "metadata": {},
   "outputs": [
    {
     "name": "stdout",
     "output_type": "stream",
     "text": [
      "                       source                    target  time        type\n",
      "888  PtNum_rvketbd699529rvket  PtNum_rvket5bf8fc37rvket   318  medicine_9\n"
     ]
    }
   ],
   "source": [
    "print(df.loc[[888]])"
   ]
  },
  {
   "cell_type": "code",
   "execution_count": 162,
   "metadata": {},
   "outputs": [
    {
     "name": "stdout",
     "output_type": "stream",
     "text": [
      "                       source                    target  time        type\n",
      "921  PtNum_rvket5bf8fc37rvket  PtNum_rvket1baa5c25rvket   348  medicine_9\n",
      "                       source                    target  time        type\n",
      "922  PtNum_rvket5bf8fc37rvket  PtNum_rvket1baa5c25rvket   349  medicine_9\n"
     ]
    }
   ],
   "source": [
    "for i in range(921, 923):\n",
    "    print(df.loc[[i]])"
   ]
  },
  {
   "cell_type": "code",
   "execution_count": 163,
   "metadata": {},
   "outputs": [
    {
     "name": "stdout",
     "output_type": "stream",
     "text": [
      "                       source                    target  time        type\n",
      "923  PtNum_rvkete4174e4brvket  PtNum_rvket1fdae91ervket   348  medicine_9\n"
     ]
    }
   ],
   "source": [
    "print(df.loc[[923]])"
   ]
  },
  {
   "cell_type": "code",
   "execution_count": 164,
   "metadata": {
    "scrolled": true
   },
   "outputs": [
    {
     "name": "stdout",
     "output_type": "stream",
     "text": [
      "                       source                    target  time        type\n",
      "958  PtNum_rvkete4174e4brvket  PtNum_rvket5bf8fc37rvket   350  medicine_1\n"
     ]
    }
   ],
   "source": [
    "print(df.loc[[958]])"
   ]
  },
  {
   "cell_type": "markdown",
   "metadata": {},
   "source": [
    "## Cluster 4"
   ]
  },
  {
   "cell_type": "code",
   "execution_count": 166,
   "metadata": {},
   "outputs": [],
   "source": [
    "cluster_4 = clusters[clusters == 4] # all components in cluster 4"
   ]
  },
  {
   "cell_type": "code",
   "execution_count": 167,
   "metadata": {
    "scrolled": false
   },
   "outputs": [
    {
     "data": {
      "text/plain": [
       "1      4\n",
       "152    4\n",
       "220    4\n",
       "36     4\n",
       "223    4\n",
       "68     4\n",
       "195    4\n",
       "227    4\n",
       "109    4\n",
       "94     4\n",
       "188    4\n",
       "210    4\n",
       "151    4\n",
       "226    4\n",
       "60     4\n",
       "106    4\n",
       "215    4\n",
       "77     4\n",
       "dtype: int64"
      ]
     },
     "execution_count": 167,
     "metadata": {},
     "output_type": "execute_result"
    }
   ],
   "source": [
    "cluster_4"
   ]
  },
  {
   "cell_type": "code",
   "execution_count": 168,
   "metadata": {},
   "outputs": [
    {
     "data": {
      "text/plain": [
       "4    18\n",
       "dtype: int64"
      ]
     },
     "execution_count": 168,
     "metadata": {},
     "output_type": "execute_result"
    }
   ],
   "source": [
    "cluster_4.value_counts()"
   ]
  },
  {
   "cell_type": "code",
   "execution_count": 169,
   "metadata": {},
   "outputs": [
    {
     "data": {
      "text/plain": [
       "<EventGraph with 8 nodes, 34 events, and 33 edges (status: built)>"
      ]
     },
     "execution_count": 169,
     "metadata": {},
     "output_type": "execute_result"
    }
   ],
   "source": [
    "comp_1 = components[1]\n",
    "comp_1"
   ]
  },
  {
   "cell_type": "code",
   "execution_count": 170,
   "metadata": {},
   "outputs": [
    {
     "data": {
      "text/plain": [
       "<EventGraph with 7 nodes, 31 events, and 30 edges (status: built)>"
      ]
     },
     "execution_count": 170,
     "metadata": {},
     "output_type": "execute_result"
    }
   ],
   "source": [
    "comp_152 = components[152]\n",
    "comp_152"
   ]
  },
  {
   "cell_type": "code",
   "execution_count": 171,
   "metadata": {},
   "outputs": [
    {
     "data": {
      "text/plain": [
       "<EventGraph with 7 nodes, 28 events, and 27 edges (status: built)>"
      ]
     },
     "execution_count": 171,
     "metadata": {},
     "output_type": "execute_result"
    }
   ],
   "source": [
    "comp_220 = components[220]\n",
    "comp_220"
   ]
  },
  {
   "cell_type": "code",
   "execution_count": 172,
   "metadata": {},
   "outputs": [
    {
     "data": {
      "text/plain": [
       "<EventGraph with 3 nodes, 6 events, and 5 edges (status: built)>"
      ]
     },
     "execution_count": 172,
     "metadata": {},
     "output_type": "execute_result"
    }
   ],
   "source": [
    "comp_77 = components[77]\n",
    "comp_77"
   ]
  },
  {
   "cell_type": "code",
   "execution_count": 173,
   "metadata": {
    "scrolled": true
   },
   "outputs": [
    {
     "name": "stdout",
     "output_type": "stream",
     "text": [
      "\n",
      "component 1\n",
      "                       source                    target  time     type\n",
      "1    PtNum_rvket2f0c7655rvket  PtNum_rvket1e1e94farvket    11  renal_4\n",
      "22   PtNum_rvket2f0c7655rvket  PtNum_rvket1e1e94farvket    12  renal_4\n",
      "23   PtNum_rvket2f0c7655rvket  PtNum_rvket1e1e94farvket    13  renal_4\n",
      "24   PtNum_rvket2f0c7655rvket  PtNum_rvket1e1e94farvket    14  renal_4\n",
      "26   PtNum_rvket572ddf2crvket  PtNum_rvket2f0c7655rvket    28  renal_4\n",
      "27   PtNum_rvket572ddf2crvket  PtNum_rvket2f0c7655rvket    29  renal_4\n",
      "28   PtNum_rvket572ddf2crvket  PtNum_rvket2f0c7655rvket    30  renal_4\n",
      "29   PtNum_rvket572ddf2crvket  PtNum_rvket2f0c7655rvket    31  renal_4\n",
      "30   PtNum_rvket572ddf2crvket  PtNum_rvket2f0c7655rvket    32  renal_4\n",
      "31   PtNum_rvket572ddf2crvket  PtNum_rvket2f0c7655rvket    33  renal_4\n",
      "32   PtNum_rvket572ddf2crvket  PtNum_rvket2f0c7655rvket    34  renal_4\n",
      "33   PtNum_rvket572ddf2crvket  PtNum_rvket2f0c7655rvket    35  renal_4\n",
      "34   PtNum_rvket572ddf2crvket  PtNum_rvket2f0c7655rvket    36  renal_4\n",
      "141  PtNum_rvketa1923d35rvket  PtNum_rvket2f0c7655rvket    51  renal_4\n",
      "142  PtNum_rvketa1923d35rvket  PtNum_rvket2f0c7655rvket    52  renal_4\n",
      "143  PtNum_rvketab4f3315rvket  PtNum_rvket2f0c7655rvket    54  renal_4\n",
      "144  PtNum_rvketab4f3315rvket  PtNum_rvket2f0c7655rvket    55  renal_4\n",
      "145  PtNum_rvketab4f3315rvket  PtNum_rvket2f0c7655rvket    56  renal_4\n",
      "146  PtNum_rvketce4b432drvket  PtNum_rvket2f0c7655rvket    45  renal_4\n",
      "147  PtNum_rvketce4b432drvket  PtNum_rvket2f0c7655rvket    46  renal_4\n",
      "148  PtNum_rvketce4b432drvket  PtNum_rvket2f0c7655rvket    47  renal_4\n",
      "149  PtNum_rvketce4b432drvket  PtNum_rvket2f0c7655rvket    48  renal_4\n",
      "150  PtNum_rvketce4b432drvket  PtNum_rvket2f0c7655rvket    49  renal_4\n",
      "151  PtNum_rvketce4b432drvket  PtNum_rvket2f0c7655rvket    50  renal_4\n",
      "187  PtNum_rvketab4f3315rvket  PtNum_rvket56979cfbrvket    57  Ward_na\n",
      "188  PtNum_rvketab4f3315rvket  PtNum_rvket56979cfbrvket    58  Ward_na\n",
      "189  PtNum_rvketab4f3315rvket  PtNum_rvket56979cfbrvket    59  Ward_na\n",
      "190  PtNum_rvketab4f3315rvket  PtNum_rvket56979cfbrvket    60  Ward_na\n",
      "191  PtNum_rvketab4f3315rvket  PtNum_rvket56979cfbrvket    61  Ward_na\n",
      "192  PtNum_rvketab4f3315rvket  PtNum_rvket56979cfbrvket    62  Ward_na\n",
      "194  PtNum_rvketce4b432drvket  PtNum_rvket572ddf2crvket    66  renal_5\n",
      "195  PtNum_rvketce4b432drvket  PtNum_rvket572ddf2crvket    67  renal_5\n",
      "216  PtNum_rvketce4b432drvket  PtNum_rvketa1923d35rvket    53  renal_2\n",
      "233  PtNum_rvketcf640db6rvket  PtNum_rvketce4b432drvket    67  renal_5\n",
      "\n",
      "component 152\n",
      "                        source                    target  time  \\\n",
      "989   PtNum_rvket1b5f8cc4rvket  PtNum_rvket060ad40ervket   396   \n",
      "990   PtNum_rvket1b5f8cc4rvket  PtNum_rvket060ad40ervket   397   \n",
      "991   PtNum_rvket1b5f8cc4rvket  PtNum_rvket060ad40ervket   398   \n",
      "992   PtNum_rvket1b5f8cc4rvket  PtNum_rvket060ad40ervket   399   \n",
      "993   PtNum_rvket1b5f8cc4rvket  PtNum_rvket060ad40ervket   400   \n",
      "1047  PtNum_rvketcad398a4rvket  PtNum_rvket1863f819rvket   391   \n",
      "1048  PtNum_rvketcad398a4rvket  PtNum_rvket1b5f8cc4rvket   401   \n",
      "1049  PtNum_rvketcad398a4rvket  PtNum_rvket1b5f8cc4rvket   402   \n",
      "1050  PtNum_rvketcad398a4rvket  PtNum_rvket1b5f8cc4rvket   403   \n",
      "1051  PtNum_rvketcad398a4rvket  PtNum_rvket1b5f8cc4rvket   404   \n",
      "1052  PtNum_rvketcad398a4rvket  PtNum_rvket1b5f8cc4rvket   405   \n",
      "1053  PtNum_rvketcad398a4rvket  PtNum_rvket1b5f8cc4rvket   406   \n",
      "1095  PtNum_rvket6a1ae368rvket  PtNum_rvket1b5f8cc4rvket   467   \n",
      "1096  PtNum_rvket8ce61334rvket  PtNum_rvket1b5f8cc4rvket   449   \n",
      "1097  PtNum_rvket8ce61334rvket  PtNum_rvket1b5f8cc4rvket   450   \n",
      "1098  PtNum_rvket8ce61334rvket  PtNum_rvket1b5f8cc4rvket   451   \n",
      "1099  PtNum_rvket8ce61334rvket  PtNum_rvket1b5f8cc4rvket   452   \n",
      "1100  PtNum_rvket8ce61334rvket  PtNum_rvket1b5f8cc4rvket   453   \n",
      "1101  PtNum_rvket8ce61334rvket  PtNum_rvket1b5f8cc4rvket   454   \n",
      "1102  PtNum_rvket8ce61334rvket  PtNum_rvket1b5f8cc4rvket   459   \n",
      "1103  PtNum_rvket8ce61334rvket  PtNum_rvket1b5f8cc4rvket   460   \n",
      "1104  PtNum_rvket8ce61334rvket  PtNum_rvket1b5f8cc4rvket   461   \n",
      "1105  PtNum_rvket8ce61334rvket  PtNum_rvket1b5f8cc4rvket   462   \n",
      "1106  PtNum_rvket8ce61334rvket  PtNum_rvket1b5f8cc4rvket   463   \n",
      "1107  PtNum_rvket8ce61334rvket  PtNum_rvket1b5f8cc4rvket   464   \n",
      "1108  PtNum_rvket8ce61334rvket  PtNum_rvket1b5f8cc4rvket   465   \n",
      "1109  PtNum_rvket8ce61334rvket  PtNum_rvket1b5f8cc4rvket   466   \n",
      "1135  PtNum_rvket6a1ae368rvket  PtNum_rvket1b5f8cc4rvket   468   \n",
      "1136  PtNum_rvket6a1ae368rvket  PtNum_rvket1b5f8cc4rvket   469   \n",
      "1137  PtNum_rvket6a1ae368rvket  PtNum_rvket1b5f8cc4rvket   470   \n",
      "1265  PtNum_rvketeffa0561rvket  PtNum_rvket6a1ae368rvket   506   \n",
      "\n",
      "                       type  \n",
      "989                 renal_2  \n",
      "990                 renal_2  \n",
      "991                 renal_2  \n",
      "992                 renal_2  \n",
      "993                 renal_2  \n",
      "1047  infectious diseases_1  \n",
      "1048                renal_4  \n",
      "1049                renal_4  \n",
      "1050                renal_4  \n",
      "1051                renal_4  \n",
      "1052                renal_4  \n",
      "1053                renal_4  \n",
      "1095                renal_5  \n",
      "1096                renal_5  \n",
      "1097                renal_5  \n",
      "1098                renal_5  \n",
      "1099                renal_5  \n",
      "1100                renal_5  \n",
      "1101                renal_5  \n",
      "1102                renal_5  \n",
      "1103                renal_5  \n",
      "1104                renal_5  \n",
      "1105                renal_5  \n",
      "1106                renal_5  \n",
      "1107                renal_5  \n",
      "1108                renal_5  \n",
      "1109                renal_5  \n",
      "1135                renal_5  \n",
      "1136                renal_5  \n",
      "1137                renal_5  \n",
      "1265                renal_1  \n",
      "\n",
      "component 220\n",
      "                        source                    target  time     type\n",
      "1271  PtNum_rvket1fd45dd9rvket  PtNum_rvket13d1f2d5rvket   543  renal_4\n",
      "1387  PtNum_rvket1a7e46c4rvket  PtNum_rvket13d1f2d5rvket   592  renal_4\n",
      "1388  PtNum_rvket1fd45dd9rvket  PtNum_rvket1513964arvket   592  renal_5\n",
      "1389  PtNum_rvket1fd45dd9rvket  PtNum_rvket1513964arvket   593  renal_5\n",
      "1390  PtNum_rvketcf1cf00brvket  PtNum_rvket1fd45dd9rvket   601  renal_5\n",
      "1391  PtNum_rvketcf1cf00brvket  PtNum_rvket1fd45dd9rvket   602  renal_5\n",
      "1392  PtNum_rvketcf1cf00brvket  PtNum_rvket1fd45dd9rvket   603  renal_5\n",
      "1460  PtNum_rvketd3267ce9rvket  PtNum_rvketcf1cf00brvket   608  renal_5\n",
      "1461  PtNum_rvketd3267ce9rvket  PtNum_rvketcf1cf00brvket   609  renal_5\n",
      "1462  PtNum_rvketd3267ce9rvket  PtNum_rvketcf1cf00brvket   610  renal_5\n",
      "1463  PtNum_rvketd3267ce9rvket  PtNum_rvketcf1cf00brvket   611  renal_5\n",
      "1464  PtNum_rvketd3267ce9rvket  PtNum_rvketcf1cf00brvket   612  renal_5\n",
      "1465  PtNum_rvketd3267ce9rvket  PtNum_rvketcf1cf00brvket   613  renal_5\n",
      "1550  PtNum_rvketd3267ce9rvket  PtNum_rvketbaaf01b9rvket   620  renal_5\n",
      "1551  PtNum_rvketd3267ce9rvket  PtNum_rvketbaaf01b9rvket   621  renal_5\n",
      "1552  PtNum_rvketd3267ce9rvket  PtNum_rvketbaaf01b9rvket   622  renal_5\n",
      "1553  PtNum_rvketd3267ce9rvket  PtNum_rvketbaaf01b9rvket   623  renal_5\n",
      "1554  PtNum_rvketd3267ce9rvket  PtNum_rvketbaaf01b9rvket   624  renal_5\n",
      "1555  PtNum_rvketd3267ce9rvket  PtNum_rvketbaaf01b9rvket   625  renal_5\n",
      "1556  PtNum_rvketd3267ce9rvket  PtNum_rvketbaaf01b9rvket   626  renal_5\n",
      "1557  PtNum_rvketd3267ce9rvket  PtNum_rvketbaaf01b9rvket   627  renal_5\n",
      "1558  PtNum_rvketd3267ce9rvket  PtNum_rvketbaaf01b9rvket   628  renal_5\n",
      "1559  PtNum_rvketd3267ce9rvket  PtNum_rvketbaaf01b9rvket   629  renal_5\n",
      "1560  PtNum_rvketd3267ce9rvket  PtNum_rvketbaaf01b9rvket   630  renal_5\n",
      "1561  PtNum_rvketd3267ce9rvket  PtNum_rvketbaaf01b9rvket   631  renal_5\n",
      "1562  PtNum_rvketd3267ce9rvket  PtNum_rvketbaaf01b9rvket   632  renal_5\n",
      "1563  PtNum_rvketd3267ce9rvket  PtNum_rvketbaaf01b9rvket   633  renal_5\n",
      "1564  PtNum_rvketd3267ce9rvket  PtNum_rvketbaaf01b9rvket   634  renal_5\n",
      "\n",
      "component 36\n",
      "                       source                    target  time             type\n",
      "215  PtNum_rvketb1fd5603rvket  PtNum_rvket8ecbb85crvket    69      medicine_19\n",
      "333  PtNum_rvket8ecbb85crvket  PtNum_rvket7d4d6a57rvket    82  critical care_5\n",
      "454  PtNum_rvketd2d4192crvket  PtNum_rvket8ecbb85crvket   153  critical care_2\n",
      "504  PtNum_rvketd4f48ba7rvket  PtNum_rvket8ecbb85crvket   166    respiratory_2\n",
      "505  PtNum_rvketd4f48ba7rvket  PtNum_rvket8ecbb85crvket   167    respiratory_2\n",
      "506  PtNum_rvketd4f48ba7rvket  PtNum_rvket8ecbb85crvket   168    respiratory_2\n",
      "507  PtNum_rvketd4f48ba7rvket  PtNum_rvket8ecbb85crvket   169    respiratory_2\n",
      "508  PtNum_rvketd4f48ba7rvket  PtNum_rvket8ecbb85crvket   170    respiratory_2\n",
      "509  PtNum_rvketd4f48ba7rvket  PtNum_rvket8ecbb85crvket   171    respiratory_2\n",
      "510  PtNum_rvketd4f48ba7rvket  PtNum_rvket8ecbb85crvket   172    respiratory_2\n",
      "511  PtNum_rvketd4f48ba7rvket  PtNum_rvket8ecbb85crvket   173    respiratory_2\n",
      "512  PtNum_rvketd4f48ba7rvket  PtNum_rvket8ecbb85crvket   174    respiratory_2\n",
      "513  PtNum_rvketd4f48ba7rvket  PtNum_rvket8ecbb85crvket   175    respiratory_2\n",
      "514  PtNum_rvketd4f48ba7rvket  PtNum_rvket8ecbb85crvket   176    respiratory_2\n",
      "515  PtNum_rvketd4f48ba7rvket  PtNum_rvket8ecbb85crvket   177    respiratory_2\n",
      "516  PtNum_rvketd4f48ba7rvket  PtNum_rvket8ecbb85crvket   178    respiratory_2\n",
      "517  PtNum_rvketd4f48ba7rvket  PtNum_rvket8ecbb85crvket   179    respiratory_2\n",
      "518  PtNum_rvketd4f48ba7rvket  PtNum_rvket8ecbb85crvket   180    respiratory_2\n",
      "519  PtNum_rvketd4f48ba7rvket  PtNum_rvket8ecbb85crvket   181    respiratory_2\n",
      "520  PtNum_rvketd4f48ba7rvket  PtNum_rvket8ecbb85crvket   182    respiratory_2\n",
      "521  PtNum_rvketd4f48ba7rvket  PtNum_rvket8ecbb85crvket   183    respiratory_2\n",
      "522  PtNum_rvketd4f48ba7rvket  PtNum_rvket8ecbb85crvket   184    respiratory_2\n",
      "523  PtNum_rvketd4f48ba7rvket  PtNum_rvket8ecbb85crvket   185    respiratory_2\n",
      "524  PtNum_rvketd4f48ba7rvket  PtNum_rvket8ecbb85crvket   186    respiratory_2\n",
      "525  PtNum_rvketd4f48ba7rvket  PtNum_rvket8ecbb85crvket   187    respiratory_2\n",
      "526  PtNum_rvketd4f48ba7rvket  PtNum_rvket8ecbb85crvket   188    respiratory_2\n",
      "527  PtNum_rvketd4f48ba7rvket  PtNum_rvket8ecbb85crvket   189    respiratory_2\n",
      "528  PtNum_rvketd4f48ba7rvket  PtNum_rvket8ecbb85crvket   190    respiratory_2\n",
      "\n",
      "component 223\n",
      "                        source                    target  time       type\n",
      "1281  PtNum_rvket79eef172rvket  PtNum_rvket5536d828rvket   531  surgery_1\n",
      "1282  PtNum_rvket79eef172rvket  PtNum_rvket5536d828rvket   532  surgery_1\n",
      "1283  PtNum_rvket79eef172rvket  PtNum_rvket5536d828rvket   534  surgery_1\n",
      "1284  PtNum_rvket79eef172rvket  PtNum_rvket5536d828rvket   535  surgery_1\n",
      "1285  PtNum_rvket79eef172rvket  PtNum_rvket5536d828rvket   536  surgery_1\n",
      "1310  PtNum_rvket5536d828rvket  PtNum_rvket1e110e2frvket   572  surgery_1\n",
      "1311  PtNum_rvket5536d828rvket  PtNum_rvket1e110e2frvket   573  surgery_1\n",
      "1312  PtNum_rvket5536d828rvket  PtNum_rvket1e110e2frvket   574  surgery_1\n",
      "1313  PtNum_rvket5536d828rvket  PtNum_rvket1e110e2frvket   575  surgery_1\n",
      "1314  PtNum_rvket5536d828rvket  PtNum_rvket1e110e2frvket   576  surgery_1\n",
      "1315  PtNum_rvket5536d828rvket  PtNum_rvket1e110e2frvket   577  surgery_1\n",
      "1316  PtNum_rvket5536d828rvket  PtNum_rvket1e110e2frvket   578  surgery_1\n",
      "1317  PtNum_rvket5536d828rvket  PtNum_rvket1e110e2frvket   579  surgery_1\n",
      "1318  PtNum_rvket5536d828rvket  PtNum_rvket1e110e2frvket   580  surgery_1\n",
      "1319  PtNum_rvket5536d828rvket  PtNum_rvket1e110e2frvket   581  surgery_1\n",
      "1320  PtNum_rvket5536d828rvket  PtNum_rvket1e110e2frvket   582  surgery_1\n",
      "1321  PtNum_rvket5536d828rvket  PtNum_rvket1e110e2frvket   583  surgery_1\n",
      "1322  PtNum_rvket5536d828rvket  PtNum_rvket1e110e2frvket   584  surgery_5\n",
      "1323  PtNum_rvket5536d828rvket  PtNum_rvket1e110e2frvket   585  surgery_5\n",
      "1324  PtNum_rvket5536d828rvket  PtNum_rvket1e110e2frvket   586  surgery_5\n",
      "1325  PtNum_rvket5536d828rvket  PtNum_rvket1e110e2frvket   587  surgery_5\n",
      "1326  PtNum_rvket5536d828rvket  PtNum_rvket1e110e2frvket   588  surgery_5\n",
      "1327  PtNum_rvket5536d828rvket  PtNum_rvket1e110e2frvket   589  surgery_5\n",
      "\n",
      "component 68\n",
      "                       source                    target  time         type\n",
      "404  PtNum_rvkete1bf934arvket  PtNum_rvketba1eba60rvket   115   oncology_2\n",
      "405  PtNum_rvkete1bf934arvket  PtNum_rvketba1eba60rvket   116   oncology_2\n",
      "481  PtNum_rvket1a4b3d57rvket  PtNum_rvket0ce34a74rvket   180      renal_2\n",
      "483  PtNum_rvket4aa4aef9rvket  PtNum_rvket1a4b3d57rvket   184      renal_5\n",
      "484  PtNum_rvket4aa4aef9rvket  PtNum_rvket1a4b3d57rvket   185      renal_5\n",
      "485  PtNum_rvket4aa4aef9rvket  PtNum_rvket1a4b3d57rvket   186      renal_5\n",
      "486  PtNum_rvket4aa4aef9rvket  PtNum_rvket1a4b3d57rvket   187      renal_5\n",
      "487  PtNum_rvket4aa4aef9rvket  PtNum_rvket1a4b3d57rvket   188      renal_5\n",
      "530  PtNum_rvketda4c99eervket  PtNum_rvketba1eba60rvket   185  medicine_18\n",
      "557  PtNum_rvketda4c99eervket  PtNum_rvket4aa4aef9rvket   208      renal_5\n",
      "558  PtNum_rvketda4c99eervket  PtNum_rvket4aa4aef9rvket   209      renal_5\n",
      "559  PtNum_rvketda4c99eervket  PtNum_rvket4aa4aef9rvket   210      renal_5\n",
      "560  PtNum_rvketda4c99eervket  PtNum_rvket4aa4aef9rvket   211      renal_5\n",
      "561  PtNum_rvketda4c99eervket  PtNum_rvket4aa4aef9rvket   212      renal_5\n",
      "562  PtNum_rvketda4c99eervket  PtNum_rvket4aa4aef9rvket   213      renal_5\n",
      "635  PtNum_rvket572ddf2crvket  PtNum_rvket1a4b3d57rvket   226      renal_3\n",
      "636  PtNum_rvket572ddf2crvket  PtNum_rvket1a4b3d57rvket   227      renal_3\n",
      "\n",
      "component 195\n",
      "                        source                    target  time       type\n",
      "1122  PtNum_rvketde1f4e58rvket  PtNum_rvket4168a9f6rvket   438  surgery_1\n",
      "1123  PtNum_rvketde1f4e58rvket  PtNum_rvket4168a9f6rvket   466  surgery_1\n",
      "1146  PtNum_rvket4168a9f6rvket  PtNum_rvket311ba5f2rvket   475  surgery_1\n",
      "1151  PtNum_rvket490b9fe7rvket  PtNum_rvket4168a9f6rvket   478  surgery_1\n",
      "1152  PtNum_rvket490b9fe7rvket  PtNum_rvket4168a9f6rvket   479  surgery_1\n",
      "1153  PtNum_rvket490b9fe7rvket  PtNum_rvket4168a9f6rvket   480  surgery_1\n",
      "1154  PtNum_rvket490b9fe7rvket  PtNum_rvket4168a9f6rvket   481  surgery_1\n",
      "1155  PtNum_rvket490b9fe7rvket  PtNum_rvket4168a9f6rvket   482  surgery_1\n",
      "1156  PtNum_rvket490b9fe7rvket  PtNum_rvket4168a9f6rvket   483  surgery_1\n",
      "1157  PtNum_rvket490b9fe7rvket  PtNum_rvket4168a9f6rvket   484  surgery_1\n",
      "1158  PtNum_rvket490b9fe7rvket  PtNum_rvket4168a9f6rvket   485  surgery_1\n",
      "1159  PtNum_rvket490b9fe7rvket  PtNum_rvket4168a9f6rvket   486  surgery_1\n",
      "1160  PtNum_rvket490b9fe7rvket  PtNum_rvket4168a9f6rvket   487  surgery_1\n",
      "1161  PtNum_rvket490b9fe7rvket  PtNum_rvket4168a9f6rvket   488  surgery_1\n",
      "\n",
      "component 227\n",
      "                        source                    target  time        type\n",
      "1299  PtNum_rvketb706bf9crvket  PtNum_rvket7a8132a6rvket   555  medicine_9\n",
      "1300  PtNum_rvketb706bf9crvket  PtNum_rvket7a8132a6rvket   556  medicine_9\n",
      "1301  PtNum_rvketb706bf9crvket  PtNum_rvket7a8132a6rvket   557  medicine_9\n",
      "1402  PtNum_rvket7a8132a6rvket  PtNum_rvket21ba4b00rvket   609     renal_4\n",
      "1403  PtNum_rvket7a8132a6rvket  PtNum_rvket21ba4b00rvket   610     renal_4\n",
      "1404  PtNum_rvket7a8132a6rvket  PtNum_rvket21ba4b00rvket   611     renal_4\n",
      "1405  PtNum_rvket7a8132a6rvket  PtNum_rvket21ba4b00rvket   612     renal_4\n",
      "1406  PtNum_rvket7a8132a6rvket  PtNum_rvket21ba4b00rvket   613     renal_4\n",
      "1407  PtNum_rvket7a8132a6rvket  PtNum_rvket21ba4b00rvket   614     renal_4\n",
      "1408  PtNum_rvket7a8132a6rvket  PtNum_rvket21ba4b00rvket   615     renal_4\n",
      "1409  PtNum_rvket7a8132a6rvket  PtNum_rvket21ba4b00rvket   616     renal_4\n",
      "1410  PtNum_rvket7a8132a6rvket  PtNum_rvket21ba4b00rvket   617     renal_4\n",
      "1411  PtNum_rvket7a8132a6rvket  PtNum_rvket21ba4b00rvket   618     renal_4\n",
      "\n",
      "component 109\n",
      "                       source                    target  time       type\n",
      "727  PtNum_rvketf0bcc1c3rvket  PtNum_rvket599403efrvket   279    Ward_na\n",
      "728  PtNum_rvketf0bcc1c3rvket  PtNum_rvket599403efrvket   280    Ward_na\n",
      "729  PtNum_rvketf0bcc1c3rvket  PtNum_rvket599403efrvket   281    Ward_na\n",
      "756  PtNum_rvketec4bdb8arvket  PtNum_rvketeb4bb885rvket   259  surgery_1\n",
      "757  PtNum_rvketec4bdb8arvket  PtNum_rvketeb4bb885rvket   260  surgery_1\n",
      "810  PtNum_rvketeb4bb885rvket  PtNum_rvket599403efrvket   285  surgery_1\n",
      "811  PtNum_rvketeb4bb885rvket  PtNum_rvket599403efrvket   286  surgery_1\n",
      "812  PtNum_rvketeb4bb885rvket  PtNum_rvket599403efrvket   287  surgery_1\n",
      "813  PtNum_rvketeb4bb885rvket  PtNum_rvket599403efrvket   288  surgery_1\n",
      "814  PtNum_rvketeb4bb885rvket  PtNum_rvket599403efrvket   289  surgery_1\n",
      "815  PtNum_rvketeb4bb885rvket  PtNum_rvket599403efrvket   290  surgery_1\n",
      "816  PtNum_rvketeb4bb885rvket  PtNum_rvket599403efrvket   291  surgery_1\n",
      "817  PtNum_rvketeb4bb885rvket  PtNum_rvket599403efrvket   292  surgery_1\n",
      "\n",
      "component 94\n",
      "                       source                    target  time     type\n",
      "598  PtNum_rvketbd699529rvket  PtNum_rvket87872a64rvket   215  renal_2\n",
      "670  PtNum_rvket87872a64rvket  PtNum_rvket572ddf2crvket   224  renal_3\n",
      "671  PtNum_rvket87872a64rvket  PtNum_rvket572ddf2crvket   225  renal_3\n",
      "701  PtNum_rvketf7753aa5rvket  PtNum_rvket572ddf2crvket   254  renal_3\n",
      "702  PtNum_rvketf7753aa5rvket  PtNum_rvket572ddf2crvket   255  renal_3\n",
      "703  PtNum_rvketf7753aa5rvket  PtNum_rvket572ddf2crvket   256  renal_3\n",
      "704  PtNum_rvketf7753aa5rvket  PtNum_rvket572ddf2crvket   257  renal_3\n",
      "705  PtNum_rvketf7753aa5rvket  PtNum_rvket572ddf2crvket   258  renal_3\n",
      "706  PtNum_rvketf7753aa5rvket  PtNum_rvket572ddf2crvket   259  renal_3\n",
      "707  PtNum_rvketf7753aa5rvket  PtNum_rvket572ddf2crvket   260  renal_3\n",
      "708  PtNum_rvketf7753aa5rvket  PtNum_rvket572ddf2crvket   261  renal_3\n",
      "709  PtNum_rvketf7753aa5rvket  PtNum_rvket572ddf2crvket   265  renal_3\n",
      "\n",
      "component 188\n",
      "                        source                    target  time       type\n",
      "1081  PtNum_rvketfe2fd5f1rvket  PtNum_rvket4168a9f6rvket   430  surgery_1\n",
      "1082  PtNum_rvketfe2fd5f1rvket  PtNum_rvket4168a9f6rvket   431  surgery_1\n",
      "1090  PtNum_rvket4168a9f6rvket  PtNum_rvket19bb5b92rvket   438  surgery_1\n",
      "1113  PtNum_rvket5a8ce635rvket  PtNum_rvket4168a9f6rvket   459  surgery_1\n",
      "1114  PtNum_rvket5a8ce635rvket  PtNum_rvket4168a9f6rvket   460  surgery_1\n",
      "1115  PtNum_rvket5a8ce635rvket  PtNum_rvket4168a9f6rvket   461  surgery_1\n",
      "1116  PtNum_rvket5a8ce635rvket  PtNum_rvket4168a9f6rvket   462  surgery_1\n",
      "1117  PtNum_rvket5a8ce635rvket  PtNum_rvket4168a9f6rvket   463  surgery_1\n",
      "1118  PtNum_rvket5a8ce635rvket  PtNum_rvket4168a9f6rvket   464  surgery_1\n",
      "1119  PtNum_rvket5a8ce635rvket  PtNum_rvket4168a9f6rvket   465  surgery_1\n",
      "1120  PtNum_rvket5a8ce635rvket  PtNum_rvket4168a9f6rvket   466  surgery_1\n",
      "1121  PtNum_rvket5a8ce635rvket  PtNum_rvket4168a9f6rvket   467  surgery_1\n",
      "\n",
      "component 210\n",
      "                        source                    target  time       type\n",
      "1230  PtNum_rvketde1f4e58rvket  PtNum_rvketc8e93273rvket   486  surgery_1\n",
      "1231  PtNum_rvketde1f4e58rvket  PtNum_rvketc8e93273rvket   487  surgery_1\n",
      "1232  PtNum_rvketde1f4e58rvket  PtNum_rvketc8e93273rvket   488  surgery_1\n",
      "1233  PtNum_rvketde1f4e58rvket  PtNum_rvketc8e93273rvket   489  surgery_1\n",
      "1236  PtNum_rvketc8e93273rvket  PtNum_rvket03ec9a12rvket   499  surgery_1\n",
      "1237  PtNum_rvketc8e93273rvket  PtNum_rvket03ec9a12rvket   500  surgery_1\n",
      "1238  PtNum_rvketc8e93273rvket  PtNum_rvket03ec9a12rvket   501  surgery_1\n",
      "1239  PtNum_rvketc8e93273rvket  PtNum_rvket03ec9a12rvket   502  surgery_1\n",
      "1240  PtNum_rvketc8e93273rvket  PtNum_rvket03ec9a12rvket   503  surgery_1\n",
      "1241  PtNum_rvketc8e93273rvket  PtNum_rvket03ec9a12rvket   504  surgery_1\n",
      "1242  PtNum_rvketc8e93273rvket  PtNum_rvket03ec9a12rvket   505  surgery_1\n",
      "\n",
      "component 151\n",
      "                        source                    target  time           type\n",
      "986   PtNum_rvket054d7cccrvket  PtNum_rvket04bd90dcrvket   388  paediatrics_4\n",
      "987   PtNum_rvket054d7cccrvket  PtNum_rvket04bd90dcrvket   389  paediatrics_4\n",
      "988   PtNum_rvket1ce6cba3rvket  PtNum_rvket04bd90dcrvket   390  paediatrics_4\n",
      "1054  PtNum_rvket43d19884rvket  PtNum_rvket1ce6cba3rvket   394  paediatrics_3\n",
      "1055  PtNum_rvket43d19884rvket  PtNum_rvket1ce6cba3rvket   395  paediatrics_3\n",
      "1056  PtNum_rvket43d19884rvket  PtNum_rvket1ce6cba3rvket   396  paediatrics_3\n",
      "1057  PtNum_rvket43d19884rvket  PtNum_rvket1ce6cba3rvket   397  paediatrics_3\n",
      "1058  PtNum_rvket43d19884rvket  PtNum_rvket1ce6cba3rvket   398  paediatrics_3\n",
      "1059  PtNum_rvket43d19884rvket  PtNum_rvket1ce6cba3rvket   399  paediatrics_3\n",
      "\n",
      "component 226\n",
      "                        source                    target  time       type\n",
      "1298  PtNum_rvketfd8630afrvket  PtNum_rvket79eef172rvket   530  surgery_1\n",
      "1328  PtNum_rvket79eef172rvket  PtNum_rvket1e110e2frvket   572  surgery_1\n",
      "1329  PtNum_rvket79eef172rvket  PtNum_rvket1e110e2frvket   573  surgery_1\n",
      "1330  PtNum_rvket79eef172rvket  PtNum_rvket1e110e2frvket   574  surgery_1\n",
      "1331  PtNum_rvket79eef172rvket  PtNum_rvket1e110e2frvket   575  surgery_1\n",
      "1332  PtNum_rvket79eef172rvket  PtNum_rvket1e110e2frvket   576  surgery_1\n",
      "1333  PtNum_rvket79eef172rvket  PtNum_rvket1e110e2frvket   577  surgery_1\n",
      "1334  PtNum_rvket79eef172rvket  PtNum_rvket1e110e2frvket   578  surgery_1\n",
      "1335  PtNum_rvket79eef172rvket  PtNum_rvket1e110e2frvket   579  surgery_1\n",
      "\n",
      "component 60\n",
      "                       source                    target  time       type\n",
      "353  PtNum_rvket5bf8fc37rvket  PtNum_rvket1863f819rvket   118    Ward_na\n",
      "354  PtNum_rvketa1b64c31rvket  PtNum_rvket1863f819rvket   119  elderly_4\n",
      "355  PtNum_rvketa1b64c31rvket  PtNum_rvket1863f819rvket   120  elderly_4\n",
      "356  PtNum_rvketa1b64c31rvket  PtNum_rvket1863f819rvket   121  elderly_4\n",
      "357  PtNum_rvketa1b64c31rvket  PtNum_rvket1863f819rvket   122  elderly_4\n",
      "358  PtNum_rvketa1b64c31rvket  PtNum_rvket1863f819rvket   123  elderly_4\n",
      "359  PtNum_rvketa1b64c31rvket  PtNum_rvket1863f819rvket   124  elderly_4\n",
      "437  PtNum_rvketad6a7124rvket  PtNum_rvket5bf8fc37rvket   134    Ward_na\n",
      "\n",
      "component 106\n",
      "                       source                    target  time         type\n",
      "695  PtNum_rvket3bea2c42rvket  PtNum_rvket25f41af7rvket   281  medicine_11\n",
      "696  PtNum_rvket3bea2c42rvket  PtNum_rvket25f41af7rvket   282  medicine_11\n",
      "697  PtNum_rvket3bea2c42rvket  PtNum_rvket25f41af7rvket   283  medicine_11\n",
      "771  PtNum_rvket4ad4d677rvket  PtNum_rvket3bea2c42rvket   289  medicine_11\n",
      "857  PtNum_rvket83520f3crvket  PtNum_rvket3bea2c42rvket   341   surgery_12\n",
      "858  PtNum_rvket83520f3crvket  PtNum_rvket3bea2c42rvket   342   surgery_12\n",
      "859  PtNum_rvket83520f3crvket  PtNum_rvket3bea2c42rvket   343   surgery_12\n",
      "\n",
      "component 215\n",
      "                        source                    target  time        type\n",
      "1255  PtNum_rvket559a453ervket  PtNum_rvket4ad4d677rvket   506  medicine_7\n",
      "1256  PtNum_rvket559a453ervket  PtNum_rvket4ad4d677rvket   507  medicine_7\n",
      "1286  PtNum_rvket664a8069rvket  PtNum_rvket559a453ervket   546  medicine_7\n",
      "1287  PtNum_rvket664a8069rvket  PtNum_rvket559a453ervket   547  medicine_7\n",
      "1288  PtNum_rvket664a8069rvket  PtNum_rvket559a453ervket   548  medicine_7\n",
      "1289  PtNum_rvket664a8069rvket  PtNum_rvket559a453ervket   549  medicine_7\n",
      "1290  PtNum_rvket664a8069rvket  PtNum_rvket559a453ervket   550  medicine_7\n",
      "\n",
      "component 77\n",
      "                       source                    target  time       type\n",
      "471  PtNum_rvketb28a25a2rvket  PtNum_rvketad5ef822rvket   141  surgery_1\n",
      "472  PtNum_rvketf9e8931frvket  PtNum_rvketb28a25a2rvket   142  surgery_8\n",
      "473  PtNum_rvketf9e8931frvket  PtNum_rvketb28a25a2rvket   143  surgery_8\n",
      "474  PtNum_rvketf9e8931frvket  PtNum_rvketb28a25a2rvket   144  surgery_8\n",
      "475  PtNum_rvketf9e8931frvket  PtNum_rvketb28a25a2rvket   145  surgery_8\n",
      "476  PtNum_rvketf9e8931frvket  PtNum_rvketb28a25a2rvket   146  surgery_8\n"
     ]
    }
   ],
   "source": [
    "for ix, component in enumerate(cluster_4.index):\n",
    "    print('')\n",
    "    print(f'component {component}')\n",
    "    component = filtered.events[filtered.events_meta.component == component]\n",
    "    print(component)"
   ]
  },
  {
   "cell_type": "code",
   "execution_count": 174,
   "metadata": {},
   "outputs": [],
   "source": [
    "comp_152_nx = comp_152.create_networkx_event_graph()"
   ]
  },
  {
   "cell_type": "code",
   "execution_count": 175,
   "metadata": {},
   "outputs": [
    {
     "name": "stdout",
     "output_type": "stream",
     "text": [
      "[]\n"
     ]
    }
   ],
   "source": [
    "save_graph_with_colour(comp_152_nx, 'comp_152.png')"
   ]
  },
  {
   "cell_type": "markdown",
   "metadata": {},
   "source": [
    "<img src = 'comp_152.png'>"
   ]
  },
  {
   "cell_type": "code",
   "execution_count": 176,
   "metadata": {},
   "outputs": [
    {
     "name": "stdout",
     "output_type": "stream",
     "text": [
      "                       source                    target  time     type\n",
      "989  PtNum_rvket1b5f8cc4rvket  PtNum_rvket060ad40ervket   396  renal_2\n",
      "                       source                    target  time     type\n",
      "990  PtNum_rvket1b5f8cc4rvket  PtNum_rvket060ad40ervket   397  renal_2\n",
      "                       source                    target  time     type\n",
      "991  PtNum_rvket1b5f8cc4rvket  PtNum_rvket060ad40ervket   398  renal_2\n",
      "                       source                    target  time     type\n",
      "992  PtNum_rvket1b5f8cc4rvket  PtNum_rvket060ad40ervket   399  renal_2\n",
      "                       source                    target  time     type\n",
      "993  PtNum_rvket1b5f8cc4rvket  PtNum_rvket060ad40ervket   400  renal_2\n"
     ]
    }
   ],
   "source": [
    "for i in range(989, 994):\n",
    "    print(df.loc[[i]])"
   ]
  },
  {
   "cell_type": "code",
   "execution_count": 177,
   "metadata": {},
   "outputs": [
    {
     "name": "stdout",
     "output_type": "stream",
     "text": [
      "                        source                    target  time  \\\n",
      "1047  PtNum_rvketcad398a4rvket  PtNum_rvket1863f819rvket   391   \n",
      "\n",
      "                       type  \n",
      "1047  infectious diseases_1  \n",
      "                        source                    target  time     type\n",
      "1048  PtNum_rvketcad398a4rvket  PtNum_rvket1b5f8cc4rvket   401  renal_4\n",
      "                        source                    target  time     type\n",
      "1049  PtNum_rvketcad398a4rvket  PtNum_rvket1b5f8cc4rvket   402  renal_4\n",
      "                        source                    target  time     type\n",
      "1050  PtNum_rvketcad398a4rvket  PtNum_rvket1b5f8cc4rvket   403  renal_4\n",
      "                        source                    target  time     type\n",
      "1051  PtNum_rvketcad398a4rvket  PtNum_rvket1b5f8cc4rvket   404  renal_4\n",
      "                        source                    target  time     type\n",
      "1052  PtNum_rvketcad398a4rvket  PtNum_rvket1b5f8cc4rvket   405  renal_4\n",
      "                        source                    target  time     type\n",
      "1053  PtNum_rvketcad398a4rvket  PtNum_rvket1b5f8cc4rvket   406  renal_4\n"
     ]
    }
   ],
   "source": [
    "for i in range(1047, 1054):\n",
    "    print(df.loc[[i]])"
   ]
  },
  {
   "cell_type": "code",
   "execution_count": 178,
   "metadata": {},
   "outputs": [
    {
     "name": "stdout",
     "output_type": "stream",
     "text": [
      "                        source                    target  time     type\n",
      "1387  PtNum_rvket1a7e46c4rvket  PtNum_rvket13d1f2d5rvket   592  renal_4\n",
      "                        source                    target  time     type\n",
      "1388  PtNum_rvket1fd45dd9rvket  PtNum_rvket1513964arvket   592  renal_5\n",
      "                        source                    target  time     type\n",
      "1389  PtNum_rvket1fd45dd9rvket  PtNum_rvket1513964arvket   593  renal_5\n",
      "                        source                    target  time     type\n",
      "1390  PtNum_rvketcf1cf00brvket  PtNum_rvket1fd45dd9rvket   601  renal_5\n",
      "                        source                    target  time     type\n",
      "1391  PtNum_rvketcf1cf00brvket  PtNum_rvket1fd45dd9rvket   602  renal_5\n",
      "                        source                    target  time     type\n",
      "1392  PtNum_rvketcf1cf00brvket  PtNum_rvket1fd45dd9rvket   603  renal_5\n"
     ]
    }
   ],
   "source": [
    "for i in range(1387, 1393):\n",
    "    print(df.loc[[i]])"
   ]
  },
  {
   "cell_type": "markdown",
   "metadata": {},
   "source": [
    "## cluster 5"
   ]
  },
  {
   "cell_type": "code",
   "execution_count": 180,
   "metadata": {},
   "outputs": [],
   "source": [
    "cluster_5 = clusters[clusters == 5] # all components in cluster 5"
   ]
  },
  {
   "cell_type": "code",
   "execution_count": 181,
   "metadata": {},
   "outputs": [
    {
     "data": {
      "text/plain": [
       "99     5\n",
       "101    5\n",
       "6      5\n",
       "32     5\n",
       "31     5\n",
       "118    5\n",
       "46     5\n",
       "51     5\n",
       "86     5\n",
       "80     5\n",
       "34     5\n",
       "33     5\n",
       "dtype: int64"
      ]
     },
     "execution_count": 181,
     "metadata": {},
     "output_type": "execute_result"
    }
   ],
   "source": [
    "cluster_5"
   ]
  },
  {
   "cell_type": "code",
   "execution_count": 182,
   "metadata": {},
   "outputs": [
    {
     "data": {
      "text/plain": [
       "5    12\n",
       "dtype: int64"
      ]
     },
     "execution_count": 182,
     "metadata": {},
     "output_type": "execute_result"
    }
   ],
   "source": [
    "cluster_5.value_counts()"
   ]
  },
  {
   "cell_type": "code",
   "execution_count": 183,
   "metadata": {},
   "outputs": [
    {
     "data": {
      "text/plain": [
       "<EventGraph with 4 nodes, 34 events, and 33 edges (status: built)>"
      ]
     },
     "execution_count": 183,
     "metadata": {},
     "output_type": "execute_result"
    }
   ],
   "source": [
    "comp_99 = components[99]\n",
    "comp_99"
   ]
  },
  {
   "cell_type": "code",
   "execution_count": 184,
   "metadata": {},
   "outputs": [
    {
     "data": {
      "text/plain": [
       "<EventGraph with 3 nodes, 19 events, and 18 edges (status: built)>"
      ]
     },
     "execution_count": 184,
     "metadata": {},
     "output_type": "execute_result"
    }
   ],
   "source": [
    "comp_101 = components[101]\n",
    "comp_101"
   ]
  },
  {
   "cell_type": "code",
   "execution_count": 185,
   "metadata": {},
   "outputs": [
    {
     "data": {
      "text/plain": [
       "<EventGraph with 3 nodes, 6 events, and 5 edges (status: built)>"
      ]
     },
     "execution_count": 185,
     "metadata": {},
     "output_type": "execute_result"
    }
   ],
   "source": [
    "comp_33 = components[33]\n",
    "comp_33"
   ]
  },
  {
   "cell_type": "code",
   "execution_count": null,
   "metadata": {},
   "outputs": [],
   "source": []
  },
  {
   "cell_type": "code",
   "execution_count": 186,
   "metadata": {},
   "outputs": [],
   "source": [
    "comp_101_nx = comp_101.create_networkx_event_graph()"
   ]
  },
  {
   "cell_type": "code",
   "execution_count": 187,
   "metadata": {},
   "outputs": [
    {
     "name": "stdout",
     "output_type": "stream",
     "text": [
      "[]\n"
     ]
    }
   ],
   "source": [
    "save_graph_with_colour(comp_101_nx, 'comp_101.png')"
   ]
  },
  {
   "cell_type": "markdown",
   "metadata": {},
   "source": [
    "<img src = 'comp_101.png'>"
   ]
  },
  {
   "cell_type": "code",
   "execution_count": 188,
   "metadata": {},
   "outputs": [
    {
     "name": "stdout",
     "output_type": "stream",
     "text": [
      "                       source                    target  time        type\n",
      "660  PtNum_rvketaa68e117rvket  PtNum_rvket5121184frvket   253  medicine_3\n"
     ]
    }
   ],
   "source": [
    "print(df.loc[[660]])"
   ]
  },
  {
   "cell_type": "code",
   "execution_count": 189,
   "metadata": {
    "scrolled": true
   },
   "outputs": [
    {
     "name": "stdout",
     "output_type": "stream",
     "text": [
      "                       source                    target  time       type\n",
      "781  PtNum_rvket5ddb953crvket  PtNum_rvket5121184frvket   297  elderly_3\n",
      "                       source                    target  time       type\n",
      "782  PtNum_rvket5ddb953crvket  PtNum_rvket5121184frvket   298  elderly_3\n",
      "                       source                    target  time       type\n",
      "783  PtNum_rvket5ddb953crvket  PtNum_rvket5121184frvket   299  elderly_3\n",
      "                       source                    target  time       type\n",
      "784  PtNum_rvket5ddb953crvket  PtNum_rvket5121184frvket   300  elderly_3\n",
      "                       source                    target  time       type\n",
      "785  PtNum_rvket5ddb953crvket  PtNum_rvket5121184frvket   301  elderly_3\n",
      "                       source                    target  time       type\n",
      "786  PtNum_rvket5ddb953crvket  PtNum_rvket5121184frvket   302  elderly_3\n",
      "                       source                    target  time       type\n",
      "787  PtNum_rvket5ddb953crvket  PtNum_rvket5121184frvket   303  elderly_3\n",
      "                       source                    target  time       type\n",
      "788  PtNum_rvket5ddb953crvket  PtNum_rvket5121184frvket   304  elderly_3\n",
      "                       source                    target  time       type\n",
      "789  PtNum_rvket5ddb953crvket  PtNum_rvket5121184frvket   305  elderly_3\n",
      "                       source                    target  time       type\n",
      "790  PtNum_rvket5ddb953crvket  PtNum_rvket5121184frvket   306  elderly_3\n",
      "                       source                    target  time       type\n",
      "791  PtNum_rvket5ddb953crvket  PtNum_rvket5121184frvket   307  elderly_3\n",
      "                       source                    target  time       type\n",
      "792  PtNum_rvket5ddb953crvket  PtNum_rvket5121184frvket   308  elderly_3\n",
      "                       source                    target  time       type\n",
      "793  PtNum_rvket5ddb953crvket  PtNum_rvket5121184frvket   309  elderly_3\n",
      "                       source                    target  time       type\n",
      "794  PtNum_rvket5ddb953crvket  PtNum_rvket5121184frvket   310  elderly_3\n",
      "                       source                    target  time       type\n",
      "795  PtNum_rvket5ddb953crvket  PtNum_rvket5121184frvket   311  elderly_3\n",
      "                       source                    target  time       type\n",
      "796  PtNum_rvket5ddb953crvket  PtNum_rvket5121184frvket   312  elderly_3\n",
      "                       source                    target  time       type\n",
      "797  PtNum_rvket5ddb953crvket  PtNum_rvket5121184frvket   313  elderly_3\n",
      "                       source                    target  time       type\n",
      "798  PtNum_rvket5ddb953crvket  PtNum_rvket5121184frvket   314  elderly_3\n"
     ]
    }
   ],
   "source": [
    "for i in range(781, 799):\n",
    "    print(df.loc[[i]])"
   ]
  },
  {
   "cell_type": "code",
   "execution_count": 190,
   "metadata": {},
   "outputs": [
    {
     "data": {
      "text/html": [
       "<div>\n",
       "<style scoped>\n",
       "    .dataframe tbody tr th:only-of-type {\n",
       "        vertical-align: middle;\n",
       "    }\n",
       "\n",
       "    .dataframe tbody tr th {\n",
       "        vertical-align: top;\n",
       "    }\n",
       "\n",
       "    .dataframe thead th {\n",
       "        text-align: right;\n",
       "    }\n",
       "</style>\n",
       "<table border=\"1\" class=\"dataframe\">\n",
       "  <thead>\n",
       "    <tr style=\"text-align: right;\">\n",
       "      <th></th>\n",
       "      <th>Event</th>\n",
       "      <th>Source</th>\n",
       "      <th>Target</th>\n",
       "      <th>Time</th>\n",
       "      <th>Type</th>\n",
       "    </tr>\n",
       "  </thead>\n",
       "  <tbody>\n",
       "    <tr>\n",
       "      <th>0</th>\n",
       "      <td>294</td>\n",
       "      <td>PtNum_rvket89ef548arvket</td>\n",
       "      <td>PtNum_rvket51fd7a15rvket</td>\n",
       "      <td>81</td>\n",
       "      <td>surgery_1</td>\n",
       "    </tr>\n",
       "  </tbody>\n",
       "</table>\n",
       "</div>"
      ],
      "text/plain": [
       "   Event                    Source                    Target  Time       Type\n",
       "0    294  PtNum_rvket89ef548arvket  PtNum_rvket51fd7a15rvket    81  surgery_1"
      ]
     },
     "execution_count": 190,
     "metadata": {},
     "output_type": "execute_result"
    }
   ],
   "source": [
    "d = []\n",
    "for i in range(294, 295):\n",
    "    item = df.loc[i]\n",
    "    d.append(\n",
    "        {\n",
    "            'Event': item.name,\n",
    "            'Source': item.source,\n",
    "            'Target':  item.target,\n",
    "            'Time': item.time,\n",
    "            'Type': item.type\n",
    "        }\n",
    "    )\n",
    "\n",
    "comp_33_df_2 = pd.DataFrame(d)\n",
    "comp_33_df_2"
   ]
  },
  {
   "cell_type": "code",
   "execution_count": 77,
   "metadata": {},
   "outputs": [],
   "source": [
    "comp_33_nx = comp_33.create_networkx_event_graph()"
   ]
  },
  {
   "cell_type": "code",
   "execution_count": 78,
   "metadata": {},
   "outputs": [
    {
     "name": "stdout",
     "output_type": "stream",
     "text": [
      "[]\n"
     ]
    }
   ],
   "source": [
    "save_graph_with_colour(comp_33_nx, 'comp_33.png')"
   ]
  },
  {
   "cell_type": "markdown",
   "metadata": {},
   "source": [
    "<img src = 'comp_33.png'>"
   ]
  },
  {
   "cell_type": "code",
   "execution_count": 79,
   "metadata": {},
   "outputs": [
    {
     "name": "stdout",
     "output_type": "stream",
     "text": [
      "                       source                    target  time       type\n",
      "182  PtNum_rvket774d8ba5rvket  PtNum_rvket51fd7a15rvket    63  surgery_1\n",
      "                       source                    target  time       type\n",
      "183  PtNum_rvket774d8ba5rvket  PtNum_rvket51fd7a15rvket    64  surgery_1\n",
      "                       source                    target  time       type\n",
      "184  PtNum_rvket774d8ba5rvket  PtNum_rvket51fd7a15rvket    65  surgery_1\n",
      "                       source                    target  time       type\n",
      "185  PtNum_rvket774d8ba5rvket  PtNum_rvket51fd7a15rvket    66  surgery_1\n",
      "                       source                    target  time       type\n",
      "186  PtNum_rvket774d8ba5rvket  PtNum_rvket51fd7a15rvket    67  surgery_1\n"
     ]
    }
   ],
   "source": [
    "for i in range(182, 187):\n",
    "    print(df.loc[[i]])"
   ]
  },
  {
   "cell_type": "code",
   "execution_count": 80,
   "metadata": {},
   "outputs": [
    {
     "name": "stdout",
     "output_type": "stream",
     "text": [
      "                       source                    target  time       type\n",
      "294  PtNum_rvket89ef548arvket  PtNum_rvket51fd7a15rvket    81  surgery_1\n"
     ]
    }
   ],
   "source": [
    "print(df.loc[[294]])"
   ]
  },
  {
   "cell_type": "code",
   "execution_count": 81,
   "metadata": {
    "scrolled": true
   },
   "outputs": [
    {
     "name": "stdout",
     "output_type": "stream",
     "text": [
      "\n",
      "component 99\n",
      "                       source                    target  time       type\n",
      "637  PtNum_rvket8c5f03c3rvket  PtNum_rvket1b657bcarvket   246  elderly_5\n",
      "638  PtNum_rvket8c5f03c3rvket  PtNum_rvket1b657bcarvket   247  elderly_5\n",
      "639  PtNum_rvket8c5f03c3rvket  PtNum_rvket1b657bcarvket   248  elderly_5\n",
      "640  PtNum_rvket8c5f03c3rvket  PtNum_rvket1b657bcarvket   249  elderly_5\n",
      "641  PtNum_rvket8c5f03c3rvket  PtNum_rvket1b657bcarvket   250  elderly_5\n",
      "642  PtNum_rvket8c5f03c3rvket  PtNum_rvket1b657bcarvket   251  elderly_5\n",
      "643  PtNum_rvket8c5f03c3rvket  PtNum_rvket1b657bcarvket   252  elderly_5\n",
      "684  PtNum_rvketa1a56cbfrvket  PtNum_rvket1b657bcarvket   271  elderly_5\n",
      "685  PtNum_rvketa1a56cbfrvket  PtNum_rvket1b657bcarvket   272  elderly_5\n",
      "686  PtNum_rvketa1a56cbfrvket  PtNum_rvket1b657bcarvket   273  elderly_5\n",
      "687  PtNum_rvketa1a56cbfrvket  PtNum_rvket1b657bcarvket   274  elderly_5\n",
      "688  PtNum_rvketa1a56cbfrvket  PtNum_rvket1b657bcarvket   275  elderly_5\n",
      "689  PtNum_rvketa1a56cbfrvket  PtNum_rvket1b657bcarvket   276  elderly_5\n",
      "690  PtNum_rvketa1a56cbfrvket  PtNum_rvket1b657bcarvket   277  elderly_5\n",
      "691  PtNum_rvketa1a56cbfrvket  PtNum_rvket1b657bcarvket   278  elderly_5\n",
      "692  PtNum_rvketa1a56cbfrvket  PtNum_rvket1b657bcarvket   279  elderly_5\n",
      "693  PtNum_rvketa1a56cbfrvket  PtNum_rvket1b657bcarvket   280  elderly_5\n",
      "694  PtNum_rvketa1a56cbfrvket  PtNum_rvket1b657bcarvket   281  elderly_5\n",
      "832  PtNum_rvketfe435628rvket  PtNum_rvketa1a56cbfrvket   307  elderly_5\n",
      "833  PtNum_rvketfe435628rvket  PtNum_rvketa1a56cbfrvket   308  elderly_5\n",
      "834  PtNum_rvketfe435628rvket  PtNum_rvketa1a56cbfrvket   309  elderly_5\n",
      "835  PtNum_rvketfe435628rvket  PtNum_rvketa1a56cbfrvket   310  elderly_5\n",
      "836  PtNum_rvketfe435628rvket  PtNum_rvketa1a56cbfrvket   311  elderly_5\n",
      "837  PtNum_rvketfe435628rvket  PtNum_rvketa1a56cbfrvket   312  elderly_5\n",
      "838  PtNum_rvketfe435628rvket  PtNum_rvketa1a56cbfrvket   313  elderly_5\n",
      "839  PtNum_rvketfe435628rvket  PtNum_rvketa1a56cbfrvket   314  elderly_5\n",
      "895  PtNum_rvketfe435628rvket  PtNum_rvketa1a56cbfrvket   315  elderly_5\n",
      "896  PtNum_rvketfe435628rvket  PtNum_rvketa1a56cbfrvket   316  elderly_5\n",
      "897  PtNum_rvketfe435628rvket  PtNum_rvketa1a56cbfrvket   317  elderly_5\n",
      "898  PtNum_rvketfe435628rvket  PtNum_rvketa1a56cbfrvket   318  elderly_5\n",
      "899  PtNum_rvketfe435628rvket  PtNum_rvketa1a56cbfrvket   319  elderly_5\n",
      "900  PtNum_rvketfe435628rvket  PtNum_rvketa1a56cbfrvket   320  elderly_5\n",
      "901  PtNum_rvketfe435628rvket  PtNum_rvketa1a56cbfrvket   321  elderly_5\n",
      "902  PtNum_rvketfe435628rvket  PtNum_rvketa1a56cbfrvket   322  elderly_5\n",
      "\n",
      "component 101\n",
      "                       source                    target  time        type\n",
      "660  PtNum_rvketaa68e117rvket  PtNum_rvket5121184frvket   253  medicine_3\n",
      "781  PtNum_rvket5ddb953crvket  PtNum_rvket5121184frvket   297   elderly_3\n",
      "782  PtNum_rvket5ddb953crvket  PtNum_rvket5121184frvket   298   elderly_3\n",
      "783  PtNum_rvket5ddb953crvket  PtNum_rvket5121184frvket   299   elderly_3\n",
      "784  PtNum_rvket5ddb953crvket  PtNum_rvket5121184frvket   300   elderly_3\n",
      "785  PtNum_rvket5ddb953crvket  PtNum_rvket5121184frvket   301   elderly_3\n",
      "786  PtNum_rvket5ddb953crvket  PtNum_rvket5121184frvket   302   elderly_3\n",
      "787  PtNum_rvket5ddb953crvket  PtNum_rvket5121184frvket   303   elderly_3\n",
      "788  PtNum_rvket5ddb953crvket  PtNum_rvket5121184frvket   304   elderly_3\n",
      "789  PtNum_rvket5ddb953crvket  PtNum_rvket5121184frvket   305   elderly_3\n",
      "790  PtNum_rvket5ddb953crvket  PtNum_rvket5121184frvket   306   elderly_3\n",
      "791  PtNum_rvket5ddb953crvket  PtNum_rvket5121184frvket   307   elderly_3\n",
      "792  PtNum_rvket5ddb953crvket  PtNum_rvket5121184frvket   308   elderly_3\n",
      "793  PtNum_rvket5ddb953crvket  PtNum_rvket5121184frvket   309   elderly_3\n",
      "794  PtNum_rvket5ddb953crvket  PtNum_rvket5121184frvket   310   elderly_3\n",
      "795  PtNum_rvket5ddb953crvket  PtNum_rvket5121184frvket   311   elderly_3\n",
      "796  PtNum_rvket5ddb953crvket  PtNum_rvket5121184frvket   312   elderly_3\n",
      "797  PtNum_rvket5ddb953crvket  PtNum_rvket5121184frvket   313   elderly_3\n",
      "798  PtNum_rvket5ddb953crvket  PtNum_rvket5121184frvket   314   elderly_3\n",
      "\n",
      "component 6\n",
      "                       source                    target  time     type\n",
      "18   PtNum_rvket56979cfbrvket  PtNum_rvket04882555rvket    34  Ward_na\n",
      "19   PtNum_rvket56979cfbrvket  PtNum_rvket04882555rvket    35  Ward_na\n",
      "100  PtNum_rvket0f951c06rvket  PtNum_rvket04882555rvket    65  Ward_na\n",
      "101  PtNum_rvket0f951c06rvket  PtNum_rvket04882555rvket    66  Ward_na\n",
      "102  PtNum_rvket56979cfbrvket  PtNum_rvket04882555rvket    49  Ward_na\n",
      "103  PtNum_rvket56979cfbrvket  PtNum_rvket04882555rvket    50  Ward_na\n",
      "104  PtNum_rvket56979cfbrvket  PtNum_rvket04882555rvket    51  Ward_na\n",
      "105  PtNum_rvket56979cfbrvket  PtNum_rvket04882555rvket    60  Ward_na\n",
      "106  PtNum_rvket56979cfbrvket  PtNum_rvket04882555rvket    61  Ward_na\n",
      "107  PtNum_rvket56979cfbrvket  PtNum_rvket04882555rvket    62  Ward_na\n",
      "108  PtNum_rvket56979cfbrvket  PtNum_rvket04882555rvket    63  Ward_na\n",
      "109  PtNum_rvket56979cfbrvket  PtNum_rvket04882555rvket    64  Ward_na\n",
      "110  PtNum_rvket56979cfbrvket  PtNum_rvket04882555rvket    65  Ward_na\n",
      "111  PtNum_rvket56979cfbrvket  PtNum_rvket04882555rvket    66  Ward_na\n",
      "112  PtNum_rvket56979cfbrvket  PtNum_rvket04882555rvket    67  Ward_na\n",
      "\n",
      "component 32\n",
      "                       source                    target  time         type\n",
      "180  PtNum_rvketfcd6a374rvket  PtNum_rvket4d7abb59rvket    59    elderly_3\n",
      "181  PtNum_rvketfcd6a374rvket  PtNum_rvket4d7abb59rvket    60    elderly_3\n",
      "384  PtNum_rvketa96f692brvket  PtNum_rvket4d7abb59rvket   130  medicine_13\n",
      "385  PtNum_rvketa96f692brvket  PtNum_rvket4d7abb59rvket   131  medicine_13\n",
      "386  PtNum_rvketa96f692brvket  PtNum_rvket4d7abb59rvket   132  medicine_13\n",
      "387  PtNum_rvketa96f692brvket  PtNum_rvket4d7abb59rvket   133  medicine_13\n",
      "428  PtNum_rvketa96f692brvket  PtNum_rvket4d7abb59rvket   134  medicine_13\n",
      "429  PtNum_rvketa96f692brvket  PtNum_rvket4d7abb59rvket   135  medicine_13\n",
      "430  PtNum_rvketa96f692brvket  PtNum_rvket4d7abb59rvket   136  medicine_13\n",
      "431  PtNum_rvketa96f692brvket  PtNum_rvket4d7abb59rvket   137  medicine_13\n",
      "432  PtNum_rvketa96f692brvket  PtNum_rvket4d7abb59rvket   138  medicine_13\n",
      "433  PtNum_rvketa96f692brvket  PtNum_rvket4d7abb59rvket   139  medicine_13\n",
      "434  PtNum_rvketa96f692brvket  PtNum_rvket4d7abb59rvket   140  medicine_13\n",
      "435  PtNum_rvketa96f692brvket  PtNum_rvket4d7abb59rvket   141  medicine_13\n",
      "\n",
      "component 31\n",
      "                       source                    target  time         type\n",
      "167  PtNum_rvketc8e1ca4frvket  PtNum_rvket48c17ad6rvket    42  medicine_20\n",
      "168  PtNum_rvketf4ff12f3rvket  PtNum_rvket48c17ad6rvket    58    elderly_4\n",
      "169  PtNum_rvketf4ff12f3rvket  PtNum_rvket48c17ad6rvket    59    elderly_4\n",
      "170  PtNum_rvketf4ff12f3rvket  PtNum_rvket48c17ad6rvket    60    elderly_4\n",
      "171  PtNum_rvketf4ff12f3rvket  PtNum_rvket48c17ad6rvket    61    elderly_4\n",
      "172  PtNum_rvketf4ff12f3rvket  PtNum_rvket48c17ad6rvket    62    elderly_4\n",
      "173  PtNum_rvketf4ff12f3rvket  PtNum_rvket48c17ad6rvket    63    elderly_4\n",
      "174  PtNum_rvketf4ff12f3rvket  PtNum_rvket48c17ad6rvket    64    elderly_4\n",
      "175  PtNum_rvketf4ff12f3rvket  PtNum_rvket48c17ad6rvket    65    elderly_4\n",
      "176  PtNum_rvketf4ff12f3rvket  PtNum_rvket48c17ad6rvket    66    elderly_4\n",
      "177  PtNum_rvketf4ff12f3rvket  PtNum_rvket48c17ad6rvket    67    elderly_4\n",
      "178  PtNum_rvketf4ff12f3rvket  PtNum_rvket48c17ad6rvket    68    elderly_4\n",
      "179  PtNum_rvketf4ff12f3rvket  PtNum_rvket48c17ad6rvket    70    elderly_4\n",
      "\n",
      "component 118\n",
      "                       source                    target  time             type\n",
      "772  PtNum_rvket9db655carvket  PtNum_rvket490b9fe7rvket   306        surgery_1\n",
      "773  PtNum_rvket9db655carvket  PtNum_rvket490b9fe7rvket   307        surgery_1\n",
      "774  PtNum_rvket9db655carvket  PtNum_rvket490b9fe7rvket   308        surgery_1\n",
      "775  PtNum_rvket9db655carvket  PtNum_rvket490b9fe7rvket   309        surgery_1\n",
      "776  PtNum_rvket9db655carvket  PtNum_rvket490b9fe7rvket   310        surgery_1\n",
      "777  PtNum_rvketfd8630afrvket  PtNum_rvket490b9fe7rvket   311        surgery_1\n",
      "778  PtNum_rvketfd8630afrvket  PtNum_rvket490b9fe7rvket   312        surgery_1\n",
      "779  PtNum_rvketfd8630afrvket  PtNum_rvket490b9fe7rvket   313  critical care_5\n",
      "780  PtNum_rvketfd8630afrvket  PtNum_rvket490b9fe7rvket   314  critical care_5\n",
      "860  PtNum_rvketa23605d0rvket  PtNum_rvket490b9fe7rvket   331        surgery_1\n",
      "863  PtNum_rvketfd8630afrvket  PtNum_rvket490b9fe7rvket   315  critical care_5\n",
      "\n",
      "component 46\n",
      "                       source                    target  time         type\n",
      "285  PtNum_rvket8a104047rvket  PtNum_rvket366ab542rvket    97  medicine_10\n",
      "286  PtNum_rvket8a104047rvket  PtNum_rvket366ab542rvket    98  medicine_10\n",
      "287  PtNum_rvket8a104047rvket  PtNum_rvket366ab542rvket    99  medicine_10\n",
      "288  PtNum_rvket8a104047rvket  PtNum_rvket366ab542rvket   100  medicine_10\n",
      "289  PtNum_rvket8a104047rvket  PtNum_rvket366ab542rvket   101  medicine_10\n",
      "290  PtNum_rvket8a104047rvket  PtNum_rvket366ab542rvket   102  medicine_10\n",
      "366  PtNum_rvketfaeb7c3brvket  PtNum_rvket366ab542rvket   109  medicine_10\n",
      "367  PtNum_rvketfaeb7c3brvket  PtNum_rvket366ab542rvket   110  medicine_10\n",
      "368  PtNum_rvketfaeb7c3brvket  PtNum_rvket366ab542rvket   111  medicine_10\n",
      "369  PtNum_rvketfaeb7c3brvket  PtNum_rvket366ab542rvket   112  medicine_10\n",
      "370  PtNum_rvketfaeb7c3brvket  PtNum_rvket366ab542rvket   113  medicine_10\n",
      "\n",
      "component 51\n",
      "                       source                    target  time         type\n",
      "318  PtNum_rvketf27e53b4rvket  PtNum_rvket601a5c4brvket    82  medicine_10\n",
      "319  PtNum_rvketf27e53b4rvket  PtNum_rvket601a5c4brvket    83  medicine_10\n",
      "320  PtNum_rvketf27e53b4rvket  PtNum_rvket601a5c4brvket    84  medicine_10\n",
      "321  PtNum_rvketf27e53b4rvket  PtNum_rvket601a5c4brvket    85  medicine_10\n",
      "322  PtNum_rvketf27e53b4rvket  PtNum_rvket601a5c4brvket    86  medicine_10\n",
      "323  PtNum_rvketf27e53b4rvket  PtNum_rvket601a5c4brvket    87  medicine_10\n",
      "324  PtNum_rvketf27e53b4rvket  PtNum_rvket601a5c4brvket    90  medicine_10\n",
      "325  PtNum_rvketf27e53b4rvket  PtNum_rvket601a5c4brvket    91  medicine_10\n",
      "326  PtNum_rvketf27e53b4rvket  PtNum_rvket601a5c4brvket    92  medicine_10\n",
      "438  PtNum_rvketb85c690drvket  PtNum_rvket601a5c4brvket   143  medicine_10\n",
      "\n",
      "component 86\n",
      "                       source                    target  time           type\n",
      "550  PtNum_rvket91c37f25rvket  PtNum_rvket4099541drvket   201  respiratory_2\n",
      "551  PtNum_rvket91c37f25rvket  PtNum_rvket4099541drvket   202  respiratory_2\n",
      "552  PtNum_rvket91c37f25rvket  PtNum_rvket4099541drvket   203  respiratory_2\n",
      "553  PtNum_rvket91c37f25rvket  PtNum_rvket4099541drvket   204  respiratory_2\n",
      "554  PtNum_rvket91c37f25rvket  PtNum_rvket4099541drvket   205  respiratory_2\n",
      "555  PtNum_rvket91c37f25rvket  PtNum_rvket4099541drvket   206  respiratory_2\n",
      "556  PtNum_rvket91c37f25rvket  PtNum_rvket4099541drvket   207  respiratory_2\n",
      "699  PtNum_rvket5cf21093rvket  PtNum_rvket4099541drvket   274     medicine_2\n",
      "700  PtNum_rvket5cf21093rvket  PtNum_rvket4099541drvket   275     medicine_2\n",
      "\n",
      "component 80\n",
      "                       source                    target  time       type\n",
      "497  PtNum_rvketc8e93273rvket  PtNum_rvket5a8ce635rvket   165  surgery_1\n",
      "498  PtNum_rvketc8e93273rvket  PtNum_rvket5a8ce635rvket   166  surgery_1\n",
      "499  PtNum_rvketc8e93273rvket  PtNum_rvket5a8ce635rvket   167  surgery_1\n",
      "500  PtNum_rvketc8e93273rvket  PtNum_rvket5a8ce635rvket   168  surgery_1\n",
      "501  PtNum_rvketc8e93273rvket  PtNum_rvket5a8ce635rvket   169  surgery_1\n",
      "565  PtNum_rvketb391c088rvket  PtNum_rvket5a8ce635rvket   206    renal_4\n",
      "566  PtNum_rvketb391c088rvket  PtNum_rvket5a8ce635rvket   207    renal_4\n",
      "\n",
      "component 34\n",
      "                       source                    target  time     type\n",
      "193  PtNum_rvketeffa0561rvket  PtNum_rvket56979cfbrvket    60  Ward_na\n",
      "304  PtNum_rvketdef6c63arvket  PtNum_rvket56979cfbrvket    99  Ward_na\n",
      "305  PtNum_rvketdef6c63arvket  PtNum_rvket56979cfbrvket   100  Ward_na\n",
      "306  PtNum_rvketdef6c63arvket  PtNum_rvket56979cfbrvket   101  Ward_na\n",
      "307  PtNum_rvketdef6c63arvket  PtNum_rvket56979cfbrvket   102  Ward_na\n",
      "436  PtNum_rvket637e7a85rvket  PtNum_rvket56979cfbrvket   154  Ward_na\n",
      "\n",
      "component 33\n",
      "                       source                    target  time       type\n",
      "182  PtNum_rvket774d8ba5rvket  PtNum_rvket51fd7a15rvket    63  surgery_1\n",
      "183  PtNum_rvket774d8ba5rvket  PtNum_rvket51fd7a15rvket    64  surgery_1\n",
      "184  PtNum_rvket774d8ba5rvket  PtNum_rvket51fd7a15rvket    65  surgery_1\n",
      "185  PtNum_rvket774d8ba5rvket  PtNum_rvket51fd7a15rvket    66  surgery_1\n",
      "186  PtNum_rvket774d8ba5rvket  PtNum_rvket51fd7a15rvket    67  surgery_1\n",
      "294  PtNum_rvket89ef548arvket  PtNum_rvket51fd7a15rvket    81  surgery_1\n"
     ]
    }
   ],
   "source": [
    "for ix, component in enumerate(cluster_5.index):\n",
    "    print('')\n",
    "    print(f'component {component}')\n",
    "    component = filtered.events[filtered.events_meta.component == component]\n",
    "    print(component)"
   ]
  },
  {
   "cell_type": "markdown",
   "metadata": {},
   "source": [
    "## Cluster 6"
   ]
  },
  {
   "cell_type": "code",
   "execution_count": 90,
   "metadata": {},
   "outputs": [],
   "source": [
    "cluster_6 = clusters[clusters == 6] # all components in cluster 6"
   ]
  },
  {
   "cell_type": "code",
   "execution_count": 144,
   "metadata": {},
   "outputs": [
    {
     "data": {
      "text/plain": [
       "17     6\n",
       "225    6\n",
       "238    6\n",
       "142    6\n",
       "70     6\n",
       "232    6\n",
       "15     6\n",
       "187    6\n",
       "104    6\n",
       "9      6\n",
       "85     6\n",
       "92     6\n",
       "83     6\n",
       "251    6\n",
       "61     6\n",
       "64     6\n",
       "126    6\n",
       "127    6\n",
       "13     6\n",
       "73     6\n",
       "dtype: int64"
      ]
     },
     "execution_count": 144,
     "metadata": {},
     "output_type": "execute_result"
    }
   ],
   "source": [
    "cluster_6"
   ]
  },
  {
   "cell_type": "code",
   "execution_count": 145,
   "metadata": {},
   "outputs": [
    {
     "data": {
      "text/plain": [
       "6    20\n",
       "dtype: int64"
      ]
     },
     "execution_count": 145,
     "metadata": {},
     "output_type": "execute_result"
    }
   ],
   "source": [
    "cluster_6.value_counts()"
   ]
  },
  {
   "cell_type": "code",
   "execution_count": 146,
   "metadata": {},
   "outputs": [
    {
     "data": {
      "text/plain": [
       "<EventGraph with 5 nodes, 24 events, and 23 edges (status: built)>"
      ]
     },
     "execution_count": 146,
     "metadata": {},
     "output_type": "execute_result"
    }
   ],
   "source": [
    "comp_17 = components[17]\n",
    "comp_17"
   ]
  },
  {
   "cell_type": "code",
   "execution_count": 147,
   "metadata": {},
   "outputs": [
    {
     "data": {
      "text/plain": [
       "<EventGraph with 5 nodes, 18 events, and 17 edges (status: built)>"
      ]
     },
     "execution_count": 147,
     "metadata": {},
     "output_type": "execute_result"
    }
   ],
   "source": [
    "comp_225 = components[225]\n",
    "comp_225"
   ]
  },
  {
   "cell_type": "code",
   "execution_count": 148,
   "metadata": {},
   "outputs": [
    {
     "data": {
      "text/plain": [
       "<EventGraph with 3 nodes, 11 events, and 10 edges (status: built)>"
      ]
     },
     "execution_count": 148,
     "metadata": {},
     "output_type": "execute_result"
    }
   ],
   "source": [
    "comp_83 = components[83]\n",
    "comp_83"
   ]
  },
  {
   "cell_type": "code",
   "execution_count": 149,
   "metadata": {},
   "outputs": [
    {
     "data": {
      "text/plain": [
       "<EventGraph with 4 nodes, 5 events, and 4 edges (status: built)>"
      ]
     },
     "execution_count": 149,
     "metadata": {},
     "output_type": "execute_result"
    }
   ],
   "source": [
    "comp_73 = components[73]\n",
    "comp_73"
   ]
  },
  {
   "cell_type": "code",
   "execution_count": 150,
   "metadata": {},
   "outputs": [],
   "source": [
    "comp_83_nx = comp_83.create_networkx_event_graph()"
   ]
  },
  {
   "cell_type": "code",
   "execution_count": 151,
   "metadata": {},
   "outputs": [
    {
     "name": "stdout",
     "output_type": "stream",
     "text": [
      "[]\n"
     ]
    }
   ],
   "source": [
    "save_graph_with_colour(comp_83_nx, 'comp_83.png')"
   ]
  },
  {
   "cell_type": "markdown",
   "metadata": {},
   "source": [
    "<img src = 'comp_83.png'>"
   ]
  },
  {
   "cell_type": "code",
   "execution_count": 152,
   "metadata": {},
   "outputs": [
    {
     "name": "stdout",
     "output_type": "stream",
     "text": [
      "                       source                    target  time        type\n",
      "538  PtNum_rvketb018cbe8rvket  PtNum_rvket1ab72c20rvket   197  medicine_3\n"
     ]
    }
   ],
   "source": [
    "print(df.loc[[538]])"
   ]
  },
  {
   "cell_type": "code",
   "execution_count": 153,
   "metadata": {
    "scrolled": true
   },
   "outputs": [
    {
     "name": "stdout",
     "output_type": "stream",
     "text": [
      "                       source                    target  time       type\n",
      "584  PtNum_rvketb018cbe8rvket  PtNum_rvket6d319f37rvket   215  elderly_1\n",
      "                       source                    target  time       type\n",
      "585  PtNum_rvketb018cbe8rvket  PtNum_rvket6d319f37rvket   216  elderly_1\n",
      "                       source                    target  time       type\n",
      "586  PtNum_rvketb018cbe8rvket  PtNum_rvket6d319f37rvket   217  elderly_1\n"
     ]
    }
   ],
   "source": [
    "for i in range(584, 587):\n",
    "    print(df.loc[[i]])"
   ]
  },
  {
   "cell_type": "code",
   "execution_count": 154,
   "metadata": {},
   "outputs": [
    {
     "name": "stdout",
     "output_type": "stream",
     "text": [
      "                       source                    target  time       type\n",
      "577  PtNum_rvketb018cbe8rvket  PtNum_rvket6d319f37rvket   208  elderly_1\n",
      "                       source                    target  time       type\n",
      "578  PtNum_rvketb018cbe8rvket  PtNum_rvket6d319f37rvket   209  elderly_1\n",
      "                       source                    target  time       type\n",
      "579  PtNum_rvketb018cbe8rvket  PtNum_rvket6d319f37rvket   210  elderly_1\n",
      "                       source                    target  time       type\n",
      "580  PtNum_rvketb018cbe8rvket  PtNum_rvket6d319f37rvket   211  elderly_1\n",
      "                       source                    target  time       type\n",
      "581  PtNum_rvketb018cbe8rvket  PtNum_rvket6d319f37rvket   212  elderly_1\n",
      "                       source                    target  time       type\n",
      "582  PtNum_rvketb018cbe8rvket  PtNum_rvket6d319f37rvket   213  elderly_1\n",
      "                       source                    target  time       type\n",
      "583  PtNum_rvketb018cbe8rvket  PtNum_rvket6d319f37rvket   214  elderly_1\n"
     ]
    }
   ],
   "source": [
    "for i in range(577, 584):\n",
    "    print(df.loc[[i]])"
   ]
  },
  {
   "cell_type": "code",
   "execution_count": null,
   "metadata": {},
   "outputs": [],
   "source": []
  },
  {
   "cell_type": "code",
   "execution_count": 155,
   "metadata": {},
   "outputs": [],
   "source": [
    "comp_17_nx = comp_17.create_networkx_event_graph()"
   ]
  },
  {
   "cell_type": "code",
   "execution_count": 156,
   "metadata": {},
   "outputs": [
    {
     "name": "stdout",
     "output_type": "stream",
     "text": [
      "[]\n"
     ]
    }
   ],
   "source": [
    "save_graph_with_colour(comp_17_nx, 'comp_17.png')"
   ]
  },
  {
   "cell_type": "markdown",
   "metadata": {},
   "source": [
    "<img src = 'comp_17.png'>"
   ]
  },
  {
   "cell_type": "code",
   "execution_count": 157,
   "metadata": {},
   "outputs": [
    {
     "name": "stdout",
     "output_type": "stream",
     "text": [
      "                      source                    target  time     type\n",
      "97  PtNum_rvketfa70b283rvket  PtNum_rvketb391c088rvket    22  renal_1\n"
     ]
    }
   ],
   "source": [
    "print(df.loc[[97]])"
   ]
  },
  {
   "cell_type": "code",
   "execution_count": 158,
   "metadata": {},
   "outputs": [
    {
     "name": "stdout",
     "output_type": "stream",
     "text": [
      "                       source                    target  time     type\n",
      "123  PtNum_rvketfa70b283rvket  PtNum_rvket1a4b3d57rvket    61  renal_5\n",
      "                       source                    target  time     type\n",
      "124  PtNum_rvketfa70b283rvket  PtNum_rvket1a4b3d57rvket    62  renal_5\n",
      "                       source                    target  time     type\n",
      "125  PtNum_rvketfa70b283rvket  PtNum_rvket1a4b3d57rvket    63  renal_5\n",
      "                       source                    target  time     type\n",
      "126  PtNum_rvketfa70b283rvket  PtNum_rvket1a4b3d57rvket    64  renal_5\n"
     ]
    }
   ],
   "source": [
    "for i in range(123, 127):\n",
    "    print(df.loc[[i]])"
   ]
  },
  {
   "cell_type": "code",
   "execution_count": 159,
   "metadata": {},
   "outputs": [
    {
     "name": "stdout",
     "output_type": "stream",
     "text": [
      "                       source                    target  time     type\n",
      "202  PtNum_rvketfa70b283rvket  PtNum_rvket572ddf2crvket    66  renal_5\n",
      "                       source                    target  time     type\n",
      "203  PtNum_rvketfa70b283rvket  PtNum_rvket572ddf2crvket    67  renal_5\n",
      "                       source                    target  time     type\n",
      "204  PtNum_rvketfa70b283rvket  PtNum_rvket572ddf2crvket    68  renal_5\n",
      "                       source                    target  time     type\n",
      "205  PtNum_rvketfa70b283rvket  PtNum_rvket572ddf2crvket    69  renal_5\n",
      "                       source                    target  time     type\n",
      "206  PtNum_rvketfa70b283rvket  PtNum_rvket572ddf2crvket    70  renal_5\n",
      "                       source                    target  time     type\n",
      "207  PtNum_rvketfa70b283rvket  PtNum_rvket572ddf2crvket    71  renal_5\n"
     ]
    }
   ],
   "source": [
    "for i in range(202, 208):\n",
    "    print(df.loc[[i]])"
   ]
  },
  {
   "cell_type": "code",
   "execution_count": 160,
   "metadata": {},
   "outputs": [
    {
     "name": "stdout",
     "output_type": "stream",
     "text": [
      "                       source                    target  time     type\n",
      "263  PtNum_rvket572ddf2crvket  PtNum_rvket14671d8ervket    81  renal_5\n",
      "                       source                    target  time     type\n",
      "264  PtNum_rvket572ddf2crvket  PtNum_rvket14671d8ervket    82  renal_5\n",
      "                       source                    target  time     type\n",
      "265  PtNum_rvket572ddf2crvket  PtNum_rvket14671d8ervket    83  renal_5\n",
      "                       source                    target  time     type\n",
      "266  PtNum_rvket572ddf2crvket  PtNum_rvket14671d8ervket    84  renal_5\n",
      "                       source                    target  time     type\n",
      "267  PtNum_rvket572ddf2crvket  PtNum_rvket14671d8ervket    85  renal_5\n",
      "                       source                    target  time     type\n",
      "268  PtNum_rvket572ddf2crvket  PtNum_rvket14671d8ervket    86  renal_5\n",
      "                       source                    target  time     type\n",
      "269  PtNum_rvket572ddf2crvket  PtNum_rvket14671d8ervket    87  renal_5\n",
      "                       source                    target  time     type\n",
      "270  PtNum_rvket572ddf2crvket  PtNum_rvket14671d8ervket    90  renal_5\n",
      "                       source                    target  time     type\n",
      "271  PtNum_rvket572ddf2crvket  PtNum_rvket14671d8ervket    91  renal_5\n",
      "                       source                    target  time     type\n",
      "272  PtNum_rvket572ddf2crvket  PtNum_rvket14671d8ervket    92  renal_5\n",
      "                       source                    target  time     type\n",
      "273  PtNum_rvket572ddf2crvket  PtNum_rvket14671d8ervket    93  renal_5\n",
      "                       source                    target  time     type\n",
      "274  PtNum_rvket572ddf2crvket  PtNum_rvket14671d8ervket    94  renal_5\n",
      "                       source                    target  time     type\n",
      "275  PtNum_rvket572ddf2crvket  PtNum_rvket14671d8ervket    95  renal_5\n"
     ]
    }
   ],
   "source": [
    "for i in range(263, 276):\n",
    "    print(df.loc[[i]])"
   ]
  },
  {
   "cell_type": "code",
   "execution_count": 125,
   "metadata": {
    "scrolled": true
   },
   "outputs": [
    {
     "name": "stdout",
     "output_type": "stream",
     "text": [
      "\n",
      "component 17\n",
      "                       source                    target  time     type\n",
      "97   PtNum_rvketfa70b283rvket  PtNum_rvketb391c088rvket    22  renal_1\n",
      "123  PtNum_rvketfa70b283rvket  PtNum_rvket1a4b3d57rvket    61  renal_5\n",
      "124  PtNum_rvketfa70b283rvket  PtNum_rvket1a4b3d57rvket    62  renal_5\n",
      "125  PtNum_rvketfa70b283rvket  PtNum_rvket1a4b3d57rvket    63  renal_5\n",
      "126  PtNum_rvketfa70b283rvket  PtNum_rvket1a4b3d57rvket    64  renal_5\n",
      "202  PtNum_rvketfa70b283rvket  PtNum_rvket572ddf2crvket    66  renal_5\n",
      "203  PtNum_rvketfa70b283rvket  PtNum_rvket572ddf2crvket    67  renal_5\n",
      "204  PtNum_rvketfa70b283rvket  PtNum_rvket572ddf2crvket    68  renal_5\n",
      "205  PtNum_rvketfa70b283rvket  PtNum_rvket572ddf2crvket    69  renal_5\n",
      "206  PtNum_rvketfa70b283rvket  PtNum_rvket572ddf2crvket    70  renal_5\n",
      "207  PtNum_rvketfa70b283rvket  PtNum_rvket572ddf2crvket    71  renal_5\n",
      "263  PtNum_rvket572ddf2crvket  PtNum_rvket14671d8ervket    81  renal_5\n",
      "264  PtNum_rvket572ddf2crvket  PtNum_rvket14671d8ervket    82  renal_5\n",
      "265  PtNum_rvket572ddf2crvket  PtNum_rvket14671d8ervket    83  renal_5\n",
      "266  PtNum_rvket572ddf2crvket  PtNum_rvket14671d8ervket    84  renal_5\n",
      "267  PtNum_rvket572ddf2crvket  PtNum_rvket14671d8ervket    85  renal_5\n",
      "268  PtNum_rvket572ddf2crvket  PtNum_rvket14671d8ervket    86  renal_5\n",
      "269  PtNum_rvket572ddf2crvket  PtNum_rvket14671d8ervket    87  renal_5\n",
      "270  PtNum_rvket572ddf2crvket  PtNum_rvket14671d8ervket    90  renal_5\n",
      "271  PtNum_rvket572ddf2crvket  PtNum_rvket14671d8ervket    91  renal_5\n",
      "272  PtNum_rvket572ddf2crvket  PtNum_rvket14671d8ervket    92  renal_5\n",
      "273  PtNum_rvket572ddf2crvket  PtNum_rvket14671d8ervket    93  renal_5\n",
      "274  PtNum_rvket572ddf2crvket  PtNum_rvket14671d8ervket    94  renal_5\n",
      "275  PtNum_rvket572ddf2crvket  PtNum_rvket14671d8ervket    95  renal_5\n",
      "\n",
      "component 225\n",
      "                        source                    target  time           type\n",
      "1295  PtNum_rvkete6628c0brvket  PtNum_rvket664a8069rvket   546     medicine_7\n",
      "1296  PtNum_rvkete6628c0brvket  PtNum_rvket664a8069rvket   547     medicine_7\n",
      "1297  PtNum_rvkete6628c0brvket  PtNum_rvket664a8069rvket   548     medicine_7\n",
      "1344  PtNum_rvketc69abd76rvket  PtNum_rvket2b6e31f4rvket   565     medicine_9\n",
      "1361  PtNum_rvketc69abd76rvket  PtNum_rvket664a8069rvket   570  respiratory_1\n",
      "1373  PtNum_rvketc69abd76rvket  PtNum_rvketb7a052c9rvket   578  respiratory_1\n",
      "1374  PtNum_rvketc69abd76rvket  PtNum_rvketb7a052c9rvket   579  respiratory_1\n",
      "1375  PtNum_rvketc69abd76rvket  PtNum_rvketb7a052c9rvket   580  respiratory_1\n",
      "1376  PtNum_rvketc69abd76rvket  PtNum_rvketb7a052c9rvket   581  respiratory_1\n",
      "1377  PtNum_rvketc69abd76rvket  PtNum_rvketb7a052c9rvket   582  respiratory_1\n",
      "1378  PtNum_rvketc69abd76rvket  PtNum_rvketb7a052c9rvket   583  respiratory_1\n",
      "1379  PtNum_rvkete6628c0brvket  PtNum_rvketb7a052c9rvket   572  respiratory_1\n",
      "1380  PtNum_rvkete6628c0brvket  PtNum_rvketb7a052c9rvket   573  respiratory_1\n",
      "1381  PtNum_rvkete6628c0brvket  PtNum_rvketb7a052c9rvket   574  respiratory_1\n",
      "1382  PtNum_rvkete6628c0brvket  PtNum_rvketb7a052c9rvket   575  respiratory_1\n",
      "1383  PtNum_rvkete6628c0brvket  PtNum_rvketb7a052c9rvket   576  respiratory_1\n",
      "1384  PtNum_rvkete6628c0brvket  PtNum_rvketb7a052c9rvket   577  respiratory_1\n",
      "1385  PtNum_rvkete6628c0brvket  PtNum_rvketb7a052c9rvket   578  respiratory_1\n",
      "\n",
      "component 238\n",
      "                        source                    target  time     type\n",
      "1440  PtNum_rvketd3267ce9rvket  PtNum_rvket7dd4020brvket   607  renal_2\n",
      "1454  PtNum_rvketd3267ce9rvket  PtNum_rvketbaaf01b9rvket   617  renal_5\n",
      "1455  PtNum_rvketd3267ce9rvket  PtNum_rvketbaaf01b9rvket   618  renal_5\n",
      "1456  PtNum_rvketd3267ce9rvket  PtNum_rvketbaaf01b9rvket   619  renal_5\n",
      "1483  PtNum_rvketbaaf01b9rvket  PtNum_rvket31a400a8rvket   638  renal_5\n",
      "1484  PtNum_rvketbaaf01b9rvket  PtNum_rvket31a400a8rvket   639  renal_5\n",
      "1485  PtNum_rvketbaaf01b9rvket  PtNum_rvket31a400a8rvket   640  renal_5\n",
      "1486  PtNum_rvketbaaf01b9rvket  PtNum_rvket31a400a8rvket   641  renal_5\n",
      "1487  PtNum_rvketbaaf01b9rvket  PtNum_rvket31a400a8rvket   642  renal_5\n",
      "1488  PtNum_rvketbaaf01b9rvket  PtNum_rvket31a400a8rvket   643  renal_5\n",
      "1489  PtNum_rvketbaaf01b9rvket  PtNum_rvket31a400a8rvket   644  renal_5\n",
      "1490  PtNum_rvketbaaf01b9rvket  PtNum_rvket31a400a8rvket   645  renal_5\n",
      "1491  PtNum_rvketbaaf01b9rvket  PtNum_rvket31a400a8rvket   646  renal_5\n",
      "1492  PtNum_rvketbaaf01b9rvket  PtNum_rvket31a400a8rvket   647  renal_5\n",
      "1493  PtNum_rvketbaaf01b9rvket  PtNum_rvket31a400a8rvket   648  renal_5\n",
      "1494  PtNum_rvketbaaf01b9rvket  PtNum_rvket31a400a8rvket   649  renal_5\n",
      "1495  PtNum_rvketbaaf01b9rvket  PtNum_rvket31a400a8rvket   650  renal_5\n",
      "\n",
      "component 142\n",
      "                       source                    target  time     type\n",
      "936  PtNum_rvketde447cc3rvket  PtNum_rvket2f0c7655rvket   363  renal_2\n",
      "937  PtNum_rvketde447cc3rvket  PtNum_rvket2f0c7655rvket   364  renal_2\n",
      "955  PtNum_rvketda4c99eervket  PtNum_rvket599ea83frvket   357  renal_4\n",
      "956  PtNum_rvketda4c99eervket  PtNum_rvket599ea83frvket   358  renal_4\n",
      "957  PtNum_rvketda4c99eervket  PtNum_rvket599ea83frvket   359  renal_4\n",
      "962  PtNum_rvketda4c99eervket  PtNum_rvket80a37802rvket   360  renal_4\n",
      "963  PtNum_rvketda4c99eervket  PtNum_rvket80a37802rvket   361  renal_4\n",
      "964  PtNum_rvketda4c99eervket  PtNum_rvket80a37802rvket   362  renal_4\n",
      "965  PtNum_rvketda4c99eervket  PtNum_rvket80a37802rvket   363  renal_4\n",
      "966  PtNum_rvketda4c99eervket  PtNum_rvket80a37802rvket   364  renal_4\n",
      "967  PtNum_rvketda4c99eervket  PtNum_rvket80a37802rvket   365  renal_4\n",
      "968  PtNum_rvketde447cc3rvket  PtNum_rvket80a37802rvket   366  renal_4\n",
      "969  PtNum_rvketde447cc3rvket  PtNum_rvket80a37802rvket   367  renal_4\n",
      "970  PtNum_rvketde447cc3rvket  PtNum_rvket80a37802rvket   368  renal_4\n",
      "971  PtNum_rvketde447cc3rvket  PtNum_rvket80a37802rvket   369  renal_4\n",
      "972  PtNum_rvketde447cc3rvket  PtNum_rvket80a37802rvket   370  renal_4\n",
      "974  PtNum_rvketda4c99eervket  PtNum_rvketc8e1ca4frvket   366  renal_2\n",
      "\n",
      "component 70\n",
      "                       source                    target  time           type\n",
      "409  PtNum_rvketeeb2ad0frvket  PtNum_rvket01a5c4a4rvket   158       cancer_1\n",
      "531  PtNum_rvketc1a094b8rvket  PtNum_rvket01a5c4a4rvket   217  haematology_1\n",
      "532  PtNum_rvketc1a094b8rvket  PtNum_rvket01a5c4a4rvket   218  haematology_1\n",
      "533  PtNum_rvketc1a094b8rvket  PtNum_rvket01a5c4a4rvket   219  haematology_1\n",
      "534  PtNum_rvketc1a094b8rvket  PtNum_rvket01a5c4a4rvket   220  haematology_1\n",
      "535  PtNum_rvketc1a094b8rvket  PtNum_rvket01a5c4a4rvket   221  haematology_1\n",
      "536  PtNum_rvketc1a094b8rvket  PtNum_rvket01a5c4a4rvket   222  haematology_1\n",
      "537  PtNum_rvketc1a094b8rvket  PtNum_rvket01a5c4a4rvket   223  haematology_1\n",
      "604  PtNum_rvketeeb2ad0frvket  PtNum_rvketa4ecd6e4rvket   217  haematology_3\n",
      "619  PtNum_rvketc1a094b8rvket  PtNum_rvket01a5c4a4rvket   224  haematology_1\n",
      "620  PtNum_rvketc1a094b8rvket  PtNum_rvket01a5c4a4rvket   225  haematology_1\n",
      "758  PtNum_rvketc48069d4rvket  PtNum_rvket01a5c4a4rvket   311  haematology_1\n",
      "759  PtNum_rvketc48069d4rvket  PtNum_rvket01a5c4a4rvket   312  haematology_1\n",
      "760  PtNum_rvketc48069d4rvket  PtNum_rvket01a5c4a4rvket   313  haematology_1\n",
      "761  PtNum_rvketc48069d4rvket  PtNum_rvket01a5c4a4rvket   314  haematology_1\n",
      "848  PtNum_rvketc48069d4rvket  PtNum_rvket01a5c4a4rvket   315  haematology_1\n",
      "849  PtNum_rvketc48069d4rvket  PtNum_rvket01a5c4a4rvket   316  haematology_1\n",
      "\n",
      "component 232\n",
      "                        source                    target  time       type\n",
      "1362  PtNum_rvketf1a009cbrvket  PtNum_rvket79eef172rvket   576  surgery_1\n",
      "1363  PtNum_rvketf1a009cbrvket  PtNum_rvket79eef172rvket   577  surgery_1\n",
      "1364  PtNum_rvketf1a009cbrvket  PtNum_rvket79eef172rvket   578  surgery_1\n",
      "1365  PtNum_rvketf1a009cbrvket  PtNum_rvket79eef172rvket   579  surgery_1\n",
      "1367  PtNum_rvketf1a009cbrvket  PtNum_rvketa68e4729rvket   584  surgery_1\n",
      "1368  PtNum_rvketf1a009cbrvket  PtNum_rvketa68e4729rvket   585  surgery_1\n",
      "1369  PtNum_rvketf1a009cbrvket  PtNum_rvketa68e4729rvket   586  surgery_1\n",
      "1370  PtNum_rvketf1a009cbrvket  PtNum_rvketa68e4729rvket   587  surgery_1\n",
      "1371  PtNum_rvketf1a009cbrvket  PtNum_rvketa68e4729rvket   588  surgery_1\n",
      "1372  PtNum_rvketf1a009cbrvket  PtNum_rvketa68e4729rvket   589  surgery_1\n",
      "1443  PtNum_rvketf1a009cbrvket  PtNum_rvketa68e4729rvket   590  surgery_1\n",
      "1444  PtNum_rvketf1a009cbrvket  PtNum_rvketa68e4729rvket   591  surgery_1\n",
      "1445  PtNum_rvketf1a009cbrvket  PtNum_rvketa68e4729rvket   592  surgery_1\n",
      "1446  PtNum_rvketf1a009cbrvket  PtNum_rvketa68e4729rvket   593  surgery_1\n",
      "1447  PtNum_rvketf1a009cbrvket  PtNum_rvketa68e4729rvket   594  surgery_1\n",
      "1448  PtNum_rvketf1a009cbrvket  PtNum_rvketa68e4729rvket   595  surgery_1\n",
      "\n",
      "component 15\n",
      "                       source                    target  time       type\n",
      "85   PtNum_rvketd5182fc6rvket  PtNum_rvket7d4d6a57rvket    34  surgery_1\n",
      "86   PtNum_rvketd5182fc6rvket  PtNum_rvket7d4d6a57rvket    35  surgery_1\n",
      "87   PtNum_rvketd5182fc6rvket  PtNum_rvket7d4d6a57rvket    36  surgery_1\n",
      "88   PtNum_rvketdebc387brvket  PtNum_rvket7d4d6a57rvket    39  surgery_1\n",
      "89   PtNum_rvketdebc387brvket  PtNum_rvket7d4d6a57rvket    40  surgery_1\n",
      "90   PtNum_rvketdebc387brvket  PtNum_rvket7d4d6a57rvket    41  surgery_1\n",
      "212  PtNum_rvket7faafcbcrvket  PtNum_rvket7d4d6a57rvket    72  surgery_1\n",
      "256  PtNum_rvket7faafcbcrvket  PtNum_rvket10a8381frvket    81  surgery_1\n",
      "257  PtNum_rvket7faafcbcrvket  PtNum_rvket10a8381frvket    82  surgery_1\n",
      "258  PtNum_rvket7faafcbcrvket  PtNum_rvket10a8381frvket    83  surgery_1\n",
      "259  PtNum_rvket7faafcbcrvket  PtNum_rvket10a8381frvket    84  surgery_1\n",
      "260  PtNum_rvket7faafcbcrvket  PtNum_rvket10a8381frvket    85  surgery_1\n",
      "261  PtNum_rvket7faafcbcrvket  PtNum_rvket10a8381frvket    86  surgery_1\n",
      "262  PtNum_rvket7faafcbcrvket  PtNum_rvket10a8381frvket    87  surgery_1\n",
      "\n",
      "component 187\n",
      "                        source                    target  time       type\n",
      "1075  PtNum_rvketde1f4e58rvket  PtNum_rvket4168a9f6rvket   432  surgery_1\n",
      "1076  PtNum_rvketde1f4e58rvket  PtNum_rvket4168a9f6rvket   433  surgery_1\n",
      "1077  PtNum_rvketde1f4e58rvket  PtNum_rvket4168a9f6rvket   434  surgery_1\n",
      "1078  PtNum_rvketde1f4e58rvket  PtNum_rvket4168a9f6rvket   435  surgery_1\n",
      "1079  PtNum_rvketde1f4e58rvket  PtNum_rvket4168a9f6rvket   436  surgery_1\n",
      "1080  PtNum_rvketde1f4e58rvket  PtNum_rvket4168a9f6rvket   437  surgery_1\n",
      "1085  PtNum_rvketde1f4e58rvket  PtNum_rvket03ec9a12rvket   458  surgery_1\n",
      "1086  PtNum_rvketde1f4e58rvket  PtNum_rvket03ec9a12rvket   459  surgery_1\n",
      "1087  PtNum_rvketde1f4e58rvket  PtNum_rvket03ec9a12rvket   460  surgery_1\n",
      "1088  PtNum_rvketde1f4e58rvket  PtNum_rvket03ec9a12rvket   461  surgery_1\n",
      "1089  PtNum_rvketde1f4e58rvket  PtNum_rvket03ec9a12rvket   462  surgery_1\n",
      "1126  PtNum_rvket490b9fe7rvket  PtNum_rvket03ec9a12rvket   496  surgery_1\n",
      "1127  PtNum_rvket490b9fe7rvket  PtNum_rvket03ec9a12rvket   497  surgery_1\n",
      "1128  PtNum_rvket490b9fe7rvket  PtNum_rvket03ec9a12rvket   498  surgery_1\n",
      "\n",
      "component 104\n",
      "                       source                    target  time       type\n",
      "681  PtNum_rvketeb4bb885rvket  PtNum_rvket8cf55226rvket   234  surgery_1\n",
      "716  PtNum_rvketc0f24864rvket  PtNum_rvket599403efrvket   274    Ward_na\n",
      "717  PtNum_rvketc0f24864rvket  PtNum_rvket599403efrvket   275    Ward_na\n",
      "718  PtNum_rvketc0f24864rvket  PtNum_rvket599403efrvket   276    Ward_na\n",
      "719  PtNum_rvketc0f24864rvket  PtNum_rvket599403efrvket   277    Ward_na\n",
      "720  PtNum_rvketc0f24864rvket  PtNum_rvket599403efrvket   278    Ward_na\n",
      "721  PtNum_rvketc0f24864rvket  PtNum_rvket599403efrvket   279    Ward_na\n",
      "722  PtNum_rvketc0f24864rvket  PtNum_rvket599403efrvket   280    Ward_na\n",
      "723  PtNum_rvketc0f24864rvket  PtNum_rvket599403efrvket   281    Ward_na\n",
      "724  PtNum_rvketc0f24864rvket  PtNum_rvket599403efrvket   282    Ward_na\n",
      "725  PtNum_rvketeb4bb885rvket  PtNum_rvket599403efrvket   283  surgery_1\n",
      "726  PtNum_rvketeb4bb885rvket  PtNum_rvket599403efrvket   284  surgery_1\n",
      "745  PtNum_rvketeb4bb885rvket  PtNum_rvket8cf55226rvket   265  surgery_1\n",
      "746  PtNum_rvketeb4bb885rvket  PtNum_rvket8cf55226rvket   266  surgery_1\n",
      "\n",
      "component 9\n",
      "                      source                    target  time       type\n",
      "52  PtNum_rvket7af75684rvket  PtNum_rvket36b6c726rvket    12  surgery_1\n",
      "53  PtNum_rvket7af75684rvket  PtNum_rvket36b6c726rvket    13  surgery_1\n",
      "54  PtNum_rvket7af75684rvket  PtNum_rvket36b6c726rvket    14  surgery_1\n",
      "55  PtNum_rvket7af75684rvket  PtNum_rvket36b6c726rvket    15  surgery_1\n",
      "72  PtNum_rvket7af75684rvket  PtNum_rvket6bdfe7a2rvket    16  surgery_1\n",
      "73  PtNum_rvket7af75684rvket  PtNum_rvket6bdfe7a2rvket    17  surgery_1\n",
      "74  PtNum_rvket7af75684rvket  PtNum_rvket6bdfe7a2rvket    18  surgery_1\n",
      "75  PtNum_rvket7af75684rvket  PtNum_rvket6bdfe7a2rvket    19  surgery_1\n",
      "76  PtNum_rvket7af75684rvket  PtNum_rvket6bdfe7a2rvket    20  surgery_1\n",
      "77  PtNum_rvket7af75684rvket  PtNum_rvket6bdfe7a2rvket    21  surgery_1\n",
      "78  PtNum_rvket7af75684rvket  PtNum_rvket6bdfe7a2rvket    22  surgery_1\n",
      "79  PtNum_rvket7af75684rvket  PtNum_rvket6bdfe7a2rvket    23  surgery_1\n",
      "80  PtNum_rvket7af75684rvket  PtNum_rvket6bdfe7a2rvket    24  surgery_1\n",
      "\n",
      "component 85\n",
      "                       source                    target  time        type\n",
      "546  PtNum_rvket6574ad8drvket  PtNum_rvket3d3e30b8rvket   219  oncology_2\n",
      "547  PtNum_rvket6574ad8drvket  PtNum_rvket3d3e30b8rvket   220  oncology_2\n",
      "548  PtNum_rvket6574ad8drvket  PtNum_rvket3d3e30b8rvket   221  oncology_2\n",
      "549  PtNum_rvket6574ad8drvket  PtNum_rvket3d3e30b8rvket   223  oncology_2\n",
      "650  PtNum_rvket6574ad8drvket  PtNum_rvket3d3e30b8rvket   224  oncology_2\n",
      "651  PtNum_rvket6574ad8drvket  PtNum_rvket3d3e30b8rvket   225  oncology_2\n",
      "652  PtNum_rvket6574ad8drvket  PtNum_rvket3d3e30b8rvket   226  oncology_2\n",
      "653  PtNum_rvket6574ad8drvket  PtNum_rvket3d3e30b8rvket   227  oncology_2\n",
      "654  PtNum_rvket6574ad8drvket  PtNum_rvket3d3e30b8rvket   228  oncology_2\n",
      "710  PtNum_rvket6574ad8drvket  PtNum_rvket599403efrvket   275     Ward_na\n",
      "711  PtNum_rvket6574ad8drvket  PtNum_rvket599403efrvket   276     Ward_na\n",
      "712  PtNum_rvket6574ad8drvket  PtNum_rvket599403efrvket   277     Ward_na\n",
      "\n",
      "component 92\n",
      "                       source                    target  time           type\n",
      "574  PtNum_rvket8fdc5d90rvket  PtNum_rvket62f09524rvket   211     medicine_3\n",
      "624  PtNum_rvket8fdc5d90rvket  PtNum_rvket12c3ad2arvket   238  haematology_1\n",
      "625  PtNum_rvket8fdc5d90rvket  PtNum_rvket12c3ad2arvket   239  haematology_1\n",
      "626  PtNum_rvket8fdc5d90rvket  PtNum_rvket12c3ad2arvket   240  haematology_1\n",
      "627  PtNum_rvket8fdc5d90rvket  PtNum_rvket12c3ad2arvket   241  haematology_1\n",
      "628  PtNum_rvket8fdc5d90rvket  PtNum_rvket12c3ad2arvket   242  haematology_1\n",
      "629  PtNum_rvket8fdc5d90rvket  PtNum_rvket12c3ad2arvket   243  haematology_1\n",
      "630  PtNum_rvket8fdc5d90rvket  PtNum_rvket12c3ad2arvket   244  haematology_1\n",
      "631  PtNum_rvket8fdc5d90rvket  PtNum_rvket12c3ad2arvket   245  haematology_1\n",
      "632  PtNum_rvket8fdc5d90rvket  PtNum_rvket12c3ad2arvket   246  haematology_1\n",
      "633  PtNum_rvket8fdc5d90rvket  PtNum_rvket12c3ad2arvket   247  haematology_1\n",
      "634  PtNum_rvket8fdc5d90rvket  PtNum_rvket12c3ad2arvket   248  haematology_1\n",
      "\n",
      "component 83\n",
      "                       source                    target  time        type\n",
      "538  PtNum_rvketb018cbe8rvket  PtNum_rvket1ab72c20rvket   197  medicine_3\n",
      "577  PtNum_rvketb018cbe8rvket  PtNum_rvket6d319f37rvket   208   elderly_1\n",
      "578  PtNum_rvketb018cbe8rvket  PtNum_rvket6d319f37rvket   209   elderly_1\n",
      "579  PtNum_rvketb018cbe8rvket  PtNum_rvket6d319f37rvket   210   elderly_1\n",
      "580  PtNum_rvketb018cbe8rvket  PtNum_rvket6d319f37rvket   211   elderly_1\n",
      "581  PtNum_rvketb018cbe8rvket  PtNum_rvket6d319f37rvket   212   elderly_1\n",
      "582  PtNum_rvketb018cbe8rvket  PtNum_rvket6d319f37rvket   213   elderly_1\n",
      "583  PtNum_rvketb018cbe8rvket  PtNum_rvket6d319f37rvket   214   elderly_1\n",
      "584  PtNum_rvketb018cbe8rvket  PtNum_rvket6d319f37rvket   215   elderly_1\n",
      "585  PtNum_rvketb018cbe8rvket  PtNum_rvket6d319f37rvket   216   elderly_1\n",
      "586  PtNum_rvketb018cbe8rvket  PtNum_rvket6d319f37rvket   217   elderly_1\n",
      "\n",
      "component 251\n",
      "                        source                    target  time       type\n",
      "1597  PtNum_rvketcdd478darvket  PtNum_rvket5c7dff01rvket   651  surgery_1\n",
      "1598  PtNum_rvketcdd478darvket  PtNum_rvket5c7dff01rvket   652  surgery_1\n",
      "1599  PtNum_rvketcdd478darvket  PtNum_rvket5c7dff01rvket   653  surgery_1\n",
      "1600  PtNum_rvketcdd478darvket  PtNum_rvket5c7dff01rvket   654  surgery_1\n",
      "1601  PtNum_rvketfc0da1e9rvket  PtNum_rvket5c7dff01rvket   659  surgery_1\n",
      "1602  PtNum_rvketfc0da1e9rvket  PtNum_rvket5c7dff01rvket   660  surgery_1\n",
      "1603  PtNum_rvketcdd478darvket  PtNum_rvketaea906c3rvket   657  surgery_1\n",
      "1604  PtNum_rvketcdd478darvket  PtNum_rvketaea906c3rvket   658  surgery_1\n",
      "1605  PtNum_rvketcdd478darvket  PtNum_rvketaea906c3rvket   659  surgery_1\n",
      "1606  PtNum_rvketcdd478darvket  PtNum_rvketaea906c3rvket   660  surgery_1\n",
      "\n",
      "component 61\n",
      "                       source                    target  time         type\n",
      "360  PtNum_rvket3c61c1aarvket  PtNum_rvket2057fcb4rvket   120   surgery_11\n",
      "361  PtNum_rvket4a6f14aervket  PtNum_rvket2057fcb4rvket   121      Ward_na\n",
      "413  PtNum_rvket3c61c1aarvket  PtNum_rvket292e4b89rvket   159  medicine_13\n",
      "414  PtNum_rvket3c61c1aarvket  PtNum_rvket292e4b89rvket   160  medicine_13\n",
      "415  PtNum_rvket3c61c1aarvket  PtNum_rvket292e4b89rvket   161  medicine_13\n",
      "416  PtNum_rvket3c61c1aarvket  PtNum_rvket292e4b89rvket   162  medicine_13\n",
      "417  PtNum_rvket3c61c1aarvket  PtNum_rvket292e4b89rvket   163  medicine_13\n",
      "418  PtNum_rvket3c61c1aarvket  PtNum_rvket292e4b89rvket   164  medicine_13\n",
      "\n",
      "component 64\n",
      "                       source                    target  time     type\n",
      "372  PtNum_rvketa3d6496ervket  PtNum_rvket4a6f14aervket   112  Ward_na\n",
      "373  PtNum_rvketfc68e7e5rvket  PtNum_rvket4a6f14aervket   122  Ward_na\n",
      "374  PtNum_rvketfc68e7e5rvket  PtNum_rvket4a6f14aervket   123  Ward_na\n",
      "375  PtNum_rvketfc68e7e5rvket  PtNum_rvket4a6f14aervket   124  Ward_na\n",
      "376  PtNum_rvketfc68e7e5rvket  PtNum_rvket4a6f14aervket   125  Ward_na\n",
      "377  PtNum_rvketfc68e7e5rvket  PtNum_rvket4a6f14aervket   126  Ward_na\n",
      "378  PtNum_rvketfc68e7e5rvket  PtNum_rvket4a6f14aervket   127  Ward_na\n",
      "447  PtNum_rvketa3d6496ervket  PtNum_rvket637e7a85rvket   149  renal_2\n",
      "\n",
      "component 126\n",
      "                        source                    target  time  \\\n",
      "878   PtNum_rvketc94166b0rvket  PtNum_rvket55cd3274rvket   315   \n",
      "879   PtNum_rvketc94166b0rvket  PtNum_rvket55cd3274rvket   316   \n",
      "880   PtNum_rvketc94166b0rvket  PtNum_rvket55cd3274rvket   317   \n",
      "881   PtNum_rvketc94166b0rvket  PtNum_rvket55cd3274rvket   318   \n",
      "882   PtNum_rvketc94166b0rvket  PtNum_rvket55cd3274rvket   319   \n",
      "920   PtNum_rvketcad398a4rvket  PtNum_rvket1863f819rvket   376   \n",
      "994   PtNum_rvketc94166b0rvket  PtNum_rvket1863f819rvket   389   \n",
      "1018  PtNum_rvketcad398a4rvket  PtNum_rvket1863f819rvket   377   \n",
      "\n",
      "                       type  \n",
      "878                 Ward_na  \n",
      "879                 Ward_na  \n",
      "880                 Ward_na  \n",
      "881                 Ward_na  \n",
      "882                 Ward_na  \n",
      "920   infectious diseases_1  \n",
      "994               elderly_2  \n",
      "1018              elderly_2  \n",
      "\n",
      "component 127\n",
      "                       source                    target  time         type\n",
      "883  PtNum_rvket7bbc76bfrvket  PtNum_rvket5bb92baervket   325    surgery_1\n",
      "884  PtNum_rvket7bbc76bfrvket  PtNum_rvket5bb92baervket   326    surgery_1\n",
      "928  PtNum_rvket6484fae8rvket  PtNum_rvket253f7251rvket   360   medicine_2\n",
      "929  PtNum_rvket7bbc76bfrvket  PtNum_rvket253f7251rvket   361  medicine_13\n",
      "930  PtNum_rvket7bbc76bfrvket  PtNum_rvket253f7251rvket   362  medicine_13\n",
      "931  PtNum_rvket7bbc76bfrvket  PtNum_rvket253f7251rvket   363  medicine_13\n",
      "932  PtNum_rvket7bbc76bfrvket  PtNum_rvket253f7251rvket   364  medicine_13\n",
      "\n",
      "component 13\n",
      "                       source                    target  time       type\n",
      "69   PtNum_rvketf782c6c5rvket  PtNum_rvket6a268fc4rvket    39    renal_4\n",
      "70   PtNum_rvketf782c6c5rvket  PtNum_rvket6a268fc4rvket    40    renal_4\n",
      "71   PtNum_rvketf782c6c5rvket  PtNum_rvket6a268fc4rvket    41    renal_4\n",
      "208  PtNum_rvketf782c6c5rvket  PtNum_rvket6a268fc4rvket    42    renal_4\n",
      "293  PtNum_rvketf782c6c5rvket  PtNum_rvket390e3563rvket    94  surgery_9\n",
      "\n",
      "component 73\n",
      "                       source                    target  time         type\n",
      "451  PtNum_rvketc0104a5drvket  PtNum_rvket685ff51drvket   148      Ward_na\n",
      "455  PtNum_rvketc0104a5drvket  PtNum_rvket9edfcf58rvket   163  medicine_17\n",
      "456  PtNum_rvketc0104a5drvket  PtNum_rvket9edfcf58rvket   164  medicine_17\n",
      "469  PtNum_rvketc0104a5drvket  PtNum_rvketa3d6496ervket   148      Ward_na\n",
      "529  PtNum_rvketc0104a5drvket  PtNum_rvket9edfcf58rvket   165  medicine_17\n"
     ]
    }
   ],
   "source": [
    "for ix, component in enumerate(cluster_6.index):\n",
    "    print('')\n",
    "    print(f'component {component}')\n",
    "    component = filtered.events[filtered.events_meta.component == component]\n",
    "    print(component)"
   ]
  },
  {
   "cell_type": "code",
   "execution_count": 83,
   "metadata": {},
   "outputs": [],
   "source": [
    "def printer(cluster):\n",
    "    \n",
    "    cluster_df = pd.DataFrame(cluster)\n",
    "    outbreaks = cluster_df.index.values\n",
    "    node_lst = []\n",
    "    event_lst = []\n",
    "    for out in outbreaks:\n",
    "        node_lst.append(components[out].N)\n",
    "        event_lst.append(components[out].M)\n",
    "    return np.transpose(node_lst), np.transpose(event_lst)"
   ]
  },
  {
   "cell_type": "code",
   "execution_count": 91,
   "metadata": {},
   "outputs": [
    {
     "name": "stdout",
     "output_type": "stream",
     "text": [
      "[2 2 2 2 2 2 2 2 2 2 2 2 2 2 2 2 2 2 2 2 2 2 2 2 2 2 2 2 2 2 2 2 2 2 2 2 2]\n",
      "[19 19 17 17 17 17 15 14 12 12 11 10  9  9  9  8  8  8  8  8  8  8  8  7\n",
      "  6  6  6  6  6  6  6  6  6  5  5  5  5]\n",
      "2.0\n"
     ]
    }
   ],
   "source": [
    "cluster_1_node_lst, cluster_1_event_lst= printer(cluster_1)\n",
    "print(cluster_1_node_lst)\n",
    "print(cluster_1_event_lst)\n",
    "print(np.mean(cluster_1_node_lst))"
   ]
  },
  {
   "cell_type": "code",
   "execution_count": 92,
   "metadata": {},
   "outputs": [
    {
     "name": "stdout",
     "output_type": "stream",
     "text": [
      "[7 5 3 5 4 5 3 3]\n",
      "[25 21 20 16 15 13 12 10]\n",
      "4.375\n"
     ]
    }
   ],
   "source": [
    "cluster_2_node_lst, cluster_2_event_lst= printer(cluster_2)\n",
    "print(cluster_2_node_lst)\n",
    "print(cluster_2_event_lst)\n",
    "print(np.mean(cluster_2_node_lst))"
   ]
  },
  {
   "cell_type": "code",
   "execution_count": 93,
   "metadata": {},
   "outputs": [
    {
     "name": "stdout",
     "output_type": "stream",
     "text": [
      "[13  9  5  5  6  6  5  5  5  4  5]\n",
      "[34 31 15 12 11 11 10  9  8  7  5]\n",
      "6.181818181818182\n"
     ]
    }
   ],
   "source": [
    "cluster_3_node_lst, cluster_3_event_lst= printer(cluster_3)\n",
    "print(cluster_3_node_lst)\n",
    "print(cluster_3_event_lst)\n",
    "print(np.mean(cluster_3_node_lst))"
   ]
  },
  {
   "cell_type": "code",
   "execution_count": 94,
   "metadata": {},
   "outputs": [
    {
     "name": "stdout",
     "output_type": "stream",
     "text": [
      "[8 7 7 5 3 7 4 3 4 4 4 3 4 3 4 4 3 3]\n",
      "[34 31 28 28 23 17 14 13 13 12 12 11  9  9  8  7  7  6]\n",
      "4.444444444444445\n"
     ]
    }
   ],
   "source": [
    "cluster_4_node_lst, cluster_4_event_lst= printer(cluster_4)\n",
    "print(cluster_4_node_lst)\n",
    "print(cluster_4_event_lst)\n",
    "print(np.mean(cluster_4_node_lst))"
   ]
  },
  {
   "cell_type": "code",
   "execution_count": 95,
   "metadata": {},
   "outputs": [
    {
     "name": "stdout",
     "output_type": "stream",
     "text": [
      "[4 3 3 3 3 4 3 3 3 3 4 3]\n",
      "[34 19 15 14 13 11 11 10  9  7  6  6]\n",
      "3.25\n"
     ]
    }
   ],
   "source": [
    "cluster_5_node_lst, cluster_5_event_lst= printer(cluster_5)\n",
    "print(cluster_5_node_lst)\n",
    "print(cluster_5_event_lst)\n",
    "print(np.mean(cluster_5_node_lst))"
   ]
  },
  {
   "cell_type": "code",
   "execution_count": 96,
   "metadata": {},
   "outputs": [
    {
     "name": "stdout",
     "output_type": "stream",
     "text": [
      "[5 5 4 6 5 3 5 4 4 3 3 3 3 4 4 4 4 4 3 4]\n",
      "[24 18 17 17 17 16 14 14 14 13 12 12 11 10  8  8  8  7  5  5]\n",
      "4.0\n"
     ]
    }
   ],
   "source": [
    "cluster_6_node_lst, cluster_6_event_lst= printer(cluster_6)\n",
    "print(cluster_6_node_lst)\n",
    "print(cluster_6_event_lst)\n",
    "print(np.mean(cluster_6_node_lst))"
   ]
  },
  {
   "cell_type": "markdown",
   "metadata": {},
   "source": [
    "# AP matrix"
   ]
  },
  {
   "cell_type": "code",
   "execution_count": 87,
   "metadata": {},
   "outputs": [],
   "source": [
    "AP = pd.read_csv('./AP_matrix.csv')"
   ]
  },
  {
   "cell_type": "code",
   "execution_count": 89,
   "metadata": {},
   "outputs": [
    {
     "data": {
      "text/html": [
       "<div>\n",
       "<style scoped>\n",
       "    .dataframe tbody tr th:only-of-type {\n",
       "        vertical-align: middle;\n",
       "    }\n",
       "\n",
       "    .dataframe tbody tr th {\n",
       "        vertical-align: top;\n",
       "    }\n",
       "\n",
       "    .dataframe thead th {\n",
       "        text-align: right;\n",
       "    }\n",
       "</style>\n",
       "<table border=\"1\" class=\"dataframe\">\n",
       "  <thead>\n",
       "    <tr style=\"text-align: right;\">\n",
       "      <th></th>\n",
       "      <th>PtNumber</th>\n",
       "      <th>Acinetobacter</th>\n",
       "      <th>Acinetobacter baumannii</th>\n",
       "      <th>Citrobacter freundii</th>\n",
       "      <th>Citrobacter koseri</th>\n",
       "      <th>Citrobacter sp.</th>\n",
       "      <th>Enterobacter asburiae</th>\n",
       "      <th>Enterobacter cloacae</th>\n",
       "      <th>Enterobacter sp.</th>\n",
       "      <th>Escherichia coli</th>\n",
       "      <th>...</th>\n",
       "      <th>Proteus mirabilis</th>\n",
       "      <th>Pseudomonas aeruginosa</th>\n",
       "      <th>Raoultella ornithinolytica</th>\n",
       "      <th>Serratia marcescens</th>\n",
       "      <th>IMP</th>\n",
       "      <th>KPC</th>\n",
       "      <th>NDM</th>\n",
       "      <th>OXA48</th>\n",
       "      <th>OXA58</th>\n",
       "      <th>VIM</th>\n",
       "    </tr>\n",
       "  </thead>\n",
       "  <tbody>\n",
       "    <tr>\n",
       "      <th>0</th>\n",
       "      <td>PtNum_rvket00243723rvket</td>\n",
       "      <td>0</td>\n",
       "      <td>0</td>\n",
       "      <td>0</td>\n",
       "      <td>0</td>\n",
       "      <td>0</td>\n",
       "      <td>0</td>\n",
       "      <td>0</td>\n",
       "      <td>0</td>\n",
       "      <td>1</td>\n",
       "      <td>...</td>\n",
       "      <td>0</td>\n",
       "      <td>0</td>\n",
       "      <td>0</td>\n",
       "      <td>0</td>\n",
       "      <td>0</td>\n",
       "      <td>0</td>\n",
       "      <td>1</td>\n",
       "      <td>0</td>\n",
       "      <td>0</td>\n",
       "      <td>0</td>\n",
       "    </tr>\n",
       "    <tr>\n",
       "      <th>1</th>\n",
       "      <td>PtNum_rvket01a5c4a4rvket</td>\n",
       "      <td>0</td>\n",
       "      <td>0</td>\n",
       "      <td>1</td>\n",
       "      <td>0</td>\n",
       "      <td>1</td>\n",
       "      <td>0</td>\n",
       "      <td>1</td>\n",
       "      <td>0</td>\n",
       "      <td>0</td>\n",
       "      <td>...</td>\n",
       "      <td>0</td>\n",
       "      <td>0</td>\n",
       "      <td>0</td>\n",
       "      <td>0</td>\n",
       "      <td>0</td>\n",
       "      <td>0</td>\n",
       "      <td>1</td>\n",
       "      <td>1</td>\n",
       "      <td>0</td>\n",
       "      <td>0</td>\n",
       "    </tr>\n",
       "    <tr>\n",
       "      <th>2</th>\n",
       "      <td>PtNum_rvket0224c264rvket</td>\n",
       "      <td>0</td>\n",
       "      <td>0</td>\n",
       "      <td>0</td>\n",
       "      <td>0</td>\n",
       "      <td>0</td>\n",
       "      <td>0</td>\n",
       "      <td>1</td>\n",
       "      <td>0</td>\n",
       "      <td>0</td>\n",
       "      <td>...</td>\n",
       "      <td>0</td>\n",
       "      <td>0</td>\n",
       "      <td>0</td>\n",
       "      <td>1</td>\n",
       "      <td>0</td>\n",
       "      <td>0</td>\n",
       "      <td>1</td>\n",
       "      <td>0</td>\n",
       "      <td>0</td>\n",
       "      <td>0</td>\n",
       "    </tr>\n",
       "    <tr>\n",
       "      <th>3</th>\n",
       "      <td>PtNum_rvket023d9147rvket</td>\n",
       "      <td>0</td>\n",
       "      <td>0</td>\n",
       "      <td>0</td>\n",
       "      <td>0</td>\n",
       "      <td>0</td>\n",
       "      <td>0</td>\n",
       "      <td>0</td>\n",
       "      <td>0</td>\n",
       "      <td>0</td>\n",
       "      <td>...</td>\n",
       "      <td>0</td>\n",
       "      <td>0</td>\n",
       "      <td>0</td>\n",
       "      <td>0</td>\n",
       "      <td>0</td>\n",
       "      <td>0</td>\n",
       "      <td>0</td>\n",
       "      <td>1</td>\n",
       "      <td>0</td>\n",
       "      <td>1</td>\n",
       "    </tr>\n",
       "    <tr>\n",
       "      <th>4</th>\n",
       "      <td>PtNum_rvket024d0f2arvket</td>\n",
       "      <td>0</td>\n",
       "      <td>0</td>\n",
       "      <td>0</td>\n",
       "      <td>0</td>\n",
       "      <td>0</td>\n",
       "      <td>0</td>\n",
       "      <td>0</td>\n",
       "      <td>0</td>\n",
       "      <td>0</td>\n",
       "      <td>...</td>\n",
       "      <td>0</td>\n",
       "      <td>0</td>\n",
       "      <td>0</td>\n",
       "      <td>0</td>\n",
       "      <td>0</td>\n",
       "      <td>0</td>\n",
       "      <td>1</td>\n",
       "      <td>0</td>\n",
       "      <td>0</td>\n",
       "      <td>0</td>\n",
       "    </tr>\n",
       "    <tr>\n",
       "      <th>...</th>\n",
       "      <td>...</td>\n",
       "      <td>...</td>\n",
       "      <td>...</td>\n",
       "      <td>...</td>\n",
       "      <td>...</td>\n",
       "      <td>...</td>\n",
       "      <td>...</td>\n",
       "      <td>...</td>\n",
       "      <td>...</td>\n",
       "      <td>...</td>\n",
       "      <td>...</td>\n",
       "      <td>...</td>\n",
       "      <td>...</td>\n",
       "      <td>...</td>\n",
       "      <td>...</td>\n",
       "      <td>...</td>\n",
       "      <td>...</td>\n",
       "      <td>...</td>\n",
       "      <td>...</td>\n",
       "      <td>...</td>\n",
       "      <td>...</td>\n",
       "    </tr>\n",
       "    <tr>\n",
       "      <th>882</th>\n",
       "      <td>PtNum_rvketfe55c8d1rvket</td>\n",
       "      <td>0</td>\n",
       "      <td>0</td>\n",
       "      <td>0</td>\n",
       "      <td>0</td>\n",
       "      <td>0</td>\n",
       "      <td>0</td>\n",
       "      <td>1</td>\n",
       "      <td>0</td>\n",
       "      <td>0</td>\n",
       "      <td>...</td>\n",
       "      <td>0</td>\n",
       "      <td>0</td>\n",
       "      <td>0</td>\n",
       "      <td>0</td>\n",
       "      <td>0</td>\n",
       "      <td>0</td>\n",
       "      <td>1</td>\n",
       "      <td>0</td>\n",
       "      <td>0</td>\n",
       "      <td>0</td>\n",
       "    </tr>\n",
       "    <tr>\n",
       "      <th>883</th>\n",
       "      <td>PtNum_rvketfea6b5a7rvket</td>\n",
       "      <td>0</td>\n",
       "      <td>0</td>\n",
       "      <td>0</td>\n",
       "      <td>0</td>\n",
       "      <td>0</td>\n",
       "      <td>0</td>\n",
       "      <td>0</td>\n",
       "      <td>0</td>\n",
       "      <td>0</td>\n",
       "      <td>...</td>\n",
       "      <td>0</td>\n",
       "      <td>0</td>\n",
       "      <td>0</td>\n",
       "      <td>0</td>\n",
       "      <td>1</td>\n",
       "      <td>0</td>\n",
       "      <td>0</td>\n",
       "      <td>0</td>\n",
       "      <td>0</td>\n",
       "      <td>0</td>\n",
       "    </tr>\n",
       "    <tr>\n",
       "      <th>884</th>\n",
       "      <td>PtNum_rvketfec7392frvket</td>\n",
       "      <td>0</td>\n",
       "      <td>0</td>\n",
       "      <td>0</td>\n",
       "      <td>0</td>\n",
       "      <td>0</td>\n",
       "      <td>0</td>\n",
       "      <td>0</td>\n",
       "      <td>0</td>\n",
       "      <td>1</td>\n",
       "      <td>...</td>\n",
       "      <td>0</td>\n",
       "      <td>0</td>\n",
       "      <td>0</td>\n",
       "      <td>0</td>\n",
       "      <td>0</td>\n",
       "      <td>0</td>\n",
       "      <td>1</td>\n",
       "      <td>0</td>\n",
       "      <td>0</td>\n",
       "      <td>0</td>\n",
       "    </tr>\n",
       "    <tr>\n",
       "      <th>885</th>\n",
       "      <td>PtNum_rvketff14ee2frvket</td>\n",
       "      <td>0</td>\n",
       "      <td>0</td>\n",
       "      <td>0</td>\n",
       "      <td>0</td>\n",
       "      <td>0</td>\n",
       "      <td>0</td>\n",
       "      <td>0</td>\n",
       "      <td>0</td>\n",
       "      <td>1</td>\n",
       "      <td>...</td>\n",
       "      <td>0</td>\n",
       "      <td>0</td>\n",
       "      <td>0</td>\n",
       "      <td>0</td>\n",
       "      <td>0</td>\n",
       "      <td>0</td>\n",
       "      <td>0</td>\n",
       "      <td>1</td>\n",
       "      <td>0</td>\n",
       "      <td>0</td>\n",
       "    </tr>\n",
       "    <tr>\n",
       "      <th>886</th>\n",
       "      <td>PtNum_rvketff4f7d2arvket</td>\n",
       "      <td>0</td>\n",
       "      <td>0</td>\n",
       "      <td>0</td>\n",
       "      <td>0</td>\n",
       "      <td>0</td>\n",
       "      <td>0</td>\n",
       "      <td>1</td>\n",
       "      <td>0</td>\n",
       "      <td>0</td>\n",
       "      <td>...</td>\n",
       "      <td>0</td>\n",
       "      <td>0</td>\n",
       "      <td>0</td>\n",
       "      <td>0</td>\n",
       "      <td>0</td>\n",
       "      <td>0</td>\n",
       "      <td>1</td>\n",
       "      <td>0</td>\n",
       "      <td>0</td>\n",
       "      <td>0</td>\n",
       "    </tr>\n",
       "  </tbody>\n",
       "</table>\n",
       "<p>887 rows × 25 columns</p>\n",
       "</div>"
      ],
      "text/plain": [
       "                     PtNumber  Acinetobacter  Acinetobacter baumannii  \\\n",
       "0    PtNum_rvket00243723rvket              0                        0   \n",
       "1    PtNum_rvket01a5c4a4rvket              0                        0   \n",
       "2    PtNum_rvket0224c264rvket              0                        0   \n",
       "3    PtNum_rvket023d9147rvket              0                        0   \n",
       "4    PtNum_rvket024d0f2arvket              0                        0   \n",
       "..                        ...            ...                      ...   \n",
       "882  PtNum_rvketfe55c8d1rvket              0                        0   \n",
       "883  PtNum_rvketfea6b5a7rvket              0                        0   \n",
       "884  PtNum_rvketfec7392frvket              0                        0   \n",
       "885  PtNum_rvketff14ee2frvket              0                        0   \n",
       "886  PtNum_rvketff4f7d2arvket              0                        0   \n",
       "\n",
       "     Citrobacter freundii  Citrobacter koseri  Citrobacter sp.  \\\n",
       "0                       0                   0                0   \n",
       "1                       1                   0                1   \n",
       "2                       0                   0                0   \n",
       "3                       0                   0                0   \n",
       "4                       0                   0                0   \n",
       "..                    ...                 ...              ...   \n",
       "882                     0                   0                0   \n",
       "883                     0                   0                0   \n",
       "884                     0                   0                0   \n",
       "885                     0                   0                0   \n",
       "886                     0                   0                0   \n",
       "\n",
       "     Enterobacter asburiae  Enterobacter cloacae  Enterobacter sp.  \\\n",
       "0                        0                     0                 0   \n",
       "1                        0                     1                 0   \n",
       "2                        0                     1                 0   \n",
       "3                        0                     0                 0   \n",
       "4                        0                     0                 0   \n",
       "..                     ...                   ...               ...   \n",
       "882                      0                     1                 0   \n",
       "883                      0                     0                 0   \n",
       "884                      0                     0                 0   \n",
       "885                      0                     0                 0   \n",
       "886                      0                     1                 0   \n",
       "\n",
       "     Escherichia coli  ...  Proteus mirabilis  Pseudomonas aeruginosa  \\\n",
       "0                   1  ...                  0                       0   \n",
       "1                   0  ...                  0                       0   \n",
       "2                   0  ...                  0                       0   \n",
       "3                   0  ...                  0                       0   \n",
       "4                   0  ...                  0                       0   \n",
       "..                ...  ...                ...                     ...   \n",
       "882                 0  ...                  0                       0   \n",
       "883                 0  ...                  0                       0   \n",
       "884                 1  ...                  0                       0   \n",
       "885                 1  ...                  0                       0   \n",
       "886                 0  ...                  0                       0   \n",
       "\n",
       "     Raoultella ornithinolytica  Serratia marcescens  IMP  KPC  NDM  OXA48  \\\n",
       "0                             0                    0    0    0    1      0   \n",
       "1                             0                    0    0    0    1      1   \n",
       "2                             0                    1    0    0    1      0   \n",
       "3                             0                    0    0    0    0      1   \n",
       "4                             0                    0    0    0    1      0   \n",
       "..                          ...                  ...  ...  ...  ...    ...   \n",
       "882                           0                    0    0    0    1      0   \n",
       "883                           0                    0    1    0    0      0   \n",
       "884                           0                    0    0    0    1      0   \n",
       "885                           0                    0    0    0    0      1   \n",
       "886                           0                    0    0    0    1      0   \n",
       "\n",
       "     OXA58  VIM  \n",
       "0        0    0  \n",
       "1        0    0  \n",
       "2        0    0  \n",
       "3        0    1  \n",
       "4        0    0  \n",
       "..     ...  ...  \n",
       "882      0    0  \n",
       "883      0    0  \n",
       "884      0    0  \n",
       "885      0    0  \n",
       "886      0    0  \n",
       "\n",
       "[887 rows x 25 columns]"
      ]
     },
     "execution_count": 89,
     "metadata": {},
     "output_type": "execute_result"
    }
   ],
   "source": [
    "AP"
   ]
  },
  {
   "cell_type": "markdown",
   "metadata": {},
   "source": [
    "# PCA - dimensions"
   ]
  },
  {
   "cell_type": "code",
   "execution_count": 93,
   "metadata": {
    "scrolled": false
   },
   "outputs": [
    {
     "name": "stdout",
     "output_type": "stream",
     "text": [
      "[ 0.5621507  -0.09248193  0.36077972  0.28603004  0.42816993  0.26516144\n",
      "  0.1800783   0.48983044  0.06605739 -0.16507636  0.20792791  0.00495521\n",
      " -0.4029928  -0.14812366 -0.4029928   0.21248976 -0.36466036  0.06637295\n",
      " -0.40318364 -0.37860926  0.51987033 -0.38357459  0.10834006  0.2633193\n",
      "  0.41272525 -0.17921383  0.37307072  0.41098008 -0.09749701 -0.40342554\n",
      " -0.38888658  0.23159639 -0.06906373  0.30107231  0.15908506  0.12573807\n",
      " -0.09574871  0.52311531 -0.16906036 -0.03238257  0.13317048 -0.40394011\n",
      " -0.07231466 -0.3871925   0.25632883  0.59471443  0.28146974  0.10796624\n",
      " -0.08735393  0.5077933   0.50969197 -0.04521304 -0.09374622 -0.40417419\n",
      "  0.04087191 -0.08093823  0.32740892  0.01075005 -0.4044552   0.18209013\n",
      "  0.52377581 -0.40479877  0.27518772 -0.40479877 -0.40479877  0.06429923\n",
      "  0.04676718  0.46589248  0.3575616   0.56878225  0.36263186 -0.40522829\n",
      " -0.40522829 -0.40522829 -0.40522829 -0.40522829 -0.40522829 -0.36370219\n",
      "  0.3585645  -0.40522829  0.37676077  0.51556774  0.40722515 -0.4057804\n",
      "  0.11236574  0.32996225  0.14288511  0.36299737 -0.40651572 -0.40651572\n",
      "  0.05200038 -0.35751229 -0.40651572 -0.37665276 -0.40651572  0.13388319\n",
      " -0.40651572 -0.40651572 -0.31797359 -0.407542   -0.407542   -0.407542\n",
      "  0.16079124  0.27114182 -0.407542    0.69796366]\n"
     ]
    }
   ],
   "source": [
    "pca_0 = Y[:,0]\n",
    "pca_1 = Y[:,1]\n",
    "pca_2 = Y[:,2]\n",
    "\n",
    "print(pca_0)"
   ]
  },
  {
   "cell_type": "markdown",
   "metadata": {},
   "source": [
    "## 1st and 2nd dims"
   ]
  },
  {
   "cell_type": "code",
   "execution_count": 94,
   "metadata": {},
   "outputs": [],
   "source": [
    "pca_12 = []\n",
    "for one, two in zip(pca_0,pca_1):\n",
    "    zipped = [one,two]\n",
    "    pca_12.append(zipped)"
   ]
  },
  {
   "cell_type": "code",
   "execution_count": 95,
   "metadata": {},
   "outputs": [],
   "source": [
    "pca_12 = np.array(pca_12)"
   ]
  },
  {
   "cell_type": "code",
   "execution_count": 104,
   "metadata": {},
   "outputs": [
    {
     "data": {
      "image/png": "[encoded data removed]",
      "text/plain": [
       "<Figure size 864x576 with 1 Axes>"
      ]
     },
     "metadata": {
      "needs_background": "light"
     },
     "output_type": "display_data"
    }
   ],
   "source": [
    "with plt.style.context(['seaborn-paper', PLOT_STYLE, {'legend.fontsize':14,\n",
    "                                                      'legend.frameon':False}]):\n",
    "\n",
    "    fig = plt.figure(figsize=(12,8))\n",
    "    ax = fig.add_subplot(111)\n",
    "    \n",
    "    ax = plot_component_embedding(pca_12, clusters=clusters, ax=ax);\n",
    "    \n",
    "    plt.title('PCA in Dimensions 1 and 2', fontsize=16)\n",
    "    #fig.savefig('./figures/figure_3_clustering.eps', bbox_inches='tight')"
   ]
  },
  {
   "cell_type": "markdown",
   "metadata": {},
   "source": [
    "## 1st and 3rd dims"
   ]
  },
  {
   "cell_type": "code",
   "execution_count": 97,
   "metadata": {},
   "outputs": [],
   "source": [
    "pca_13 = []\n",
    "for one, two in zip(pca_0,pca_2):\n",
    "    zipped = [one,two]\n",
    "    pca_13.append(zipped)"
   ]
  },
  {
   "cell_type": "code",
   "execution_count": 98,
   "metadata": {},
   "outputs": [],
   "source": [
    "pca_13 = np.array(pca_13)"
   ]
  },
  {
   "cell_type": "code",
   "execution_count": 105,
   "metadata": {},
   "outputs": [
    {
     "data": {
      "image/png": "[encoded data removed]",
      "text/plain": [
       "<Figure size 864x576 with 1 Axes>"
      ]
     },
     "metadata": {
      "needs_background": "light"
     },
     "output_type": "display_data"
    }
   ],
   "source": [
    "with plt.style.context(['seaborn-paper', PLOT_STYLE, {'legend.fontsize':14,\n",
    "                                                      'legend.frameon':False}]):\n",
    "\n",
    "    fig = plt.figure(figsize=(12,8))\n",
    "    ax = fig.add_subplot(111)\n",
    "    \n",
    "    ax = plot_component_embedding(pca_13, clusters=clusters, ax=ax);\n",
    "    ax.set_xlabel('Dimension 1')\n",
    "    ax.set_ylabel('Dimension 3')\n",
    "    plt.title('PCA in Dimensions 1 and 3', fontsize=16)\n",
    "    #fig.savefig('./figures/figure_3_clustering.eps', bbox_inches='tight')"
   ]
  },
  {
   "cell_type": "markdown",
   "metadata": {},
   "source": [
    "## 2nd and 3rd dims"
   ]
  },
  {
   "cell_type": "code",
   "execution_count": 100,
   "metadata": {},
   "outputs": [],
   "source": [
    "pca_23 = []\n",
    "for one, two in zip(pca_1,pca_2):\n",
    "    zipped = [one,two]\n",
    "    pca_23.append(zipped)"
   ]
  },
  {
   "cell_type": "code",
   "execution_count": 101,
   "metadata": {},
   "outputs": [],
   "source": [
    "pca_23 = np.array(pca_23)"
   ]
  },
  {
   "cell_type": "code",
   "execution_count": 106,
   "metadata": {},
   "outputs": [
    {
     "data": {
      "image/png": "[encoded data removed]",
      "text/plain": [
       "<Figure size 864x576 with 1 Axes>"
      ]
     },
     "metadata": {
      "needs_background": "light"
     },
     "output_type": "display_data"
    }
   ],
   "source": [
    "with plt.style.context(['seaborn-paper', PLOT_STYLE, {'legend.fontsize':14,\n",
    "                                                      'legend.frameon':False}]):\n",
    "\n",
    "    fig = plt.figure(figsize=(12,8))\n",
    "    ax = fig.add_subplot(111)\n",
    "    \n",
    "    ax = plot_component_embedding(pca_23, clusters=clusters, ax=ax);\n",
    "    ax.set_xlabel('Dimension 2')\n",
    "    ax.set_ylabel('Dimension 3')\n",
    "    plt.title('PCA in Dimensions 2 and 3', fontsize=16)\n",
    "    #fig.savefig('./figures/figure_3_clustering.eps', bbox_inches='tight')"
   ]
  },
  {
   "cell_type": "markdown",
   "metadata": {},
   "source": [
    "Cluster 1 and cluster 5 are ellipsiodal?? "
   ]
  },
  {
   "cell_type": "code",
   "execution_count": 61,
   "metadata": {
    "scrolled": true
   },
   "outputs": [
    {
     "data": {
      "text/html": [
       "<div>\n",
       "<style scoped>\n",
       "    .dataframe tbody tr th:only-of-type {\n",
       "        vertical-align: middle;\n",
       "    }\n",
       "\n",
       "    .dataframe tbody tr th {\n",
       "        vertical-align: top;\n",
       "    }\n",
       "\n",
       "    .dataframe thead th {\n",
       "        text-align: right;\n",
       "    }\n",
       "</style>\n",
       "<table border=\"1\" class=\"dataframe\">\n",
       "  <thead>\n",
       "    <tr style=\"text-align: right;\">\n",
       "      <th></th>\n",
       "      <th>Component 1 (69%)</th>\n",
       "      <th>Component 2 (13%)</th>\n",
       "      <th>Component 3 (9%)</th>\n",
       "    </tr>\n",
       "  </thead>\n",
       "  <tbody>\n",
       "    <tr>\n",
       "      <th>1</th>\n",
       "      <td>motif_entropy</td>\n",
       "      <td>imbalance_oi</td>\n",
       "      <td>clustering_coefficient</td>\n",
       "    </tr>\n",
       "    <tr>\n",
       "      <th>2</th>\n",
       "      <td>activity</td>\n",
       "      <td>●|○</td>\n",
       "      <td>activity</td>\n",
       "    </tr>\n",
       "    <tr>\n",
       "      <th>3</th>\n",
       "      <td>●|○</td>\n",
       "      <td>imbalance_oo</td>\n",
       "      <td>imbalance_oo</td>\n",
       "    </tr>\n",
       "  </tbody>\n",
       "</table>\n",
       "</div>"
      ],
      "text/plain": [
       "  Component 1 (69%) Component 2 (13%)        Component 3 (9%)\n",
       "1     motif_entropy      imbalance_oi  clustering_coefficient\n",
       "2          activity               ●|○                activity\n",
       "3               ●|○      imbalance_oo            imbalance_oo"
      ]
     },
     "execution_count": 61,
     "metadata": {},
     "output_type": "execute_result"
    }
   ],
   "source": [
    "pca_components = pd.DataFrame([features.columns[pd.Series(PCA.components_[0]).abs().nlargest(3).index],\n",
    "                               features.columns[pd.Series(PCA.components_[1]).abs().nlargest(3).index],\n",
    "                               features.columns[pd.Series(PCA.components_[2]).abs().nlargest(3).index],\n",
    "                               ]).T\n",
    "pca_components.columns = ['Component 1 ({:.0f}%)'.format(100*PCA.explained_variance_ratio_[0]), \n",
    "                          'Component 2 ({:.0f}%)'.format(100*PCA.explained_variance_ratio_[1]),\n",
    "                          'Component 3 ({:.0f}%)'.format(100*PCA.explained_variance_ratio_[2]),\n",
    "                          ]\n",
    "pca_components = pca_components.rename(index={0: '1', 1:'2', 2:'3'})\n",
    "\n",
    "pca_components"
   ]
  },
  {
   "cell_type": "code",
   "execution_count": 62,
   "metadata": {},
   "outputs": [
    {
     "name": "stdout",
     "output_type": "stream",
     "text": [
      "\\begin{tabular}{llll}\n",
      "\\toprule\n",
      "{} & Component 1 (69\\%) & Component 2 (13\\%) &        Component 3 (9\\%) \\\\\n",
      "\\midrule\n",
      "1 &     motif\\_entropy &      imbalance\\_oi &  clustering\\_coefficient \\\\\n",
      "2 &          activity &               ●|○ &                activity \\\\\n",
      "3 &               ●|○ &      imbalance\\_oo &            imbalance\\_oo \\\\\n",
      "\\bottomrule\n",
      "\\end{tabular}\n",
      "\n"
     ]
    }
   ],
   "source": [
    "print(pca_components.to_latex())"
   ]
  },
  {
   "cell_type": "markdown",
   "metadata": {},
   "source": [
    "\n",
    "# Evolution Over Time"
   ]
  },
  {
   "cell_type": "code",
   "execution_count": 54,
   "metadata": {},
   "outputs": [],
   "source": [
    "filtered.add_cluster_assignments(clusters)"
   ]
  },
  {
   "cell_type": "code",
   "execution_count": 62,
   "metadata": {},
   "outputs": [
    {
     "name": "stdout",
     "output_type": "stream",
     "text": [
      "0\n",
      "1\n",
      "2\n",
      "3\n",
      "4\n",
      "5\n",
      "6\n"
     ]
    }
   ],
   "source": [
    "for cluster in sorted(filtered.events_meta.cluster.unique()):\n",
    "        print(cluster)\n",
    "        events = filtered.events[filtered.events_meta.cluster == cluster] "
   ]
  },
  {
   "cell_type": "code",
   "execution_count": 89,
   "metadata": {},
   "outputs": [
    {
     "data": {
      "image/png": "[encoded data removed]",
      "text/plain": [
       "<Figure size 1440x720 with 1 Axes>"
      ]
     },
     "metadata": {
      "needs_background": "light"
     },
     "output_type": "display_data"
    }
   ],
   "source": [
    "\n",
    "from eventgraphs.plotting import plot_cluster_timeseries\n",
    "\n",
    "with plt.style.context(['seaborn-paper', PLOT_STYLE, {'legend.fontsize':14,\n",
    "                                                      'legend.frameon':False}]):\n",
    "\n",
    "    fig = plt.figure(figsize=(20,10))\n",
    "    ax = fig.add_subplot(111)\n",
    "    \n",
    "\n",
    "    plot_cluster_timeseries(filtered, interval_width=1, normalized=True, plot_unclustered=False, ax=ax);\n",
    "\n",
    "    ax.set_xlabel(\"Days\")\n",
    "    ax.set_ylabel(\"Fraction of Events\")\n",
    "    ax.set_title('CPE: Cluster Volumes As A Fraction of All Events. Days [600, 700]', fontsize=16)\n",
    "    ax.set_xlim(600, 700) # the first 100 days\n",
    "    ax.set_ylim(0.0,1.2)\n",
    "\n",
    "    #ax.set_xticks(np.linspace(-0.5,23.5,13))\n",
    "    #ax.set_xticklabels([pd.to_datetime(x, unit='d').strftime(\"%D\") for x in np.linspace(0,24,13)])\n",
    "\n",
    "    legend = ax.legend(ncol=5, mode='expand')\n",
    "    [x.set_text('Cluster {}'.format(x.get_text())) for x in legend.get_texts()]\n",
    "\n",
    "    fig.savefig('./figures/figure_6_evolution.pdf', bbox_inches='tight')\n",
    "plt.show()"
   ]
  },
  {
   "cell_type": "markdown",
   "metadata": {},
   "source": [
    "# Dendrogram"
   ]
  },
  {
   "cell_type": "code",
   "execution_count": 101,
   "metadata": {},
   "outputs": [
    {
     "data": {
      "image/png": "[encoded data removed]",
      "text/plain": [
       "<Figure size 1440x720 with 1 Axes>"
      ]
     },
     "metadata": {
      "needs_background": "light"
     },
     "output_type": "display_data"
    }
   ],
   "source": [
    "\n",
    "from eventgraphs.clustering import generate_distance_matrix, generate_linkage, find_clusters\n",
    "from eventgraphs.plotting import plot_component_dendrogram\n",
    "from scipy.cluster.hierarchy import set_link_color_palette\n",
    "\n",
    "distances = generate_distance_matrix(rs_features)\n",
    "Z = generate_linkage(distances)\n",
    "\n",
    "with plt.style.context(['seaborn-paper', PLOT_STYLE]):\n",
    "\n",
    "    fig = plt.figure(figsize=(20,10))\n",
    "    ax = fig.add_subplot(111)\n",
    "\n",
    "    set_link_color_palette(['C4', 'C0', 'C2', 'C1', 'C3','C5'])\n",
    "    \n",
    "    den_labels = den_clust.index\n",
    "\n",
    "    plot_component_dendrogram(Z, dendrogram_kwargs={'leaf_rotation': 90, \n",
    "                                 'labels': den_labels, \n",
    "                                 'distance_sort': False, \n",
    "                                 'count_sort': True,\n",
    "                                 'above_threshold_color': 'k', 'color_threshold': 12}, ax=ax);\n",
    "\n",
    "    ax.set_xlabel(\"Temporal Component Clusters\")\n",
    "    ax.set_ylim(0,30)\n",
    "    \n",
    "\n",
    "    fig.savefig('./figures/figure_4_hierarchy.eps', bbox_inches='tight')"
   ]
  },
  {
   "cell_type": "markdown",
   "metadata": {},
   "source": [
    "# Time shuffled data "
   ]
  },
  {
   "cell_type": "code",
   "execution_count": 108,
   "metadata": {},
   "outputs": [],
   "source": [
    "# Load feature vectors from precomputed ensembles\n",
    "feature_store = pd.read_csv('./data/random/ensemble_features.csv', header=0, index_col=0)\n",
    "scale_feature_store = pd.read_csv('./data/random/ensemble_scale_features.csv', header=0, index_col=0)\n",
    "complete = pd.read_csv('./data/random/ensemble_complete.csv', header=0, index_col=0)"
   ]
  },
  {
   "cell_type": "code",
   "execution_count": 109,
   "metadata": {},
   "outputs": [],
   "source": [
    "sample_vector = feature_store['sample']\n",
    "\n",
    "feature_store = feature_store.fillna(0)\n",
    "feature_store\n",
    "scale_feature_store = scale_feature_store.fillna(0)\n",
    "complete = complete.fillna(0)"
   ]
  },
  {
   "cell_type": "code",
   "execution_count": 110,
   "metadata": {},
   "outputs": [],
   "source": [
    "from sklearn.preprocessing import Normalizer\n",
    "# Rescale\n",
    "rs_feature_store = Normalizer().fit_transform(feature_store)\n",
    "rs_feature_store = pd.DataFrame(rs_feature_store, index=feature_store.index, columns=feature_store.columns)\n",
    "\n",
    "rs_complete = Normalizer().fit_transform(complete)\n",
    "rs_complete = pd.DataFrame(rs_complete, index=complete.index, columns=complete.columns)"
   ]
  },
  {
   "cell_type": "code",
   "execution_count": 111,
   "metadata": {},
   "outputs": [],
   "source": [
    "distances = {}\n",
    "for sample, group in rs_feature_store.groupby(sample_vector):\n",
    "    distances[sample] = ((group - rs_complete.loc[sample])**2).sum(axis=1)"
   ]
  },
  {
   "cell_type": "code",
   "execution_count": 112,
   "metadata": {},
   "outputs": [],
   "source": [
    "# Actual data distance\n",
    "full, _ = generate_features({'full': filtered}, feature_spec=FEATURE_SPEC)\n",
    "\n",
    "rs_full = Normalizer().fit_transform(full)\n",
    "rs_full = pd.DataFrame(rs_full, index=full.index, columns=full.columns)\n",
    "rs_full = rs_full.drop('reciprocity_ratio', axis=1)\n",
    "actual_distance = (rs_features.subtract(rs_full.T.values[:,0])**2).sum(axis=1)"
   ]
  },
  {
   "cell_type": "code",
   "execution_count": 113,
   "metadata": {},
   "outputs": [
    {
     "data": {
      "text/plain": [
       "(1.4503324054163726, 0.04604926127128828, 106)"
      ]
     },
     "execution_count": 113,
     "metadata": {},
     "output_type": "execute_result"
    }
   ],
   "source": [
    "actual_distance.mean(), actual_distance.var(), len(actual_distance)"
   ]
  },
  {
   "cell_type": "code",
   "execution_count": 114,
   "metadata": {},
   "outputs": [
    {
     "data": {
      "image/png": "[encoded data removed]",
      "text/plain": [
       "<Figure size 720x432 with 1 Axes>"
      ]
     },
     "metadata": {
      "needs_background": "light"
     },
     "output_type": "display_data"
    }
   ],
   "source": [
    "from scipy.stats import gaussian_kde\n",
    "\n",
    "d = pd.Series([d.mean() for d in distances.values()])\n",
    "kde = gaussian_kde(d)\n",
    "\n",
    "x = np.linspace(0, 2,1000)\n",
    "\n",
    "y = kde.evaluate(x)\n",
    "\n",
    "fig = plt.figure(figsize=(10,6))\n",
    "ax = fig.add_subplot(111)\n",
    "\n",
    "ax.plot(x,y)\n",
    "ax.scatter([actual_distance.mean()],[0], marker='x', color='r', s=200)\n",
    "\n",
    "ax.set_xlabel(\"Average Distance\")\n",
    "ax.set_ylabel(\"Density\")\n",
    "ax.set_title('CPE Probability Densisty Plot')\n",
    "\n",
    "plt.show()\n",
    "fig.savefig('./figures/figure_8_distance.eps', bbox_inches='tight')"
   ]
  },
  {
   "cell_type": "code",
   "execution_count": 85,
   "metadata": {},
   "outputs": [
    {
     "data": {
      "text/plain": [
       "(0.9063343595648338, 0.12545244195841915, 4.406909340087261)"
      ]
     },
     "execution_count": 85,
     "metadata": {},
     "output_type": "execute_result"
    }
   ],
   "source": [
    "# z-score\n",
    "d.mean(), d.std(), (actual_distance.mean() - d.mean())/ d.std()"
   ]
  }
 ],
 "metadata": {
  "kernelspec": {
   "display_name": "Python 3",
   "language": "python",
   "name": "python3"
  },
  "language_info": {
   "codemirror_mode": {
    "name": "ipython",
    "version": 3
   },
   "file_extension": ".py",
   "mimetype": "text/x-python",
   "name": "python",
   "nbconvert_exporter": "python",
   "pygments_lexer": "ipython3",
   "version": "3.8.3"
  }
 },
 "nbformat": 4,
 "nbformat_minor": 4
}
