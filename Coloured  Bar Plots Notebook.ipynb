{
 "cells": [
  {
   "cell_type": "markdown",
   "metadata": {},
   "source": [
    "## Dependencies"
   ]
  },
  {
   "cell_type": "code",
   "execution_count": 6,
   "metadata": {},
   "outputs": [
    {
     "name": "stdout",
     "output_type": "stream",
     "text": [
      "Populating the interactive namespace from numpy and matplotlib\n"
     ]
    }
   ],
   "source": [
    "import numpy as np\n",
    "import pandas as pd\n",
    "import json\n",
    "from eventgraphs import EventGraph\n",
    "import matplotlib.pyplot as plt\n",
    "\n",
    "from glob import glob\n",
    "from collections import defaultdict\n",
    "import pickle\n",
    "import networkx as nx\n",
    "\n",
    "from matplotlib import lines as mlines\n",
    "from matplotlib import collections as mcollect\n",
    "\n",
    "PLOT_STYLE = {'lines.linewidth':2,\n",
    "              'font.size':16,\n",
    "              'xtick.labelsize':16,\n",
    "              'ytick.labelsize':16,\n",
    "              'axes.labelsize' : 16,\n",
    "              'mathtext.fontset':'cm',\n",
    "              'mathtext.rm' :'serif',\n",
    "              'text.usetex':False\n",
    "             }\n",
    "\n",
    "\n",
    "%pylab inline"
   ]
  },
  {
   "cell_type": "code",
   "execution_count": 7,
   "metadata": {},
   "outputs": [],
   "source": [
    "## Editing Dr Mellors Function to incude colouring - original function found in eventgraphs package - \n",
    "## https://github.com/empiricalstateofmind/eventgraphs"
   ]
  },
  {
   "cell_type": "code",
   "execution_count": 8,
   "metadata": {},
   "outputs": [],
   "source": [
    "def plot_full_barcode_efficiently(eventgraph, delta_ub, top, ax=None):\n",
    "    \"\"\"\n",
    "    Prints a barcode.\n",
    "    Input:\n",
    "        eventgraph (EventGraph):\n",
    "        delta_ub (int):\n",
    "        top (int):\n",
    "        ax (matplotlib.axes._subplots.AxesSubplot): [default=None]\n",
    "    Returns:\n",
    "        ax (matplotlib.axes._subplots.AxesSubplot):\n",
    "    \"\"\"\n",
    "\n",
    "    if ax is None:\n",
    "        ax = plt.gca()\n",
    "\n",
    "    filtered = eventgraph.filter_edges(delta_ub=delta_ub)\n",
    "    segs = []\n",
    "    events_loc = []\n",
    "    color_map =[]\n",
    "    tmin, tmax = 1e99, 0\n",
    "    components = pd.Series(filtered.connected_components_indices()).value_counts()\n",
    "    \n",
    "    for ix, component in enumerate(components.index[:top]):\n",
    "        component = filtered.events[filtered.events_meta.component == component]\n",
    "        \n",
    "        for _, event in component.iterrows():\n",
    "            events_loc.append(event.type)\n",
    "            segs.append(((event.time, ix), (event.time, ix + 1)))\n",
    "            tmax = max(tmax, event.time)\n",
    "            tmin = min(tmin, event.time)\n",
    "    \n",
    "    \n",
    "    for i in events_loc:\n",
    "        if i in ('renal_1', 'renal_2', 'renal_3', 'renal_4', 'renal_5'):\n",
    "            i = 'renal'\n",
    "            color_map.append('blue')\n",
    "\n",
    "        elif i in ('medicine_1', 'medicine_2', 'medicine_3', 'medicine_4', 'medicine_5',' medicine_6',' medicine_7'\n",
    "                              , 'medicine_8','medicine_9', 'medicine_10', ' medicine_11', 'medicine_12', 'medicine_13', \n",
    "                              'medicine_14','medicine_15', 'medicine_16', 'medicine_17', 'medicine_18', 'medicine_19', \n",
    "                              'medicine_20', 'medicine_21'):\n",
    "            i = 'medicine'\n",
    "            color_map.append('green')\n",
    "\n",
    "        elif i in ('surgery_1', 'surgery_2', 'surgery_3', 'surgery_4', 'surgery_5',' surgery_6',' surgery_7'\n",
    "                              , 'surgery_8','surgery_9', 'surgery_10','surgery_11','surgery_12','surgery_13', 'surgery_14'):\n",
    "\n",
    "            i = 'surgery'\n",
    "            color_map.append('red')\n",
    "\n",
    "\n",
    "        elif i in ('elderly_1', 'elderly_2', 'elderly_3', 'elderly_4', 'elderly_5'):\n",
    "\n",
    "            i = 'elderly'\n",
    "            color_map.append('brown')\n",
    "\n",
    "\n",
    "        elif i in ('haematology_1', 'haematology_2', 'haematology_3', 'haematology_4'):\n",
    "\n",
    "            i = 'haematology'\n",
    "            color_map.append('orange')\n",
    "\n",
    "\n",
    "\n",
    "        elif i in ('oncology_1', 'oncology_2'):\n",
    "\n",
    "            i = 'oncology'\n",
    "            color_map.append('yellow')\n",
    "\n",
    "\n",
    "\n",
    "        elif i in ('respiratory_1', 'respiratory_2'):\n",
    "            i = 'respiratory'\n",
    "            color_map.append('grey')\n",
    "\n",
    "\n",
    "\n",
    "        elif i in ('critical care_1', 'critical care_2', 'critical care_3'):\n",
    "\n",
    "            i = 'critical care'\n",
    "            color_map.append('black')\n",
    "\n",
    "\n",
    "\n",
    "        elif i in ('cardiology', 'ward na', 'cancer_1', 'OPD_1'):\n",
    "\n",
    "            i = 'cardiology/ward_na/cancer_1/OPD_1'\n",
    "            color_map.append('green yellow')\n",
    "\n",
    "        else:\n",
    "            color_map.append('purple')\n",
    "            continue\n",
    "\n",
    "    \n",
    "    \n",
    "    \n",
    "\n",
    "    \n",
    "    ln_coll = mcollect.LineCollection(segs, linewidths=1, colors=color_map)\n",
    "    bc = ax.add_collection(ln_coll)\n",
    "    ax.set_ylim((0, top + 1))\n",
    "    ax.set_xlim((tmin, tmax))\n",
    "    return ax"
   ]
  },
  {
   "cell_type": "code",
   "execution_count": 9,
   "metadata": {},
   "outputs": [],
   "source": [
    "def plot_barcode(eventgraph, delta_ub, top, ax=None):\n",
    "    \"\"\"\n",
    "    Prints a barcode.\n",
    "    Input:\n",
    "        eventgraph (EventGraph):\n",
    "        delta_ub (int):\n",
    "        top (int):\n",
    "        ax (matplotlib.axes._subplots.AxesSubplot): [default=None]\n",
    "    Returns:\n",
    "        ax (matplotlib.axes._subplots.AxesSubplot):\n",
    "    \"\"\"\n",
    "\n",
    "    if ax is None:\n",
    "        ax = plt.gca()\n",
    "    bc = plot_full_barcode_efficiently(eventgraph, delta_ub, top, ax)\n",
    "\n",
    "    ax.set_ylim((0, top))\n",
    "    ax.set_yticks(np.arange(0, top), minor=False)\n",
    "    ax.set_yticklabels(['C{}'.format(x) for x in np.arange(1, top + 1)])\n",
    "\n",
    "    for tick in ax.yaxis.get_majorticklabels():\n",
    "        tick.set_verticalalignment(\"bottom\")\n",
    "\n",
    "    ax.grid(b=True, which='major', color='k', linestyle='-', alpha=0.5)\n",
    "    ax.xaxis.grid(False)\n",
    "    ax.tick_params(axis='x', length=5, which='major', bottom=True, top=False)\n",
    "\n",
    "    return ax"
   ]
  },
  {
   "cell_type": "markdown",
   "metadata": {},
   "source": [
    "# CPE"
   ]
  },
  {
   "cell_type": "code",
   "execution_count": 10,
   "metadata": {},
   "outputs": [],
   "source": [
    "home_dir = \"C:\\\\Users\\\\matth\\\\Documents\\\\IMPERIAL\\\\PROJECT\\\\timestamped_data.csv\"\n",
    "\n",
    "cpe = pd.read_csv(home_dir)"
   ]
  },
  {
   "cell_type": "code",
   "execution_count": 11,
   "metadata": {},
   "outputs": [],
   "source": [
    "EG_86 = EventGraph.from_pandas_eventlist(cpe, graph_rules='teg')\n",
    "EG_86.event_graph_rules['delta_cutoff'] = 86 #days\n",
    "EG_86.build(verbose=False)\n",
    "EG_86.calculate_edge_motifs() # in order to include_graph_data\n",
    "nx_eg_86 = EG_86.create_networkx_event_graph(include_graph_data=True)"
   ]
  },
  {
   "cell_type": "code",
   "execution_count": 12,
   "metadata": {},
   "outputs": [
    {
     "data": {
      "image/png": "[encoded data removed]",
      "text/plain": [
       "<Figure size 720x432 with 1 Axes>"
      ]
     },
     "metadata": {
      "needs_background": "light"
     },
     "output_type": "display_data"
    }
   ],
   "source": [
    "with plt.style.context(['seaborn-paper', PLOT_STYLE]):\n",
    "\n",
    "    start = 0\n",
    "    interval = 700 ##<--- in a year \n",
    "    subset = EG_86.events[(EG_86.events.time>start) & (EG_86.events.time<=start+interval)]\n",
    "    featured_data = EG_86.filter_events(subset.index)\n",
    "\n",
    "    fig = plt.figure(figsize=(10,6))\n",
    "    ax = fig.add_subplot(111)\n",
    "\n",
    "    plot_barcode(featured_data, delta_ub=86, top=20, ax=ax);\n",
    "\n",
    "    ax.set_xticks(np.linspace(start, start+interval, 8))\n",
    "    ax.set_xlim(0,700) # need to change this labeling\n",
    "\n",
    "    ax.set_xlabel('Days')\n",
    "    ax.set_ylabel('Component')\n",
    "    \n",
    "plt.show()"
   ]
  },
  {
   "cell_type": "markdown",
   "metadata": {},
   "source": [
    "# Covid"
   ]
  },
  {
   "cell_type": "code",
   "execution_count": 13,
   "metadata": {},
   "outputs": [],
   "source": [
    "covid = pd.read_csv('./covid_timestamped_data.csv')"
   ]
  },
  {
   "cell_type": "code",
   "execution_count": 14,
   "metadata": {},
   "outputs": [],
   "source": [
    "EG_24 = EventGraph.from_pandas_eventlist(covid, graph_rules='teg')\n",
    "EG_24.event_graph_rules['delta_cutoff'] = 24 #days\n",
    "EG_24.build(verbose=False)\n",
    "EG_24.calculate_edge_motifs() # in order to include_graph_data\n",
    "nx_eg_24 = EG_24.create_networkx_event_graph(include_graph_data=True)"
   ]
  },
  {
   "cell_type": "code",
   "execution_count": 15,
   "metadata": {},
   "outputs": [
    {
     "data": {
      "image/png": "[encoded data removed]",
      "text/plain": [
       "<Figure size 720x432 with 1 Axes>"
      ]
     },
     "metadata": {
      "needs_background": "light"
     },
     "output_type": "display_data"
    }
   ],
   "source": [
    "with plt.style.context(['seaborn-paper', PLOT_STYLE]):\n",
    "\n",
    "    start = 0\n",
    "    interval = 100 ##<--- in a year \n",
    "    subset = EG_24.events[(EG_24.events.time>start) & (EG_24.events.time<=start+interval)]\n",
    "    featured_data = EG_24.filter_events(subset.index)\n",
    "\n",
    "    fig = plt.figure(figsize=(10,6))\n",
    "    ax = fig.add_subplot(111)\n",
    "\n",
    "    plot_barcode(featured_data, delta_ub=24, top=20, ax=ax);\n",
    "\n",
    "    ax.set_xticks(np.linspace(start, start+interval, 6))\n",
    "    ax.set_xlim(0,100) # need to change this labeling\n",
    "\n",
    "    ax.set_xlabel('Days')\n",
    "    ax.set_ylabel('Component')\n",
    "    \n",
    "plt.show()"
   ]
  }
 ],
 "metadata": {
  "kernelspec": {
   "display_name": "Python 3",
   "language": "python",
   "name": "python3"
  },
  "language_info": {
   "codemirror_mode": {
    "name": "ipython",
    "version": 3
   },
   "file_extension": ".py",
   "mimetype": "text/x-python",
   "name": "python",
   "nbconvert_exporter": "python",
   "pygments_lexer": "ipython3",
   "version": "3.8.3"
  }
 },
 "nbformat": 4,
 "nbformat_minor": 4
}
