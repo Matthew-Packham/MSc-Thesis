{
 "cells": [
  {
   "cell_type": "code",
   "execution_count": 4,
   "metadata": {},
   "outputs": [],
   "source": [
    "import pandas as pd\n",
    "\n",
    "from eventgraphs import EventGraph\n",
    "from eventgraphs.clustering import generate_features, FEATURE_SPEC"
   ]
  },
  {
   "cell_type": "code",
   "execution_count": 5,
   "metadata": {},
   "outputs": [],
   "source": [
    "home_dir = \"C:\\\\Users\\\\matth\\\\Documents\\\\IMPERIAL\\\\PROJECT\\\\timestamped_data.csv\"\n",
    "\n",
    "data = pd.read_csv(home_dir)"
   ]
  },
  {
   "cell_type": "code",
   "execution_count": 6,
   "metadata": {},
   "outputs": [],
   "source": [
    "iterations = 200\n",
    "delta_cutoff = 86\n",
    "\n",
    "feature_store = []\n",
    "scale_feature_store = []\n",
    "complete_store = []\n",
    "\n",
    "FEATURE_SPEC['event_graph_features'][1]['kwargs'] = {'miller_correct':False, 'k':24}\n",
    "FEATURE_SPEC['event_graph_features'][2]['kwargs'] = {'miller_correct':False, 'divisions':10}\n",
    "\n",
    "for i in range(0,iterations):\n",
    "    #print(i, end='\\r')\n",
    "    EG = EventGraph.from_pandas_eventlist(data, graph_rules='teg')\n",
    "    EG.randomize_event_times()\n",
    "    EG.event_graph_rules['delta_cutoff'] = delta_cutoff\n",
    "    EG.build()\n",
    "    EG.calculate_edge_motifs(edge_type='type')\n",
    "    EG.save('./data/random/eventgraph_{}.json'.format(i))\n",
    "    components = EG.connected_components(min_size=5)\n",
    "    features, scale_features = generate_features(components, feature_spec=FEATURE_SPEC)\n",
    "    \n",
    "    complete, _ = generate_features({i: EG}, feature_spec=FEATURE_SPEC)\n",
    "    \n",
    "    features['sample'] = i\n",
    "    scale_features['sample'] = i\n",
    "    complete_store.append(complete)\n",
    "    feature_store.append(features)\n",
    "    scale_feature_store.append(scale_features)\n",
    "    \n",
    "feature_store = pd.concat(feature_store)\n",
    "scale_feature_store = pd.concat(scale_feature_store)\n",
    "complete_store = pd.concat(complete_store)\n",
    "\n",
    "feature_store = feature_store.reset_index(drop=True)\n",
    "scale_feature_store = scale_feature_store.reset_index(drop=True)\n",
    "\n",
    "feature_store.to_csv('./data/random/ensemble_features.csv', index=True, header=True)\n",
    "scale_feature_store.to_csv('./data/random/ensemble_scale_features.csv', index=True, header=True)\n",
    "complete_store.to_csv('./data/random/ensemble_complete.csv', index=True, header=True)"
   ]
  },
  {
   "cell_type": "code",
   "execution_count": null,
   "metadata": {},
   "outputs": [],
   "source": []
  },
  {
   "cell_type": "markdown",
   "metadata": {},
   "source": [
    "# COVID"
   ]
  },
  {
   "cell_type": "code",
   "execution_count": null,
   "metadata": {},
   "outputs": [],
   "source": [
    "data = pd.read_csv('./covid_timestamped_data.csv')"
   ]
  },
  {
   "cell_type": "code",
   "execution_count": null,
   "metadata": {},
   "outputs": [],
   "source": [
    "iterations = 200\n",
    "delta_cutoff = 24\n",
    "\n",
    "feature_store = []\n",
    "scale_feature_store = []\n",
    "complete_store = []\n",
    "\n",
    "FEATURE_SPEC['event_graph_features'][1]['kwargs'] = {'miller_correct':False, 'k':24}\n",
    "FEATURE_SPEC['event_graph_features'][2]['kwargs'] = {'miller_correct':False, 'divisions':10}\n",
    "\n",
    "for i in range(0,iterations):\n",
    "    print(i, end='\\r')\n",
    "    EG = EventGraph.from_pandas_eventlist(data, graph_rules='teg')\n",
    "    EG.randomize_event_times()\n",
    "    EG.event_graph_rules['delta_cutoff'] = delta_cutoff\n",
    "    EG.build()\n",
    "    EG.calculate_edge_motifs(edge_type='type')\n",
    "    EG.save('./data/random/eventgraph_{}.json'.format(i))\n",
    "    components = EG.connected_components(min_size=5)\n",
    "    features, scale_features = generate_features(components, feature_spec=FEATURE_SPEC)\n",
    "    \n",
    "    complete, _ = generate_features({i: EG}, feature_spec=FEATURE_SPEC)\n",
    "    \n",
    "    features['sample'] = i\n",
    "    scale_features['sample'] = i\n",
    "    complete_store.append(complete)\n",
    "    feature_store.append(features)\n",
    "    scale_feature_store.append(scale_features)\n",
    "    \n",
    "feature_store = pd.concat(feature_store)\n",
    "scale_feature_store = pd.concat(scale_feature_store)\n",
    "complete_store = pd.concat(complete_store)\n",
    "\n",
    "feature_store = feature_store.reset_index(drop=True)\n",
    "scale_feature_store = scale_feature_store.reset_index(drop=True)\n",
    "\n",
    "feature_store.to_csv('./data/random/ensemble_features_covid.csv', index=True, header=True)\n",
    "scale_feature_store.to_csv('./data/random/ensemble_scale_features_covid.csv', index=True, header=True)\n",
    "complete_store.to_csv('./data/random/ensemble_complete_covid.csv', index=True, header=True)"
   ]
  },
  {
   "cell_type": "code",
   "execution_count": null,
   "metadata": {},
   "outputs": [],
   "source": []
  }
 ],
 "metadata": {
  "kernelspec": {
   "display_name": "Python 3",
   "language": "python",
   "name": "python3"
  },
  "language_info": {
   "codemirror_mode": {
    "name": "ipython",
    "version": 3
   },
   "file_extension": ".py",
   "mimetype": "text/x-python",
   "name": "python",
   "nbconvert_exporter": "python",
   "pygments_lexer": "ipython3",
   "version": "3.8.3"
  }
 },
 "nbformat": 4,
 "nbformat_minor": 4
}
